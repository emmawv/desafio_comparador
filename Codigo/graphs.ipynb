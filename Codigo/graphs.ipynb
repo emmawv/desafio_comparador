{
 "cells": [
  {
   "cell_type": "code",
   "execution_count": 25,
   "metadata": {},
   "outputs": [],
   "source": [
    "import pandas as pd"
   ]
  },
  {
   "cell_type": "code",
   "execution_count": 26,
   "metadata": {},
   "outputs": [
    {
     "data": {
      "text/html": [
       "<div>\n",
       "<style scoped>\n",
       "    .dataframe tbody tr th:only-of-type {\n",
       "        vertical-align: middle;\n",
       "    }\n",
       "\n",
       "    .dataframe tbody tr th {\n",
       "        vertical-align: top;\n",
       "    }\n",
       "\n",
       "    .dataframe thead th {\n",
       "        text-align: right;\n",
       "    }\n",
       "</style>\n",
       "<table border=\"1\" class=\"dataframe\">\n",
       "  <thead>\n",
       "    <tr style=\"text-align: right;\">\n",
       "      <th></th>\n",
       "      <th>Unnamed: 0</th>\n",
       "      <th>id</th>\n",
       "      <th>compania</th>\n",
       "      <th>tarifa</th>\n",
       "      <th>tp_punta_euros/kwh/dia</th>\n",
       "      <th>tp_valle_euros/kwh/dia</th>\n",
       "      <th>peaje_tran_dist_pot_punta</th>\n",
       "      <th>peaje_tran_dist_pot_valle</th>\n",
       "      <th>peaje_ener_valle_tdc</th>\n",
       "      <th>peaje_ener_llano_tdc</th>\n",
       "      <th>...</th>\n",
       "      <th>tipo</th>\n",
       "      <th>otros</th>\n",
       "      <th>alquiler_equipo_euros/dia</th>\n",
       "      <th>impuesto_actual</th>\n",
       "      <th>bono_social_euro/dia</th>\n",
       "      <th>margen_euros/kWh/dia</th>\n",
       "      <th>consumo_valle</th>\n",
       "      <th>consumo_llano</th>\n",
       "      <th>consumo_punta</th>\n",
       "      <th>total_factura</th>\n",
       "    </tr>\n",
       "  </thead>\n",
       "  <tbody>\n",
       "    <tr>\n",
       "      <th>0</th>\n",
       "      <td>0</td>\n",
       "      <td>0</td>\n",
       "      <td>Repsol</td>\n",
       "      <td>Mis 10 Horas</td>\n",
       "      <td>0.068192</td>\n",
       "      <td>0.068192</td>\n",
       "      <td>0.008192</td>\n",
       "      <td>0.000527</td>\n",
       "      <td>0.002752</td>\n",
       "      <td>0.027963</td>\n",
       "      <td>...</td>\n",
       "      <td>DH</td>\n",
       "      <td>0.0</td>\n",
       "      <td>0.026557</td>\n",
       "      <td>5.11</td>\n",
       "      <td>0.0</td>\n",
       "      <td>0.0</td>\n",
       "      <td>45</td>\n",
       "      <td>0.98</td>\n",
       "      <td>63</td>\n",
       "      <td>39.918442</td>\n",
       "    </tr>\n",
       "    <tr>\n",
       "      <th>1</th>\n",
       "      <td>1</td>\n",
       "      <td>1</td>\n",
       "      <td>Iberdrola</td>\n",
       "      <td>Plan Elige 8 Horas</td>\n",
       "      <td>0.108192</td>\n",
       "      <td>0.042411</td>\n",
       "      <td>0.008192</td>\n",
       "      <td>0.000527</td>\n",
       "      <td>0.002752</td>\n",
       "      <td>0.027963</td>\n",
       "      <td>...</td>\n",
       "      <td>DH</td>\n",
       "      <td>0.0</td>\n",
       "      <td>0.026557</td>\n",
       "      <td>5.11</td>\n",
       "      <td>0.0</td>\n",
       "      <td>0.0</td>\n",
       "      <td>45</td>\n",
       "      <td>0.98</td>\n",
       "      <td>63</td>\n",
       "      <td>47.765167</td>\n",
       "    </tr>\n",
       "    <tr>\n",
       "      <th>2</th>\n",
       "      <td>2</td>\n",
       "      <td>2</td>\n",
       "      <td>Iberdrola</td>\n",
       "      <td>Plan Noche</td>\n",
       "      <td>0.108192</td>\n",
       "      <td>0.042411</td>\n",
       "      <td>0.008192</td>\n",
       "      <td>0.000527</td>\n",
       "      <td>0.002752</td>\n",
       "      <td>0.027963</td>\n",
       "      <td>...</td>\n",
       "      <td>DH</td>\n",
       "      <td>0.0</td>\n",
       "      <td>0.026557</td>\n",
       "      <td>5.11</td>\n",
       "      <td>0.0</td>\n",
       "      <td>0.0</td>\n",
       "      <td>45</td>\n",
       "      <td>0.98</td>\n",
       "      <td>63</td>\n",
       "      <td>48.257180</td>\n",
       "    </tr>\n",
       "    <tr>\n",
       "      <th>3</th>\n",
       "      <td>3</td>\n",
       "      <td>3</td>\n",
       "      <td>Iberdrola</td>\n",
       "      <td>Plan Familias</td>\n",
       "      <td>0.108192</td>\n",
       "      <td>0.042411</td>\n",
       "      <td>0.008192</td>\n",
       "      <td>0.000527</td>\n",
       "      <td>0.002752</td>\n",
       "      <td>0.027963</td>\n",
       "      <td>...</td>\n",
       "      <td>DH</td>\n",
       "      <td>0.0</td>\n",
       "      <td>0.026557</td>\n",
       "      <td>5.11</td>\n",
       "      <td>0.0</td>\n",
       "      <td>0.0</td>\n",
       "      <td>45</td>\n",
       "      <td>0.98</td>\n",
       "      <td>63</td>\n",
       "      <td>44.246288</td>\n",
       "    </tr>\n",
       "    <tr>\n",
       "      <th>4</th>\n",
       "      <td>4</td>\n",
       "      <td>4</td>\n",
       "      <td>Iberdrola</td>\n",
       "      <td>Plan Verano</td>\n",
       "      <td>0.108192</td>\n",
       "      <td>0.042411</td>\n",
       "      <td>0.008192</td>\n",
       "      <td>0.000527</td>\n",
       "      <td>0.002752</td>\n",
       "      <td>0.027963</td>\n",
       "      <td>...</td>\n",
       "      <td>DH</td>\n",
       "      <td>0.0</td>\n",
       "      <td>0.026557</td>\n",
       "      <td>5.11</td>\n",
       "      <td>0.0</td>\n",
       "      <td>0.0</td>\n",
       "      <td>45</td>\n",
       "      <td>0.98</td>\n",
       "      <td>63</td>\n",
       "      <td>46.257400</td>\n",
       "    </tr>\n",
       "  </tbody>\n",
       "</table>\n",
       "<p>5 rows × 28 columns</p>\n",
       "</div>"
      ],
      "text/plain": [
       "   Unnamed: 0  id   compania              tarifa  tp_punta_euros/kwh/dia  \\\n",
       "0           0   0     Repsol        Mis 10 Horas                0.068192   \n",
       "1           1   1  Iberdrola  Plan Elige 8 Horas                0.108192   \n",
       "2           2   2  Iberdrola          Plan Noche                0.108192   \n",
       "3           3   3  Iberdrola       Plan Familias                0.108192   \n",
       "4           4   4  Iberdrola         Plan Verano                0.108192   \n",
       "\n",
       "   tp_valle_euros/kwh/dia  peaje_tran_dist_pot_punta  \\\n",
       "0                0.068192                   0.008192   \n",
       "1                0.042411                   0.008192   \n",
       "2                0.042411                   0.008192   \n",
       "3                0.042411                   0.008192   \n",
       "4                0.042411                   0.008192   \n",
       "\n",
       "   peaje_tran_dist_pot_valle  peaje_ener_valle_tdc  peaje_ener_llano_tdc  ...  \\\n",
       "0                   0.000527              0.002752              0.027963  ...   \n",
       "1                   0.000527              0.002752              0.027963  ...   \n",
       "2                   0.000527              0.002752              0.027963  ...   \n",
       "3                   0.000527              0.002752              0.027963  ...   \n",
       "4                   0.000527              0.002752              0.027963  ...   \n",
       "\n",
       "   tipo  otros  alquiler_equipo_euros/dia  impuesto_actual  \\\n",
       "0    DH    0.0                   0.026557             5.11   \n",
       "1    DH    0.0                   0.026557             5.11   \n",
       "2    DH    0.0                   0.026557             5.11   \n",
       "3    DH    0.0                   0.026557             5.11   \n",
       "4    DH    0.0                   0.026557             5.11   \n",
       "\n",
       "   bono_social_euro/dia  margen_euros/kWh/dia  consumo_valle consumo_llano  \\\n",
       "0                   0.0                   0.0             45          0.98   \n",
       "1                   0.0                   0.0             45          0.98   \n",
       "2                   0.0                   0.0             45          0.98   \n",
       "3                   0.0                   0.0             45          0.98   \n",
       "4                   0.0                   0.0             45          0.98   \n",
       "\n",
       "  consumo_punta  total_factura  \n",
       "0            63      39.918442  \n",
       "1            63      47.765167  \n",
       "2            63      48.257180  \n",
       "3            63      44.246288  \n",
       "4            63      46.257400  \n",
       "\n",
       "[5 rows x 28 columns]"
      ]
     },
     "execution_count": 26,
     "metadata": {},
     "output_type": "execute_result"
    }
   ],
   "source": [
    "df = pd.read_csv('../Datos/resultados.csv')\n",
    "df.head()"
   ]
  },
  {
   "cell_type": "code",
   "execution_count": 27,
   "metadata": {},
   "outputs": [],
   "source": [
    "trf_grf = df.sort_values('total_factura').head(5)"
   ]
  },
  {
   "cell_type": "code",
   "execution_count": 28,
   "metadata": {},
   "outputs": [
    {
     "data": {
      "text/plain": [
       "['Unnamed: 0',\n",
       " 'id',\n",
       " 'compania',\n",
       " 'tarifa',\n",
       " 'tp_punta_euros/kwh/dia',\n",
       " 'tp_valle_euros/kwh/dia',\n",
       " 'peaje_tran_dist_pot_punta',\n",
       " 'peaje_tran_dist_pot_valle',\n",
       " 'peaje_ener_valle_tdc',\n",
       " 'peaje_ener_llano_tdc',\n",
       " 'peaje_ener_punta_tdc',\n",
       " 'termino_consumo_euros/kwh/hora',\n",
       " 'tc_valle_euros/kwh/hora',\n",
       " 'tc_llano_euros/kwh/hora',\n",
       " 'tc_punta_euros/kwh/hora',\n",
       " 'tc_8h_euros/kwh/hora',\n",
       " 'tc_16h_euros/kwh/hora',\n",
       " 'mercado',\n",
       " 'tipo',\n",
       " 'otros',\n",
       " 'alquiler_equipo_euros/dia',\n",
       " 'impuesto_actual',\n",
       " 'bono_social_euro/dia',\n",
       " 'margen_euros/kWh/dia',\n",
       " 'consumo_valle',\n",
       " 'consumo_llano',\n",
       " 'consumo_punta',\n",
       " 'total_factura']"
      ]
     },
     "execution_count": 28,
     "metadata": {},
     "output_type": "execute_result"
    }
   ],
   "source": [
    "trf_grf.columns.tolist()"
   ]
  },
  {
   "cell_type": "code",
   "execution_count": 29,
   "metadata": {},
   "outputs": [
    {
     "data": {
      "text/html": [
       "<div>\n",
       "<style scoped>\n",
       "    .dataframe tbody tr th:only-of-type {\n",
       "        vertical-align: middle;\n",
       "    }\n",
       "\n",
       "    .dataframe tbody tr th {\n",
       "        vertical-align: top;\n",
       "    }\n",
       "\n",
       "    .dataframe thead th {\n",
       "        text-align: right;\n",
       "    }\n",
       "</style>\n",
       "<table border=\"1\" class=\"dataframe\">\n",
       "  <thead>\n",
       "    <tr style=\"text-align: right;\">\n",
       "      <th></th>\n",
       "      <th>Unnamed: 0</th>\n",
       "      <th>id</th>\n",
       "      <th>compania</th>\n",
       "      <th>tarifa</th>\n",
       "      <th>tp_punta_euros/kwh/dia</th>\n",
       "      <th>tp_valle_euros/kwh/dia</th>\n",
       "      <th>peaje_tran_dist_pot_punta</th>\n",
       "      <th>peaje_tran_dist_pot_valle</th>\n",
       "      <th>peaje_ener_valle_tdc</th>\n",
       "      <th>peaje_ener_llano_tdc</th>\n",
       "      <th>...</th>\n",
       "      <th>tipo</th>\n",
       "      <th>otros</th>\n",
       "      <th>alquiler_equipo_euros/dia</th>\n",
       "      <th>impuesto_actual</th>\n",
       "      <th>bono_social_euro/dia</th>\n",
       "      <th>margen_euros/kWh/dia</th>\n",
       "      <th>consumo_valle</th>\n",
       "      <th>consumo_llano</th>\n",
       "      <th>consumo_punta</th>\n",
       "      <th>total_factura</th>\n",
       "    </tr>\n",
       "  </thead>\n",
       "  <tbody>\n",
       "    <tr>\n",
       "      <th>37</th>\n",
       "      <td>37</td>\n",
       "      <td>37</td>\n",
       "      <td>Integra Energia</td>\n",
       "      <td>2.0TD</td>\n",
       "      <td>0.069566</td>\n",
       "      <td>0.029540</td>\n",
       "      <td>0.008192</td>\n",
       "      <td>0.000527</td>\n",
       "      <td>0.002752</td>\n",
       "      <td>0.027963</td>\n",
       "      <td>...</td>\n",
       "      <td>FIJO</td>\n",
       "      <td>0.0</td>\n",
       "      <td>0.026557</td>\n",
       "      <td>5.11</td>\n",
       "      <td>0.0</td>\n",
       "      <td>0.0</td>\n",
       "      <td>45</td>\n",
       "      <td>0.98</td>\n",
       "      <td>63</td>\n",
       "      <td>28.029774</td>\n",
       "    </tr>\n",
       "    <tr>\n",
       "      <th>77</th>\n",
       "      <td>77</td>\n",
       "      <td>77</td>\n",
       "      <td>Gana Energia</td>\n",
       "      <td>Precio de Mercado</td>\n",
       "      <td>0.069400</td>\n",
       "      <td>0.002600</td>\n",
       "      <td>0.008192</td>\n",
       "      <td>0.000527</td>\n",
       "      <td>0.002752</td>\n",
       "      <td>0.027963</td>\n",
       "      <td>...</td>\n",
       "      <td>TRAMOS</td>\n",
       "      <td>0.0</td>\n",
       "      <td>0.026557</td>\n",
       "      <td>5.11</td>\n",
       "      <td>0.0</td>\n",
       "      <td>0.0</td>\n",
       "      <td>45</td>\n",
       "      <td>0.98</td>\n",
       "      <td>63</td>\n",
       "      <td>28.893338</td>\n",
       "    </tr>\n",
       "    <tr>\n",
       "      <th>76</th>\n",
       "      <td>76</td>\n",
       "      <td>76</td>\n",
       "      <td>Aldro</td>\n",
       "      <td>Tendencia Luz</td>\n",
       "      <td>0.069400</td>\n",
       "      <td>0.002600</td>\n",
       "      <td>0.008192</td>\n",
       "      <td>0.000527</td>\n",
       "      <td>0.002752</td>\n",
       "      <td>0.027963</td>\n",
       "      <td>...</td>\n",
       "      <td>TRAMOS</td>\n",
       "      <td>0.0</td>\n",
       "      <td>0.026557</td>\n",
       "      <td>5.11</td>\n",
       "      <td>0.0</td>\n",
       "      <td>0.0</td>\n",
       "      <td>45</td>\n",
       "      <td>0.98</td>\n",
       "      <td>63</td>\n",
       "      <td>28.893338</td>\n",
       "    </tr>\n",
       "    <tr>\n",
       "      <th>93</th>\n",
       "      <td>93</td>\n",
       "      <td>93</td>\n",
       "      <td>Energya VM</td>\n",
       "      <td>Formula 3 periodos</td>\n",
       "      <td>0.079177</td>\n",
       "      <td>0.002729</td>\n",
       "      <td>0.008192</td>\n",
       "      <td>0.000527</td>\n",
       "      <td>0.002752</td>\n",
       "      <td>0.027963</td>\n",
       "      <td>...</td>\n",
       "      <td>TRAMOS</td>\n",
       "      <td>0.0</td>\n",
       "      <td>0.026557</td>\n",
       "      <td>5.11</td>\n",
       "      <td>0.0</td>\n",
       "      <td>0.0</td>\n",
       "      <td>45</td>\n",
       "      <td>0.98</td>\n",
       "      <td>63</td>\n",
       "      <td>29.892944</td>\n",
       "    </tr>\n",
       "    <tr>\n",
       "      <th>67</th>\n",
       "      <td>67</td>\n",
       "      <td>67</td>\n",
       "      <td>Lucera</td>\n",
       "      <td>Precio de coste</td>\n",
       "      <td>0.070000</td>\n",
       "      <td>0.003000</td>\n",
       "      <td>0.008192</td>\n",
       "      <td>0.000527</td>\n",
       "      <td>0.002752</td>\n",
       "      <td>0.027963</td>\n",
       "      <td>...</td>\n",
       "      <td>TRAMOS</td>\n",
       "      <td>4.9</td>\n",
       "      <td>0.026557</td>\n",
       "      <td>5.11</td>\n",
       "      <td>0.0</td>\n",
       "      <td>0.0</td>\n",
       "      <td>45</td>\n",
       "      <td>0.98</td>\n",
       "      <td>63</td>\n",
       "      <td>30.923273</td>\n",
       "    </tr>\n",
       "  </tbody>\n",
       "</table>\n",
       "<p>5 rows × 28 columns</p>\n",
       "</div>"
      ],
      "text/plain": [
       "    Unnamed: 0  id         compania              tarifa  \\\n",
       "37          37  37  Integra Energia               2.0TD   \n",
       "77          77  77     Gana Energia   Precio de Mercado   \n",
       "76          76  76            Aldro       Tendencia Luz   \n",
       "93          93  93       Energya VM  Formula 3 periodos   \n",
       "67          67  67           Lucera     Precio de coste   \n",
       "\n",
       "    tp_punta_euros/kwh/dia  tp_valle_euros/kwh/dia  peaje_tran_dist_pot_punta  \\\n",
       "37                0.069566                0.029540                   0.008192   \n",
       "77                0.069400                0.002600                   0.008192   \n",
       "76                0.069400                0.002600                   0.008192   \n",
       "93                0.079177                0.002729                   0.008192   \n",
       "67                0.070000                0.003000                   0.008192   \n",
       "\n",
       "    peaje_tran_dist_pot_valle  peaje_ener_valle_tdc  peaje_ener_llano_tdc  \\\n",
       "37                   0.000527              0.002752              0.027963   \n",
       "77                   0.000527              0.002752              0.027963   \n",
       "76                   0.000527              0.002752              0.027963   \n",
       "93                   0.000527              0.002752              0.027963   \n",
       "67                   0.000527              0.002752              0.027963   \n",
       "\n",
       "    ...    tipo  otros  alquiler_equipo_euros/dia  impuesto_actual  \\\n",
       "37  ...    FIJO    0.0                   0.026557             5.11   \n",
       "77  ...  TRAMOS    0.0                   0.026557             5.11   \n",
       "76  ...  TRAMOS    0.0                   0.026557             5.11   \n",
       "93  ...  TRAMOS    0.0                   0.026557             5.11   \n",
       "67  ...  TRAMOS    4.9                   0.026557             5.11   \n",
       "\n",
       "    bono_social_euro/dia  margen_euros/kWh/dia  consumo_valle consumo_llano  \\\n",
       "37                   0.0                   0.0             45          0.98   \n",
       "77                   0.0                   0.0             45          0.98   \n",
       "76                   0.0                   0.0             45          0.98   \n",
       "93                   0.0                   0.0             45          0.98   \n",
       "67                   0.0                   0.0             45          0.98   \n",
       "\n",
       "   consumo_punta  total_factura  \n",
       "37            63      28.029774  \n",
       "77            63      28.893338  \n",
       "76            63      28.893338  \n",
       "93            63      29.892944  \n",
       "67            63      30.923273  \n",
       "\n",
       "[5 rows x 28 columns]"
      ]
     },
     "execution_count": 29,
     "metadata": {},
     "output_type": "execute_result"
    }
   ],
   "source": [
    "trf_grf"
   ]
  },
  {
   "cell_type": "code",
   "execution_count": 44,
   "metadata": {},
   "outputs": [
    {
     "data": {
      "application/vnd.plotly.v1+json": {
       "config": {
        "plotlyServerURL": "https://plot.ly"
       },
       "data": [
        {
         "alignmentgroup": "True",
         "hovertemplate": "variable=consumo_valle<br>compania=%{x}<br>value=%{y}<extra></extra>",
         "legendgroup": "consumo_valle",
         "marker": {
          "color": "#F29D52",
          "pattern": {
           "shape": ""
          }
         },
         "name": "consumo_valle",
         "offsetgroup": "consumo_valle",
         "orientation": "v",
         "showlegend": true,
         "textposition": "auto",
         "type": "bar",
         "x": [
          "Integra Energia",
          "Gana Energia",
          "Aldro",
          "Energya VM",
          "Lucera"
         ],
         "xaxis": "x",
         "y": [
          45,
          45,
          45,
          45,
          45
         ],
         "yaxis": "y"
        },
        {
         "alignmentgroup": "True",
         "hovertemplate": "variable=consumo_llano<br>compania=%{x}<br>value=%{y}<extra></extra>",
         "legendgroup": "consumo_llano",
         "marker": {
          "color": "#F2C572",
          "pattern": {
           "shape": ""
          }
         },
         "name": "consumo_llano",
         "offsetgroup": "consumo_llano",
         "orientation": "v",
         "showlegend": true,
         "textposition": "auto",
         "type": "bar",
         "x": [
          "Integra Energia",
          "Gana Energia",
          "Aldro",
          "Energya VM",
          "Lucera"
         ],
         "xaxis": "x",
         "y": [
          0.98,
          0.98,
          0.98,
          0.98,
          0.98
         ],
         "yaxis": "y"
        },
        {
         "alignmentgroup": "True",
         "hovertemplate": "variable=consumo_punta<br>compania=%{x}<br>value=%{y}<extra></extra>",
         "legendgroup": "consumo_punta",
         "marker": {
          "color": "#F2EAC2",
          "pattern": {
           "shape": ""
          }
         },
         "name": "consumo_punta",
         "offsetgroup": "consumo_punta",
         "orientation": "v",
         "showlegend": true,
         "textposition": "auto",
         "type": "bar",
         "x": [
          "Integra Energia",
          "Gana Energia",
          "Aldro",
          "Energya VM",
          "Lucera"
         ],
         "xaxis": "x",
         "y": [
          63,
          63,
          63,
          63,
          63
         ],
         "yaxis": "y"
        }
       ],
       "layout": {
        "barmode": "relative",
        "legend": {
         "title": {
          "text": "variable"
         },
         "tracegroupgap": 0
        },
        "template": {
         "data": {
          "bar": [
           {
            "error_x": {
             "color": "#2a3f5f"
            },
            "error_y": {
             "color": "#2a3f5f"
            },
            "marker": {
             "line": {
              "color": "#E5ECF6",
              "width": 0.5
             },
             "pattern": {
              "fillmode": "overlay",
              "size": 10,
              "solidity": 0.2
             }
            },
            "type": "bar"
           }
          ],
          "barpolar": [
           {
            "marker": {
             "line": {
              "color": "#E5ECF6",
              "width": 0.5
             },
             "pattern": {
              "fillmode": "overlay",
              "size": 10,
              "solidity": 0.2
             }
            },
            "type": "barpolar"
           }
          ],
          "carpet": [
           {
            "aaxis": {
             "endlinecolor": "#2a3f5f",
             "gridcolor": "white",
             "linecolor": "white",
             "minorgridcolor": "white",
             "startlinecolor": "#2a3f5f"
            },
            "baxis": {
             "endlinecolor": "#2a3f5f",
             "gridcolor": "white",
             "linecolor": "white",
             "minorgridcolor": "white",
             "startlinecolor": "#2a3f5f"
            },
            "type": "carpet"
           }
          ],
          "choropleth": [
           {
            "colorbar": {
             "outlinewidth": 0,
             "ticks": ""
            },
            "type": "choropleth"
           }
          ],
          "contour": [
           {
            "colorbar": {
             "outlinewidth": 0,
             "ticks": ""
            },
            "colorscale": [
             [
              0,
              "#0d0887"
             ],
             [
              0.1111111111111111,
              "#46039f"
             ],
             [
              0.2222222222222222,
              "#7201a8"
             ],
             [
              0.3333333333333333,
              "#9c179e"
             ],
             [
              0.4444444444444444,
              "#bd3786"
             ],
             [
              0.5555555555555556,
              "#d8576b"
             ],
             [
              0.6666666666666666,
              "#ed7953"
             ],
             [
              0.7777777777777778,
              "#fb9f3a"
             ],
             [
              0.8888888888888888,
              "#fdca26"
             ],
             [
              1,
              "#f0f921"
             ]
            ],
            "type": "contour"
           }
          ],
          "contourcarpet": [
           {
            "colorbar": {
             "outlinewidth": 0,
             "ticks": ""
            },
            "type": "contourcarpet"
           }
          ],
          "heatmap": [
           {
            "colorbar": {
             "outlinewidth": 0,
             "ticks": ""
            },
            "colorscale": [
             [
              0,
              "#0d0887"
             ],
             [
              0.1111111111111111,
              "#46039f"
             ],
             [
              0.2222222222222222,
              "#7201a8"
             ],
             [
              0.3333333333333333,
              "#9c179e"
             ],
             [
              0.4444444444444444,
              "#bd3786"
             ],
             [
              0.5555555555555556,
              "#d8576b"
             ],
             [
              0.6666666666666666,
              "#ed7953"
             ],
             [
              0.7777777777777778,
              "#fb9f3a"
             ],
             [
              0.8888888888888888,
              "#fdca26"
             ],
             [
              1,
              "#f0f921"
             ]
            ],
            "type": "heatmap"
           }
          ],
          "heatmapgl": [
           {
            "colorbar": {
             "outlinewidth": 0,
             "ticks": ""
            },
            "colorscale": [
             [
              0,
              "#0d0887"
             ],
             [
              0.1111111111111111,
              "#46039f"
             ],
             [
              0.2222222222222222,
              "#7201a8"
             ],
             [
              0.3333333333333333,
              "#9c179e"
             ],
             [
              0.4444444444444444,
              "#bd3786"
             ],
             [
              0.5555555555555556,
              "#d8576b"
             ],
             [
              0.6666666666666666,
              "#ed7953"
             ],
             [
              0.7777777777777778,
              "#fb9f3a"
             ],
             [
              0.8888888888888888,
              "#fdca26"
             ],
             [
              1,
              "#f0f921"
             ]
            ],
            "type": "heatmapgl"
           }
          ],
          "histogram": [
           {
            "marker": {
             "pattern": {
              "fillmode": "overlay",
              "size": 10,
              "solidity": 0.2
             }
            },
            "type": "histogram"
           }
          ],
          "histogram2d": [
           {
            "colorbar": {
             "outlinewidth": 0,
             "ticks": ""
            },
            "colorscale": [
             [
              0,
              "#0d0887"
             ],
             [
              0.1111111111111111,
              "#46039f"
             ],
             [
              0.2222222222222222,
              "#7201a8"
             ],
             [
              0.3333333333333333,
              "#9c179e"
             ],
             [
              0.4444444444444444,
              "#bd3786"
             ],
             [
              0.5555555555555556,
              "#d8576b"
             ],
             [
              0.6666666666666666,
              "#ed7953"
             ],
             [
              0.7777777777777778,
              "#fb9f3a"
             ],
             [
              0.8888888888888888,
              "#fdca26"
             ],
             [
              1,
              "#f0f921"
             ]
            ],
            "type": "histogram2d"
           }
          ],
          "histogram2dcontour": [
           {
            "colorbar": {
             "outlinewidth": 0,
             "ticks": ""
            },
            "colorscale": [
             [
              0,
              "#0d0887"
             ],
             [
              0.1111111111111111,
              "#46039f"
             ],
             [
              0.2222222222222222,
              "#7201a8"
             ],
             [
              0.3333333333333333,
              "#9c179e"
             ],
             [
              0.4444444444444444,
              "#bd3786"
             ],
             [
              0.5555555555555556,
              "#d8576b"
             ],
             [
              0.6666666666666666,
              "#ed7953"
             ],
             [
              0.7777777777777778,
              "#fb9f3a"
             ],
             [
              0.8888888888888888,
              "#fdca26"
             ],
             [
              1,
              "#f0f921"
             ]
            ],
            "type": "histogram2dcontour"
           }
          ],
          "mesh3d": [
           {
            "colorbar": {
             "outlinewidth": 0,
             "ticks": ""
            },
            "type": "mesh3d"
           }
          ],
          "parcoords": [
           {
            "line": {
             "colorbar": {
              "outlinewidth": 0,
              "ticks": ""
             }
            },
            "type": "parcoords"
           }
          ],
          "pie": [
           {
            "automargin": true,
            "type": "pie"
           }
          ],
          "scatter": [
           {
            "fillpattern": {
             "fillmode": "overlay",
             "size": 10,
             "solidity": 0.2
            },
            "type": "scatter"
           }
          ],
          "scatter3d": [
           {
            "line": {
             "colorbar": {
              "outlinewidth": 0,
              "ticks": ""
             }
            },
            "marker": {
             "colorbar": {
              "outlinewidth": 0,
              "ticks": ""
             }
            },
            "type": "scatter3d"
           }
          ],
          "scattercarpet": [
           {
            "marker": {
             "colorbar": {
              "outlinewidth": 0,
              "ticks": ""
             }
            },
            "type": "scattercarpet"
           }
          ],
          "scattergeo": [
           {
            "marker": {
             "colorbar": {
              "outlinewidth": 0,
              "ticks": ""
             }
            },
            "type": "scattergeo"
           }
          ],
          "scattergl": [
           {
            "marker": {
             "colorbar": {
              "outlinewidth": 0,
              "ticks": ""
             }
            },
            "type": "scattergl"
           }
          ],
          "scattermapbox": [
           {
            "marker": {
             "colorbar": {
              "outlinewidth": 0,
              "ticks": ""
             }
            },
            "type": "scattermapbox"
           }
          ],
          "scatterpolar": [
           {
            "marker": {
             "colorbar": {
              "outlinewidth": 0,
              "ticks": ""
             }
            },
            "type": "scatterpolar"
           }
          ],
          "scatterpolargl": [
           {
            "marker": {
             "colorbar": {
              "outlinewidth": 0,
              "ticks": ""
             }
            },
            "type": "scatterpolargl"
           }
          ],
          "scatterternary": [
           {
            "marker": {
             "colorbar": {
              "outlinewidth": 0,
              "ticks": ""
             }
            },
            "type": "scatterternary"
           }
          ],
          "surface": [
           {
            "colorbar": {
             "outlinewidth": 0,
             "ticks": ""
            },
            "colorscale": [
             [
              0,
              "#0d0887"
             ],
             [
              0.1111111111111111,
              "#46039f"
             ],
             [
              0.2222222222222222,
              "#7201a8"
             ],
             [
              0.3333333333333333,
              "#9c179e"
             ],
             [
              0.4444444444444444,
              "#bd3786"
             ],
             [
              0.5555555555555556,
              "#d8576b"
             ],
             [
              0.6666666666666666,
              "#ed7953"
             ],
             [
              0.7777777777777778,
              "#fb9f3a"
             ],
             [
              0.8888888888888888,
              "#fdca26"
             ],
             [
              1,
              "#f0f921"
             ]
            ],
            "type": "surface"
           }
          ],
          "table": [
           {
            "cells": {
             "fill": {
              "color": "#EBF0F8"
             },
             "line": {
              "color": "white"
             }
            },
            "header": {
             "fill": {
              "color": "#C8D4E3"
             },
             "line": {
              "color": "white"
             }
            },
            "type": "table"
           }
          ]
         },
         "layout": {
          "annotationdefaults": {
           "arrowcolor": "#2a3f5f",
           "arrowhead": 0,
           "arrowwidth": 1
          },
          "autotypenumbers": "strict",
          "coloraxis": {
           "colorbar": {
            "outlinewidth": 0,
            "ticks": ""
           }
          },
          "colorscale": {
           "diverging": [
            [
             0,
             "#8e0152"
            ],
            [
             0.1,
             "#c51b7d"
            ],
            [
             0.2,
             "#de77ae"
            ],
            [
             0.3,
             "#f1b6da"
            ],
            [
             0.4,
             "#fde0ef"
            ],
            [
             0.5,
             "#f7f7f7"
            ],
            [
             0.6,
             "#e6f5d0"
            ],
            [
             0.7,
             "#b8e186"
            ],
            [
             0.8,
             "#7fbc41"
            ],
            [
             0.9,
             "#4d9221"
            ],
            [
             1,
             "#276419"
            ]
           ],
           "sequential": [
            [
             0,
             "#0d0887"
            ],
            [
             0.1111111111111111,
             "#46039f"
            ],
            [
             0.2222222222222222,
             "#7201a8"
            ],
            [
             0.3333333333333333,
             "#9c179e"
            ],
            [
             0.4444444444444444,
             "#bd3786"
            ],
            [
             0.5555555555555556,
             "#d8576b"
            ],
            [
             0.6666666666666666,
             "#ed7953"
            ],
            [
             0.7777777777777778,
             "#fb9f3a"
            ],
            [
             0.8888888888888888,
             "#fdca26"
            ],
            [
             1,
             "#f0f921"
            ]
           ],
           "sequentialminus": [
            [
             0,
             "#0d0887"
            ],
            [
             0.1111111111111111,
             "#46039f"
            ],
            [
             0.2222222222222222,
             "#7201a8"
            ],
            [
             0.3333333333333333,
             "#9c179e"
            ],
            [
             0.4444444444444444,
             "#bd3786"
            ],
            [
             0.5555555555555556,
             "#d8576b"
            ],
            [
             0.6666666666666666,
             "#ed7953"
            ],
            [
             0.7777777777777778,
             "#fb9f3a"
            ],
            [
             0.8888888888888888,
             "#fdca26"
            ],
            [
             1,
             "#f0f921"
            ]
           ]
          },
          "colorway": [
           "#636efa",
           "#EF553B",
           "#00cc96",
           "#ab63fa",
           "#FFA15A",
           "#19d3f3",
           "#FF6692",
           "#B6E880",
           "#FF97FF",
           "#FECB52"
          ],
          "font": {
           "color": "#2a3f5f"
          },
          "geo": {
           "bgcolor": "white",
           "lakecolor": "white",
           "landcolor": "#E5ECF6",
           "showlakes": true,
           "showland": true,
           "subunitcolor": "white"
          },
          "hoverlabel": {
           "align": "left"
          },
          "hovermode": "closest",
          "mapbox": {
           "style": "light"
          },
          "paper_bgcolor": "white",
          "plot_bgcolor": "#E5ECF6",
          "polar": {
           "angularaxis": {
            "gridcolor": "white",
            "linecolor": "white",
            "ticks": ""
           },
           "bgcolor": "#E5ECF6",
           "radialaxis": {
            "gridcolor": "white",
            "linecolor": "white",
            "ticks": ""
           }
          },
          "scene": {
           "xaxis": {
            "backgroundcolor": "#E5ECF6",
            "gridcolor": "white",
            "gridwidth": 2,
            "linecolor": "white",
            "showbackground": true,
            "ticks": "",
            "zerolinecolor": "white"
           },
           "yaxis": {
            "backgroundcolor": "#E5ECF6",
            "gridcolor": "white",
            "gridwidth": 2,
            "linecolor": "white",
            "showbackground": true,
            "ticks": "",
            "zerolinecolor": "white"
           },
           "zaxis": {
            "backgroundcolor": "#E5ECF6",
            "gridcolor": "white",
            "gridwidth": 2,
            "linecolor": "white",
            "showbackground": true,
            "ticks": "",
            "zerolinecolor": "white"
           }
          },
          "shapedefaults": {
           "line": {
            "color": "#2a3f5f"
           }
          },
          "ternary": {
           "aaxis": {
            "gridcolor": "white",
            "linecolor": "white",
            "ticks": ""
           },
           "baxis": {
            "gridcolor": "white",
            "linecolor": "white",
            "ticks": ""
           },
           "bgcolor": "#E5ECF6",
           "caxis": {
            "gridcolor": "white",
            "linecolor": "white",
            "ticks": ""
           }
          },
          "title": {
           "x": 0.05
          },
          "xaxis": {
           "automargin": true,
           "gridcolor": "white",
           "linecolor": "white",
           "ticks": "",
           "title": {
            "standoff": 15
           },
           "zerolinecolor": "white",
           "zerolinewidth": 2
          },
          "yaxis": {
           "automargin": true,
           "gridcolor": "white",
           "linecolor": "white",
           "ticks": "",
           "title": {
            "standoff": 15
           },
           "zerolinecolor": "white",
           "zerolinewidth": 2
          }
         }
        },
        "title": {
         "text": "Comparativa compañias"
        },
        "xaxis": {
         "anchor": "y",
         "domain": [
          0,
          1
         ],
         "title": {
          "text": "compania"
         }
        },
        "yaxis": {
         "anchor": "x",
         "domain": [
          0,
          1
         ],
         "title": {
          "text": "value"
         }
        }
       }
      }
     },
     "metadata": {},
     "output_type": "display_data"
    }
   ],
   "source": [
    "import plotly.express as px\n",
    "\n",
    "fig = px.bar(\n",
    "  trf_grf, \n",
    "  x=\"compania\", \n",
    "  y=[\"consumo_valle\", \"consumo_llano\", \"consumo_punta\"], \n",
    "  color_discrete_map={\n",
    "    'consumo_valle': '#F29D52',\n",
    "    'consumo_llano': '#F2C572',\n",
    "    'consumo_punta': '#F2EAC2'\n",
    "    },\n",
    "  title=\"Comparativa compañias\")\n",
    "fig.show()"
   ]
  },
  {
   "cell_type": "code",
   "execution_count": 94,
   "metadata": {},
   "outputs": [
    {
     "data": {
      "application/vnd.plotly.v1+json": {
       "config": {
        "plotlyServerURL": "https://plot.ly"
       },
       "data": [
        {
         "alignmentgroup": "True",
         "customdata": [
          [
           "2.0TD"
          ],
          [
           "Precio de Mercado"
          ],
          [
           "Tendencia Luz"
          ],
          [
           "Formula 3 periodos"
          ],
          [
           "Precio de coste"
          ]
         ],
         "hovertemplate": "Compañia: %{x} <br>Tarifa: %{customdata[0]} <br>Precio factura: %{y}",
         "legendgroup": "",
         "marker": {
          "color": [
           28.02977398188,
           28.89333798120001,
           28.89333798120001,
           29.892944424024,
           30.923272754000006
          ],
          "coloraxis": "coloraxis",
          "pattern": {
           "shape": ""
          }
         },
         "name": "",
         "offsetgroup": "",
         "orientation": "v",
         "showlegend": false,
         "textposition": "auto",
         "type": "bar",
         "x": [
          "Integra Energia",
          "Gana Energia",
          "Aldro",
          "Energya VM",
          "Lucera"
         ],
         "xaxis": "x",
         "y": [
          28.02977398188,
          28.89333798120001,
          28.89333798120001,
          29.892944424024,
          30.923272754000006
         ],
         "yaxis": "y"
        }
       ],
       "layout": {
        "barmode": "relative",
        "coloraxis": {
         "colorbar": {
          "title": {
           "text": "total_factura"
          }
         },
         "colorscale": [
          [
           0,
           "rgb(243, 231, 155)"
          ],
          [
           0.16666666666666666,
           "rgb(250, 196, 132)"
          ],
          [
           0.3333333333333333,
           "rgb(248, 160, 126)"
          ],
          [
           0.5,
           "rgb(235, 127, 134)"
          ],
          [
           0.6666666666666666,
           "rgb(206, 102, 147)"
          ],
          [
           0.8333333333333334,
           "rgb(160, 89, 160)"
          ],
          [
           1,
           "rgb(92, 83, 165)"
          ]
         ],
         "showscale": false
        },
        "legend": {
         "tracegroupgap": 0
        },
        "template": {
         "data": {
          "bar": [
           {
            "error_x": {
             "color": "#2a3f5f"
            },
            "error_y": {
             "color": "#2a3f5f"
            },
            "marker": {
             "line": {
              "color": "#E5ECF6",
              "width": 0.5
             },
             "pattern": {
              "fillmode": "overlay",
              "size": 10,
              "solidity": 0.2
             }
            },
            "type": "bar"
           }
          ],
          "barpolar": [
           {
            "marker": {
             "line": {
              "color": "#E5ECF6",
              "width": 0.5
             },
             "pattern": {
              "fillmode": "overlay",
              "size": 10,
              "solidity": 0.2
             }
            },
            "type": "barpolar"
           }
          ],
          "carpet": [
           {
            "aaxis": {
             "endlinecolor": "#2a3f5f",
             "gridcolor": "white",
             "linecolor": "white",
             "minorgridcolor": "white",
             "startlinecolor": "#2a3f5f"
            },
            "baxis": {
             "endlinecolor": "#2a3f5f",
             "gridcolor": "white",
             "linecolor": "white",
             "minorgridcolor": "white",
             "startlinecolor": "#2a3f5f"
            },
            "type": "carpet"
           }
          ],
          "choropleth": [
           {
            "colorbar": {
             "outlinewidth": 0,
             "ticks": ""
            },
            "type": "choropleth"
           }
          ],
          "contour": [
           {
            "colorbar": {
             "outlinewidth": 0,
             "ticks": ""
            },
            "colorscale": [
             [
              0,
              "#0d0887"
             ],
             [
              0.1111111111111111,
              "#46039f"
             ],
             [
              0.2222222222222222,
              "#7201a8"
             ],
             [
              0.3333333333333333,
              "#9c179e"
             ],
             [
              0.4444444444444444,
              "#bd3786"
             ],
             [
              0.5555555555555556,
              "#d8576b"
             ],
             [
              0.6666666666666666,
              "#ed7953"
             ],
             [
              0.7777777777777778,
              "#fb9f3a"
             ],
             [
              0.8888888888888888,
              "#fdca26"
             ],
             [
              1,
              "#f0f921"
             ]
            ],
            "type": "contour"
           }
          ],
          "contourcarpet": [
           {
            "colorbar": {
             "outlinewidth": 0,
             "ticks": ""
            },
            "type": "contourcarpet"
           }
          ],
          "heatmap": [
           {
            "colorbar": {
             "outlinewidth": 0,
             "ticks": ""
            },
            "colorscale": [
             [
              0,
              "#0d0887"
             ],
             [
              0.1111111111111111,
              "#46039f"
             ],
             [
              0.2222222222222222,
              "#7201a8"
             ],
             [
              0.3333333333333333,
              "#9c179e"
             ],
             [
              0.4444444444444444,
              "#bd3786"
             ],
             [
              0.5555555555555556,
              "#d8576b"
             ],
             [
              0.6666666666666666,
              "#ed7953"
             ],
             [
              0.7777777777777778,
              "#fb9f3a"
             ],
             [
              0.8888888888888888,
              "#fdca26"
             ],
             [
              1,
              "#f0f921"
             ]
            ],
            "type": "heatmap"
           }
          ],
          "heatmapgl": [
           {
            "colorbar": {
             "outlinewidth": 0,
             "ticks": ""
            },
            "colorscale": [
             [
              0,
              "#0d0887"
             ],
             [
              0.1111111111111111,
              "#46039f"
             ],
             [
              0.2222222222222222,
              "#7201a8"
             ],
             [
              0.3333333333333333,
              "#9c179e"
             ],
             [
              0.4444444444444444,
              "#bd3786"
             ],
             [
              0.5555555555555556,
              "#d8576b"
             ],
             [
              0.6666666666666666,
              "#ed7953"
             ],
             [
              0.7777777777777778,
              "#fb9f3a"
             ],
             [
              0.8888888888888888,
              "#fdca26"
             ],
             [
              1,
              "#f0f921"
             ]
            ],
            "type": "heatmapgl"
           }
          ],
          "histogram": [
           {
            "marker": {
             "pattern": {
              "fillmode": "overlay",
              "size": 10,
              "solidity": 0.2
             }
            },
            "type": "histogram"
           }
          ],
          "histogram2d": [
           {
            "colorbar": {
             "outlinewidth": 0,
             "ticks": ""
            },
            "colorscale": [
             [
              0,
              "#0d0887"
             ],
             [
              0.1111111111111111,
              "#46039f"
             ],
             [
              0.2222222222222222,
              "#7201a8"
             ],
             [
              0.3333333333333333,
              "#9c179e"
             ],
             [
              0.4444444444444444,
              "#bd3786"
             ],
             [
              0.5555555555555556,
              "#d8576b"
             ],
             [
              0.6666666666666666,
              "#ed7953"
             ],
             [
              0.7777777777777778,
              "#fb9f3a"
             ],
             [
              0.8888888888888888,
              "#fdca26"
             ],
             [
              1,
              "#f0f921"
             ]
            ],
            "type": "histogram2d"
           }
          ],
          "histogram2dcontour": [
           {
            "colorbar": {
             "outlinewidth": 0,
             "ticks": ""
            },
            "colorscale": [
             [
              0,
              "#0d0887"
             ],
             [
              0.1111111111111111,
              "#46039f"
             ],
             [
              0.2222222222222222,
              "#7201a8"
             ],
             [
              0.3333333333333333,
              "#9c179e"
             ],
             [
              0.4444444444444444,
              "#bd3786"
             ],
             [
              0.5555555555555556,
              "#d8576b"
             ],
             [
              0.6666666666666666,
              "#ed7953"
             ],
             [
              0.7777777777777778,
              "#fb9f3a"
             ],
             [
              0.8888888888888888,
              "#fdca26"
             ],
             [
              1,
              "#f0f921"
             ]
            ],
            "type": "histogram2dcontour"
           }
          ],
          "mesh3d": [
           {
            "colorbar": {
             "outlinewidth": 0,
             "ticks": ""
            },
            "type": "mesh3d"
           }
          ],
          "parcoords": [
           {
            "line": {
             "colorbar": {
              "outlinewidth": 0,
              "ticks": ""
             }
            },
            "type": "parcoords"
           }
          ],
          "pie": [
           {
            "automargin": true,
            "type": "pie"
           }
          ],
          "scatter": [
           {
            "fillpattern": {
             "fillmode": "overlay",
             "size": 10,
             "solidity": 0.2
            },
            "type": "scatter"
           }
          ],
          "scatter3d": [
           {
            "line": {
             "colorbar": {
              "outlinewidth": 0,
              "ticks": ""
             }
            },
            "marker": {
             "colorbar": {
              "outlinewidth": 0,
              "ticks": ""
             }
            },
            "type": "scatter3d"
           }
          ],
          "scattercarpet": [
           {
            "marker": {
             "colorbar": {
              "outlinewidth": 0,
              "ticks": ""
             }
            },
            "type": "scattercarpet"
           }
          ],
          "scattergeo": [
           {
            "marker": {
             "colorbar": {
              "outlinewidth": 0,
              "ticks": ""
             }
            },
            "type": "scattergeo"
           }
          ],
          "scattergl": [
           {
            "marker": {
             "colorbar": {
              "outlinewidth": 0,
              "ticks": ""
             }
            },
            "type": "scattergl"
           }
          ],
          "scattermapbox": [
           {
            "marker": {
             "colorbar": {
              "outlinewidth": 0,
              "ticks": ""
             }
            },
            "type": "scattermapbox"
           }
          ],
          "scatterpolar": [
           {
            "marker": {
             "colorbar": {
              "outlinewidth": 0,
              "ticks": ""
             }
            },
            "type": "scatterpolar"
           }
          ],
          "scatterpolargl": [
           {
            "marker": {
             "colorbar": {
              "outlinewidth": 0,
              "ticks": ""
             }
            },
            "type": "scatterpolargl"
           }
          ],
          "scatterternary": [
           {
            "marker": {
             "colorbar": {
              "outlinewidth": 0,
              "ticks": ""
             }
            },
            "type": "scatterternary"
           }
          ],
          "surface": [
           {
            "colorbar": {
             "outlinewidth": 0,
             "ticks": ""
            },
            "colorscale": [
             [
              0,
              "#0d0887"
             ],
             [
              0.1111111111111111,
              "#46039f"
             ],
             [
              0.2222222222222222,
              "#7201a8"
             ],
             [
              0.3333333333333333,
              "#9c179e"
             ],
             [
              0.4444444444444444,
              "#bd3786"
             ],
             [
              0.5555555555555556,
              "#d8576b"
             ],
             [
              0.6666666666666666,
              "#ed7953"
             ],
             [
              0.7777777777777778,
              "#fb9f3a"
             ],
             [
              0.8888888888888888,
              "#fdca26"
             ],
             [
              1,
              "#f0f921"
             ]
            ],
            "type": "surface"
           }
          ],
          "table": [
           {
            "cells": {
             "fill": {
              "color": "#EBF0F8"
             },
             "line": {
              "color": "white"
             }
            },
            "header": {
             "fill": {
              "color": "#C8D4E3"
             },
             "line": {
              "color": "white"
             }
            },
            "type": "table"
           }
          ]
         },
         "layout": {
          "annotationdefaults": {
           "arrowcolor": "#2a3f5f",
           "arrowhead": 0,
           "arrowwidth": 1
          },
          "autotypenumbers": "strict",
          "coloraxis": {
           "colorbar": {
            "outlinewidth": 0,
            "ticks": ""
           }
          },
          "colorscale": {
           "diverging": [
            [
             0,
             "#8e0152"
            ],
            [
             0.1,
             "#c51b7d"
            ],
            [
             0.2,
             "#de77ae"
            ],
            [
             0.3,
             "#f1b6da"
            ],
            [
             0.4,
             "#fde0ef"
            ],
            [
             0.5,
             "#f7f7f7"
            ],
            [
             0.6,
             "#e6f5d0"
            ],
            [
             0.7,
             "#b8e186"
            ],
            [
             0.8,
             "#7fbc41"
            ],
            [
             0.9,
             "#4d9221"
            ],
            [
             1,
             "#276419"
            ]
           ],
           "sequential": [
            [
             0,
             "#0d0887"
            ],
            [
             0.1111111111111111,
             "#46039f"
            ],
            [
             0.2222222222222222,
             "#7201a8"
            ],
            [
             0.3333333333333333,
             "#9c179e"
            ],
            [
             0.4444444444444444,
             "#bd3786"
            ],
            [
             0.5555555555555556,
             "#d8576b"
            ],
            [
             0.6666666666666666,
             "#ed7953"
            ],
            [
             0.7777777777777778,
             "#fb9f3a"
            ],
            [
             0.8888888888888888,
             "#fdca26"
            ],
            [
             1,
             "#f0f921"
            ]
           ],
           "sequentialminus": [
            [
             0,
             "#0d0887"
            ],
            [
             0.1111111111111111,
             "#46039f"
            ],
            [
             0.2222222222222222,
             "#7201a8"
            ],
            [
             0.3333333333333333,
             "#9c179e"
            ],
            [
             0.4444444444444444,
             "#bd3786"
            ],
            [
             0.5555555555555556,
             "#d8576b"
            ],
            [
             0.6666666666666666,
             "#ed7953"
            ],
            [
             0.7777777777777778,
             "#fb9f3a"
            ],
            [
             0.8888888888888888,
             "#fdca26"
            ],
            [
             1,
             "#f0f921"
            ]
           ]
          },
          "colorway": [
           "#636efa",
           "#EF553B",
           "#00cc96",
           "#ab63fa",
           "#FFA15A",
           "#19d3f3",
           "#FF6692",
           "#B6E880",
           "#FF97FF",
           "#FECB52"
          ],
          "font": {
           "color": "#2a3f5f"
          },
          "geo": {
           "bgcolor": "white",
           "lakecolor": "white",
           "landcolor": "#E5ECF6",
           "showlakes": true,
           "showland": true,
           "subunitcolor": "white"
          },
          "hoverlabel": {
           "align": "left"
          },
          "hovermode": "closest",
          "mapbox": {
           "style": "light"
          },
          "paper_bgcolor": "white",
          "plot_bgcolor": "#E5ECF6",
          "polar": {
           "angularaxis": {
            "gridcolor": "white",
            "linecolor": "white",
            "ticks": ""
           },
           "bgcolor": "#E5ECF6",
           "radialaxis": {
            "gridcolor": "white",
            "linecolor": "white",
            "ticks": ""
           }
          },
          "scene": {
           "xaxis": {
            "backgroundcolor": "#E5ECF6",
            "gridcolor": "white",
            "gridwidth": 2,
            "linecolor": "white",
            "showbackground": true,
            "ticks": "",
            "zerolinecolor": "white"
           },
           "yaxis": {
            "backgroundcolor": "#E5ECF6",
            "gridcolor": "white",
            "gridwidth": 2,
            "linecolor": "white",
            "showbackground": true,
            "ticks": "",
            "zerolinecolor": "white"
           },
           "zaxis": {
            "backgroundcolor": "#E5ECF6",
            "gridcolor": "white",
            "gridwidth": 2,
            "linecolor": "white",
            "showbackground": true,
            "ticks": "",
            "zerolinecolor": "white"
           }
          },
          "shapedefaults": {
           "line": {
            "color": "#2a3f5f"
           }
          },
          "ternary": {
           "aaxis": {
            "gridcolor": "white",
            "linecolor": "white",
            "ticks": ""
           },
           "baxis": {
            "gridcolor": "white",
            "linecolor": "white",
            "ticks": ""
           },
           "bgcolor": "#E5ECF6",
           "caxis": {
            "gridcolor": "white",
            "linecolor": "white",
            "ticks": ""
           }
          },
          "title": {
           "x": 0.05
          },
          "xaxis": {
           "automargin": true,
           "gridcolor": "white",
           "linecolor": "white",
           "ticks": "",
           "title": {
            "standoff": 15
           },
           "zerolinecolor": "white",
           "zerolinewidth": 2
          },
          "yaxis": {
           "automargin": true,
           "gridcolor": "white",
           "linecolor": "white",
           "ticks": "",
           "title": {
            "standoff": 15
           },
           "zerolinecolor": "white",
           "zerolinewidth": 2
          }
         }
        },
        "title": {
         "text": "Comparativa compañias"
        },
        "xaxis": {
         "anchor": "y",
         "domain": [
          0,
          1
         ],
         "title": {
          "text": "compania"
         }
        },
        "yaxis": {
         "anchor": "x",
         "domain": [
          0,
          1
         ],
         "title": {
          "text": "total_factura"
         }
        }
       }
      }
     },
     "metadata": {},
     "output_type": "display_data"
    }
   ],
   "source": [
    "fig = px.bar(\n",
    "  trf_grf, \n",
    "  x=\"compania\", \n",
    "  y=\"total_factura\", \n",
    "  color_continuous_scale='sunset',\n",
    "  color=\"total_factura\",\n",
    "  title=\"Comparativa compañias\",\n",
    "  custom_data=['tarifa']\n",
    ")\n",
    "\n",
    "fig.update_layout(coloraxis_showscale=False)\n",
    "fig.update_traces(hovertemplate='Compañia: %{x} <br>Tarifa: %{customdata[0]} <br>Precio factura: %{y}')\n",
    "fig.show()"
   ]
  },
  {
   "cell_type": "code",
   "execution_count": 90,
   "metadata": {},
   "outputs": [
    {
     "data": {
      "application/vnd.plotly.v1+json": {
       "config": {
        "plotlyServerURL": "https://plot.ly"
       },
       "data": [
        {
         "customdata": [
          [
           "Mis 10 Horas"
          ],
          [
           "Plan Elige 8 Horas"
          ],
          [
           "Plan Noche"
          ],
          [
           "Plan Familias"
          ],
          [
           "Plan Verano"
          ],
          [
           "Plan Invierno"
          ],
          [
           "Plan Vehiculo Electrico"
          ],
          [
           "Plan Solar"
          ],
          [
           "Plan Ahorro Inteligente"
          ],
          [
           "Por Uso"
          ],
          [
           "Flexi Uno"
          ],
          [
           "OneLuz"
          ],
          [
           "ConectaEndesa"
          ],
          [
           "OneLuz12mess"
          ],
          [
           "TempoHappy 2 horas"
          ],
          [
           "TempoHappy 24horas"
          ],
          [
           "Tranquilidad"
          ],
          [
           "Tranquilidad"
          ],
          [
           "A Tu Aire Siempre"
          ],
          [
           "Plan sin horas"
          ],
          [
           "Plan Solar 1"
          ],
          [
           "Plan Solar 2"
          ],
          [
           "Precio Fijo"
          ],
          [
           "Ahorro Plus"
          ],
          [
           "Indexada"
          ],
          [
           "PVPC"
          ],
          [
           "MISMO PRECIO 24H 2.0TD"
          ],
          [
           "PRECIO MERCADO 2.0TD"
          ],
          [
           "Alisios"
          ],
          [
           "Fija"
          ],
          [
           "Facil Luz"
          ],
          [
           "24 Horas"
          ],
          [
           "Plan Ilumina"
          ],
          [
           "Plan Ilumina Promo"
          ],
          [
           "Plan Ilumina Duo"
          ],
          [
           "Plan Ilumina Duo Promo"
          ],
          [
           "2.0TD L"
          ],
          [
           "2.0TD"
          ],
          [
           "Hogar 24h"
          ],
          [
           "Ecoluz Free"
          ],
          [
           "Dinámico sin horarios"
          ],
          [
           "Plan Online"
          ],
          [
           "Plan Mas Ahorro"
          ],
          [
           "Plan Estable Verde"
          ],
          [
           "Plan Estable"
          ],
          [
           "Precio Fijo"
          ],
          [
           "Formula fija 24 horas"
          ],
          [
           "Formula fija 24 horas asistencia"
          ],
          [
           "Tarifa facil"
          ],
          [
           "A vaquiña contigo unica"
          ],
          [
           "A vaquiña fija"
          ],
          [
           "Fija relax"
          ],
          [
           "Residencial promocional"
          ],
          [
           "Residencial promocional plus"
          ],
          [
           "2"
          ],
          [
           "Precio unico"
          ],
          [
           "Noche"
          ],
          [
           "Flexi Dos"
          ],
          [
           "OneLuz 3 periodos"
          ],
          [
           "PVPC"
          ],
          [
           "Solar Duo"
          ],
          [
           "Solar Duo"
          ],
          [
           "Ahorro Solar"
          ],
          [
           "Ahorro Solar"
          ],
          [
           "PVPC"
          ],
          [
           "PVPC"
          ],
          [
           "A Tu Aire Ahorro"
          ],
          [
           "Precio de coste"
          ],
          [
           "Plan noches y findes"
          ],
          [
           "Fija"
          ],
          [
           "Variable"
          ],
          [
           "Transparente"
          ],
          [
           "Por Periodos"
          ],
          [
           "PRECIO 3 PERIODOS 2.0TD"
          ],
          [
           "NUESTRO MEJOR PRECIO kWh 2.0TD"
          ],
          [
           "Variable"
          ],
          [
           "Tendencia Luz"
          ],
          [
           "Precio de Mercado"
          ],
          [
           "Plan Confianza Base"
          ],
          [
           "2.0TD"
          ],
          [
           "2.0TD DH"
          ],
          [
           "2.0TD"
          ],
          [
           "Luz a Precio de Coste"
          ],
          [
           "Hogar Ahorro"
          ],
          [
           "Ecoluz Smart"
          ],
          [
           "Ecoluz Equal"
          ],
          [
           "Ecoluz Evolution"
          ],
          [
           "Dinámico horario ahorro"
          ],
          [
           "Plan vehículo eléctrico"
          ],
          [
           "Solar"
          ],
          [
           "Plan Online 3 Periodos"
          ],
          [
           "PVPC"
          ],
          [
           "PVPC"
          ],
          [
           "Formula 3 periodos"
          ],
          [
           "PVPC"
          ],
          [
           "Tarifa Bateria Virtual (solar)"
          ],
          [
           "Tarifa horas"
          ],
          [
           "A vaquiña contigo"
          ],
          [
           "A vaquina en casa"
          ],
          [
           "Tarifa estable"
          ],
          [
           "Dos punto cero"
          ],
          [
           "Precio indexado fijo"
          ],
          [
           "A contraluz"
          ],
          [
           "coste + fija"
          ]
         ],
         "hovertemplate": "Compañia: %{x} <br>Tarifa: %{customdata[0]} <br>Precio factura: %{y}",
         "legendgroup": "",
         "marker": {
          "color": [
           39.918442258992,
           47.765166870344,
           48.25718047374401,
           44.246287983744,
           46.257399657744,
           46.545157202544,
           39.2990073994562,
           43.261107804332,
           42.553331193549,
           37.32520983642,
           35.9518150376,
           38.132934442548,
           34.075379629368,
           37.34541090629799,
           49.251254729208405,
           49.251254729208405,
           37.908761510488,
           36.396716320888,
           57.729654741,
           39.1072508728,
           54.00853160120001,
           39.1072508728,
           44.2731509044,
           37.7257832770148,
           34.9387865922458,
           32.75870350340812,
           33.140309961343206,
           31.23147891323901,
           33.548100696000006,
           46.02116236806,
           37.69008658822,
           43.474186670200005,
           45.7249821571488,
           41.8468382533564,
           42.7783902218288,
           33.1753470092088,
           36.380814964758,
           28.02977398188,
           38.2138120026498,
           46.1611830758078,
           39.713976695140005,
           36.52083338321,
           42.924647456944,
           44.436692646544,
           41.916617330544,
           44.2731509044,
           35.30239292362201,
           34.464467881052,
           34.94416324623621,
           39.8836646646504,
           39.0853048045416,
           44.5070582459404,
           42.4498112955268,
           44.4774620910928,
           41.7375391552702,
           42.200871443423,
           39.633668660960005,
           36.3512624684,
           42.2146286774806,
           32.75870350340812,
           39.268626339888,
           39.268626339888,
           40.266158079488,
           39.064023418288,
           32.75870350340812,
           32.75870350340812,
           37.69782625796,
           30.923272754000006,
           37.27454240179999,
           41.8334437455,
           39.67877010064,
           34.074565495658604,
           35.97995256416,
           38.8801814728206,
           41.6219651436446,
           49.77760309852,
           28.89333798120001,
           28.89333798120001,
           79.13465057322881,
           39.904807652567,
           62.51768557340901,
           43.8824641692668,
           33.3584730988168,
           40.00039444691621,
           46.72567564549061,
           68.21737536500481,
           64.538155842391,
           41.737222122488205,
           34.538390653010204,
           34.7611373537868,
           32.3832437251488,
           32.75870350340812,
           32.75870350340812,
           29.892944424024,
           32.75870350340812,
           41.465672768828,
           39.4772888997916,
           41.015210693544994,
           42.294477626918,
           42.1275108670152,
           37.8071736625,
           35.5332444946292,
           44.101606454741,
           32.208111232121006
          ],
          "coloraxis": "coloraxis",
          "symbol": "circle"
         },
         "mode": "markers",
         "name": "",
         "orientation": "v",
         "showlegend": false,
         "type": "scatter",
         "x": [
          "Repsol",
          "Iberdrola",
          "Iberdrola",
          "Iberdrola",
          "Iberdrola",
          "Iberdrola",
          "Iberdrola",
          "Iberdrola",
          "Iberdrola",
          "Naturgy",
          "Cepsa (Podo)",
          "Endesa",
          "Endesa",
          "Endesa",
          "Endesa",
          "Endesa",
          "EDP",
          "EDP",
          "TotalEnergies",
          "Imagina",
          "Imagina",
          "Imagina",
          "EnergyGO",
          "Repsol",
          "Som Energia",
          "Com Reg Naturgy",
          "Fenie Energia",
          "Fenie Energia",
          "Disa",
          "Pepe Energy",
          "Aldro",
          "Gana Energia",
          "CHC Energia",
          "CHC Energia",
          "CHC Energia",
          "CHC Energia",
          "CatGas Energia",
          "Integra Energia",
          "Bassols Energia",
          "Acis Energia",
          "Estabanell Energia",
          "Iberdrola",
          "Iberdrola",
          "Iberdrola",
          "Iberdrola",
          "Mas Movil Energia",
          "Energya VM",
          "Energya VM",
          "Gesternova",
          "Xenera ",
          "Xenera ",
          "Iris Energia",
          "Iris Energia",
          "Iris Energia",
          "Watium",
          "Fortuluz",
          "Naturgy",
          "Cepsa (Podo)",
          "Endesa",
          "Energia XXI",
          "EDP",
          "EDP",
          "EDP",
          "EDP",
          "Comercializadora de Ultimo Recurso",
          "Baser",
          "TotalEnergies",
          "Lucera",
          "Imagina",
          "Factor",
          "EnergyGO",
          "Escandinava de Electri",
          "Som Energia",
          "Fenie Energia",
          "Fenie Energia",
          "Pepe Energy",
          "Aldro",
          "Gana Energia",
          "CHC Energia",
          "CatGas Energia",
          "Integra Energia",
          "GoiEner",
          "Bassols Energia",
          "Bassols Energia",
          "Acis Energia",
          "Acis Energia",
          "Acis Energia",
          "Estabanell Energia",
          "Estabanell Energia",
          "Estabanell Energia",
          "Iberdrola",
          "E Distribucion",
          "Energya VM",
          "Energya VM",
          "Gesternova",
          "Gesternova",
          "Gesternova",
          "Xenera ",
          "Xenera ",
          "Iris Energia",
          "Eres Energia",
          "Fortuluz",
          "Fortuluz",
          "Aduriz Energia"
         ],
         "xaxis": "x",
         "y": [
          39.918442258992,
          47.765166870344,
          48.25718047374401,
          44.246287983744,
          46.257399657744,
          46.545157202544,
          39.2990073994562,
          43.261107804332,
          42.553331193549,
          37.32520983642,
          35.9518150376,
          38.132934442548,
          34.075379629368,
          37.34541090629799,
          49.251254729208405,
          49.251254729208405,
          37.908761510488,
          36.396716320888,
          57.729654741,
          39.1072508728,
          54.00853160120001,
          39.1072508728,
          44.2731509044,
          37.7257832770148,
          34.9387865922458,
          32.75870350340812,
          33.140309961343206,
          31.23147891323901,
          33.548100696000006,
          46.02116236806,
          37.69008658822,
          43.474186670200005,
          45.7249821571488,
          41.8468382533564,
          42.7783902218288,
          33.1753470092088,
          36.380814964758,
          28.02977398188,
          38.2138120026498,
          46.1611830758078,
          39.713976695140005,
          36.52083338321,
          42.924647456944,
          44.436692646544,
          41.916617330544,
          44.2731509044,
          35.30239292362201,
          34.464467881052,
          34.94416324623621,
          39.8836646646504,
          39.0853048045416,
          44.5070582459404,
          42.4498112955268,
          44.4774620910928,
          41.7375391552702,
          42.200871443423,
          39.633668660960005,
          36.3512624684,
          42.2146286774806,
          32.75870350340812,
          39.268626339888,
          39.268626339888,
          40.266158079488,
          39.064023418288,
          32.75870350340812,
          32.75870350340812,
          37.69782625796,
          30.923272754000006,
          37.27454240179999,
          41.8334437455,
          39.67877010064,
          34.074565495658604,
          35.97995256416,
          38.8801814728206,
          41.6219651436446,
          49.77760309852,
          28.89333798120001,
          28.89333798120001,
          79.13465057322881,
          39.904807652567,
          62.51768557340901,
          43.8824641692668,
          33.3584730988168,
          40.00039444691621,
          46.72567564549061,
          68.21737536500481,
          64.538155842391,
          41.737222122488205,
          34.538390653010204,
          34.7611373537868,
          32.3832437251488,
          32.75870350340812,
          32.75870350340812,
          29.892944424024,
          32.75870350340812,
          41.465672768828,
          39.4772888997916,
          41.015210693544994,
          42.294477626918,
          42.1275108670152,
          37.8071736625,
          35.5332444946292,
          44.101606454741,
          32.208111232121006
         ],
         "yaxis": "y"
        }
       ],
       "layout": {
        "coloraxis": {
         "colorbar": {
          "title": {
           "text": "Precio factura"
          }
         },
         "colorscale": [
          [
           0,
           "rgb(243, 231, 155)"
          ],
          [
           0.16666666666666666,
           "rgb(250, 196, 132)"
          ],
          [
           0.3333333333333333,
           "rgb(248, 160, 126)"
          ],
          [
           0.5,
           "rgb(235, 127, 134)"
          ],
          [
           0.6666666666666666,
           "rgb(206, 102, 147)"
          ],
          [
           0.8333333333333334,
           "rgb(160, 89, 160)"
          ],
          [
           1,
           "rgb(92, 83, 165)"
          ]
         ],
         "showscale": false
        },
        "legend": {
         "tracegroupgap": 0
        },
        "margin": {
         "t": 60
        },
        "template": {
         "data": {
          "bar": [
           {
            "error_x": {
             "color": "#2a3f5f"
            },
            "error_y": {
             "color": "#2a3f5f"
            },
            "marker": {
             "line": {
              "color": "#E5ECF6",
              "width": 0.5
             },
             "pattern": {
              "fillmode": "overlay",
              "size": 10,
              "solidity": 0.2
             }
            },
            "type": "bar"
           }
          ],
          "barpolar": [
           {
            "marker": {
             "line": {
              "color": "#E5ECF6",
              "width": 0.5
             },
             "pattern": {
              "fillmode": "overlay",
              "size": 10,
              "solidity": 0.2
             }
            },
            "type": "barpolar"
           }
          ],
          "carpet": [
           {
            "aaxis": {
             "endlinecolor": "#2a3f5f",
             "gridcolor": "white",
             "linecolor": "white",
             "minorgridcolor": "white",
             "startlinecolor": "#2a3f5f"
            },
            "baxis": {
             "endlinecolor": "#2a3f5f",
             "gridcolor": "white",
             "linecolor": "white",
             "minorgridcolor": "white",
             "startlinecolor": "#2a3f5f"
            },
            "type": "carpet"
           }
          ],
          "choropleth": [
           {
            "colorbar": {
             "outlinewidth": 0,
             "ticks": ""
            },
            "type": "choropleth"
           }
          ],
          "contour": [
           {
            "colorbar": {
             "outlinewidth": 0,
             "ticks": ""
            },
            "colorscale": [
             [
              0,
              "#0d0887"
             ],
             [
              0.1111111111111111,
              "#46039f"
             ],
             [
              0.2222222222222222,
              "#7201a8"
             ],
             [
              0.3333333333333333,
              "#9c179e"
             ],
             [
              0.4444444444444444,
              "#bd3786"
             ],
             [
              0.5555555555555556,
              "#d8576b"
             ],
             [
              0.6666666666666666,
              "#ed7953"
             ],
             [
              0.7777777777777778,
              "#fb9f3a"
             ],
             [
              0.8888888888888888,
              "#fdca26"
             ],
             [
              1,
              "#f0f921"
             ]
            ],
            "type": "contour"
           }
          ],
          "contourcarpet": [
           {
            "colorbar": {
             "outlinewidth": 0,
             "ticks": ""
            },
            "type": "contourcarpet"
           }
          ],
          "heatmap": [
           {
            "colorbar": {
             "outlinewidth": 0,
             "ticks": ""
            },
            "colorscale": [
             [
              0,
              "#0d0887"
             ],
             [
              0.1111111111111111,
              "#46039f"
             ],
             [
              0.2222222222222222,
              "#7201a8"
             ],
             [
              0.3333333333333333,
              "#9c179e"
             ],
             [
              0.4444444444444444,
              "#bd3786"
             ],
             [
              0.5555555555555556,
              "#d8576b"
             ],
             [
              0.6666666666666666,
              "#ed7953"
             ],
             [
              0.7777777777777778,
              "#fb9f3a"
             ],
             [
              0.8888888888888888,
              "#fdca26"
             ],
             [
              1,
              "#f0f921"
             ]
            ],
            "type": "heatmap"
           }
          ],
          "heatmapgl": [
           {
            "colorbar": {
             "outlinewidth": 0,
             "ticks": ""
            },
            "colorscale": [
             [
              0,
              "#0d0887"
             ],
             [
              0.1111111111111111,
              "#46039f"
             ],
             [
              0.2222222222222222,
              "#7201a8"
             ],
             [
              0.3333333333333333,
              "#9c179e"
             ],
             [
              0.4444444444444444,
              "#bd3786"
             ],
             [
              0.5555555555555556,
              "#d8576b"
             ],
             [
              0.6666666666666666,
              "#ed7953"
             ],
             [
              0.7777777777777778,
              "#fb9f3a"
             ],
             [
              0.8888888888888888,
              "#fdca26"
             ],
             [
              1,
              "#f0f921"
             ]
            ],
            "type": "heatmapgl"
           }
          ],
          "histogram": [
           {
            "marker": {
             "pattern": {
              "fillmode": "overlay",
              "size": 10,
              "solidity": 0.2
             }
            },
            "type": "histogram"
           }
          ],
          "histogram2d": [
           {
            "colorbar": {
             "outlinewidth": 0,
             "ticks": ""
            },
            "colorscale": [
             [
              0,
              "#0d0887"
             ],
             [
              0.1111111111111111,
              "#46039f"
             ],
             [
              0.2222222222222222,
              "#7201a8"
             ],
             [
              0.3333333333333333,
              "#9c179e"
             ],
             [
              0.4444444444444444,
              "#bd3786"
             ],
             [
              0.5555555555555556,
              "#d8576b"
             ],
             [
              0.6666666666666666,
              "#ed7953"
             ],
             [
              0.7777777777777778,
              "#fb9f3a"
             ],
             [
              0.8888888888888888,
              "#fdca26"
             ],
             [
              1,
              "#f0f921"
             ]
            ],
            "type": "histogram2d"
           }
          ],
          "histogram2dcontour": [
           {
            "colorbar": {
             "outlinewidth": 0,
             "ticks": ""
            },
            "colorscale": [
             [
              0,
              "#0d0887"
             ],
             [
              0.1111111111111111,
              "#46039f"
             ],
             [
              0.2222222222222222,
              "#7201a8"
             ],
             [
              0.3333333333333333,
              "#9c179e"
             ],
             [
              0.4444444444444444,
              "#bd3786"
             ],
             [
              0.5555555555555556,
              "#d8576b"
             ],
             [
              0.6666666666666666,
              "#ed7953"
             ],
             [
              0.7777777777777778,
              "#fb9f3a"
             ],
             [
              0.8888888888888888,
              "#fdca26"
             ],
             [
              1,
              "#f0f921"
             ]
            ],
            "type": "histogram2dcontour"
           }
          ],
          "mesh3d": [
           {
            "colorbar": {
             "outlinewidth": 0,
             "ticks": ""
            },
            "type": "mesh3d"
           }
          ],
          "parcoords": [
           {
            "line": {
             "colorbar": {
              "outlinewidth": 0,
              "ticks": ""
             }
            },
            "type": "parcoords"
           }
          ],
          "pie": [
           {
            "automargin": true,
            "type": "pie"
           }
          ],
          "scatter": [
           {
            "fillpattern": {
             "fillmode": "overlay",
             "size": 10,
             "solidity": 0.2
            },
            "type": "scatter"
           }
          ],
          "scatter3d": [
           {
            "line": {
             "colorbar": {
              "outlinewidth": 0,
              "ticks": ""
             }
            },
            "marker": {
             "colorbar": {
              "outlinewidth": 0,
              "ticks": ""
             }
            },
            "type": "scatter3d"
           }
          ],
          "scattercarpet": [
           {
            "marker": {
             "colorbar": {
              "outlinewidth": 0,
              "ticks": ""
             }
            },
            "type": "scattercarpet"
           }
          ],
          "scattergeo": [
           {
            "marker": {
             "colorbar": {
              "outlinewidth": 0,
              "ticks": ""
             }
            },
            "type": "scattergeo"
           }
          ],
          "scattergl": [
           {
            "marker": {
             "colorbar": {
              "outlinewidth": 0,
              "ticks": ""
             }
            },
            "type": "scattergl"
           }
          ],
          "scattermapbox": [
           {
            "marker": {
             "colorbar": {
              "outlinewidth": 0,
              "ticks": ""
             }
            },
            "type": "scattermapbox"
           }
          ],
          "scatterpolar": [
           {
            "marker": {
             "colorbar": {
              "outlinewidth": 0,
              "ticks": ""
             }
            },
            "type": "scatterpolar"
           }
          ],
          "scatterpolargl": [
           {
            "marker": {
             "colorbar": {
              "outlinewidth": 0,
              "ticks": ""
             }
            },
            "type": "scatterpolargl"
           }
          ],
          "scatterternary": [
           {
            "marker": {
             "colorbar": {
              "outlinewidth": 0,
              "ticks": ""
             }
            },
            "type": "scatterternary"
           }
          ],
          "surface": [
           {
            "colorbar": {
             "outlinewidth": 0,
             "ticks": ""
            },
            "colorscale": [
             [
              0,
              "#0d0887"
             ],
             [
              0.1111111111111111,
              "#46039f"
             ],
             [
              0.2222222222222222,
              "#7201a8"
             ],
             [
              0.3333333333333333,
              "#9c179e"
             ],
             [
              0.4444444444444444,
              "#bd3786"
             ],
             [
              0.5555555555555556,
              "#d8576b"
             ],
             [
              0.6666666666666666,
              "#ed7953"
             ],
             [
              0.7777777777777778,
              "#fb9f3a"
             ],
             [
              0.8888888888888888,
              "#fdca26"
             ],
             [
              1,
              "#f0f921"
             ]
            ],
            "type": "surface"
           }
          ],
          "table": [
           {
            "cells": {
             "fill": {
              "color": "#EBF0F8"
             },
             "line": {
              "color": "white"
             }
            },
            "header": {
             "fill": {
              "color": "#C8D4E3"
             },
             "line": {
              "color": "white"
             }
            },
            "type": "table"
           }
          ]
         },
         "layout": {
          "annotationdefaults": {
           "arrowcolor": "#2a3f5f",
           "arrowhead": 0,
           "arrowwidth": 1
          },
          "autotypenumbers": "strict",
          "coloraxis": {
           "colorbar": {
            "outlinewidth": 0,
            "ticks": ""
           }
          },
          "colorscale": {
           "diverging": [
            [
             0,
             "#8e0152"
            ],
            [
             0.1,
             "#c51b7d"
            ],
            [
             0.2,
             "#de77ae"
            ],
            [
             0.3,
             "#f1b6da"
            ],
            [
             0.4,
             "#fde0ef"
            ],
            [
             0.5,
             "#f7f7f7"
            ],
            [
             0.6,
             "#e6f5d0"
            ],
            [
             0.7,
             "#b8e186"
            ],
            [
             0.8,
             "#7fbc41"
            ],
            [
             0.9,
             "#4d9221"
            ],
            [
             1,
             "#276419"
            ]
           ],
           "sequential": [
            [
             0,
             "#0d0887"
            ],
            [
             0.1111111111111111,
             "#46039f"
            ],
            [
             0.2222222222222222,
             "#7201a8"
            ],
            [
             0.3333333333333333,
             "#9c179e"
            ],
            [
             0.4444444444444444,
             "#bd3786"
            ],
            [
             0.5555555555555556,
             "#d8576b"
            ],
            [
             0.6666666666666666,
             "#ed7953"
            ],
            [
             0.7777777777777778,
             "#fb9f3a"
            ],
            [
             0.8888888888888888,
             "#fdca26"
            ],
            [
             1,
             "#f0f921"
            ]
           ],
           "sequentialminus": [
            [
             0,
             "#0d0887"
            ],
            [
             0.1111111111111111,
             "#46039f"
            ],
            [
             0.2222222222222222,
             "#7201a8"
            ],
            [
             0.3333333333333333,
             "#9c179e"
            ],
            [
             0.4444444444444444,
             "#bd3786"
            ],
            [
             0.5555555555555556,
             "#d8576b"
            ],
            [
             0.6666666666666666,
             "#ed7953"
            ],
            [
             0.7777777777777778,
             "#fb9f3a"
            ],
            [
             0.8888888888888888,
             "#fdca26"
            ],
            [
             1,
             "#f0f921"
            ]
           ]
          },
          "colorway": [
           "#636efa",
           "#EF553B",
           "#00cc96",
           "#ab63fa",
           "#FFA15A",
           "#19d3f3",
           "#FF6692",
           "#B6E880",
           "#FF97FF",
           "#FECB52"
          ],
          "font": {
           "color": "#2a3f5f"
          },
          "geo": {
           "bgcolor": "white",
           "lakecolor": "white",
           "landcolor": "#E5ECF6",
           "showlakes": true,
           "showland": true,
           "subunitcolor": "white"
          },
          "hoverlabel": {
           "align": "left"
          },
          "hovermode": "closest",
          "mapbox": {
           "style": "light"
          },
          "paper_bgcolor": "white",
          "plot_bgcolor": "#E5ECF6",
          "polar": {
           "angularaxis": {
            "gridcolor": "white",
            "linecolor": "white",
            "ticks": ""
           },
           "bgcolor": "#E5ECF6",
           "radialaxis": {
            "gridcolor": "white",
            "linecolor": "white",
            "ticks": ""
           }
          },
          "scene": {
           "xaxis": {
            "backgroundcolor": "#E5ECF6",
            "gridcolor": "white",
            "gridwidth": 2,
            "linecolor": "white",
            "showbackground": true,
            "ticks": "",
            "zerolinecolor": "white"
           },
           "yaxis": {
            "backgroundcolor": "#E5ECF6",
            "gridcolor": "white",
            "gridwidth": 2,
            "linecolor": "white",
            "showbackground": true,
            "ticks": "",
            "zerolinecolor": "white"
           },
           "zaxis": {
            "backgroundcolor": "#E5ECF6",
            "gridcolor": "white",
            "gridwidth": 2,
            "linecolor": "white",
            "showbackground": true,
            "ticks": "",
            "zerolinecolor": "white"
           }
          },
          "shapedefaults": {
           "line": {
            "color": "#2a3f5f"
           }
          },
          "ternary": {
           "aaxis": {
            "gridcolor": "white",
            "linecolor": "white",
            "ticks": ""
           },
           "baxis": {
            "gridcolor": "white",
            "linecolor": "white",
            "ticks": ""
           },
           "bgcolor": "#E5ECF6",
           "caxis": {
            "gridcolor": "white",
            "linecolor": "white",
            "ticks": ""
           }
          },
          "title": {
           "x": 0.05
          },
          "xaxis": {
           "automargin": true,
           "gridcolor": "white",
           "linecolor": "white",
           "ticks": "",
           "title": {
            "standoff": 15
           },
           "zerolinecolor": "white",
           "zerolinewidth": 2
          },
          "yaxis": {
           "automargin": true,
           "gridcolor": "white",
           "linecolor": "white",
           "ticks": "",
           "title": {
            "standoff": 15
           },
           "zerolinecolor": "white",
           "zerolinewidth": 2
          }
         }
        },
        "title": {
         "text": "Comparativa compañias",
         "x": 0.5,
         "xanchor": "center",
         "y": 0.95,
         "yanchor": "top"
        },
        "xaxis": {
         "anchor": "y",
         "domain": [
          0,
          1
         ],
         "tickangle": 45,
         "title": {
          "text": "Compañía"
         }
        },
        "yaxis": {
         "anchor": "x",
         "domain": [
          0,
          1
         ],
         "title": {
          "text": "Precio factura"
         }
        }
       }
      }
     },
     "metadata": {},
     "output_type": "display_data"
    }
   ],
   "source": [
    "fig = px.scatter(df, x=\"compania\", \n",
    "  y=\"total_factura\", color_continuous_scale='sunset',\n",
    "  color=\"total_factura\", hover_data=['compania', 'tarifa', 'total_factura'], custom_data=['tarifa'], labels={\"compania\": \"Compañía\", \"total_factura\": \"Precio factura\"})\n",
    "fig.update_layout(coloraxis_showscale=False, title={\n",
    "        'text': \"Comparativa compañias\",\n",
    "        'y':0.95,\n",
    "        'x':0.5,\n",
    "        'xanchor': 'center',\n",
    "        'yanchor': 'top'})\n",
    "fig.update_traces(hovertemplate='Compañia: %{x} <br>Tarifa: %{customdata[0]} <br>Precio factura: %{y}')\n",
    "fig.update_xaxes(tickangle=45)\n",
    "fig.show()\n"
   ]
  }
 ],
 "metadata": {
  "kernelspec": {
   "display_name": "Python 3",
   "language": "python",
   "name": "python3"
  },
  "language_info": {
   "codemirror_mode": {
    "name": "ipython",
    "version": 3
   },
   "file_extension": ".py",
   "mimetype": "text/x-python",
   "name": "python",
   "nbconvert_exporter": "python",
   "pygments_lexer": "ipython3",
   "version": "3.12.1"
  }
 },
 "nbformat": 4,
 "nbformat_minor": 2
}
