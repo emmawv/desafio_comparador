{
 "cells": [
  {
   "cell_type": "code",
   "execution_count": 102,
   "metadata": {},
   "outputs": [],
   "source": [
    "import pandas as pd"
   ]
  },
  {
   "cell_type": "code",
   "execution_count": 103,
   "metadata": {},
   "outputs": [
    {
     "data": {
      "text/html": [
       "<div>\n",
       "<style scoped>\n",
       "    .dataframe tbody tr th:only-of-type {\n",
       "        vertical-align: middle;\n",
       "    }\n",
       "\n",
       "    .dataframe tbody tr th {\n",
       "        vertical-align: top;\n",
       "    }\n",
       "\n",
       "    .dataframe thead th {\n",
       "        text-align: right;\n",
       "    }\n",
       "</style>\n",
       "<table border=\"1\" class=\"dataframe\">\n",
       "  <thead>\n",
       "    <tr style=\"text-align: right;\">\n",
       "      <th></th>\n",
       "      <th>Unnamed: 0</th>\n",
       "      <th>id</th>\n",
       "      <th>compania</th>\n",
       "      <th>tarifa</th>\n",
       "      <th>tp_punta_euros/kwh/dia</th>\n",
       "      <th>tp_valle_euros/kwh/dia</th>\n",
       "      <th>peaje_tran_dist_pot_punta</th>\n",
       "      <th>peaje_tran_dist_pot_valle</th>\n",
       "      <th>peaje_ener_valle_tdc</th>\n",
       "      <th>peaje_ener_llano_tdc</th>\n",
       "      <th>...</th>\n",
       "      <th>bono_social_euro/dia</th>\n",
       "      <th>margen_euros/kWh/dia</th>\n",
       "      <th>consumo_valle</th>\n",
       "      <th>consumo_llano</th>\n",
       "      <th>consumo_punta</th>\n",
       "      <th>total_actual</th>\n",
       "      <th>total_factura</th>\n",
       "      <th>coste_valle</th>\n",
       "      <th>coste_llano</th>\n",
       "      <th>coste_punta</th>\n",
       "    </tr>\n",
       "  </thead>\n",
       "  <tbody>\n",
       "    <tr>\n",
       "      <th>0</th>\n",
       "      <td>0</td>\n",
       "      <td>0</td>\n",
       "      <td>Repsol</td>\n",
       "      <td>Mis 10 Horas</td>\n",
       "      <td>0.068192</td>\n",
       "      <td>0.068192</td>\n",
       "      <td>0.008192</td>\n",
       "      <td>0.000527</td>\n",
       "      <td>0.002752</td>\n",
       "      <td>0.027963</td>\n",
       "      <td>...</td>\n",
       "      <td>0.0</td>\n",
       "      <td>0.0</td>\n",
       "      <td>45</td>\n",
       "      <td>0.98</td>\n",
       "      <td>63</td>\n",
       "      <td>150</td>\n",
       "      <td>39.918442</td>\n",
       "      <td>3.888675</td>\n",
       "      <td>0.169373</td>\n",
       "      <td>10.88829</td>\n",
       "    </tr>\n",
       "    <tr>\n",
       "      <th>1</th>\n",
       "      <td>1</td>\n",
       "      <td>1</td>\n",
       "      <td>Iberdrola</td>\n",
       "      <td>Plan Elige 8 Horas</td>\n",
       "      <td>0.108192</td>\n",
       "      <td>0.042411</td>\n",
       "      <td>0.008192</td>\n",
       "      <td>0.000527</td>\n",
       "      <td>0.002752</td>\n",
       "      <td>0.027963</td>\n",
       "      <td>...</td>\n",
       "      <td>0.0</td>\n",
       "      <td>0.0</td>\n",
       "      <td>45</td>\n",
       "      <td>0.98</td>\n",
       "      <td>63</td>\n",
       "      <td>150</td>\n",
       "      <td>47.765167</td>\n",
       "      <td>4.351500</td>\n",
       "      <td>0.236180</td>\n",
       "      <td>15.18300</td>\n",
       "    </tr>\n",
       "    <tr>\n",
       "      <th>2</th>\n",
       "      <td>2</td>\n",
       "      <td>2</td>\n",
       "      <td>Iberdrola</td>\n",
       "      <td>Plan Noche</td>\n",
       "      <td>0.108192</td>\n",
       "      <td>0.042411</td>\n",
       "      <td>0.008192</td>\n",
       "      <td>0.000527</td>\n",
       "      <td>0.002752</td>\n",
       "      <td>0.027963</td>\n",
       "      <td>...</td>\n",
       "      <td>0.0</td>\n",
       "      <td>0.0</td>\n",
       "      <td>45</td>\n",
       "      <td>0.98</td>\n",
       "      <td>63</td>\n",
       "      <td>150</td>\n",
       "      <td>48.257180</td>\n",
       "      <td>4.905000</td>\n",
       "      <td>0.234220</td>\n",
       "      <td>15.05700</td>\n",
       "    </tr>\n",
       "    <tr>\n",
       "      <th>3</th>\n",
       "      <td>3</td>\n",
       "      <td>3</td>\n",
       "      <td>Iberdrola</td>\n",
       "      <td>Plan Familias</td>\n",
       "      <td>0.108192</td>\n",
       "      <td>0.042411</td>\n",
       "      <td>0.008192</td>\n",
       "      <td>0.000527</td>\n",
       "      <td>0.002752</td>\n",
       "      <td>0.027963</td>\n",
       "      <td>...</td>\n",
       "      <td>0.0</td>\n",
       "      <td>0.0</td>\n",
       "      <td>45</td>\n",
       "      <td>0.98</td>\n",
       "      <td>63</td>\n",
       "      <td>150</td>\n",
       "      <td>44.246288</td>\n",
       "      <td>4.635000</td>\n",
       "      <td>0.185220</td>\n",
       "      <td>11.90700</td>\n",
       "    </tr>\n",
       "    <tr>\n",
       "      <th>4</th>\n",
       "      <td>4</td>\n",
       "      <td>4</td>\n",
       "      <td>Iberdrola</td>\n",
       "      <td>Plan Verano</td>\n",
       "      <td>0.108192</td>\n",
       "      <td>0.042411</td>\n",
       "      <td>0.008192</td>\n",
       "      <td>0.000527</td>\n",
       "      <td>0.002752</td>\n",
       "      <td>0.027963</td>\n",
       "      <td>...</td>\n",
       "      <td>0.0</td>\n",
       "      <td>0.0</td>\n",
       "      <td>45</td>\n",
       "      <td>0.98</td>\n",
       "      <td>63</td>\n",
       "      <td>150</td>\n",
       "      <td>46.257400</td>\n",
       "      <td>4.455000</td>\n",
       "      <td>0.214620</td>\n",
       "      <td>13.79700</td>\n",
       "    </tr>\n",
       "  </tbody>\n",
       "</table>\n",
       "<p>5 rows × 32 columns</p>\n",
       "</div>"
      ],
      "text/plain": [
       "   Unnamed: 0  id   compania              tarifa  tp_punta_euros/kwh/dia  \\\n",
       "0           0   0     Repsol        Mis 10 Horas                0.068192   \n",
       "1           1   1  Iberdrola  Plan Elige 8 Horas                0.108192   \n",
       "2           2   2  Iberdrola          Plan Noche                0.108192   \n",
       "3           3   3  Iberdrola       Plan Familias                0.108192   \n",
       "4           4   4  Iberdrola         Plan Verano                0.108192   \n",
       "\n",
       "   tp_valle_euros/kwh/dia  peaje_tran_dist_pot_punta  \\\n",
       "0                0.068192                   0.008192   \n",
       "1                0.042411                   0.008192   \n",
       "2                0.042411                   0.008192   \n",
       "3                0.042411                   0.008192   \n",
       "4                0.042411                   0.008192   \n",
       "\n",
       "   peaje_tran_dist_pot_valle  peaje_ener_valle_tdc  peaje_ener_llano_tdc  ...  \\\n",
       "0                   0.000527              0.002752              0.027963  ...   \n",
       "1                   0.000527              0.002752              0.027963  ...   \n",
       "2                   0.000527              0.002752              0.027963  ...   \n",
       "3                   0.000527              0.002752              0.027963  ...   \n",
       "4                   0.000527              0.002752              0.027963  ...   \n",
       "\n",
       "   bono_social_euro/dia  margen_euros/kWh/dia  consumo_valle  consumo_llano  \\\n",
       "0                   0.0                   0.0             45           0.98   \n",
       "1                   0.0                   0.0             45           0.98   \n",
       "2                   0.0                   0.0             45           0.98   \n",
       "3                   0.0                   0.0             45           0.98   \n",
       "4                   0.0                   0.0             45           0.98   \n",
       "\n",
       "   consumo_punta  total_actual  total_factura coste_valle coste_llano  \\\n",
       "0             63           150      39.918442    3.888675    0.169373   \n",
       "1             63           150      47.765167    4.351500    0.236180   \n",
       "2             63           150      48.257180    4.905000    0.234220   \n",
       "3             63           150      44.246288    4.635000    0.185220   \n",
       "4             63           150      46.257400    4.455000    0.214620   \n",
       "\n",
       "   coste_punta  \n",
       "0     10.88829  \n",
       "1     15.18300  \n",
       "2     15.05700  \n",
       "3     11.90700  \n",
       "4     13.79700  \n",
       "\n",
       "[5 rows x 32 columns]"
      ]
     },
     "execution_count": 103,
     "metadata": {},
     "output_type": "execute_result"
    }
   ],
   "source": [
    "df = pd.read_csv('../Datos/resultados.csv')\n",
    "df.head()"
   ]
  },
  {
   "cell_type": "code",
   "execution_count": 104,
   "metadata": {},
   "outputs": [],
   "source": [
    "df =df.drop_duplicates(subset=['tarifa'])"
   ]
  },
  {
   "cell_type": "code",
   "execution_count": 105,
   "metadata": {},
   "outputs": [
    {
     "data": {
      "text/html": [
       "<div>\n",
       "<style scoped>\n",
       "    .dataframe tbody tr th:only-of-type {\n",
       "        vertical-align: middle;\n",
       "    }\n",
       "\n",
       "    .dataframe tbody tr th {\n",
       "        vertical-align: top;\n",
       "    }\n",
       "\n",
       "    .dataframe thead th {\n",
       "        text-align: right;\n",
       "    }\n",
       "</style>\n",
       "<table border=\"1\" class=\"dataframe\">\n",
       "  <thead>\n",
       "    <tr style=\"text-align: right;\">\n",
       "      <th></th>\n",
       "      <th>Unnamed: 0</th>\n",
       "      <th>id</th>\n",
       "      <th>compania</th>\n",
       "      <th>tarifa</th>\n",
       "      <th>tp_punta_euros/kwh/dia</th>\n",
       "      <th>tp_valle_euros/kwh/dia</th>\n",
       "      <th>peaje_tran_dist_pot_punta</th>\n",
       "      <th>peaje_tran_dist_pot_valle</th>\n",
       "      <th>peaje_ener_valle_tdc</th>\n",
       "      <th>peaje_ener_llano_tdc</th>\n",
       "      <th>...</th>\n",
       "      <th>bono_social_euro/dia</th>\n",
       "      <th>margen_euros/kWh/dia</th>\n",
       "      <th>consumo_valle</th>\n",
       "      <th>consumo_llano</th>\n",
       "      <th>consumo_punta</th>\n",
       "      <th>total_actual</th>\n",
       "      <th>total_factura</th>\n",
       "      <th>coste_valle</th>\n",
       "      <th>coste_llano</th>\n",
       "      <th>coste_punta</th>\n",
       "    </tr>\n",
       "  </thead>\n",
       "  <tbody>\n",
       "    <tr>\n",
       "      <th>16</th>\n",
       "      <td>16</td>\n",
       "      <td>16</td>\n",
       "      <td>EDP</td>\n",
       "      <td>Tranquilidad</td>\n",
       "      <td>0.094224</td>\n",
       "      <td>0.027312</td>\n",
       "      <td>0.008192</td>\n",
       "      <td>0.000527</td>\n",
       "      <td>0.002752</td>\n",
       "      <td>0.027963</td>\n",
       "      <td>...</td>\n",
       "      <td>0.0</td>\n",
       "      <td>0.0</td>\n",
       "      <td>45</td>\n",
       "      <td>0.98</td>\n",
       "      <td>63</td>\n",
       "      <td>150</td>\n",
       "      <td>37.908762</td>\n",
       "      <td>6.300</td>\n",
       "      <td>0.13720</td>\n",
       "      <td>8.820</td>\n",
       "    </tr>\n",
       "    <tr>\n",
       "      <th>60</th>\n",
       "      <td>60</td>\n",
       "      <td>60</td>\n",
       "      <td>EDP</td>\n",
       "      <td>Solar Duo</td>\n",
       "      <td>0.094224</td>\n",
       "      <td>0.027312</td>\n",
       "      <td>0.008192</td>\n",
       "      <td>0.000527</td>\n",
       "      <td>0.002752</td>\n",
       "      <td>0.027963</td>\n",
       "      <td>...</td>\n",
       "      <td>0.0</td>\n",
       "      <td>0.0</td>\n",
       "      <td>45</td>\n",
       "      <td>0.98</td>\n",
       "      <td>63</td>\n",
       "      <td>150</td>\n",
       "      <td>39.268626</td>\n",
       "      <td>4.725</td>\n",
       "      <td>0.17934</td>\n",
       "      <td>11.529</td>\n",
       "    </tr>\n",
       "    <tr>\n",
       "      <th>62</th>\n",
       "      <td>62</td>\n",
       "      <td>62</td>\n",
       "      <td>EDP</td>\n",
       "      <td>Ahorro Solar</td>\n",
       "      <td>0.094224</td>\n",
       "      <td>0.027312</td>\n",
       "      <td>0.008192</td>\n",
       "      <td>0.000527</td>\n",
       "      <td>0.002752</td>\n",
       "      <td>0.027963</td>\n",
       "      <td>...</td>\n",
       "      <td>0.0</td>\n",
       "      <td>0.0</td>\n",
       "      <td>45</td>\n",
       "      <td>0.98</td>\n",
       "      <td>63</td>\n",
       "      <td>150</td>\n",
       "      <td>40.266158</td>\n",
       "      <td>5.625</td>\n",
       "      <td>0.14210</td>\n",
       "      <td>11.529</td>\n",
       "    </tr>\n",
       "  </tbody>\n",
       "</table>\n",
       "<p>3 rows × 32 columns</p>\n",
       "</div>"
      ],
      "text/plain": [
       "    Unnamed: 0  id compania        tarifa  tp_punta_euros/kwh/dia  \\\n",
       "16          16  16      EDP  Tranquilidad                0.094224   \n",
       "60          60  60      EDP     Solar Duo                0.094224   \n",
       "62          62  62      EDP  Ahorro Solar                0.094224   \n",
       "\n",
       "    tp_valle_euros/kwh/dia  peaje_tran_dist_pot_punta  \\\n",
       "16                0.027312                   0.008192   \n",
       "60                0.027312                   0.008192   \n",
       "62                0.027312                   0.008192   \n",
       "\n",
       "    peaje_tran_dist_pot_valle  peaje_ener_valle_tdc  peaje_ener_llano_tdc  \\\n",
       "16                   0.000527              0.002752              0.027963   \n",
       "60                   0.000527              0.002752              0.027963   \n",
       "62                   0.000527              0.002752              0.027963   \n",
       "\n",
       "    ...  bono_social_euro/dia  margen_euros/kWh/dia  consumo_valle  \\\n",
       "16  ...                   0.0                   0.0             45   \n",
       "60  ...                   0.0                   0.0             45   \n",
       "62  ...                   0.0                   0.0             45   \n",
       "\n",
       "    consumo_llano  consumo_punta  total_actual  total_factura coste_valle  \\\n",
       "16           0.98             63           150      37.908762       6.300   \n",
       "60           0.98             63           150      39.268626       4.725   \n",
       "62           0.98             63           150      40.266158       5.625   \n",
       "\n",
       "   coste_llano  coste_punta  \n",
       "16     0.13720        8.820  \n",
       "60     0.17934       11.529  \n",
       "62     0.14210       11.529  \n",
       "\n",
       "[3 rows x 32 columns]"
      ]
     },
     "execution_count": 105,
     "metadata": {},
     "output_type": "execute_result"
    }
   ],
   "source": [
    "df[df['compania']=='EDP']"
   ]
  },
  {
   "cell_type": "code",
   "execution_count": 106,
   "metadata": {},
   "outputs": [],
   "source": [
    "tarifas = 'Iberdrola'"
   ]
  },
  {
   "cell_type": "code",
   "execution_count": 107,
   "metadata": {},
   "outputs": [],
   "source": [
    "if tarifas != 'Todas':\n",
    "    df = df[df['compania'] == tarifas]\n",
    "\n"
   ]
  },
  {
   "cell_type": "code",
   "execution_count": 108,
   "metadata": {},
   "outputs": [],
   "source": [
    "trf_grf = df.sort_values('total_factura').head(5)"
   ]
  },
  {
   "cell_type": "code",
   "execution_count": 109,
   "metadata": {},
   "outputs": [
    {
     "data": {
      "text/plain": [
       "['Unnamed: 0',\n",
       " 'id',\n",
       " 'compania',\n",
       " 'tarifa',\n",
       " 'tp_punta_euros/kwh/dia',\n",
       " 'tp_valle_euros/kwh/dia',\n",
       " 'peaje_tran_dist_pot_punta',\n",
       " 'peaje_tran_dist_pot_valle',\n",
       " 'peaje_ener_valle_tdc',\n",
       " 'peaje_ener_llano_tdc',\n",
       " 'peaje_ener_punta_tdc',\n",
       " 'termino_consumo_euros/kwh/hora',\n",
       " 'tc_valle_euros/kwh/hora',\n",
       " 'tc_llano_euros/kwh/hora',\n",
       " 'tc_punta_euros/kwh/hora',\n",
       " 'tc_8h_euros/kwh/hora',\n",
       " 'tc_16h_euros/kwh/hora',\n",
       " 'mercado',\n",
       " 'tipo',\n",
       " 'otros',\n",
       " 'alquiler_equipo_euros/dia',\n",
       " 'impuesto_actual',\n",
       " 'bono_social_euro/dia',\n",
       " 'margen_euros/kWh/dia',\n",
       " 'consumo_valle',\n",
       " 'consumo_llano',\n",
       " 'consumo_punta',\n",
       " 'total_actual',\n",
       " 'total_factura',\n",
       " 'coste_valle',\n",
       " 'coste_llano',\n",
       " 'coste_punta']"
      ]
     },
     "execution_count": 109,
     "metadata": {},
     "output_type": "execute_result"
    }
   ],
   "source": [
    "trf_grf.columns.tolist()"
   ]
  },
  {
   "cell_type": "code",
   "execution_count": 110,
   "metadata": {},
   "outputs": [
    {
     "data": {
      "text/html": [
       "<div>\n",
       "<style scoped>\n",
       "    .dataframe tbody tr th:only-of-type {\n",
       "        vertical-align: middle;\n",
       "    }\n",
       "\n",
       "    .dataframe tbody tr th {\n",
       "        vertical-align: top;\n",
       "    }\n",
       "\n",
       "    .dataframe thead th {\n",
       "        text-align: right;\n",
       "    }\n",
       "</style>\n",
       "<table border=\"1\" class=\"dataframe\">\n",
       "  <thead>\n",
       "    <tr style=\"text-align: right;\">\n",
       "      <th></th>\n",
       "      <th>Unnamed: 0</th>\n",
       "      <th>id</th>\n",
       "      <th>compania</th>\n",
       "      <th>tarifa</th>\n",
       "      <th>tp_punta_euros/kwh/dia</th>\n",
       "      <th>tp_valle_euros/kwh/dia</th>\n",
       "      <th>peaje_tran_dist_pot_punta</th>\n",
       "      <th>peaje_tran_dist_pot_valle</th>\n",
       "      <th>peaje_ener_valle_tdc</th>\n",
       "      <th>peaje_ener_llano_tdc</th>\n",
       "      <th>...</th>\n",
       "      <th>bono_social_euro/dia</th>\n",
       "      <th>margen_euros/kWh/dia</th>\n",
       "      <th>consumo_valle</th>\n",
       "      <th>consumo_llano</th>\n",
       "      <th>consumo_punta</th>\n",
       "      <th>total_actual</th>\n",
       "      <th>total_factura</th>\n",
       "      <th>coste_valle</th>\n",
       "      <th>coste_llano</th>\n",
       "      <th>coste_punta</th>\n",
       "    </tr>\n",
       "  </thead>\n",
       "  <tbody>\n",
       "    <tr>\n",
       "      <th>90</th>\n",
       "      <td>90</td>\n",
       "      <td>90</td>\n",
       "      <td>Iberdrola</td>\n",
       "      <td>Plan Online 3 Periodos</td>\n",
       "      <td>0.082192</td>\n",
       "      <td>0.013699</td>\n",
       "      <td>0.008192</td>\n",
       "      <td>0.000527</td>\n",
       "      <td>0.002752</td>\n",
       "      <td>0.027963</td>\n",
       "      <td>...</td>\n",
       "      <td>0.0</td>\n",
       "      <td>0.0</td>\n",
       "      <td>45</td>\n",
       "      <td>0.98</td>\n",
       "      <td>63</td>\n",
       "      <td>150</td>\n",
       "      <td>32.383244</td>\n",
       "      <td>3.764700</td>\n",
       "      <td>0.111373</td>\n",
       "      <td>10.141173</td>\n",
       "    </tr>\n",
       "    <tr>\n",
       "      <th>41</th>\n",
       "      <td>41</td>\n",
       "      <td>41</td>\n",
       "      <td>Iberdrola</td>\n",
       "      <td>Plan Online</td>\n",
       "      <td>0.095890</td>\n",
       "      <td>0.041096</td>\n",
       "      <td>0.008192</td>\n",
       "      <td>0.000527</td>\n",
       "      <td>0.002752</td>\n",
       "      <td>0.027963</td>\n",
       "      <td>...</td>\n",
       "      <td>0.0</td>\n",
       "      <td>0.0</td>\n",
       "      <td>45</td>\n",
       "      <td>0.98</td>\n",
       "      <td>63</td>\n",
       "      <td>150</td>\n",
       "      <td>36.520833</td>\n",
       "      <td>4.923900</td>\n",
       "      <td>0.107232</td>\n",
       "      <td>6.893460</td>\n",
       "    </tr>\n",
       "    <tr>\n",
       "      <th>6</th>\n",
       "      <td>6</td>\n",
       "      <td>6</td>\n",
       "      <td>Iberdrola</td>\n",
       "      <td>Plan Vehiculo Electrico</td>\n",
       "      <td>0.095890</td>\n",
       "      <td>0.042411</td>\n",
       "      <td>0.008192</td>\n",
       "      <td>0.000527</td>\n",
       "      <td>0.002752</td>\n",
       "      <td>0.027963</td>\n",
       "      <td>...</td>\n",
       "      <td>0.0</td>\n",
       "      <td>0.0</td>\n",
       "      <td>45</td>\n",
       "      <td>0.98</td>\n",
       "      <td>63</td>\n",
       "      <td>150</td>\n",
       "      <td>39.299007</td>\n",
       "      <td>1.350000</td>\n",
       "      <td>0.195999</td>\n",
       "      <td>12.599937</td>\n",
       "    </tr>\n",
       "    <tr>\n",
       "      <th>44</th>\n",
       "      <td>44</td>\n",
       "      <td>44</td>\n",
       "      <td>Iberdrola</td>\n",
       "      <td>Plan Estable</td>\n",
       "      <td>0.108192</td>\n",
       "      <td>0.042411</td>\n",
       "      <td>0.008192</td>\n",
       "      <td>0.000527</td>\n",
       "      <td>0.002752</td>\n",
       "      <td>0.027963</td>\n",
       "      <td>...</td>\n",
       "      <td>0.0</td>\n",
       "      <td>0.0</td>\n",
       "      <td>45</td>\n",
       "      <td>0.98</td>\n",
       "      <td>63</td>\n",
       "      <td>150</td>\n",
       "      <td>41.916617</td>\n",
       "      <td>6.075000</td>\n",
       "      <td>0.132300</td>\n",
       "      <td>8.505000</td>\n",
       "    </tr>\n",
       "    <tr>\n",
       "      <th>8</th>\n",
       "      <td>8</td>\n",
       "      <td>8</td>\n",
       "      <td>Iberdrola</td>\n",
       "      <td>Plan Ahorro Inteligente</td>\n",
       "      <td>0.108192</td>\n",
       "      <td>0.042411</td>\n",
       "      <td>0.008192</td>\n",
       "      <td>0.000527</td>\n",
       "      <td>0.002752</td>\n",
       "      <td>0.027963</td>\n",
       "      <td>...</td>\n",
       "      <td>0.0</td>\n",
       "      <td>0.0</td>\n",
       "      <td>45</td>\n",
       "      <td>0.98</td>\n",
       "      <td>63</td>\n",
       "      <td>150</td>\n",
       "      <td>42.553331</td>\n",
       "      <td>4.499955</td>\n",
       "      <td>0.164860</td>\n",
       "      <td>10.598175</td>\n",
       "    </tr>\n",
       "  </tbody>\n",
       "</table>\n",
       "<p>5 rows × 32 columns</p>\n",
       "</div>"
      ],
      "text/plain": [
       "    Unnamed: 0  id   compania                   tarifa  \\\n",
       "90          90  90  Iberdrola   Plan Online 3 Periodos   \n",
       "41          41  41  Iberdrola              Plan Online   \n",
       "6            6   6  Iberdrola  Plan Vehiculo Electrico   \n",
       "44          44  44  Iberdrola             Plan Estable   \n",
       "8            8   8  Iberdrola  Plan Ahorro Inteligente   \n",
       "\n",
       "    tp_punta_euros/kwh/dia  tp_valle_euros/kwh/dia  peaje_tran_dist_pot_punta  \\\n",
       "90                0.082192                0.013699                   0.008192   \n",
       "41                0.095890                0.041096                   0.008192   \n",
       "6                 0.095890                0.042411                   0.008192   \n",
       "44                0.108192                0.042411                   0.008192   \n",
       "8                 0.108192                0.042411                   0.008192   \n",
       "\n",
       "    peaje_tran_dist_pot_valle  peaje_ener_valle_tdc  peaje_ener_llano_tdc  \\\n",
       "90                   0.000527              0.002752              0.027963   \n",
       "41                   0.000527              0.002752              0.027963   \n",
       "6                    0.000527              0.002752              0.027963   \n",
       "44                   0.000527              0.002752              0.027963   \n",
       "8                    0.000527              0.002752              0.027963   \n",
       "\n",
       "    ...  bono_social_euro/dia  margen_euros/kWh/dia  consumo_valle  \\\n",
       "90  ...                   0.0                   0.0             45   \n",
       "41  ...                   0.0                   0.0             45   \n",
       "6   ...                   0.0                   0.0             45   \n",
       "44  ...                   0.0                   0.0             45   \n",
       "8   ...                   0.0                   0.0             45   \n",
       "\n",
       "    consumo_llano  consumo_punta  total_actual  total_factura coste_valle  \\\n",
       "90           0.98             63           150      32.383244    3.764700   \n",
       "41           0.98             63           150      36.520833    4.923900   \n",
       "6            0.98             63           150      39.299007    1.350000   \n",
       "44           0.98             63           150      41.916617    6.075000   \n",
       "8            0.98             63           150      42.553331    4.499955   \n",
       "\n",
       "   coste_llano  coste_punta  \n",
       "90    0.111373    10.141173  \n",
       "41    0.107232     6.893460  \n",
       "6     0.195999    12.599937  \n",
       "44    0.132300     8.505000  \n",
       "8     0.164860    10.598175  \n",
       "\n",
       "[5 rows x 32 columns]"
      ]
     },
     "execution_count": 110,
     "metadata": {},
     "output_type": "execute_result"
    }
   ],
   "source": [
    "trf_grf"
   ]
  },
  {
   "cell_type": "code",
   "execution_count": 111,
   "metadata": {},
   "outputs": [
    {
     "data": {
      "application/vnd.plotly.v1+json": {
       "config": {
        "plotlyServerURL": "https://plot.ly"
       },
       "data": [
        {
         "alignmentgroup": "True",
         "customdata": [
          [
           32.3832437251488,
           "Iberdrola"
          ],
          [
           36.52083338321,
           "Iberdrola"
          ],
          [
           39.2990073994562,
           "Iberdrola"
          ],
          [
           41.916617330544,
           "Iberdrola"
          ],
          [
           42.553331193549,
           "Iberdrola"
          ]
         ],
         "hovertemplate": "<b>Compañia:</b> %{customdata[1]} <br><b>Tarifa:</b> %{x} <br><b>Coste en tramo:</b> %{y:.2f} <br><b>Total factura:</b> %{customdata[0]:.2f}<extra></extra>",
         "legendgroup": "coste_valle",
         "marker": {
          "color": "#F29D52",
          "pattern": {
           "shape": ""
          }
         },
         "name": "Coste Valle",
         "offsetgroup": "coste_valle",
         "orientation": "v",
         "showlegend": true,
         "textposition": "auto",
         "type": "bar",
         "x": [
          "Plan Online 3 Periodos",
          "Plan Online",
          "Plan Vehiculo Electrico",
          "Plan Estable",
          "Plan Ahorro Inteligente"
         ],
         "xaxis": "x",
         "y": [
          3.7647,
          4.9239,
          1.35,
          6.075,
          4.499955
         ],
         "yaxis": "y"
        },
        {
         "alignmentgroup": "True",
         "customdata": [
          [
           32.3832437251488,
           "Iberdrola"
          ],
          [
           36.52083338321,
           "Iberdrola"
          ],
          [
           39.2990073994562,
           "Iberdrola"
          ],
          [
           41.916617330544,
           "Iberdrola"
          ],
          [
           42.553331193549,
           "Iberdrola"
          ]
         ],
         "hovertemplate": "<b>Compañia:</b> %{customdata[1]} <br><b>Tarifa:</b> %{x} <br><b>Coste en tramo:</b> %{y:.2f} <br><b>Total factura:</b> %{customdata[0]:.2f}<extra></extra>",
         "legendgroup": "coste_llano",
         "marker": {
          "color": "#F2C572",
          "pattern": {
           "shape": ""
          }
         },
         "name": "Coste Llano",
         "offsetgroup": "coste_llano",
         "orientation": "v",
         "showlegend": true,
         "textposition": "auto",
         "type": "bar",
         "x": [
          "Plan Online 3 Periodos",
          "Plan Online",
          "Plan Vehiculo Electrico",
          "Plan Estable",
          "Plan Ahorro Inteligente"
         ],
         "xaxis": "x",
         "y": [
          0.11137308,
          0.1072316,
          0.19599902,
          0.1323,
          0.1648605
         ],
         "yaxis": "y"
        },
        {
         "alignmentgroup": "True",
         "customdata": [
          [
           32.3832437251488,
           "Iberdrola"
          ],
          [
           36.52083338321,
           "Iberdrola"
          ],
          [
           39.2990073994562,
           "Iberdrola"
          ],
          [
           41.916617330544,
           "Iberdrola"
          ],
          [
           42.553331193549,
           "Iberdrola"
          ]
         ],
         "hovertemplate": "<b>Compañia:</b> %{customdata[1]} <br><b>Tarifa:</b> %{x} <br><b>Coste en tramo:</b> %{y:.2f} <br><b>Total factura:</b> %{customdata[0]:.2f}<extra></extra>",
         "legendgroup": "coste_punta",
         "marker": {
          "color": "#F2EAC2",
          "pattern": {
           "shape": ""
          }
         },
         "name": "Coste Punta",
         "offsetgroup": "coste_punta",
         "orientation": "v",
         "showlegend": true,
         "textposition": "auto",
         "type": "bar",
         "x": [
          "Plan Online 3 Periodos",
          "Plan Online",
          "Plan Vehiculo Electrico",
          "Plan Estable",
          "Plan Ahorro Inteligente"
         ],
         "xaxis": "x",
         "y": [
          10.141173,
          6.89346,
          12.599937,
          8.505,
          10.598175
         ],
         "yaxis": "y"
        }
       ],
       "layout": {
        "barmode": "relative",
        "legend": {
         "title": {
          "text": "Rango"
         },
         "tracegroupgap": 0,
         "x": 0.005,
         "xanchor": "left",
         "y": 0.96,
         "yanchor": "top"
        },
        "margin": {
         "t": 60
        },
        "template": {
         "data": {
          "bar": [
           {
            "error_x": {
             "color": "#2a3f5f"
            },
            "error_y": {
             "color": "#2a3f5f"
            },
            "marker": {
             "line": {
              "color": "#E5ECF6",
              "width": 0.5
             },
             "pattern": {
              "fillmode": "overlay",
              "size": 10,
              "solidity": 0.2
             }
            },
            "type": "bar"
           }
          ],
          "barpolar": [
           {
            "marker": {
             "line": {
              "color": "#E5ECF6",
              "width": 0.5
             },
             "pattern": {
              "fillmode": "overlay",
              "size": 10,
              "solidity": 0.2
             }
            },
            "type": "barpolar"
           }
          ],
          "carpet": [
           {
            "aaxis": {
             "endlinecolor": "#2a3f5f",
             "gridcolor": "white",
             "linecolor": "white",
             "minorgridcolor": "white",
             "startlinecolor": "#2a3f5f"
            },
            "baxis": {
             "endlinecolor": "#2a3f5f",
             "gridcolor": "white",
             "linecolor": "white",
             "minorgridcolor": "white",
             "startlinecolor": "#2a3f5f"
            },
            "type": "carpet"
           }
          ],
          "choropleth": [
           {
            "colorbar": {
             "outlinewidth": 0,
             "ticks": ""
            },
            "type": "choropleth"
           }
          ],
          "contour": [
           {
            "colorbar": {
             "outlinewidth": 0,
             "ticks": ""
            },
            "colorscale": [
             [
              0,
              "#0d0887"
             ],
             [
              0.1111111111111111,
              "#46039f"
             ],
             [
              0.2222222222222222,
              "#7201a8"
             ],
             [
              0.3333333333333333,
              "#9c179e"
             ],
             [
              0.4444444444444444,
              "#bd3786"
             ],
             [
              0.5555555555555556,
              "#d8576b"
             ],
             [
              0.6666666666666666,
              "#ed7953"
             ],
             [
              0.7777777777777778,
              "#fb9f3a"
             ],
             [
              0.8888888888888888,
              "#fdca26"
             ],
             [
              1,
              "#f0f921"
             ]
            ],
            "type": "contour"
           }
          ],
          "contourcarpet": [
           {
            "colorbar": {
             "outlinewidth": 0,
             "ticks": ""
            },
            "type": "contourcarpet"
           }
          ],
          "heatmap": [
           {
            "colorbar": {
             "outlinewidth": 0,
             "ticks": ""
            },
            "colorscale": [
             [
              0,
              "#0d0887"
             ],
             [
              0.1111111111111111,
              "#46039f"
             ],
             [
              0.2222222222222222,
              "#7201a8"
             ],
             [
              0.3333333333333333,
              "#9c179e"
             ],
             [
              0.4444444444444444,
              "#bd3786"
             ],
             [
              0.5555555555555556,
              "#d8576b"
             ],
             [
              0.6666666666666666,
              "#ed7953"
             ],
             [
              0.7777777777777778,
              "#fb9f3a"
             ],
             [
              0.8888888888888888,
              "#fdca26"
             ],
             [
              1,
              "#f0f921"
             ]
            ],
            "type": "heatmap"
           }
          ],
          "heatmapgl": [
           {
            "colorbar": {
             "outlinewidth": 0,
             "ticks": ""
            },
            "colorscale": [
             [
              0,
              "#0d0887"
             ],
             [
              0.1111111111111111,
              "#46039f"
             ],
             [
              0.2222222222222222,
              "#7201a8"
             ],
             [
              0.3333333333333333,
              "#9c179e"
             ],
             [
              0.4444444444444444,
              "#bd3786"
             ],
             [
              0.5555555555555556,
              "#d8576b"
             ],
             [
              0.6666666666666666,
              "#ed7953"
             ],
             [
              0.7777777777777778,
              "#fb9f3a"
             ],
             [
              0.8888888888888888,
              "#fdca26"
             ],
             [
              1,
              "#f0f921"
             ]
            ],
            "type": "heatmapgl"
           }
          ],
          "histogram": [
           {
            "marker": {
             "pattern": {
              "fillmode": "overlay",
              "size": 10,
              "solidity": 0.2
             }
            },
            "type": "histogram"
           }
          ],
          "histogram2d": [
           {
            "colorbar": {
             "outlinewidth": 0,
             "ticks": ""
            },
            "colorscale": [
             [
              0,
              "#0d0887"
             ],
             [
              0.1111111111111111,
              "#46039f"
             ],
             [
              0.2222222222222222,
              "#7201a8"
             ],
             [
              0.3333333333333333,
              "#9c179e"
             ],
             [
              0.4444444444444444,
              "#bd3786"
             ],
             [
              0.5555555555555556,
              "#d8576b"
             ],
             [
              0.6666666666666666,
              "#ed7953"
             ],
             [
              0.7777777777777778,
              "#fb9f3a"
             ],
             [
              0.8888888888888888,
              "#fdca26"
             ],
             [
              1,
              "#f0f921"
             ]
            ],
            "type": "histogram2d"
           }
          ],
          "histogram2dcontour": [
           {
            "colorbar": {
             "outlinewidth": 0,
             "ticks": ""
            },
            "colorscale": [
             [
              0,
              "#0d0887"
             ],
             [
              0.1111111111111111,
              "#46039f"
             ],
             [
              0.2222222222222222,
              "#7201a8"
             ],
             [
              0.3333333333333333,
              "#9c179e"
             ],
             [
              0.4444444444444444,
              "#bd3786"
             ],
             [
              0.5555555555555556,
              "#d8576b"
             ],
             [
              0.6666666666666666,
              "#ed7953"
             ],
             [
              0.7777777777777778,
              "#fb9f3a"
             ],
             [
              0.8888888888888888,
              "#fdca26"
             ],
             [
              1,
              "#f0f921"
             ]
            ],
            "type": "histogram2dcontour"
           }
          ],
          "mesh3d": [
           {
            "colorbar": {
             "outlinewidth": 0,
             "ticks": ""
            },
            "type": "mesh3d"
           }
          ],
          "parcoords": [
           {
            "line": {
             "colorbar": {
              "outlinewidth": 0,
              "ticks": ""
             }
            },
            "type": "parcoords"
           }
          ],
          "pie": [
           {
            "automargin": true,
            "type": "pie"
           }
          ],
          "scatter": [
           {
            "fillpattern": {
             "fillmode": "overlay",
             "size": 10,
             "solidity": 0.2
            },
            "type": "scatter"
           }
          ],
          "scatter3d": [
           {
            "line": {
             "colorbar": {
              "outlinewidth": 0,
              "ticks": ""
             }
            },
            "marker": {
             "colorbar": {
              "outlinewidth": 0,
              "ticks": ""
             }
            },
            "type": "scatter3d"
           }
          ],
          "scattercarpet": [
           {
            "marker": {
             "colorbar": {
              "outlinewidth": 0,
              "ticks": ""
             }
            },
            "type": "scattercarpet"
           }
          ],
          "scattergeo": [
           {
            "marker": {
             "colorbar": {
              "outlinewidth": 0,
              "ticks": ""
             }
            },
            "type": "scattergeo"
           }
          ],
          "scattergl": [
           {
            "marker": {
             "colorbar": {
              "outlinewidth": 0,
              "ticks": ""
             }
            },
            "type": "scattergl"
           }
          ],
          "scattermapbox": [
           {
            "marker": {
             "colorbar": {
              "outlinewidth": 0,
              "ticks": ""
             }
            },
            "type": "scattermapbox"
           }
          ],
          "scatterpolar": [
           {
            "marker": {
             "colorbar": {
              "outlinewidth": 0,
              "ticks": ""
             }
            },
            "type": "scatterpolar"
           }
          ],
          "scatterpolargl": [
           {
            "marker": {
             "colorbar": {
              "outlinewidth": 0,
              "ticks": ""
             }
            },
            "type": "scatterpolargl"
           }
          ],
          "scatterternary": [
           {
            "marker": {
             "colorbar": {
              "outlinewidth": 0,
              "ticks": ""
             }
            },
            "type": "scatterternary"
           }
          ],
          "surface": [
           {
            "colorbar": {
             "outlinewidth": 0,
             "ticks": ""
            },
            "colorscale": [
             [
              0,
              "#0d0887"
             ],
             [
              0.1111111111111111,
              "#46039f"
             ],
             [
              0.2222222222222222,
              "#7201a8"
             ],
             [
              0.3333333333333333,
              "#9c179e"
             ],
             [
              0.4444444444444444,
              "#bd3786"
             ],
             [
              0.5555555555555556,
              "#d8576b"
             ],
             [
              0.6666666666666666,
              "#ed7953"
             ],
             [
              0.7777777777777778,
              "#fb9f3a"
             ],
             [
              0.8888888888888888,
              "#fdca26"
             ],
             [
              1,
              "#f0f921"
             ]
            ],
            "type": "surface"
           }
          ],
          "table": [
           {
            "cells": {
             "fill": {
              "color": "#EBF0F8"
             },
             "line": {
              "color": "white"
             }
            },
            "header": {
             "fill": {
              "color": "#C8D4E3"
             },
             "line": {
              "color": "white"
             }
            },
            "type": "table"
           }
          ]
         },
         "layout": {
          "annotationdefaults": {
           "arrowcolor": "#2a3f5f",
           "arrowhead": 0,
           "arrowwidth": 1
          },
          "autotypenumbers": "strict",
          "coloraxis": {
           "colorbar": {
            "outlinewidth": 0,
            "ticks": ""
           }
          },
          "colorscale": {
           "diverging": [
            [
             0,
             "#8e0152"
            ],
            [
             0.1,
             "#c51b7d"
            ],
            [
             0.2,
             "#de77ae"
            ],
            [
             0.3,
             "#f1b6da"
            ],
            [
             0.4,
             "#fde0ef"
            ],
            [
             0.5,
             "#f7f7f7"
            ],
            [
             0.6,
             "#e6f5d0"
            ],
            [
             0.7,
             "#b8e186"
            ],
            [
             0.8,
             "#7fbc41"
            ],
            [
             0.9,
             "#4d9221"
            ],
            [
             1,
             "#276419"
            ]
           ],
           "sequential": [
            [
             0,
             "#0d0887"
            ],
            [
             0.1111111111111111,
             "#46039f"
            ],
            [
             0.2222222222222222,
             "#7201a8"
            ],
            [
             0.3333333333333333,
             "#9c179e"
            ],
            [
             0.4444444444444444,
             "#bd3786"
            ],
            [
             0.5555555555555556,
             "#d8576b"
            ],
            [
             0.6666666666666666,
             "#ed7953"
            ],
            [
             0.7777777777777778,
             "#fb9f3a"
            ],
            [
             0.8888888888888888,
             "#fdca26"
            ],
            [
             1,
             "#f0f921"
            ]
           ],
           "sequentialminus": [
            [
             0,
             "#0d0887"
            ],
            [
             0.1111111111111111,
             "#46039f"
            ],
            [
             0.2222222222222222,
             "#7201a8"
            ],
            [
             0.3333333333333333,
             "#9c179e"
            ],
            [
             0.4444444444444444,
             "#bd3786"
            ],
            [
             0.5555555555555556,
             "#d8576b"
            ],
            [
             0.6666666666666666,
             "#ed7953"
            ],
            [
             0.7777777777777778,
             "#fb9f3a"
            ],
            [
             0.8888888888888888,
             "#fdca26"
            ],
            [
             1,
             "#f0f921"
            ]
           ]
          },
          "colorway": [
           "#636efa",
           "#EF553B",
           "#00cc96",
           "#ab63fa",
           "#FFA15A",
           "#19d3f3",
           "#FF6692",
           "#B6E880",
           "#FF97FF",
           "#FECB52"
          ],
          "font": {
           "color": "#2a3f5f"
          },
          "geo": {
           "bgcolor": "white",
           "lakecolor": "white",
           "landcolor": "#E5ECF6",
           "showlakes": true,
           "showland": true,
           "subunitcolor": "white"
          },
          "hoverlabel": {
           "align": "left"
          },
          "hovermode": "closest",
          "mapbox": {
           "style": "light"
          },
          "paper_bgcolor": "white",
          "plot_bgcolor": "#E5ECF6",
          "polar": {
           "angularaxis": {
            "gridcolor": "white",
            "linecolor": "white",
            "ticks": ""
           },
           "bgcolor": "#E5ECF6",
           "radialaxis": {
            "gridcolor": "white",
            "linecolor": "white",
            "ticks": ""
           }
          },
          "scene": {
           "xaxis": {
            "backgroundcolor": "#E5ECF6",
            "gridcolor": "white",
            "gridwidth": 2,
            "linecolor": "white",
            "showbackground": true,
            "ticks": "",
            "zerolinecolor": "white"
           },
           "yaxis": {
            "backgroundcolor": "#E5ECF6",
            "gridcolor": "white",
            "gridwidth": 2,
            "linecolor": "white",
            "showbackground": true,
            "ticks": "",
            "zerolinecolor": "white"
           },
           "zaxis": {
            "backgroundcolor": "#E5ECF6",
            "gridcolor": "white",
            "gridwidth": 2,
            "linecolor": "white",
            "showbackground": true,
            "ticks": "",
            "zerolinecolor": "white"
           }
          },
          "shapedefaults": {
           "line": {
            "color": "#2a3f5f"
           }
          },
          "ternary": {
           "aaxis": {
            "gridcolor": "white",
            "linecolor": "white",
            "ticks": ""
           },
           "baxis": {
            "gridcolor": "white",
            "linecolor": "white",
            "ticks": ""
           },
           "bgcolor": "#E5ECF6",
           "caxis": {
            "gridcolor": "white",
            "linecolor": "white",
            "ticks": ""
           }
          },
          "title": {
           "x": 0.05
          },
          "xaxis": {
           "automargin": true,
           "gridcolor": "white",
           "linecolor": "white",
           "ticks": "",
           "title": {
            "standoff": 15
           },
           "zerolinecolor": "white",
           "zerolinewidth": 2
          },
          "yaxis": {
           "automargin": true,
           "gridcolor": "white",
           "linecolor": "white",
           "ticks": "",
           "title": {
            "standoff": 15
           },
           "zerolinecolor": "white",
           "zerolinewidth": 2
          }
         }
        },
        "title": {
         "text": "Comparativa compañias más baratas",
         "x": 0.5,
         "xanchor": "center",
         "y": 0.95,
         "yanchor": "top"
        },
        "xaxis": {
         "anchor": "y",
         "domain": [
          0,
          1
         ],
         "title": {
          "text": "tarifa"
         }
        },
        "yaxis": {
         "anchor": "x",
         "domain": [
          0,
          1
         ],
         "title": {
          "text": "Coste por tramos"
         }
        }
       }
      }
     },
     "metadata": {},
     "output_type": "display_data"
    }
   ],
   "source": [
    "import plotly.express as px\n",
    "\n",
    "fig = px.bar(\n",
    "  trf_grf, \n",
    "  x=\"tarifa\", \n",
    "  y=[\"coste_valle\", \"coste_llano\", \"coste_punta\"], \n",
    "  color_discrete_map={\n",
    "    'coste_valle': '#F29D52',\n",
    "    'coste_llano': '#F2C572',\n",
    "    'coste_punta': '#F2EAC2'\n",
    "    },\n",
    "  labels={\"compania\": \"Compañía\", \"value\": \"Coste por tramos\"},\n",
    "  custom_data=['total_factura','compania']\n",
    ")\n",
    "fig.update_traces(hovertemplate=('<b>Compañia:</b> %{customdata[1]} <br><b>Tarifa:</b> %{x} <br><b>Coste en tramo:</b> %{y:.2f} <br><b>Total factura:</b> %{customdata[0]:.2f}')+\"<extra></extra>\")\n",
    "fig.update_layout(legend=dict(\n",
    "    yanchor=\"top\",\n",
    "    y=0.96,\n",
    "    xanchor=\"left\",\n",
    "    x=0.005,\n",
    "    title=\"Rango\"\n",
    "),\n",
    "title={\n",
    "        'text': \"Comparativa compañias más baratas\",\n",
    "        'y':0.95,\n",
    "        'x':0.5,\n",
    "        'xanchor': 'center',\n",
    "        'yanchor': 'top'})\n",
    "fig.update_traces({'name': 'Coste Valle'}, selector={'name': 'coste_valle'})\n",
    "fig.update_traces({'name': 'Coste Llano'}, selector={'name': 'coste_llano'})\n",
    "fig.update_traces({'name': 'Coste Punta'}, selector={'name': 'coste_punta'})\n",
    "fig.show()"
   ]
  },
  {
   "cell_type": "code",
   "execution_count": 112,
   "metadata": {},
   "outputs": [
    {
     "data": {
      "application/vnd.plotly.v1+json": {
       "config": {
        "plotlyServerURL": "https://plot.ly"
       },
       "data": [
        {
         "alignmentgroup": "True",
         "customdata": [
          [
           "Iberdrola"
          ],
          [
           "Iberdrola"
          ],
          [
           "Iberdrola"
          ],
          [
           "Iberdrola"
          ],
          [
           "Iberdrola"
          ]
         ],
         "hovertemplate": "<b>Compañia:</b> %{customdata[0]} <br><b>Tarifa:</b> %{x} <br><b>Precio factura:</b> %{y:.2f}",
         "legendgroup": "",
         "marker": {
          "color": [
           32.3832437251488,
           36.52083338321,
           39.2990073994562,
           41.916617330544,
           42.553331193549
          ],
          "coloraxis": "coloraxis",
          "pattern": {
           "shape": ""
          }
         },
         "name": "",
         "offsetgroup": "",
         "orientation": "v",
         "showlegend": false,
         "textposition": "auto",
         "type": "bar",
         "x": [
          "Plan Online 3 Periodos",
          "Plan Online",
          "Plan Vehiculo Electrico",
          "Plan Estable",
          "Plan Ahorro Inteligente"
         ],
         "xaxis": "x",
         "y": [
          32.3832437251488,
          36.52083338321,
          39.2990073994562,
          41.916617330544,
          42.553331193549
         ],
         "yaxis": "y"
        }
       ],
       "layout": {
        "barmode": "relative",
        "coloraxis": {
         "colorbar": {
          "title": {
           "text": "Precio factura"
          }
         },
         "colorscale": [
          [
           0,
           "rgb(243, 231, 155)"
          ],
          [
           0.16666666666666666,
           "rgb(250, 196, 132)"
          ],
          [
           0.3333333333333333,
           "rgb(248, 160, 126)"
          ],
          [
           0.5,
           "rgb(235, 127, 134)"
          ],
          [
           0.6666666666666666,
           "rgb(206, 102, 147)"
          ],
          [
           0.8333333333333334,
           "rgb(160, 89, 160)"
          ],
          [
           1,
           "rgb(92, 83, 165)"
          ]
         ],
         "showscale": false
        },
        "legend": {
         "tracegroupgap": 0
        },
        "margin": {
         "t": 60
        },
        "template": {
         "data": {
          "bar": [
           {
            "error_x": {
             "color": "#2a3f5f"
            },
            "error_y": {
             "color": "#2a3f5f"
            },
            "marker": {
             "line": {
              "color": "#E5ECF6",
              "width": 0.5
             },
             "pattern": {
              "fillmode": "overlay",
              "size": 10,
              "solidity": 0.2
             }
            },
            "type": "bar"
           }
          ],
          "barpolar": [
           {
            "marker": {
             "line": {
              "color": "#E5ECF6",
              "width": 0.5
             },
             "pattern": {
              "fillmode": "overlay",
              "size": 10,
              "solidity": 0.2
             }
            },
            "type": "barpolar"
           }
          ],
          "carpet": [
           {
            "aaxis": {
             "endlinecolor": "#2a3f5f",
             "gridcolor": "white",
             "linecolor": "white",
             "minorgridcolor": "white",
             "startlinecolor": "#2a3f5f"
            },
            "baxis": {
             "endlinecolor": "#2a3f5f",
             "gridcolor": "white",
             "linecolor": "white",
             "minorgridcolor": "white",
             "startlinecolor": "#2a3f5f"
            },
            "type": "carpet"
           }
          ],
          "choropleth": [
           {
            "colorbar": {
             "outlinewidth": 0,
             "ticks": ""
            },
            "type": "choropleth"
           }
          ],
          "contour": [
           {
            "colorbar": {
             "outlinewidth": 0,
             "ticks": ""
            },
            "colorscale": [
             [
              0,
              "#0d0887"
             ],
             [
              0.1111111111111111,
              "#46039f"
             ],
             [
              0.2222222222222222,
              "#7201a8"
             ],
             [
              0.3333333333333333,
              "#9c179e"
             ],
             [
              0.4444444444444444,
              "#bd3786"
             ],
             [
              0.5555555555555556,
              "#d8576b"
             ],
             [
              0.6666666666666666,
              "#ed7953"
             ],
             [
              0.7777777777777778,
              "#fb9f3a"
             ],
             [
              0.8888888888888888,
              "#fdca26"
             ],
             [
              1,
              "#f0f921"
             ]
            ],
            "type": "contour"
           }
          ],
          "contourcarpet": [
           {
            "colorbar": {
             "outlinewidth": 0,
             "ticks": ""
            },
            "type": "contourcarpet"
           }
          ],
          "heatmap": [
           {
            "colorbar": {
             "outlinewidth": 0,
             "ticks": ""
            },
            "colorscale": [
             [
              0,
              "#0d0887"
             ],
             [
              0.1111111111111111,
              "#46039f"
             ],
             [
              0.2222222222222222,
              "#7201a8"
             ],
             [
              0.3333333333333333,
              "#9c179e"
             ],
             [
              0.4444444444444444,
              "#bd3786"
             ],
             [
              0.5555555555555556,
              "#d8576b"
             ],
             [
              0.6666666666666666,
              "#ed7953"
             ],
             [
              0.7777777777777778,
              "#fb9f3a"
             ],
             [
              0.8888888888888888,
              "#fdca26"
             ],
             [
              1,
              "#f0f921"
             ]
            ],
            "type": "heatmap"
           }
          ],
          "heatmapgl": [
           {
            "colorbar": {
             "outlinewidth": 0,
             "ticks": ""
            },
            "colorscale": [
             [
              0,
              "#0d0887"
             ],
             [
              0.1111111111111111,
              "#46039f"
             ],
             [
              0.2222222222222222,
              "#7201a8"
             ],
             [
              0.3333333333333333,
              "#9c179e"
             ],
             [
              0.4444444444444444,
              "#bd3786"
             ],
             [
              0.5555555555555556,
              "#d8576b"
             ],
             [
              0.6666666666666666,
              "#ed7953"
             ],
             [
              0.7777777777777778,
              "#fb9f3a"
             ],
             [
              0.8888888888888888,
              "#fdca26"
             ],
             [
              1,
              "#f0f921"
             ]
            ],
            "type": "heatmapgl"
           }
          ],
          "histogram": [
           {
            "marker": {
             "pattern": {
              "fillmode": "overlay",
              "size": 10,
              "solidity": 0.2
             }
            },
            "type": "histogram"
           }
          ],
          "histogram2d": [
           {
            "colorbar": {
             "outlinewidth": 0,
             "ticks": ""
            },
            "colorscale": [
             [
              0,
              "#0d0887"
             ],
             [
              0.1111111111111111,
              "#46039f"
             ],
             [
              0.2222222222222222,
              "#7201a8"
             ],
             [
              0.3333333333333333,
              "#9c179e"
             ],
             [
              0.4444444444444444,
              "#bd3786"
             ],
             [
              0.5555555555555556,
              "#d8576b"
             ],
             [
              0.6666666666666666,
              "#ed7953"
             ],
             [
              0.7777777777777778,
              "#fb9f3a"
             ],
             [
              0.8888888888888888,
              "#fdca26"
             ],
             [
              1,
              "#f0f921"
             ]
            ],
            "type": "histogram2d"
           }
          ],
          "histogram2dcontour": [
           {
            "colorbar": {
             "outlinewidth": 0,
             "ticks": ""
            },
            "colorscale": [
             [
              0,
              "#0d0887"
             ],
             [
              0.1111111111111111,
              "#46039f"
             ],
             [
              0.2222222222222222,
              "#7201a8"
             ],
             [
              0.3333333333333333,
              "#9c179e"
             ],
             [
              0.4444444444444444,
              "#bd3786"
             ],
             [
              0.5555555555555556,
              "#d8576b"
             ],
             [
              0.6666666666666666,
              "#ed7953"
             ],
             [
              0.7777777777777778,
              "#fb9f3a"
             ],
             [
              0.8888888888888888,
              "#fdca26"
             ],
             [
              1,
              "#f0f921"
             ]
            ],
            "type": "histogram2dcontour"
           }
          ],
          "mesh3d": [
           {
            "colorbar": {
             "outlinewidth": 0,
             "ticks": ""
            },
            "type": "mesh3d"
           }
          ],
          "parcoords": [
           {
            "line": {
             "colorbar": {
              "outlinewidth": 0,
              "ticks": ""
             }
            },
            "type": "parcoords"
           }
          ],
          "pie": [
           {
            "automargin": true,
            "type": "pie"
           }
          ],
          "scatter": [
           {
            "fillpattern": {
             "fillmode": "overlay",
             "size": 10,
             "solidity": 0.2
            },
            "type": "scatter"
           }
          ],
          "scatter3d": [
           {
            "line": {
             "colorbar": {
              "outlinewidth": 0,
              "ticks": ""
             }
            },
            "marker": {
             "colorbar": {
              "outlinewidth": 0,
              "ticks": ""
             }
            },
            "type": "scatter3d"
           }
          ],
          "scattercarpet": [
           {
            "marker": {
             "colorbar": {
              "outlinewidth": 0,
              "ticks": ""
             }
            },
            "type": "scattercarpet"
           }
          ],
          "scattergeo": [
           {
            "marker": {
             "colorbar": {
              "outlinewidth": 0,
              "ticks": ""
             }
            },
            "type": "scattergeo"
           }
          ],
          "scattergl": [
           {
            "marker": {
             "colorbar": {
              "outlinewidth": 0,
              "ticks": ""
             }
            },
            "type": "scattergl"
           }
          ],
          "scattermapbox": [
           {
            "marker": {
             "colorbar": {
              "outlinewidth": 0,
              "ticks": ""
             }
            },
            "type": "scattermapbox"
           }
          ],
          "scatterpolar": [
           {
            "marker": {
             "colorbar": {
              "outlinewidth": 0,
              "ticks": ""
             }
            },
            "type": "scatterpolar"
           }
          ],
          "scatterpolargl": [
           {
            "marker": {
             "colorbar": {
              "outlinewidth": 0,
              "ticks": ""
             }
            },
            "type": "scatterpolargl"
           }
          ],
          "scatterternary": [
           {
            "marker": {
             "colorbar": {
              "outlinewidth": 0,
              "ticks": ""
             }
            },
            "type": "scatterternary"
           }
          ],
          "surface": [
           {
            "colorbar": {
             "outlinewidth": 0,
             "ticks": ""
            },
            "colorscale": [
             [
              0,
              "#0d0887"
             ],
             [
              0.1111111111111111,
              "#46039f"
             ],
             [
              0.2222222222222222,
              "#7201a8"
             ],
             [
              0.3333333333333333,
              "#9c179e"
             ],
             [
              0.4444444444444444,
              "#bd3786"
             ],
             [
              0.5555555555555556,
              "#d8576b"
             ],
             [
              0.6666666666666666,
              "#ed7953"
             ],
             [
              0.7777777777777778,
              "#fb9f3a"
             ],
             [
              0.8888888888888888,
              "#fdca26"
             ],
             [
              1,
              "#f0f921"
             ]
            ],
            "type": "surface"
           }
          ],
          "table": [
           {
            "cells": {
             "fill": {
              "color": "#EBF0F8"
             },
             "line": {
              "color": "white"
             }
            },
            "header": {
             "fill": {
              "color": "#C8D4E3"
             },
             "line": {
              "color": "white"
             }
            },
            "type": "table"
           }
          ]
         },
         "layout": {
          "annotationdefaults": {
           "arrowcolor": "#2a3f5f",
           "arrowhead": 0,
           "arrowwidth": 1
          },
          "autotypenumbers": "strict",
          "coloraxis": {
           "colorbar": {
            "outlinewidth": 0,
            "ticks": ""
           }
          },
          "colorscale": {
           "diverging": [
            [
             0,
             "#8e0152"
            ],
            [
             0.1,
             "#c51b7d"
            ],
            [
             0.2,
             "#de77ae"
            ],
            [
             0.3,
             "#f1b6da"
            ],
            [
             0.4,
             "#fde0ef"
            ],
            [
             0.5,
             "#f7f7f7"
            ],
            [
             0.6,
             "#e6f5d0"
            ],
            [
             0.7,
             "#b8e186"
            ],
            [
             0.8,
             "#7fbc41"
            ],
            [
             0.9,
             "#4d9221"
            ],
            [
             1,
             "#276419"
            ]
           ],
           "sequential": [
            [
             0,
             "#0d0887"
            ],
            [
             0.1111111111111111,
             "#46039f"
            ],
            [
             0.2222222222222222,
             "#7201a8"
            ],
            [
             0.3333333333333333,
             "#9c179e"
            ],
            [
             0.4444444444444444,
             "#bd3786"
            ],
            [
             0.5555555555555556,
             "#d8576b"
            ],
            [
             0.6666666666666666,
             "#ed7953"
            ],
            [
             0.7777777777777778,
             "#fb9f3a"
            ],
            [
             0.8888888888888888,
             "#fdca26"
            ],
            [
             1,
             "#f0f921"
            ]
           ],
           "sequentialminus": [
            [
             0,
             "#0d0887"
            ],
            [
             0.1111111111111111,
             "#46039f"
            ],
            [
             0.2222222222222222,
             "#7201a8"
            ],
            [
             0.3333333333333333,
             "#9c179e"
            ],
            [
             0.4444444444444444,
             "#bd3786"
            ],
            [
             0.5555555555555556,
             "#d8576b"
            ],
            [
             0.6666666666666666,
             "#ed7953"
            ],
            [
             0.7777777777777778,
             "#fb9f3a"
            ],
            [
             0.8888888888888888,
             "#fdca26"
            ],
            [
             1,
             "#f0f921"
            ]
           ]
          },
          "colorway": [
           "#636efa",
           "#EF553B",
           "#00cc96",
           "#ab63fa",
           "#FFA15A",
           "#19d3f3",
           "#FF6692",
           "#B6E880",
           "#FF97FF",
           "#FECB52"
          ],
          "font": {
           "color": "#2a3f5f"
          },
          "geo": {
           "bgcolor": "white",
           "lakecolor": "white",
           "landcolor": "#E5ECF6",
           "showlakes": true,
           "showland": true,
           "subunitcolor": "white"
          },
          "hoverlabel": {
           "align": "left"
          },
          "hovermode": "closest",
          "mapbox": {
           "style": "light"
          },
          "paper_bgcolor": "white",
          "plot_bgcolor": "#E5ECF6",
          "polar": {
           "angularaxis": {
            "gridcolor": "white",
            "linecolor": "white",
            "ticks": ""
           },
           "bgcolor": "#E5ECF6",
           "radialaxis": {
            "gridcolor": "white",
            "linecolor": "white",
            "ticks": ""
           }
          },
          "scene": {
           "xaxis": {
            "backgroundcolor": "#E5ECF6",
            "gridcolor": "white",
            "gridwidth": 2,
            "linecolor": "white",
            "showbackground": true,
            "ticks": "",
            "zerolinecolor": "white"
           },
           "yaxis": {
            "backgroundcolor": "#E5ECF6",
            "gridcolor": "white",
            "gridwidth": 2,
            "linecolor": "white",
            "showbackground": true,
            "ticks": "",
            "zerolinecolor": "white"
           },
           "zaxis": {
            "backgroundcolor": "#E5ECF6",
            "gridcolor": "white",
            "gridwidth": 2,
            "linecolor": "white",
            "showbackground": true,
            "ticks": "",
            "zerolinecolor": "white"
           }
          },
          "shapedefaults": {
           "line": {
            "color": "#2a3f5f"
           }
          },
          "ternary": {
           "aaxis": {
            "gridcolor": "white",
            "linecolor": "white",
            "ticks": ""
           },
           "baxis": {
            "gridcolor": "white",
            "linecolor": "white",
            "ticks": ""
           },
           "bgcolor": "#E5ECF6",
           "caxis": {
            "gridcolor": "white",
            "linecolor": "white",
            "ticks": ""
           }
          },
          "title": {
           "x": 0.05
          },
          "xaxis": {
           "automargin": true,
           "gridcolor": "white",
           "linecolor": "white",
           "ticks": "",
           "title": {
            "standoff": 15
           },
           "zerolinecolor": "white",
           "zerolinewidth": 2
          },
          "yaxis": {
           "automargin": true,
           "gridcolor": "white",
           "linecolor": "white",
           "ticks": "",
           "title": {
            "standoff": 15
           },
           "zerolinecolor": "white",
           "zerolinewidth": 2
          }
         }
        },
        "title": {
         "text": "Comparativa compañias más baratas",
         "x": 0.5,
         "xanchor": "center",
         "y": 0.95,
         "yanchor": "top"
        },
        "xaxis": {
         "anchor": "y",
         "domain": [
          0,
          1
         ],
         "title": {
          "text": "Tarifas"
         }
        },
        "yaxis": {
         "anchor": "x",
         "domain": [
          0,
          1
         ],
         "range": [
          31,
          44
         ],
         "title": {
          "text": "Precio factura"
         }
        }
       }
      }
     },
     "metadata": {},
     "output_type": "display_data"
    }
   ],
   "source": [
    "fig1 = px.bar(\n",
    "  trf_grf, \n",
    "  x=\"tarifa\", \n",
    "  y=\"total_factura\", \n",
    "  color_continuous_scale='sunset',\n",
    "  color=\"total_factura\",\n",
    "  custom_data=['compania'],\n",
    "  labels={\"tarifa\": \"Tarifas\", \"total_factura\": \"Precio factura\"},\n",
    ")\n",
    "\n",
    "fig1.update_layout(\n",
    "  coloraxis_showscale=False, \n",
    "  yaxis_range=[round(trf_grf[\"total_factura\"].min() - 1, 0), round(trf_grf[\"total_factura\"].max() + 1)],\n",
    "  title={\n",
    "        'text': \"Comparativa compañias más baratas\",\n",
    "        'y':0.95,\n",
    "        'x':0.5,\n",
    "        'xanchor': 'center',\n",
    "        'yanchor': 'top'}\n",
    "  )\n",
    "fig1.update_traces(hovertemplate='<b>Compañia:</b> %{customdata[0]} <br><b>Tarifa:</b> %{x} <br><b>Precio factura:</b> %{y:.2f}')\n",
    "fig1.show()"
   ]
  },
  {
   "cell_type": "code",
   "execution_count": 115,
   "metadata": {},
   "outputs": [
    {
     "data": {
      "application/vnd.plotly.v1+json": {
       "config": {
        "plotlyServerURL": "https://plot.ly"
       },
       "data": [
        {
         "customdata": [
          [
           "Iberdrola"
          ],
          [
           "Iberdrola"
          ],
          [
           "Iberdrola"
          ],
          [
           "Iberdrola"
          ],
          [
           "Iberdrola"
          ],
          [
           "Iberdrola"
          ],
          [
           "Iberdrola"
          ],
          [
           "Iberdrola"
          ],
          [
           "Iberdrola"
          ],
          [
           "Iberdrola"
          ],
          [
           "Iberdrola"
          ],
          [
           "Iberdrola"
          ],
          [
           "Iberdrola"
          ]
         ],
         "hovertemplate": "<b>Compañia:</b> %{customdata[0]} <br><b>Tarifa:</b> %{x} <br><b>Precio factura:</b> %{y:.2f}",
         "legendgroup": "",
         "marker": {
          "color": [
           47.765166870344,
           48.25718047374401,
           44.246287983744,
           46.257399657744,
           46.545157202544,
           39.2990073994562,
           43.261107804332,
           42.553331193549,
           36.52083338321,
           42.924647456944,
           44.436692646544,
           41.916617330544,
           32.3832437251488
          ],
          "coloraxis": "coloraxis",
          "symbol": "circle"
         },
         "mode": "markers",
         "name": "",
         "orientation": "v",
         "showlegend": false,
         "type": "scatter",
         "x": [
          "Plan Elige 8 Horas",
          "Plan Noche",
          "Plan Familias",
          "Plan Verano",
          "Plan Invierno",
          "Plan Vehiculo Electrico",
          "Plan Solar",
          "Plan Ahorro Inteligente",
          "Plan Online",
          "Plan Mas Ahorro",
          "Plan Estable Verde",
          "Plan Estable",
          "Plan Online 3 Periodos"
         ],
         "xaxis": "x",
         "y": [
          47.765166870344,
          48.25718047374401,
          44.246287983744,
          46.257399657744,
          46.545157202544,
          39.2990073994562,
          43.261107804332,
          42.553331193549,
          36.52083338321,
          42.924647456944,
          44.436692646544,
          41.916617330544,
          32.3832437251488
         ],
         "yaxis": "y"
        }
       ],
       "layout": {
        "coloraxis": {
         "colorbar": {
          "title": {
           "text": "Precio factura"
          }
         },
         "colorscale": [
          [
           0,
           "rgb(243, 231, 155)"
          ],
          [
           0.16666666666666666,
           "rgb(250, 196, 132)"
          ],
          [
           0.3333333333333333,
           "rgb(248, 160, 126)"
          ],
          [
           0.5,
           "rgb(235, 127, 134)"
          ],
          [
           0.6666666666666666,
           "rgb(206, 102, 147)"
          ],
          [
           0.8333333333333334,
           "rgb(160, 89, 160)"
          ],
          [
           1,
           "rgb(92, 83, 165)"
          ]
         ],
         "showscale": false
        },
        "legend": {
         "tracegroupgap": 0
        },
        "margin": {
         "t": 60
        },
        "template": {
         "data": {
          "bar": [
           {
            "error_x": {
             "color": "#2a3f5f"
            },
            "error_y": {
             "color": "#2a3f5f"
            },
            "marker": {
             "line": {
              "color": "#E5ECF6",
              "width": 0.5
             },
             "pattern": {
              "fillmode": "overlay",
              "size": 10,
              "solidity": 0.2
             }
            },
            "type": "bar"
           }
          ],
          "barpolar": [
           {
            "marker": {
             "line": {
              "color": "#E5ECF6",
              "width": 0.5
             },
             "pattern": {
              "fillmode": "overlay",
              "size": 10,
              "solidity": 0.2
             }
            },
            "type": "barpolar"
           }
          ],
          "carpet": [
           {
            "aaxis": {
             "endlinecolor": "#2a3f5f",
             "gridcolor": "white",
             "linecolor": "white",
             "minorgridcolor": "white",
             "startlinecolor": "#2a3f5f"
            },
            "baxis": {
             "endlinecolor": "#2a3f5f",
             "gridcolor": "white",
             "linecolor": "white",
             "minorgridcolor": "white",
             "startlinecolor": "#2a3f5f"
            },
            "type": "carpet"
           }
          ],
          "choropleth": [
           {
            "colorbar": {
             "outlinewidth": 0,
             "ticks": ""
            },
            "type": "choropleth"
           }
          ],
          "contour": [
           {
            "colorbar": {
             "outlinewidth": 0,
             "ticks": ""
            },
            "colorscale": [
             [
              0,
              "#0d0887"
             ],
             [
              0.1111111111111111,
              "#46039f"
             ],
             [
              0.2222222222222222,
              "#7201a8"
             ],
             [
              0.3333333333333333,
              "#9c179e"
             ],
             [
              0.4444444444444444,
              "#bd3786"
             ],
             [
              0.5555555555555556,
              "#d8576b"
             ],
             [
              0.6666666666666666,
              "#ed7953"
             ],
             [
              0.7777777777777778,
              "#fb9f3a"
             ],
             [
              0.8888888888888888,
              "#fdca26"
             ],
             [
              1,
              "#f0f921"
             ]
            ],
            "type": "contour"
           }
          ],
          "contourcarpet": [
           {
            "colorbar": {
             "outlinewidth": 0,
             "ticks": ""
            },
            "type": "contourcarpet"
           }
          ],
          "heatmap": [
           {
            "colorbar": {
             "outlinewidth": 0,
             "ticks": ""
            },
            "colorscale": [
             [
              0,
              "#0d0887"
             ],
             [
              0.1111111111111111,
              "#46039f"
             ],
             [
              0.2222222222222222,
              "#7201a8"
             ],
             [
              0.3333333333333333,
              "#9c179e"
             ],
             [
              0.4444444444444444,
              "#bd3786"
             ],
             [
              0.5555555555555556,
              "#d8576b"
             ],
             [
              0.6666666666666666,
              "#ed7953"
             ],
             [
              0.7777777777777778,
              "#fb9f3a"
             ],
             [
              0.8888888888888888,
              "#fdca26"
             ],
             [
              1,
              "#f0f921"
             ]
            ],
            "type": "heatmap"
           }
          ],
          "heatmapgl": [
           {
            "colorbar": {
             "outlinewidth": 0,
             "ticks": ""
            },
            "colorscale": [
             [
              0,
              "#0d0887"
             ],
             [
              0.1111111111111111,
              "#46039f"
             ],
             [
              0.2222222222222222,
              "#7201a8"
             ],
             [
              0.3333333333333333,
              "#9c179e"
             ],
             [
              0.4444444444444444,
              "#bd3786"
             ],
             [
              0.5555555555555556,
              "#d8576b"
             ],
             [
              0.6666666666666666,
              "#ed7953"
             ],
             [
              0.7777777777777778,
              "#fb9f3a"
             ],
             [
              0.8888888888888888,
              "#fdca26"
             ],
             [
              1,
              "#f0f921"
             ]
            ],
            "type": "heatmapgl"
           }
          ],
          "histogram": [
           {
            "marker": {
             "pattern": {
              "fillmode": "overlay",
              "size": 10,
              "solidity": 0.2
             }
            },
            "type": "histogram"
           }
          ],
          "histogram2d": [
           {
            "colorbar": {
             "outlinewidth": 0,
             "ticks": ""
            },
            "colorscale": [
             [
              0,
              "#0d0887"
             ],
             [
              0.1111111111111111,
              "#46039f"
             ],
             [
              0.2222222222222222,
              "#7201a8"
             ],
             [
              0.3333333333333333,
              "#9c179e"
             ],
             [
              0.4444444444444444,
              "#bd3786"
             ],
             [
              0.5555555555555556,
              "#d8576b"
             ],
             [
              0.6666666666666666,
              "#ed7953"
             ],
             [
              0.7777777777777778,
              "#fb9f3a"
             ],
             [
              0.8888888888888888,
              "#fdca26"
             ],
             [
              1,
              "#f0f921"
             ]
            ],
            "type": "histogram2d"
           }
          ],
          "histogram2dcontour": [
           {
            "colorbar": {
             "outlinewidth": 0,
             "ticks": ""
            },
            "colorscale": [
             [
              0,
              "#0d0887"
             ],
             [
              0.1111111111111111,
              "#46039f"
             ],
             [
              0.2222222222222222,
              "#7201a8"
             ],
             [
              0.3333333333333333,
              "#9c179e"
             ],
             [
              0.4444444444444444,
              "#bd3786"
             ],
             [
              0.5555555555555556,
              "#d8576b"
             ],
             [
              0.6666666666666666,
              "#ed7953"
             ],
             [
              0.7777777777777778,
              "#fb9f3a"
             ],
             [
              0.8888888888888888,
              "#fdca26"
             ],
             [
              1,
              "#f0f921"
             ]
            ],
            "type": "histogram2dcontour"
           }
          ],
          "mesh3d": [
           {
            "colorbar": {
             "outlinewidth": 0,
             "ticks": ""
            },
            "type": "mesh3d"
           }
          ],
          "parcoords": [
           {
            "line": {
             "colorbar": {
              "outlinewidth": 0,
              "ticks": ""
             }
            },
            "type": "parcoords"
           }
          ],
          "pie": [
           {
            "automargin": true,
            "type": "pie"
           }
          ],
          "scatter": [
           {
            "fillpattern": {
             "fillmode": "overlay",
             "size": 10,
             "solidity": 0.2
            },
            "type": "scatter"
           }
          ],
          "scatter3d": [
           {
            "line": {
             "colorbar": {
              "outlinewidth": 0,
              "ticks": ""
             }
            },
            "marker": {
             "colorbar": {
              "outlinewidth": 0,
              "ticks": ""
             }
            },
            "type": "scatter3d"
           }
          ],
          "scattercarpet": [
           {
            "marker": {
             "colorbar": {
              "outlinewidth": 0,
              "ticks": ""
             }
            },
            "type": "scattercarpet"
           }
          ],
          "scattergeo": [
           {
            "marker": {
             "colorbar": {
              "outlinewidth": 0,
              "ticks": ""
             }
            },
            "type": "scattergeo"
           }
          ],
          "scattergl": [
           {
            "marker": {
             "colorbar": {
              "outlinewidth": 0,
              "ticks": ""
             }
            },
            "type": "scattergl"
           }
          ],
          "scattermapbox": [
           {
            "marker": {
             "colorbar": {
              "outlinewidth": 0,
              "ticks": ""
             }
            },
            "type": "scattermapbox"
           }
          ],
          "scatterpolar": [
           {
            "marker": {
             "colorbar": {
              "outlinewidth": 0,
              "ticks": ""
             }
            },
            "type": "scatterpolar"
           }
          ],
          "scatterpolargl": [
           {
            "marker": {
             "colorbar": {
              "outlinewidth": 0,
              "ticks": ""
             }
            },
            "type": "scatterpolargl"
           }
          ],
          "scatterternary": [
           {
            "marker": {
             "colorbar": {
              "outlinewidth": 0,
              "ticks": ""
             }
            },
            "type": "scatterternary"
           }
          ],
          "surface": [
           {
            "colorbar": {
             "outlinewidth": 0,
             "ticks": ""
            },
            "colorscale": [
             [
              0,
              "#0d0887"
             ],
             [
              0.1111111111111111,
              "#46039f"
             ],
             [
              0.2222222222222222,
              "#7201a8"
             ],
             [
              0.3333333333333333,
              "#9c179e"
             ],
             [
              0.4444444444444444,
              "#bd3786"
             ],
             [
              0.5555555555555556,
              "#d8576b"
             ],
             [
              0.6666666666666666,
              "#ed7953"
             ],
             [
              0.7777777777777778,
              "#fb9f3a"
             ],
             [
              0.8888888888888888,
              "#fdca26"
             ],
             [
              1,
              "#f0f921"
             ]
            ],
            "type": "surface"
           }
          ],
          "table": [
           {
            "cells": {
             "fill": {
              "color": "#EBF0F8"
             },
             "line": {
              "color": "white"
             }
            },
            "header": {
             "fill": {
              "color": "#C8D4E3"
             },
             "line": {
              "color": "white"
             }
            },
            "type": "table"
           }
          ]
         },
         "layout": {
          "annotationdefaults": {
           "arrowcolor": "#2a3f5f",
           "arrowhead": 0,
           "arrowwidth": 1
          },
          "autotypenumbers": "strict",
          "coloraxis": {
           "colorbar": {
            "outlinewidth": 0,
            "ticks": ""
           }
          },
          "colorscale": {
           "diverging": [
            [
             0,
             "#8e0152"
            ],
            [
             0.1,
             "#c51b7d"
            ],
            [
             0.2,
             "#de77ae"
            ],
            [
             0.3,
             "#f1b6da"
            ],
            [
             0.4,
             "#fde0ef"
            ],
            [
             0.5,
             "#f7f7f7"
            ],
            [
             0.6,
             "#e6f5d0"
            ],
            [
             0.7,
             "#b8e186"
            ],
            [
             0.8,
             "#7fbc41"
            ],
            [
             0.9,
             "#4d9221"
            ],
            [
             1,
             "#276419"
            ]
           ],
           "sequential": [
            [
             0,
             "#0d0887"
            ],
            [
             0.1111111111111111,
             "#46039f"
            ],
            [
             0.2222222222222222,
             "#7201a8"
            ],
            [
             0.3333333333333333,
             "#9c179e"
            ],
            [
             0.4444444444444444,
             "#bd3786"
            ],
            [
             0.5555555555555556,
             "#d8576b"
            ],
            [
             0.6666666666666666,
             "#ed7953"
            ],
            [
             0.7777777777777778,
             "#fb9f3a"
            ],
            [
             0.8888888888888888,
             "#fdca26"
            ],
            [
             1,
             "#f0f921"
            ]
           ],
           "sequentialminus": [
            [
             0,
             "#0d0887"
            ],
            [
             0.1111111111111111,
             "#46039f"
            ],
            [
             0.2222222222222222,
             "#7201a8"
            ],
            [
             0.3333333333333333,
             "#9c179e"
            ],
            [
             0.4444444444444444,
             "#bd3786"
            ],
            [
             0.5555555555555556,
             "#d8576b"
            ],
            [
             0.6666666666666666,
             "#ed7953"
            ],
            [
             0.7777777777777778,
             "#fb9f3a"
            ],
            [
             0.8888888888888888,
             "#fdca26"
            ],
            [
             1,
             "#f0f921"
            ]
           ]
          },
          "colorway": [
           "#636efa",
           "#EF553B",
           "#00cc96",
           "#ab63fa",
           "#FFA15A",
           "#19d3f3",
           "#FF6692",
           "#B6E880",
           "#FF97FF",
           "#FECB52"
          ],
          "font": {
           "color": "#2a3f5f"
          },
          "geo": {
           "bgcolor": "white",
           "lakecolor": "white",
           "landcolor": "#E5ECF6",
           "showlakes": true,
           "showland": true,
           "subunitcolor": "white"
          },
          "hoverlabel": {
           "align": "left"
          },
          "hovermode": "closest",
          "mapbox": {
           "style": "light"
          },
          "paper_bgcolor": "white",
          "plot_bgcolor": "#E5ECF6",
          "polar": {
           "angularaxis": {
            "gridcolor": "white",
            "linecolor": "white",
            "ticks": ""
           },
           "bgcolor": "#E5ECF6",
           "radialaxis": {
            "gridcolor": "white",
            "linecolor": "white",
            "ticks": ""
           }
          },
          "scene": {
           "xaxis": {
            "backgroundcolor": "#E5ECF6",
            "gridcolor": "white",
            "gridwidth": 2,
            "linecolor": "white",
            "showbackground": true,
            "ticks": "",
            "zerolinecolor": "white"
           },
           "yaxis": {
            "backgroundcolor": "#E5ECF6",
            "gridcolor": "white",
            "gridwidth": 2,
            "linecolor": "white",
            "showbackground": true,
            "ticks": "",
            "zerolinecolor": "white"
           },
           "zaxis": {
            "backgroundcolor": "#E5ECF6",
            "gridcolor": "white",
            "gridwidth": 2,
            "linecolor": "white",
            "showbackground": true,
            "ticks": "",
            "zerolinecolor": "white"
           }
          },
          "shapedefaults": {
           "line": {
            "color": "#2a3f5f"
           }
          },
          "ternary": {
           "aaxis": {
            "gridcolor": "white",
            "linecolor": "white",
            "ticks": ""
           },
           "baxis": {
            "gridcolor": "white",
            "linecolor": "white",
            "ticks": ""
           },
           "bgcolor": "#E5ECF6",
           "caxis": {
            "gridcolor": "white",
            "linecolor": "white",
            "ticks": ""
           }
          },
          "title": {
           "x": 0.05
          },
          "xaxis": {
           "automargin": true,
           "gridcolor": "white",
           "linecolor": "white",
           "ticks": "",
           "title": {
            "standoff": 15
           },
           "zerolinecolor": "white",
           "zerolinewidth": 2
          },
          "yaxis": {
           "automargin": true,
           "gridcolor": "white",
           "linecolor": "white",
           "ticks": "",
           "title": {
            "standoff": 15
           },
           "zerolinecolor": "white",
           "zerolinewidth": 2
          }
         }
        },
        "title": {
         "text": "Comparativa compañias",
         "x": 0.5,
         "xanchor": "center",
         "y": 0.95,
         "yanchor": "top"
        },
        "xaxis": {
         "anchor": "y",
         "domain": [
          0,
          1
         ],
         "tickangle": 45,
         "title": {
          "text": "Tarifa"
         }
        },
        "yaxis": {
         "anchor": "x",
         "domain": [
          0,
          1
         ],
         "title": {
          "text": "Precio factura"
         }
        }
       }
      }
     },
     "metadata": {},
     "output_type": "display_data"
    }
   ],
   "source": [
    "fig = px.scatter(df, x=\"tarifa\", \n",
    "  y=\"total_factura\", color_continuous_scale='sunset',\n",
    "  color=\"total_factura\", hover_data=['tarifa', 'compania', 'total_factura'], custom_data=['compania'], labels={\"tarifa\": \"Tarifa\", \"total_factura\": \"Precio factura\"})\n",
    "fig.update_layout(coloraxis_showscale=False, title={\n",
    "        'text': \"Comparativa compañias\",\n",
    "        'y':0.95,\n",
    "        'x':0.5,\n",
    "        'xanchor': 'center',\n",
    "        'yanchor': 'top'})\n",
    "fig.update_traces(hovertemplate='<b>Compañia:</b> %{customdata[0]} <br><b>Tarifa:</b> %{x} <br><b>Precio factura:</b> %{y:.2f}')\n",
    "fig.update_xaxes(tickangle=45)\n",
    "fig.show()\n"
   ]
  }
 ],
 "metadata": {
  "kernelspec": {
   "display_name": "Python 3",
   "language": "python",
   "name": "python3"
  },
  "language_info": {
   "codemirror_mode": {
    "name": "ipython",
    "version": 3
   },
   "file_extension": ".py",
   "mimetype": "text/x-python",
   "name": "python",
   "nbconvert_exporter": "python",
   "pygments_lexer": "ipython3",
   "version": "3.11.6"
  }
 },
 "nbformat": 4,
 "nbformat_minor": 2
}
