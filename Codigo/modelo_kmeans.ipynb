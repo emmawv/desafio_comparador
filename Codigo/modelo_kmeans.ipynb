{
 "cells": [
  {
   "cell_type": "code",
   "execution_count": 424,
   "metadata": {},
   "outputs": [],
   "source": [
    "import numpy as np\n",
    "import pandas as pd\n",
    "import matplotlib.pyplot as plt\n",
    "import seaborn as sns\n",
    "from sklearn.preprocessing import LabelEncoder\n",
    "from sklearn.cluster import KMeans\n",
    "from sklearn.preprocessing import StandardScaler\n",
    "from sklearn.preprocessing import MinMaxScaler\n",
    "import plotly.express as px\n",
    "import plotly.graph_objs as go"
   ]
  },
  {
   "cell_type": "code",
   "execution_count": 425,
   "metadata": {},
   "outputs": [],
   "source": [
    "# Para que se vean todas las columnas\n",
    "pd.set_option('display.max_columns', None)"
   ]
  },
  {
   "cell_type": "markdown",
   "metadata": {},
   "source": [
    "## Limpieza de datos"
   ]
  },
  {
   "cell_type": "code",
   "execution_count": 426,
   "metadata": {},
   "outputs": [
    {
     "data": {
      "text/html": [
       "<div>\n",
       "<style scoped>\n",
       "    .dataframe tbody tr th:only-of-type {\n",
       "        vertical-align: middle;\n",
       "    }\n",
       "\n",
       "    .dataframe tbody tr th {\n",
       "        vertical-align: top;\n",
       "    }\n",
       "\n",
       "    .dataframe thead th {\n",
       "        text-align: right;\n",
       "    }\n",
       "</style>\n",
       "<table border=\"1\" class=\"dataframe\">\n",
       "  <thead>\n",
       "    <tr style=\"text-align: right;\">\n",
       "      <th></th>\n",
       "      <th>Unnamed: 0.1</th>\n",
       "      <th>Unnamed: 0</th>\n",
       "      <th>id_tarifa</th>\n",
       "      <th>consumo_kWh</th>\n",
       "      <th>%consumo_valle</th>\n",
       "      <th>%consumo_llano</th>\n",
       "      <th>%consumo_punta</th>\n",
       "      <th>%consumo_8h</th>\n",
       "      <th>%consumo_16h</th>\n",
       "      <th>compania</th>\n",
       "      <th>tarifa</th>\n",
       "      <th>tp_punta_euros/kwh/dia</th>\n",
       "      <th>tp_valle_euros/kwh/dia</th>\n",
       "      <th>peaje_tran_dist_pot_punta</th>\n",
       "      <th>peaje_tran_dist_pot_valle</th>\n",
       "      <th>peaje_ener_valle_tdc</th>\n",
       "      <th>peaje_ener_llano_tdc</th>\n",
       "      <th>peaje_ener_punta_tdc</th>\n",
       "      <th>termino_consumo_euros/kwh/hora</th>\n",
       "      <th>tc_valle_euros/kwh/hora</th>\n",
       "      <th>tc_llano_euros/kwh/hora</th>\n",
       "      <th>tc_punta_euros/kwh/hora</th>\n",
       "      <th>tc_8h_euros/kwh/hora</th>\n",
       "      <th>tc_16h_euros/kwh/hora</th>\n",
       "      <th>mercado</th>\n",
       "      <th>tipo</th>\n",
       "      <th>otros</th>\n",
       "      <th>alquiler_equipo_euros/dia</th>\n",
       "      <th>impuesto_actual</th>\n",
       "      <th>bono_social_euro/dia</th>\n",
       "      <th>margen_euros/kWh/dia</th>\n",
       "      <th>consumo_unico</th>\n",
       "      <th>consumo_valle</th>\n",
       "      <th>consumo_llano</th>\n",
       "      <th>consumo_punta</th>\n",
       "      <th>consumo_8h</th>\n",
       "      <th>consumo_16h</th>\n",
       "      <th>consumo_euros_unico</th>\n",
       "      <th>consumo_euros_valle</th>\n",
       "      <th>consumo_euros_llano</th>\n",
       "      <th>consumo_euros_punta</th>\n",
       "      <th>consumo_euros_8h</th>\n",
       "      <th>consumo_euros_16h</th>\n",
       "      <th>precio_final</th>\n",
       "    </tr>\n",
       "  </thead>\n",
       "  <tbody>\n",
       "    <tr>\n",
       "      <th>0</th>\n",
       "      <td>0</td>\n",
       "      <td>0</td>\n",
       "      <td>0</td>\n",
       "      <td>202</td>\n",
       "      <td>6</td>\n",
       "      <td>75</td>\n",
       "      <td>19</td>\n",
       "      <td>30</td>\n",
       "      <td>70</td>\n",
       "      <td>Repsol</td>\n",
       "      <td>Mis 10 Horas</td>\n",
       "      <td>0.068192</td>\n",
       "      <td>0.068192</td>\n",
       "      <td>0.008192</td>\n",
       "      <td>0.000527</td>\n",
       "      <td>0.002752</td>\n",
       "      <td>0.027963</td>\n",
       "      <td>0.076974</td>\n",
       "      <td>0.0</td>\n",
       "      <td>0.0</td>\n",
       "      <td>0.0</td>\n",
       "      <td>0.0</td>\n",
       "      <td>0.086415</td>\n",
       "      <td>0.17283</td>\n",
       "      <td>Libre</td>\n",
       "      <td>DH</td>\n",
       "      <td>0.0</td>\n",
       "      <td>0.026557</td>\n",
       "      <td>5.11</td>\n",
       "      <td>0.0</td>\n",
       "      <td>0.0</td>\n",
       "      <td>0.0</td>\n",
       "      <td>0.0</td>\n",
       "      <td>0.0</td>\n",
       "      <td>0.0</td>\n",
       "      <td>60.60</td>\n",
       "      <td>141.40</td>\n",
       "      <td>0.0</td>\n",
       "      <td>0.0</td>\n",
       "      <td>0.0</td>\n",
       "      <td>0.0</td>\n",
       "      <td>5.236749</td>\n",
       "      <td>24.438162</td>\n",
       "      <td>29.674911</td>\n",
       "    </tr>\n",
       "    <tr>\n",
       "      <th>1</th>\n",
       "      <td>1</td>\n",
       "      <td>1</td>\n",
       "      <td>0</td>\n",
       "      <td>279</td>\n",
       "      <td>23</td>\n",
       "      <td>19</td>\n",
       "      <td>58</td>\n",
       "      <td>1</td>\n",
       "      <td>99</td>\n",
       "      <td>Repsol</td>\n",
       "      <td>Mis 10 Horas</td>\n",
       "      <td>0.068192</td>\n",
       "      <td>0.068192</td>\n",
       "      <td>0.008192</td>\n",
       "      <td>0.000527</td>\n",
       "      <td>0.002752</td>\n",
       "      <td>0.027963</td>\n",
       "      <td>0.076974</td>\n",
       "      <td>0.0</td>\n",
       "      <td>0.0</td>\n",
       "      <td>0.0</td>\n",
       "      <td>0.0</td>\n",
       "      <td>0.086415</td>\n",
       "      <td>0.17283</td>\n",
       "      <td>Libre</td>\n",
       "      <td>DH</td>\n",
       "      <td>0.0</td>\n",
       "      <td>0.026557</td>\n",
       "      <td>5.11</td>\n",
       "      <td>0.0</td>\n",
       "      <td>0.0</td>\n",
       "      <td>0.0</td>\n",
       "      <td>0.0</td>\n",
       "      <td>0.0</td>\n",
       "      <td>0.0</td>\n",
       "      <td>2.79</td>\n",
       "      <td>276.21</td>\n",
       "      <td>0.0</td>\n",
       "      <td>0.0</td>\n",
       "      <td>0.0</td>\n",
       "      <td>0.0</td>\n",
       "      <td>0.241098</td>\n",
       "      <td>47.737374</td>\n",
       "      <td>47.978472</td>\n",
       "    </tr>\n",
       "    <tr>\n",
       "      <th>2</th>\n",
       "      <td>2</td>\n",
       "      <td>2</td>\n",
       "      <td>0</td>\n",
       "      <td>192</td>\n",
       "      <td>36</td>\n",
       "      <td>3</td>\n",
       "      <td>61</td>\n",
       "      <td>14</td>\n",
       "      <td>86</td>\n",
       "      <td>Repsol</td>\n",
       "      <td>Mis 10 Horas</td>\n",
       "      <td>0.068192</td>\n",
       "      <td>0.068192</td>\n",
       "      <td>0.008192</td>\n",
       "      <td>0.000527</td>\n",
       "      <td>0.002752</td>\n",
       "      <td>0.027963</td>\n",
       "      <td>0.076974</td>\n",
       "      <td>0.0</td>\n",
       "      <td>0.0</td>\n",
       "      <td>0.0</td>\n",
       "      <td>0.0</td>\n",
       "      <td>0.086415</td>\n",
       "      <td>0.17283</td>\n",
       "      <td>Libre</td>\n",
       "      <td>DH</td>\n",
       "      <td>0.0</td>\n",
       "      <td>0.026557</td>\n",
       "      <td>5.11</td>\n",
       "      <td>0.0</td>\n",
       "      <td>0.0</td>\n",
       "      <td>0.0</td>\n",
       "      <td>0.0</td>\n",
       "      <td>0.0</td>\n",
       "      <td>0.0</td>\n",
       "      <td>26.88</td>\n",
       "      <td>165.12</td>\n",
       "      <td>0.0</td>\n",
       "      <td>0.0</td>\n",
       "      <td>0.0</td>\n",
       "      <td>0.0</td>\n",
       "      <td>2.322835</td>\n",
       "      <td>28.537690</td>\n",
       "      <td>30.860525</td>\n",
       "    </tr>\n",
       "    <tr>\n",
       "      <th>3</th>\n",
       "      <td>3</td>\n",
       "      <td>3</td>\n",
       "      <td>0</td>\n",
       "      <td>114</td>\n",
       "      <td>59</td>\n",
       "      <td>23</td>\n",
       "      <td>18</td>\n",
       "      <td>56</td>\n",
       "      <td>44</td>\n",
       "      <td>Repsol</td>\n",
       "      <td>Mis 10 Horas</td>\n",
       "      <td>0.068192</td>\n",
       "      <td>0.068192</td>\n",
       "      <td>0.008192</td>\n",
       "      <td>0.000527</td>\n",
       "      <td>0.002752</td>\n",
       "      <td>0.027963</td>\n",
       "      <td>0.076974</td>\n",
       "      <td>0.0</td>\n",
       "      <td>0.0</td>\n",
       "      <td>0.0</td>\n",
       "      <td>0.0</td>\n",
       "      <td>0.086415</td>\n",
       "      <td>0.17283</td>\n",
       "      <td>Libre</td>\n",
       "      <td>DH</td>\n",
       "      <td>0.0</td>\n",
       "      <td>0.026557</td>\n",
       "      <td>5.11</td>\n",
       "      <td>0.0</td>\n",
       "      <td>0.0</td>\n",
       "      <td>0.0</td>\n",
       "      <td>0.0</td>\n",
       "      <td>0.0</td>\n",
       "      <td>0.0</td>\n",
       "      <td>63.84</td>\n",
       "      <td>50.16</td>\n",
       "      <td>0.0</td>\n",
       "      <td>0.0</td>\n",
       "      <td>0.0</td>\n",
       "      <td>0.0</td>\n",
       "      <td>5.516734</td>\n",
       "      <td>8.669153</td>\n",
       "      <td>14.185886</td>\n",
       "    </tr>\n",
       "    <tr>\n",
       "      <th>4</th>\n",
       "      <td>4</td>\n",
       "      <td>4</td>\n",
       "      <td>0</td>\n",
       "      <td>206</td>\n",
       "      <td>49</td>\n",
       "      <td>48</td>\n",
       "      <td>3</td>\n",
       "      <td>74</td>\n",
       "      <td>26</td>\n",
       "      <td>Repsol</td>\n",
       "      <td>Mis 10 Horas</td>\n",
       "      <td>0.068192</td>\n",
       "      <td>0.068192</td>\n",
       "      <td>0.008192</td>\n",
       "      <td>0.000527</td>\n",
       "      <td>0.002752</td>\n",
       "      <td>0.027963</td>\n",
       "      <td>0.076974</td>\n",
       "      <td>0.0</td>\n",
       "      <td>0.0</td>\n",
       "      <td>0.0</td>\n",
       "      <td>0.0</td>\n",
       "      <td>0.086415</td>\n",
       "      <td>0.17283</td>\n",
       "      <td>Libre</td>\n",
       "      <td>DH</td>\n",
       "      <td>0.0</td>\n",
       "      <td>0.026557</td>\n",
       "      <td>5.11</td>\n",
       "      <td>0.0</td>\n",
       "      <td>0.0</td>\n",
       "      <td>0.0</td>\n",
       "      <td>0.0</td>\n",
       "      <td>0.0</td>\n",
       "      <td>0.0</td>\n",
       "      <td>152.44</td>\n",
       "      <td>53.56</td>\n",
       "      <td>0.0</td>\n",
       "      <td>0.0</td>\n",
       "      <td>0.0</td>\n",
       "      <td>0.0</td>\n",
       "      <td>13.173103</td>\n",
       "      <td>9.256775</td>\n",
       "      <td>22.429877</td>\n",
       "    </tr>\n",
       "    <tr>\n",
       "      <th>5</th>\n",
       "      <td>5</td>\n",
       "      <td>5</td>\n",
       "      <td>0</td>\n",
       "      <td>171</td>\n",
       "      <td>35</td>\n",
       "      <td>5</td>\n",
       "      <td>60</td>\n",
       "      <td>33</td>\n",
       "      <td>67</td>\n",
       "      <td>Repsol</td>\n",
       "      <td>Mis 10 Horas</td>\n",
       "      <td>0.068192</td>\n",
       "      <td>0.068192</td>\n",
       "      <td>0.008192</td>\n",
       "      <td>0.000527</td>\n",
       "      <td>0.002752</td>\n",
       "      <td>0.027963</td>\n",
       "      <td>0.076974</td>\n",
       "      <td>0.0</td>\n",
       "      <td>0.0</td>\n",
       "      <td>0.0</td>\n",
       "      <td>0.0</td>\n",
       "      <td>0.086415</td>\n",
       "      <td>0.17283</td>\n",
       "      <td>Libre</td>\n",
       "      <td>DH</td>\n",
       "      <td>0.0</td>\n",
       "      <td>0.026557</td>\n",
       "      <td>5.11</td>\n",
       "      <td>0.0</td>\n",
       "      <td>0.0</td>\n",
       "      <td>0.0</td>\n",
       "      <td>0.0</td>\n",
       "      <td>0.0</td>\n",
       "      <td>0.0</td>\n",
       "      <td>56.43</td>\n",
       "      <td>114.57</td>\n",
       "      <td>0.0</td>\n",
       "      <td>0.0</td>\n",
       "      <td>0.0</td>\n",
       "      <td>0.0</td>\n",
       "      <td>4.876398</td>\n",
       "      <td>19.801133</td>\n",
       "      <td>24.677532</td>\n",
       "    </tr>\n",
       "    <tr>\n",
       "      <th>6</th>\n",
       "      <td>6</td>\n",
       "      <td>6</td>\n",
       "      <td>0</td>\n",
       "      <td>288</td>\n",
       "      <td>38</td>\n",
       "      <td>41</td>\n",
       "      <td>21</td>\n",
       "      <td>67</td>\n",
       "      <td>33</td>\n",
       "      <td>Repsol</td>\n",
       "      <td>Mis 10 Horas</td>\n",
       "      <td>0.068192</td>\n",
       "      <td>0.068192</td>\n",
       "      <td>0.008192</td>\n",
       "      <td>0.000527</td>\n",
       "      <td>0.002752</td>\n",
       "      <td>0.027963</td>\n",
       "      <td>0.076974</td>\n",
       "      <td>0.0</td>\n",
       "      <td>0.0</td>\n",
       "      <td>0.0</td>\n",
       "      <td>0.0</td>\n",
       "      <td>0.086415</td>\n",
       "      <td>0.17283</td>\n",
       "      <td>Libre</td>\n",
       "      <td>DH</td>\n",
       "      <td>0.0</td>\n",
       "      <td>0.026557</td>\n",
       "      <td>5.11</td>\n",
       "      <td>0.0</td>\n",
       "      <td>0.0</td>\n",
       "      <td>0.0</td>\n",
       "      <td>0.0</td>\n",
       "      <td>0.0</td>\n",
       "      <td>0.0</td>\n",
       "      <td>192.96</td>\n",
       "      <td>95.04</td>\n",
       "      <td>0.0</td>\n",
       "      <td>0.0</td>\n",
       "      <td>0.0</td>\n",
       "      <td>0.0</td>\n",
       "      <td>16.674638</td>\n",
       "      <td>16.425763</td>\n",
       "      <td>33.100402</td>\n",
       "    </tr>\n",
       "    <tr>\n",
       "      <th>7</th>\n",
       "      <td>7</td>\n",
       "      <td>7</td>\n",
       "      <td>0</td>\n",
       "      <td>120</td>\n",
       "      <td>57</td>\n",
       "      <td>11</td>\n",
       "      <td>32</td>\n",
       "      <td>74</td>\n",
       "      <td>26</td>\n",
       "      <td>Repsol</td>\n",
       "      <td>Mis 10 Horas</td>\n",
       "      <td>0.068192</td>\n",
       "      <td>0.068192</td>\n",
       "      <td>0.008192</td>\n",
       "      <td>0.000527</td>\n",
       "      <td>0.002752</td>\n",
       "      <td>0.027963</td>\n",
       "      <td>0.076974</td>\n",
       "      <td>0.0</td>\n",
       "      <td>0.0</td>\n",
       "      <td>0.0</td>\n",
       "      <td>0.0</td>\n",
       "      <td>0.086415</td>\n",
       "      <td>0.17283</td>\n",
       "      <td>Libre</td>\n",
       "      <td>DH</td>\n",
       "      <td>0.0</td>\n",
       "      <td>0.026557</td>\n",
       "      <td>5.11</td>\n",
       "      <td>0.0</td>\n",
       "      <td>0.0</td>\n",
       "      <td>0.0</td>\n",
       "      <td>0.0</td>\n",
       "      <td>0.0</td>\n",
       "      <td>0.0</td>\n",
       "      <td>88.80</td>\n",
       "      <td>31.20</td>\n",
       "      <td>0.0</td>\n",
       "      <td>0.0</td>\n",
       "      <td>0.0</td>\n",
       "      <td>0.0</td>\n",
       "      <td>7.673652</td>\n",
       "      <td>5.392296</td>\n",
       "      <td>13.065948</td>\n",
       "    </tr>\n",
       "    <tr>\n",
       "      <th>8</th>\n",
       "      <td>8</td>\n",
       "      <td>8</td>\n",
       "      <td>0</td>\n",
       "      <td>202</td>\n",
       "      <td>2</td>\n",
       "      <td>17</td>\n",
       "      <td>81</td>\n",
       "      <td>28</td>\n",
       "      <td>72</td>\n",
       "      <td>Repsol</td>\n",
       "      <td>Mis 10 Horas</td>\n",
       "      <td>0.068192</td>\n",
       "      <td>0.068192</td>\n",
       "      <td>0.008192</td>\n",
       "      <td>0.000527</td>\n",
       "      <td>0.002752</td>\n",
       "      <td>0.027963</td>\n",
       "      <td>0.076974</td>\n",
       "      <td>0.0</td>\n",
       "      <td>0.0</td>\n",
       "      <td>0.0</td>\n",
       "      <td>0.0</td>\n",
       "      <td>0.086415</td>\n",
       "      <td>0.17283</td>\n",
       "      <td>Libre</td>\n",
       "      <td>DH</td>\n",
       "      <td>0.0</td>\n",
       "      <td>0.026557</td>\n",
       "      <td>5.11</td>\n",
       "      <td>0.0</td>\n",
       "      <td>0.0</td>\n",
       "      <td>0.0</td>\n",
       "      <td>0.0</td>\n",
       "      <td>0.0</td>\n",
       "      <td>0.0</td>\n",
       "      <td>56.56</td>\n",
       "      <td>145.44</td>\n",
       "      <td>0.0</td>\n",
       "      <td>0.0</td>\n",
       "      <td>0.0</td>\n",
       "      <td>0.0</td>\n",
       "      <td>4.887632</td>\n",
       "      <td>25.136395</td>\n",
       "      <td>30.024028</td>\n",
       "    </tr>\n",
       "    <tr>\n",
       "      <th>9</th>\n",
       "      <td>9</td>\n",
       "      <td>9</td>\n",
       "      <td>0</td>\n",
       "      <td>221</td>\n",
       "      <td>39</td>\n",
       "      <td>20</td>\n",
       "      <td>41</td>\n",
       "      <td>65</td>\n",
       "      <td>35</td>\n",
       "      <td>Repsol</td>\n",
       "      <td>Mis 10 Horas</td>\n",
       "      <td>0.068192</td>\n",
       "      <td>0.068192</td>\n",
       "      <td>0.008192</td>\n",
       "      <td>0.000527</td>\n",
       "      <td>0.002752</td>\n",
       "      <td>0.027963</td>\n",
       "      <td>0.076974</td>\n",
       "      <td>0.0</td>\n",
       "      <td>0.0</td>\n",
       "      <td>0.0</td>\n",
       "      <td>0.0</td>\n",
       "      <td>0.086415</td>\n",
       "      <td>0.17283</td>\n",
       "      <td>Libre</td>\n",
       "      <td>DH</td>\n",
       "      <td>0.0</td>\n",
       "      <td>0.026557</td>\n",
       "      <td>5.11</td>\n",
       "      <td>0.0</td>\n",
       "      <td>0.0</td>\n",
       "      <td>0.0</td>\n",
       "      <td>0.0</td>\n",
       "      <td>0.0</td>\n",
       "      <td>0.0</td>\n",
       "      <td>143.65</td>\n",
       "      <td>77.35</td>\n",
       "      <td>0.0</td>\n",
       "      <td>0.0</td>\n",
       "      <td>0.0</td>\n",
       "      <td>0.0</td>\n",
       "      <td>12.413515</td>\n",
       "      <td>13.368400</td>\n",
       "      <td>25.781915</td>\n",
       "    </tr>\n",
       "  </tbody>\n",
       "</table>\n",
       "</div>"
      ],
      "text/plain": [
       "   Unnamed: 0.1  Unnamed: 0  id_tarifa  consumo_kWh  %consumo_valle  \\\n",
       "0             0           0          0          202               6   \n",
       "1             1           1          0          279              23   \n",
       "2             2           2          0          192              36   \n",
       "3             3           3          0          114              59   \n",
       "4             4           4          0          206              49   \n",
       "5             5           5          0          171              35   \n",
       "6             6           6          0          288              38   \n",
       "7             7           7          0          120              57   \n",
       "8             8           8          0          202               2   \n",
       "9             9           9          0          221              39   \n",
       "\n",
       "   %consumo_llano  %consumo_punta  %consumo_8h  %consumo_16h compania  \\\n",
       "0              75              19           30            70   Repsol   \n",
       "1              19              58            1            99   Repsol   \n",
       "2               3              61           14            86   Repsol   \n",
       "3              23              18           56            44   Repsol   \n",
       "4              48               3           74            26   Repsol   \n",
       "5               5              60           33            67   Repsol   \n",
       "6              41              21           67            33   Repsol   \n",
       "7              11              32           74            26   Repsol   \n",
       "8              17              81           28            72   Repsol   \n",
       "9              20              41           65            35   Repsol   \n",
       "\n",
       "         tarifa  tp_punta_euros/kwh/dia  tp_valle_euros/kwh/dia  \\\n",
       "0  Mis 10 Horas                0.068192                0.068192   \n",
       "1  Mis 10 Horas                0.068192                0.068192   \n",
       "2  Mis 10 Horas                0.068192                0.068192   \n",
       "3  Mis 10 Horas                0.068192                0.068192   \n",
       "4  Mis 10 Horas                0.068192                0.068192   \n",
       "5  Mis 10 Horas                0.068192                0.068192   \n",
       "6  Mis 10 Horas                0.068192                0.068192   \n",
       "7  Mis 10 Horas                0.068192                0.068192   \n",
       "8  Mis 10 Horas                0.068192                0.068192   \n",
       "9  Mis 10 Horas                0.068192                0.068192   \n",
       "\n",
       "   peaje_tran_dist_pot_punta  peaje_tran_dist_pot_valle  peaje_ener_valle_tdc  \\\n",
       "0                   0.008192                   0.000527              0.002752   \n",
       "1                   0.008192                   0.000527              0.002752   \n",
       "2                   0.008192                   0.000527              0.002752   \n",
       "3                   0.008192                   0.000527              0.002752   \n",
       "4                   0.008192                   0.000527              0.002752   \n",
       "5                   0.008192                   0.000527              0.002752   \n",
       "6                   0.008192                   0.000527              0.002752   \n",
       "7                   0.008192                   0.000527              0.002752   \n",
       "8                   0.008192                   0.000527              0.002752   \n",
       "9                   0.008192                   0.000527              0.002752   \n",
       "\n",
       "   peaje_ener_llano_tdc  peaje_ener_punta_tdc  termino_consumo_euros/kwh/hora  \\\n",
       "0              0.027963              0.076974                             0.0   \n",
       "1              0.027963              0.076974                             0.0   \n",
       "2              0.027963              0.076974                             0.0   \n",
       "3              0.027963              0.076974                             0.0   \n",
       "4              0.027963              0.076974                             0.0   \n",
       "5              0.027963              0.076974                             0.0   \n",
       "6              0.027963              0.076974                             0.0   \n",
       "7              0.027963              0.076974                             0.0   \n",
       "8              0.027963              0.076974                             0.0   \n",
       "9              0.027963              0.076974                             0.0   \n",
       "\n",
       "   tc_valle_euros/kwh/hora  tc_llano_euros/kwh/hora  tc_punta_euros/kwh/hora  \\\n",
       "0                      0.0                      0.0                      0.0   \n",
       "1                      0.0                      0.0                      0.0   \n",
       "2                      0.0                      0.0                      0.0   \n",
       "3                      0.0                      0.0                      0.0   \n",
       "4                      0.0                      0.0                      0.0   \n",
       "5                      0.0                      0.0                      0.0   \n",
       "6                      0.0                      0.0                      0.0   \n",
       "7                      0.0                      0.0                      0.0   \n",
       "8                      0.0                      0.0                      0.0   \n",
       "9                      0.0                      0.0                      0.0   \n",
       "\n",
       "   tc_8h_euros/kwh/hora  tc_16h_euros/kwh/hora mercado tipo  otros  \\\n",
       "0              0.086415                0.17283   Libre   DH    0.0   \n",
       "1              0.086415                0.17283   Libre   DH    0.0   \n",
       "2              0.086415                0.17283   Libre   DH    0.0   \n",
       "3              0.086415                0.17283   Libre   DH    0.0   \n",
       "4              0.086415                0.17283   Libre   DH    0.0   \n",
       "5              0.086415                0.17283   Libre   DH    0.0   \n",
       "6              0.086415                0.17283   Libre   DH    0.0   \n",
       "7              0.086415                0.17283   Libre   DH    0.0   \n",
       "8              0.086415                0.17283   Libre   DH    0.0   \n",
       "9              0.086415                0.17283   Libre   DH    0.0   \n",
       "\n",
       "   alquiler_equipo_euros/dia  impuesto_actual  bono_social_euro/dia  \\\n",
       "0                   0.026557             5.11                   0.0   \n",
       "1                   0.026557             5.11                   0.0   \n",
       "2                   0.026557             5.11                   0.0   \n",
       "3                   0.026557             5.11                   0.0   \n",
       "4                   0.026557             5.11                   0.0   \n",
       "5                   0.026557             5.11                   0.0   \n",
       "6                   0.026557             5.11                   0.0   \n",
       "7                   0.026557             5.11                   0.0   \n",
       "8                   0.026557             5.11                   0.0   \n",
       "9                   0.026557             5.11                   0.0   \n",
       "\n",
       "   margen_euros/kWh/dia  consumo_unico  consumo_valle  consumo_llano  \\\n",
       "0                   0.0            0.0            0.0            0.0   \n",
       "1                   0.0            0.0            0.0            0.0   \n",
       "2                   0.0            0.0            0.0            0.0   \n",
       "3                   0.0            0.0            0.0            0.0   \n",
       "4                   0.0            0.0            0.0            0.0   \n",
       "5                   0.0            0.0            0.0            0.0   \n",
       "6                   0.0            0.0            0.0            0.0   \n",
       "7                   0.0            0.0            0.0            0.0   \n",
       "8                   0.0            0.0            0.0            0.0   \n",
       "9                   0.0            0.0            0.0            0.0   \n",
       "\n",
       "   consumo_punta  consumo_8h  consumo_16h  consumo_euros_unico  \\\n",
       "0            0.0       60.60       141.40                  0.0   \n",
       "1            0.0        2.79       276.21                  0.0   \n",
       "2            0.0       26.88       165.12                  0.0   \n",
       "3            0.0       63.84        50.16                  0.0   \n",
       "4            0.0      152.44        53.56                  0.0   \n",
       "5            0.0       56.43       114.57                  0.0   \n",
       "6            0.0      192.96        95.04                  0.0   \n",
       "7            0.0       88.80        31.20                  0.0   \n",
       "8            0.0       56.56       145.44                  0.0   \n",
       "9            0.0      143.65        77.35                  0.0   \n",
       "\n",
       "   consumo_euros_valle  consumo_euros_llano  consumo_euros_punta  \\\n",
       "0                  0.0                  0.0                  0.0   \n",
       "1                  0.0                  0.0                  0.0   \n",
       "2                  0.0                  0.0                  0.0   \n",
       "3                  0.0                  0.0                  0.0   \n",
       "4                  0.0                  0.0                  0.0   \n",
       "5                  0.0                  0.0                  0.0   \n",
       "6                  0.0                  0.0                  0.0   \n",
       "7                  0.0                  0.0                  0.0   \n",
       "8                  0.0                  0.0                  0.0   \n",
       "9                  0.0                  0.0                  0.0   \n",
       "\n",
       "   consumo_euros_8h  consumo_euros_16h  precio_final  \n",
       "0          5.236749          24.438162     29.674911  \n",
       "1          0.241098          47.737374     47.978472  \n",
       "2          2.322835          28.537690     30.860525  \n",
       "3          5.516734           8.669153     14.185886  \n",
       "4         13.173103           9.256775     22.429877  \n",
       "5          4.876398          19.801133     24.677532  \n",
       "6         16.674638          16.425763     33.100402  \n",
       "7          7.673652           5.392296     13.065948  \n",
       "8          4.887632          25.136395     30.024028  \n",
       "9         12.413515          13.368400     25.781915  "
      ]
     },
     "execution_count": 426,
     "metadata": {},
     "output_type": "execute_result"
    }
   ],
   "source": [
    "dataset = pd.read_csv('../Datos/copy_clientes_tarifas_modelo.csv')\n",
    "dataset.head(10)"
   ]
  },
  {
   "cell_type": "code",
   "execution_count": 427,
   "metadata": {},
   "outputs": [
    {
     "data": {
      "text/plain": [
       "(2080, 44)"
      ]
     },
     "execution_count": 427,
     "metadata": {},
     "output_type": "execute_result"
    }
   ],
   "source": [
    "dataset.shape"
   ]
  },
  {
   "cell_type": "code",
   "execution_count": 428,
   "metadata": {},
   "outputs": [
    {
     "data": {
      "text/plain": [
       "array(['DH', 'FIJO', 'PVPC', 'TRAMOS'], dtype=object)"
      ]
     },
     "execution_count": 428,
     "metadata": {},
     "output_type": "execute_result"
    }
   ],
   "source": [
    "dataset['tipo'].unique()"
   ]
  },
  {
   "cell_type": "code",
   "execution_count": 429,
   "metadata": {},
   "outputs": [],
   "source": [
    "# Pasamos a tipo numerico el tipo\n",
    "label_encoder = LabelEncoder()\n",
    "\n",
    "# Aplicar LabelEncoder a la columna 'tipo'\n",
    "dataset['tipo_numerico'] = label_encoder.fit_transform(dataset['tipo'])"
   ]
  },
  {
   "cell_type": "code",
   "execution_count": 430,
   "metadata": {},
   "outputs": [
    {
     "name": "stdout",
     "output_type": "stream",
     "text": [
      "<class 'pandas.core.frame.DataFrame'>\n",
      "RangeIndex: 2080 entries, 0 to 2079\n",
      "Data columns (total 45 columns):\n",
      " #   Column                          Non-Null Count  Dtype  \n",
      "---  ------                          --------------  -----  \n",
      " 0   Unnamed: 0.1                    2080 non-null   int64  \n",
      " 1   Unnamed: 0                      2080 non-null   int64  \n",
      " 2   id_tarifa                       2080 non-null   int64  \n",
      " 3   consumo_kWh                     2080 non-null   int64  \n",
      " 4   %consumo_valle                  2080 non-null   int64  \n",
      " 5   %consumo_llano                  2080 non-null   int64  \n",
      " 6   %consumo_punta                  2080 non-null   int64  \n",
      " 7   %consumo_8h                     2080 non-null   int64  \n",
      " 8   %consumo_16h                    2080 non-null   int64  \n",
      " 9   compania                        2080 non-null   object \n",
      " 10  tarifa                          2080 non-null   object \n",
      " 11  tp_punta_euros/kwh/dia          2080 non-null   float64\n",
      " 12  tp_valle_euros/kwh/dia          2080 non-null   float64\n",
      " 13  peaje_tran_dist_pot_punta       2080 non-null   float64\n",
      " 14  peaje_tran_dist_pot_valle       2080 non-null   float64\n",
      " 15  peaje_ener_valle_tdc            2080 non-null   float64\n",
      " 16  peaje_ener_llano_tdc            2080 non-null   float64\n",
      " 17  peaje_ener_punta_tdc            2080 non-null   float64\n",
      " 18  termino_consumo_euros/kwh/hora  2080 non-null   float64\n",
      " 19  tc_valle_euros/kwh/hora         2080 non-null   float64\n",
      " 20  tc_llano_euros/kwh/hora         2080 non-null   float64\n",
      " 21  tc_punta_euros/kwh/hora         2080 non-null   float64\n",
      " 22  tc_8h_euros/kwh/hora            2080 non-null   float64\n",
      " 23  tc_16h_euros/kwh/hora           2080 non-null   float64\n",
      " 24  mercado                         2080 non-null   object \n",
      " 25  tipo                            2080 non-null   object \n",
      " 26  otros                           2080 non-null   float64\n",
      " 27  alquiler_equipo_euros/dia       2080 non-null   float64\n",
      " 28  impuesto_actual                 2080 non-null   float64\n",
      " 29  bono_social_euro/dia            2080 non-null   float64\n",
      " 30  margen_euros/kWh/dia            2080 non-null   float64\n",
      " 31  consumo_unico                   2080 non-null   float64\n",
      " 32  consumo_valle                   2080 non-null   float64\n",
      " 33  consumo_llano                   2080 non-null   float64\n",
      " 34  consumo_punta                   2080 non-null   float64\n",
      " 35  consumo_8h                      2080 non-null   float64\n",
      " 36  consumo_16h                     2080 non-null   float64\n",
      " 37  consumo_euros_unico             2080 non-null   float64\n",
      " 38  consumo_euros_valle             2080 non-null   float64\n",
      " 39  consumo_euros_llano             2080 non-null   float64\n",
      " 40  consumo_euros_punta             2080 non-null   float64\n",
      " 41  consumo_euros_8h                2080 non-null   float64\n",
      " 42  consumo_euros_16h               2080 non-null   float64\n",
      " 43  precio_final                    2080 non-null   float64\n",
      " 44  tipo_numerico                   2080 non-null   int32  \n",
      "dtypes: float64(31), int32(1), int64(9), object(4)\n",
      "memory usage: 723.2+ KB\n"
     ]
    }
   ],
   "source": [
    "dataset.info()"
   ]
  },
  {
   "cell_type": "code",
   "execution_count": 431,
   "metadata": {},
   "outputs": [
    {
     "data": {
      "text/html": [
       "<div>\n",
       "<style scoped>\n",
       "    .dataframe tbody tr th:only-of-type {\n",
       "        vertical-align: middle;\n",
       "    }\n",
       "\n",
       "    .dataframe tbody tr th {\n",
       "        vertical-align: top;\n",
       "    }\n",
       "\n",
       "    .dataframe thead th {\n",
       "        text-align: right;\n",
       "    }\n",
       "</style>\n",
       "<table border=\"1\" class=\"dataframe\">\n",
       "  <thead>\n",
       "    <tr style=\"text-align: right;\">\n",
       "      <th></th>\n",
       "      <th>Unnamed: 0.1</th>\n",
       "      <th>Unnamed: 0</th>\n",
       "      <th>id_tarifa</th>\n",
       "      <th>consumo_kWh</th>\n",
       "      <th>%consumo_valle</th>\n",
       "      <th>%consumo_llano</th>\n",
       "      <th>%consumo_punta</th>\n",
       "      <th>%consumo_8h</th>\n",
       "      <th>%consumo_16h</th>\n",
       "      <th>compania</th>\n",
       "      <th>tarifa</th>\n",
       "      <th>tp_punta_euros/kwh/dia</th>\n",
       "      <th>tp_valle_euros/kwh/dia</th>\n",
       "      <th>peaje_tran_dist_pot_punta</th>\n",
       "      <th>peaje_tran_dist_pot_valle</th>\n",
       "      <th>peaje_ener_valle_tdc</th>\n",
       "      <th>peaje_ener_llano_tdc</th>\n",
       "      <th>peaje_ener_punta_tdc</th>\n",
       "      <th>termino_consumo_euros/kwh/hora</th>\n",
       "      <th>tc_valle_euros/kwh/hora</th>\n",
       "      <th>tc_llano_euros/kwh/hora</th>\n",
       "      <th>tc_punta_euros/kwh/hora</th>\n",
       "      <th>tc_8h_euros/kwh/hora</th>\n",
       "      <th>tc_16h_euros/kwh/hora</th>\n",
       "      <th>mercado</th>\n",
       "      <th>tipo</th>\n",
       "      <th>otros</th>\n",
       "      <th>alquiler_equipo_euros/dia</th>\n",
       "      <th>impuesto_actual</th>\n",
       "      <th>bono_social_euro/dia</th>\n",
       "      <th>margen_euros/kWh/dia</th>\n",
       "      <th>consumo_unico</th>\n",
       "      <th>consumo_valle</th>\n",
       "      <th>consumo_llano</th>\n",
       "      <th>consumo_punta</th>\n",
       "      <th>consumo_8h</th>\n",
       "      <th>consumo_16h</th>\n",
       "      <th>consumo_euros_unico</th>\n",
       "      <th>consumo_euros_valle</th>\n",
       "      <th>consumo_euros_llano</th>\n",
       "      <th>consumo_euros_punta</th>\n",
       "      <th>consumo_euros_8h</th>\n",
       "      <th>consumo_euros_16h</th>\n",
       "      <th>precio_final</th>\n",
       "      <th>tipo_numerico</th>\n",
       "    </tr>\n",
       "  </thead>\n",
       "  <tbody>\n",
       "    <tr>\n",
       "      <th>0</th>\n",
       "      <td>0</td>\n",
       "      <td>0</td>\n",
       "      <td>0</td>\n",
       "      <td>202</td>\n",
       "      <td>6</td>\n",
       "      <td>75</td>\n",
       "      <td>19</td>\n",
       "      <td>30</td>\n",
       "      <td>70</td>\n",
       "      <td>Repsol</td>\n",
       "      <td>Mis 10 Horas</td>\n",
       "      <td>0.068192</td>\n",
       "      <td>0.068192</td>\n",
       "      <td>0.008192</td>\n",
       "      <td>0.000527</td>\n",
       "      <td>0.002752</td>\n",
       "      <td>0.027963</td>\n",
       "      <td>0.076974</td>\n",
       "      <td>0.0</td>\n",
       "      <td>0.000000</td>\n",
       "      <td>0.000000</td>\n",
       "      <td>0.000000</td>\n",
       "      <td>0.086415</td>\n",
       "      <td>0.17283</td>\n",
       "      <td>Libre</td>\n",
       "      <td>DH</td>\n",
       "      <td>0.00</td>\n",
       "      <td>0.026557</td>\n",
       "      <td>5.11</td>\n",
       "      <td>0.0</td>\n",
       "      <td>0.0</td>\n",
       "      <td>0.0</td>\n",
       "      <td>0.00</td>\n",
       "      <td>0.00</td>\n",
       "      <td>0.00</td>\n",
       "      <td>60.60</td>\n",
       "      <td>141.40</td>\n",
       "      <td>0.0</td>\n",
       "      <td>0.000000</td>\n",
       "      <td>0.000000</td>\n",
       "      <td>0.000000</td>\n",
       "      <td>5.236749</td>\n",
       "      <td>24.438162</td>\n",
       "      <td>29.674911</td>\n",
       "      <td>0</td>\n",
       "    </tr>\n",
       "    <tr>\n",
       "      <th>1</th>\n",
       "      <td>1</td>\n",
       "      <td>1</td>\n",
       "      <td>0</td>\n",
       "      <td>279</td>\n",
       "      <td>23</td>\n",
       "      <td>19</td>\n",
       "      <td>58</td>\n",
       "      <td>1</td>\n",
       "      <td>99</td>\n",
       "      <td>Repsol</td>\n",
       "      <td>Mis 10 Horas</td>\n",
       "      <td>0.068192</td>\n",
       "      <td>0.068192</td>\n",
       "      <td>0.008192</td>\n",
       "      <td>0.000527</td>\n",
       "      <td>0.002752</td>\n",
       "      <td>0.027963</td>\n",
       "      <td>0.076974</td>\n",
       "      <td>0.0</td>\n",
       "      <td>0.000000</td>\n",
       "      <td>0.000000</td>\n",
       "      <td>0.000000</td>\n",
       "      <td>0.086415</td>\n",
       "      <td>0.17283</td>\n",
       "      <td>Libre</td>\n",
       "      <td>DH</td>\n",
       "      <td>0.00</td>\n",
       "      <td>0.026557</td>\n",
       "      <td>5.11</td>\n",
       "      <td>0.0</td>\n",
       "      <td>0.0</td>\n",
       "      <td>0.0</td>\n",
       "      <td>0.00</td>\n",
       "      <td>0.00</td>\n",
       "      <td>0.00</td>\n",
       "      <td>2.79</td>\n",
       "      <td>276.21</td>\n",
       "      <td>0.0</td>\n",
       "      <td>0.000000</td>\n",
       "      <td>0.000000</td>\n",
       "      <td>0.000000</td>\n",
       "      <td>0.241098</td>\n",
       "      <td>47.737374</td>\n",
       "      <td>47.978472</td>\n",
       "      <td>0</td>\n",
       "    </tr>\n",
       "    <tr>\n",
       "      <th>2</th>\n",
       "      <td>2</td>\n",
       "      <td>2</td>\n",
       "      <td>0</td>\n",
       "      <td>192</td>\n",
       "      <td>36</td>\n",
       "      <td>3</td>\n",
       "      <td>61</td>\n",
       "      <td>14</td>\n",
       "      <td>86</td>\n",
       "      <td>Repsol</td>\n",
       "      <td>Mis 10 Horas</td>\n",
       "      <td>0.068192</td>\n",
       "      <td>0.068192</td>\n",
       "      <td>0.008192</td>\n",
       "      <td>0.000527</td>\n",
       "      <td>0.002752</td>\n",
       "      <td>0.027963</td>\n",
       "      <td>0.076974</td>\n",
       "      <td>0.0</td>\n",
       "      <td>0.000000</td>\n",
       "      <td>0.000000</td>\n",
       "      <td>0.000000</td>\n",
       "      <td>0.086415</td>\n",
       "      <td>0.17283</td>\n",
       "      <td>Libre</td>\n",
       "      <td>DH</td>\n",
       "      <td>0.00</td>\n",
       "      <td>0.026557</td>\n",
       "      <td>5.11</td>\n",
       "      <td>0.0</td>\n",
       "      <td>0.0</td>\n",
       "      <td>0.0</td>\n",
       "      <td>0.00</td>\n",
       "      <td>0.00</td>\n",
       "      <td>0.00</td>\n",
       "      <td>26.88</td>\n",
       "      <td>165.12</td>\n",
       "      <td>0.0</td>\n",
       "      <td>0.000000</td>\n",
       "      <td>0.000000</td>\n",
       "      <td>0.000000</td>\n",
       "      <td>2.322835</td>\n",
       "      <td>28.537690</td>\n",
       "      <td>30.860525</td>\n",
       "      <td>0</td>\n",
       "    </tr>\n",
       "    <tr>\n",
       "      <th>3</th>\n",
       "      <td>3</td>\n",
       "      <td>3</td>\n",
       "      <td>0</td>\n",
       "      <td>114</td>\n",
       "      <td>59</td>\n",
       "      <td>23</td>\n",
       "      <td>18</td>\n",
       "      <td>56</td>\n",
       "      <td>44</td>\n",
       "      <td>Repsol</td>\n",
       "      <td>Mis 10 Horas</td>\n",
       "      <td>0.068192</td>\n",
       "      <td>0.068192</td>\n",
       "      <td>0.008192</td>\n",
       "      <td>0.000527</td>\n",
       "      <td>0.002752</td>\n",
       "      <td>0.027963</td>\n",
       "      <td>0.076974</td>\n",
       "      <td>0.0</td>\n",
       "      <td>0.000000</td>\n",
       "      <td>0.000000</td>\n",
       "      <td>0.000000</td>\n",
       "      <td>0.086415</td>\n",
       "      <td>0.17283</td>\n",
       "      <td>Libre</td>\n",
       "      <td>DH</td>\n",
       "      <td>0.00</td>\n",
       "      <td>0.026557</td>\n",
       "      <td>5.11</td>\n",
       "      <td>0.0</td>\n",
       "      <td>0.0</td>\n",
       "      <td>0.0</td>\n",
       "      <td>0.00</td>\n",
       "      <td>0.00</td>\n",
       "      <td>0.00</td>\n",
       "      <td>63.84</td>\n",
       "      <td>50.16</td>\n",
       "      <td>0.0</td>\n",
       "      <td>0.000000</td>\n",
       "      <td>0.000000</td>\n",
       "      <td>0.000000</td>\n",
       "      <td>5.516734</td>\n",
       "      <td>8.669153</td>\n",
       "      <td>14.185886</td>\n",
       "      <td>0</td>\n",
       "    </tr>\n",
       "    <tr>\n",
       "      <th>4</th>\n",
       "      <td>4</td>\n",
       "      <td>4</td>\n",
       "      <td>0</td>\n",
       "      <td>206</td>\n",
       "      <td>49</td>\n",
       "      <td>48</td>\n",
       "      <td>3</td>\n",
       "      <td>74</td>\n",
       "      <td>26</td>\n",
       "      <td>Repsol</td>\n",
       "      <td>Mis 10 Horas</td>\n",
       "      <td>0.068192</td>\n",
       "      <td>0.068192</td>\n",
       "      <td>0.008192</td>\n",
       "      <td>0.000527</td>\n",
       "      <td>0.002752</td>\n",
       "      <td>0.027963</td>\n",
       "      <td>0.076974</td>\n",
       "      <td>0.0</td>\n",
       "      <td>0.000000</td>\n",
       "      <td>0.000000</td>\n",
       "      <td>0.000000</td>\n",
       "      <td>0.086415</td>\n",
       "      <td>0.17283</td>\n",
       "      <td>Libre</td>\n",
       "      <td>DH</td>\n",
       "      <td>0.00</td>\n",
       "      <td>0.026557</td>\n",
       "      <td>5.11</td>\n",
       "      <td>0.0</td>\n",
       "      <td>0.0</td>\n",
       "      <td>0.0</td>\n",
       "      <td>0.00</td>\n",
       "      <td>0.00</td>\n",
       "      <td>0.00</td>\n",
       "      <td>152.44</td>\n",
       "      <td>53.56</td>\n",
       "      <td>0.0</td>\n",
       "      <td>0.000000</td>\n",
       "      <td>0.000000</td>\n",
       "      <td>0.000000</td>\n",
       "      <td>13.173103</td>\n",
       "      <td>9.256775</td>\n",
       "      <td>22.429877</td>\n",
       "      <td>0</td>\n",
       "    </tr>\n",
       "    <tr>\n",
       "      <th>...</th>\n",
       "      <td>...</td>\n",
       "      <td>...</td>\n",
       "      <td>...</td>\n",
       "      <td>...</td>\n",
       "      <td>...</td>\n",
       "      <td>...</td>\n",
       "      <td>...</td>\n",
       "      <td>...</td>\n",
       "      <td>...</td>\n",
       "      <td>...</td>\n",
       "      <td>...</td>\n",
       "      <td>...</td>\n",
       "      <td>...</td>\n",
       "      <td>...</td>\n",
       "      <td>...</td>\n",
       "      <td>...</td>\n",
       "      <td>...</td>\n",
       "      <td>...</td>\n",
       "      <td>...</td>\n",
       "      <td>...</td>\n",
       "      <td>...</td>\n",
       "      <td>...</td>\n",
       "      <td>...</td>\n",
       "      <td>...</td>\n",
       "      <td>...</td>\n",
       "      <td>...</td>\n",
       "      <td>...</td>\n",
       "      <td>...</td>\n",
       "      <td>...</td>\n",
       "      <td>...</td>\n",
       "      <td>...</td>\n",
       "      <td>...</td>\n",
       "      <td>...</td>\n",
       "      <td>...</td>\n",
       "      <td>...</td>\n",
       "      <td>...</td>\n",
       "      <td>...</td>\n",
       "      <td>...</td>\n",
       "      <td>...</td>\n",
       "      <td>...</td>\n",
       "      <td>...</td>\n",
       "      <td>...</td>\n",
       "      <td>...</td>\n",
       "      <td>...</td>\n",
       "      <td>...</td>\n",
       "    </tr>\n",
       "    <tr>\n",
       "      <th>2075</th>\n",
       "      <td>2075</td>\n",
       "      <td>2075</td>\n",
       "      <td>103</td>\n",
       "      <td>230</td>\n",
       "      <td>72</td>\n",
       "      <td>11</td>\n",
       "      <td>17</td>\n",
       "      <td>90</td>\n",
       "      <td>10</td>\n",
       "      <td>Aduriz Energia</td>\n",
       "      <td>coste + fija</td>\n",
       "      <td>0.080039</td>\n",
       "      <td>0.003141</td>\n",
       "      <td>0.008192</td>\n",
       "      <td>0.000527</td>\n",
       "      <td>0.002752</td>\n",
       "      <td>0.027963</td>\n",
       "      <td>0.076974</td>\n",
       "      <td>0.0</td>\n",
       "      <td>0.093282</td>\n",
       "      <td>0.129895</td>\n",
       "      <td>0.179284</td>\n",
       "      <td>0.000000</td>\n",
       "      <td>0.00000</td>\n",
       "      <td>Libre</td>\n",
       "      <td>TRAMOS</td>\n",
       "      <td>3.72</td>\n",
       "      <td>0.026557</td>\n",
       "      <td>5.11</td>\n",
       "      <td>0.0</td>\n",
       "      <td>0.0</td>\n",
       "      <td>0.0</td>\n",
       "      <td>165.60</td>\n",
       "      <td>25.30</td>\n",
       "      <td>39.10</td>\n",
       "      <td>0.00</td>\n",
       "      <td>0.00</td>\n",
       "      <td>0.0</td>\n",
       "      <td>15.447499</td>\n",
       "      <td>3.286344</td>\n",
       "      <td>7.010004</td>\n",
       "      <td>0.000000</td>\n",
       "      <td>0.000000</td>\n",
       "      <td>25.743847</td>\n",
       "      <td>3</td>\n",
       "    </tr>\n",
       "    <tr>\n",
       "      <th>2076</th>\n",
       "      <td>2076</td>\n",
       "      <td>2076</td>\n",
       "      <td>103</td>\n",
       "      <td>255</td>\n",
       "      <td>34</td>\n",
       "      <td>62</td>\n",
       "      <td>4</td>\n",
       "      <td>51</td>\n",
       "      <td>49</td>\n",
       "      <td>Aduriz Energia</td>\n",
       "      <td>coste + fija</td>\n",
       "      <td>0.080039</td>\n",
       "      <td>0.003141</td>\n",
       "      <td>0.008192</td>\n",
       "      <td>0.000527</td>\n",
       "      <td>0.002752</td>\n",
       "      <td>0.027963</td>\n",
       "      <td>0.076974</td>\n",
       "      <td>0.0</td>\n",
       "      <td>0.093282</td>\n",
       "      <td>0.129895</td>\n",
       "      <td>0.179284</td>\n",
       "      <td>0.000000</td>\n",
       "      <td>0.00000</td>\n",
       "      <td>Libre</td>\n",
       "      <td>TRAMOS</td>\n",
       "      <td>3.72</td>\n",
       "      <td>0.026557</td>\n",
       "      <td>5.11</td>\n",
       "      <td>0.0</td>\n",
       "      <td>0.0</td>\n",
       "      <td>0.0</td>\n",
       "      <td>86.70</td>\n",
       "      <td>158.10</td>\n",
       "      <td>10.20</td>\n",
       "      <td>0.00</td>\n",
       "      <td>0.00</td>\n",
       "      <td>0.0</td>\n",
       "      <td>8.087549</td>\n",
       "      <td>20.536400</td>\n",
       "      <td>1.828697</td>\n",
       "      <td>0.000000</td>\n",
       "      <td>0.000000</td>\n",
       "      <td>30.452646</td>\n",
       "      <td>3</td>\n",
       "    </tr>\n",
       "    <tr>\n",
       "      <th>2077</th>\n",
       "      <td>2077</td>\n",
       "      <td>2077</td>\n",
       "      <td>103</td>\n",
       "      <td>134</td>\n",
       "      <td>12</td>\n",
       "      <td>22</td>\n",
       "      <td>66</td>\n",
       "      <td>98</td>\n",
       "      <td>2</td>\n",
       "      <td>Aduriz Energia</td>\n",
       "      <td>coste + fija</td>\n",
       "      <td>0.080039</td>\n",
       "      <td>0.003141</td>\n",
       "      <td>0.008192</td>\n",
       "      <td>0.000527</td>\n",
       "      <td>0.002752</td>\n",
       "      <td>0.027963</td>\n",
       "      <td>0.076974</td>\n",
       "      <td>0.0</td>\n",
       "      <td>0.093282</td>\n",
       "      <td>0.129895</td>\n",
       "      <td>0.179284</td>\n",
       "      <td>0.000000</td>\n",
       "      <td>0.00000</td>\n",
       "      <td>Libre</td>\n",
       "      <td>TRAMOS</td>\n",
       "      <td>3.72</td>\n",
       "      <td>0.026557</td>\n",
       "      <td>5.11</td>\n",
       "      <td>0.0</td>\n",
       "      <td>0.0</td>\n",
       "      <td>0.0</td>\n",
       "      <td>16.08</td>\n",
       "      <td>29.48</td>\n",
       "      <td>88.44</td>\n",
       "      <td>0.00</td>\n",
       "      <td>0.00</td>\n",
       "      <td>0.0</td>\n",
       "      <td>1.499975</td>\n",
       "      <td>3.829305</td>\n",
       "      <td>15.855877</td>\n",
       "      <td>0.000000</td>\n",
       "      <td>0.000000</td>\n",
       "      <td>21.185156</td>\n",
       "      <td>3</td>\n",
       "    </tr>\n",
       "    <tr>\n",
       "      <th>2078</th>\n",
       "      <td>2078</td>\n",
       "      <td>2078</td>\n",
       "      <td>103</td>\n",
       "      <td>288</td>\n",
       "      <td>11</td>\n",
       "      <td>33</td>\n",
       "      <td>56</td>\n",
       "      <td>27</td>\n",
       "      <td>73</td>\n",
       "      <td>Aduriz Energia</td>\n",
       "      <td>coste + fija</td>\n",
       "      <td>0.080039</td>\n",
       "      <td>0.003141</td>\n",
       "      <td>0.008192</td>\n",
       "      <td>0.000527</td>\n",
       "      <td>0.002752</td>\n",
       "      <td>0.027963</td>\n",
       "      <td>0.076974</td>\n",
       "      <td>0.0</td>\n",
       "      <td>0.093282</td>\n",
       "      <td>0.129895</td>\n",
       "      <td>0.179284</td>\n",
       "      <td>0.000000</td>\n",
       "      <td>0.00000</td>\n",
       "      <td>Libre</td>\n",
       "      <td>TRAMOS</td>\n",
       "      <td>3.72</td>\n",
       "      <td>0.026557</td>\n",
       "      <td>5.11</td>\n",
       "      <td>0.0</td>\n",
       "      <td>0.0</td>\n",
       "      <td>0.0</td>\n",
       "      <td>31.68</td>\n",
       "      <td>95.04</td>\n",
       "      <td>161.28</td>\n",
       "      <td>0.00</td>\n",
       "      <td>0.00</td>\n",
       "      <td>0.0</td>\n",
       "      <td>2.955174</td>\n",
       "      <td>12.345221</td>\n",
       "      <td>28.914924</td>\n",
       "      <td>0.000000</td>\n",
       "      <td>0.000000</td>\n",
       "      <td>44.215318</td>\n",
       "      <td>3</td>\n",
       "    </tr>\n",
       "    <tr>\n",
       "      <th>2079</th>\n",
       "      <td>2079</td>\n",
       "      <td>2079</td>\n",
       "      <td>103</td>\n",
       "      <td>192</td>\n",
       "      <td>61</td>\n",
       "      <td>12</td>\n",
       "      <td>27</td>\n",
       "      <td>69</td>\n",
       "      <td>31</td>\n",
       "      <td>Aduriz Energia</td>\n",
       "      <td>coste + fija</td>\n",
       "      <td>0.080039</td>\n",
       "      <td>0.003141</td>\n",
       "      <td>0.008192</td>\n",
       "      <td>0.000527</td>\n",
       "      <td>0.002752</td>\n",
       "      <td>0.027963</td>\n",
       "      <td>0.076974</td>\n",
       "      <td>0.0</td>\n",
       "      <td>0.093282</td>\n",
       "      <td>0.129895</td>\n",
       "      <td>0.179284</td>\n",
       "      <td>0.000000</td>\n",
       "      <td>0.00000</td>\n",
       "      <td>Libre</td>\n",
       "      <td>TRAMOS</td>\n",
       "      <td>3.72</td>\n",
       "      <td>0.026557</td>\n",
       "      <td>5.11</td>\n",
       "      <td>0.0</td>\n",
       "      <td>0.0</td>\n",
       "      <td>0.0</td>\n",
       "      <td>117.12</td>\n",
       "      <td>23.04</td>\n",
       "      <td>51.84</td>\n",
       "      <td>0.00</td>\n",
       "      <td>0.00</td>\n",
       "      <td>0.0</td>\n",
       "      <td>10.925188</td>\n",
       "      <td>2.992781</td>\n",
       "      <td>9.294083</td>\n",
       "      <td>0.000000</td>\n",
       "      <td>0.000000</td>\n",
       "      <td>23.212051</td>\n",
       "      <td>3</td>\n",
       "    </tr>\n",
       "  </tbody>\n",
       "</table>\n",
       "<p>2080 rows × 45 columns</p>\n",
       "</div>"
      ],
      "text/plain": [
       "      Unnamed: 0.1  Unnamed: 0  id_tarifa  consumo_kWh  %consumo_valle  \\\n",
       "0                0           0          0          202               6   \n",
       "1                1           1          0          279              23   \n",
       "2                2           2          0          192              36   \n",
       "3                3           3          0          114              59   \n",
       "4                4           4          0          206              49   \n",
       "...            ...         ...        ...          ...             ...   \n",
       "2075          2075        2075        103          230              72   \n",
       "2076          2076        2076        103          255              34   \n",
       "2077          2077        2077        103          134              12   \n",
       "2078          2078        2078        103          288              11   \n",
       "2079          2079        2079        103          192              61   \n",
       "\n",
       "      %consumo_llano  %consumo_punta  %consumo_8h  %consumo_16h  \\\n",
       "0                 75              19           30            70   \n",
       "1                 19              58            1            99   \n",
       "2                  3              61           14            86   \n",
       "3                 23              18           56            44   \n",
       "4                 48               3           74            26   \n",
       "...              ...             ...          ...           ...   \n",
       "2075              11              17           90            10   \n",
       "2076              62               4           51            49   \n",
       "2077              22              66           98             2   \n",
       "2078              33              56           27            73   \n",
       "2079              12              27           69            31   \n",
       "\n",
       "            compania        tarifa  tp_punta_euros/kwh/dia  \\\n",
       "0             Repsol  Mis 10 Horas                0.068192   \n",
       "1             Repsol  Mis 10 Horas                0.068192   \n",
       "2             Repsol  Mis 10 Horas                0.068192   \n",
       "3             Repsol  Mis 10 Horas                0.068192   \n",
       "4             Repsol  Mis 10 Horas                0.068192   \n",
       "...              ...           ...                     ...   \n",
       "2075  Aduriz Energia  coste + fija                0.080039   \n",
       "2076  Aduriz Energia  coste + fija                0.080039   \n",
       "2077  Aduriz Energia  coste + fija                0.080039   \n",
       "2078  Aduriz Energia  coste + fija                0.080039   \n",
       "2079  Aduriz Energia  coste + fija                0.080039   \n",
       "\n",
       "      tp_valle_euros/kwh/dia  peaje_tran_dist_pot_punta  \\\n",
       "0                   0.068192                   0.008192   \n",
       "1                   0.068192                   0.008192   \n",
       "2                   0.068192                   0.008192   \n",
       "3                   0.068192                   0.008192   \n",
       "4                   0.068192                   0.008192   \n",
       "...                      ...                        ...   \n",
       "2075                0.003141                   0.008192   \n",
       "2076                0.003141                   0.008192   \n",
       "2077                0.003141                   0.008192   \n",
       "2078                0.003141                   0.008192   \n",
       "2079                0.003141                   0.008192   \n",
       "\n",
       "      peaje_tran_dist_pot_valle  peaje_ener_valle_tdc  peaje_ener_llano_tdc  \\\n",
       "0                      0.000527              0.002752              0.027963   \n",
       "1                      0.000527              0.002752              0.027963   \n",
       "2                      0.000527              0.002752              0.027963   \n",
       "3                      0.000527              0.002752              0.027963   \n",
       "4                      0.000527              0.002752              0.027963   \n",
       "...                         ...                   ...                   ...   \n",
       "2075                   0.000527              0.002752              0.027963   \n",
       "2076                   0.000527              0.002752              0.027963   \n",
       "2077                   0.000527              0.002752              0.027963   \n",
       "2078                   0.000527              0.002752              0.027963   \n",
       "2079                   0.000527              0.002752              0.027963   \n",
       "\n",
       "      peaje_ener_punta_tdc  termino_consumo_euros/kwh/hora  \\\n",
       "0                 0.076974                             0.0   \n",
       "1                 0.076974                             0.0   \n",
       "2                 0.076974                             0.0   \n",
       "3                 0.076974                             0.0   \n",
       "4                 0.076974                             0.0   \n",
       "...                    ...                             ...   \n",
       "2075              0.076974                             0.0   \n",
       "2076              0.076974                             0.0   \n",
       "2077              0.076974                             0.0   \n",
       "2078              0.076974                             0.0   \n",
       "2079              0.076974                             0.0   \n",
       "\n",
       "      tc_valle_euros/kwh/hora  tc_llano_euros/kwh/hora  \\\n",
       "0                    0.000000                 0.000000   \n",
       "1                    0.000000                 0.000000   \n",
       "2                    0.000000                 0.000000   \n",
       "3                    0.000000                 0.000000   \n",
       "4                    0.000000                 0.000000   \n",
       "...                       ...                      ...   \n",
       "2075                 0.093282                 0.129895   \n",
       "2076                 0.093282                 0.129895   \n",
       "2077                 0.093282                 0.129895   \n",
       "2078                 0.093282                 0.129895   \n",
       "2079                 0.093282                 0.129895   \n",
       "\n",
       "      tc_punta_euros/kwh/hora  tc_8h_euros/kwh/hora  tc_16h_euros/kwh/hora  \\\n",
       "0                    0.000000              0.086415                0.17283   \n",
       "1                    0.000000              0.086415                0.17283   \n",
       "2                    0.000000              0.086415                0.17283   \n",
       "3                    0.000000              0.086415                0.17283   \n",
       "4                    0.000000              0.086415                0.17283   \n",
       "...                       ...                   ...                    ...   \n",
       "2075                 0.179284              0.000000                0.00000   \n",
       "2076                 0.179284              0.000000                0.00000   \n",
       "2077                 0.179284              0.000000                0.00000   \n",
       "2078                 0.179284              0.000000                0.00000   \n",
       "2079                 0.179284              0.000000                0.00000   \n",
       "\n",
       "     mercado    tipo  otros  alquiler_equipo_euros/dia  impuesto_actual  \\\n",
       "0      Libre      DH   0.00                   0.026557             5.11   \n",
       "1      Libre      DH   0.00                   0.026557             5.11   \n",
       "2      Libre      DH   0.00                   0.026557             5.11   \n",
       "3      Libre      DH   0.00                   0.026557             5.11   \n",
       "4      Libre      DH   0.00                   0.026557             5.11   \n",
       "...      ...     ...    ...                        ...              ...   \n",
       "2075   Libre  TRAMOS   3.72                   0.026557             5.11   \n",
       "2076   Libre  TRAMOS   3.72                   0.026557             5.11   \n",
       "2077   Libre  TRAMOS   3.72                   0.026557             5.11   \n",
       "2078   Libre  TRAMOS   3.72                   0.026557             5.11   \n",
       "2079   Libre  TRAMOS   3.72                   0.026557             5.11   \n",
       "\n",
       "      bono_social_euro/dia  margen_euros/kWh/dia  consumo_unico  \\\n",
       "0                      0.0                   0.0            0.0   \n",
       "1                      0.0                   0.0            0.0   \n",
       "2                      0.0                   0.0            0.0   \n",
       "3                      0.0                   0.0            0.0   \n",
       "4                      0.0                   0.0            0.0   \n",
       "...                    ...                   ...            ...   \n",
       "2075                   0.0                   0.0            0.0   \n",
       "2076                   0.0                   0.0            0.0   \n",
       "2077                   0.0                   0.0            0.0   \n",
       "2078                   0.0                   0.0            0.0   \n",
       "2079                   0.0                   0.0            0.0   \n",
       "\n",
       "      consumo_valle  consumo_llano  consumo_punta  consumo_8h  consumo_16h  \\\n",
       "0              0.00           0.00           0.00       60.60       141.40   \n",
       "1              0.00           0.00           0.00        2.79       276.21   \n",
       "2              0.00           0.00           0.00       26.88       165.12   \n",
       "3              0.00           0.00           0.00       63.84        50.16   \n",
       "4              0.00           0.00           0.00      152.44        53.56   \n",
       "...             ...            ...            ...         ...          ...   \n",
       "2075         165.60          25.30          39.10        0.00         0.00   \n",
       "2076          86.70         158.10          10.20        0.00         0.00   \n",
       "2077          16.08          29.48          88.44        0.00         0.00   \n",
       "2078          31.68          95.04         161.28        0.00         0.00   \n",
       "2079         117.12          23.04          51.84        0.00         0.00   \n",
       "\n",
       "      consumo_euros_unico  consumo_euros_valle  consumo_euros_llano  \\\n",
       "0                     0.0             0.000000             0.000000   \n",
       "1                     0.0             0.000000             0.000000   \n",
       "2                     0.0             0.000000             0.000000   \n",
       "3                     0.0             0.000000             0.000000   \n",
       "4                     0.0             0.000000             0.000000   \n",
       "...                   ...                  ...                  ...   \n",
       "2075                  0.0            15.447499             3.286344   \n",
       "2076                  0.0             8.087549            20.536400   \n",
       "2077                  0.0             1.499975             3.829305   \n",
       "2078                  0.0             2.955174            12.345221   \n",
       "2079                  0.0            10.925188             2.992781   \n",
       "\n",
       "      consumo_euros_punta  consumo_euros_8h  consumo_euros_16h  precio_final  \\\n",
       "0                0.000000          5.236749          24.438162     29.674911   \n",
       "1                0.000000          0.241098          47.737374     47.978472   \n",
       "2                0.000000          2.322835          28.537690     30.860525   \n",
       "3                0.000000          5.516734           8.669153     14.185886   \n",
       "4                0.000000         13.173103           9.256775     22.429877   \n",
       "...                   ...               ...                ...           ...   \n",
       "2075             7.010004          0.000000           0.000000     25.743847   \n",
       "2076             1.828697          0.000000           0.000000     30.452646   \n",
       "2077            15.855877          0.000000           0.000000     21.185156   \n",
       "2078            28.914924          0.000000           0.000000     44.215318   \n",
       "2079             9.294083          0.000000           0.000000     23.212051   \n",
       "\n",
       "      tipo_numerico  \n",
       "0                 0  \n",
       "1                 0  \n",
       "2                 0  \n",
       "3                 0  \n",
       "4                 0  \n",
       "...             ...  \n",
       "2075              3  \n",
       "2076              3  \n",
       "2077              3  \n",
       "2078              3  \n",
       "2079              3  \n",
       "\n",
       "[2080 rows x 45 columns]"
      ]
     },
     "execution_count": 431,
     "metadata": {},
     "output_type": "execute_result"
    }
   ],
   "source": [
    "dataset"
   ]
  },
  {
   "cell_type": "code",
   "execution_count": 432,
   "metadata": {},
   "outputs": [
    {
     "data": {
      "text/plain": [
       "Unnamed: 0.1                      0\n",
       "Unnamed: 0                        0\n",
       "id_tarifa                         0\n",
       "consumo_kWh                       0\n",
       "%consumo_valle                    0\n",
       "%consumo_llano                    0\n",
       "%consumo_punta                    0\n",
       "%consumo_8h                       0\n",
       "%consumo_16h                      0\n",
       "compania                          0\n",
       "tarifa                            0\n",
       "tp_punta_euros/kwh/dia            0\n",
       "tp_valle_euros/kwh/dia            0\n",
       "peaje_tran_dist_pot_punta         0\n",
       "peaje_tran_dist_pot_valle         0\n",
       "peaje_ener_valle_tdc              0\n",
       "peaje_ener_llano_tdc              0\n",
       "peaje_ener_punta_tdc              0\n",
       "termino_consumo_euros/kwh/hora    0\n",
       "tc_valle_euros/kwh/hora           0\n",
       "tc_llano_euros/kwh/hora           0\n",
       "tc_punta_euros/kwh/hora           0\n",
       "tc_8h_euros/kwh/hora              0\n",
       "tc_16h_euros/kwh/hora             0\n",
       "mercado                           0\n",
       "tipo                              0\n",
       "otros                             0\n",
       "alquiler_equipo_euros/dia         0\n",
       "impuesto_actual                   0\n",
       "bono_social_euro/dia              0\n",
       "margen_euros/kWh/dia              0\n",
       "consumo_unico                     0\n",
       "consumo_valle                     0\n",
       "consumo_llano                     0\n",
       "consumo_punta                     0\n",
       "consumo_8h                        0\n",
       "consumo_16h                       0\n",
       "consumo_euros_unico               0\n",
       "consumo_euros_valle               0\n",
       "consumo_euros_llano               0\n",
       "consumo_euros_punta               0\n",
       "consumo_euros_8h                  0\n",
       "consumo_euros_16h                 0\n",
       "precio_final                      0\n",
       "tipo_numerico                     0\n",
       "dtype: int64"
      ]
     },
     "execution_count": 432,
     "metadata": {},
     "output_type": "execute_result"
    }
   ],
   "source": [
    "dataset.isnull().sum()"
   ]
  },
  {
   "cell_type": "code",
   "execution_count": 433,
   "metadata": {},
   "outputs": [
    {
     "data": {
      "text/html": [
       "<div>\n",
       "<style scoped>\n",
       "    .dataframe tbody tr th:only-of-type {\n",
       "        vertical-align: middle;\n",
       "    }\n",
       "\n",
       "    .dataframe tbody tr th {\n",
       "        vertical-align: top;\n",
       "    }\n",
       "\n",
       "    .dataframe thead th {\n",
       "        text-align: right;\n",
       "    }\n",
       "</style>\n",
       "<table border=\"1\" class=\"dataframe\">\n",
       "  <thead>\n",
       "    <tr style=\"text-align: right;\">\n",
       "      <th></th>\n",
       "      <th>Libre</th>\n",
       "      <th>Regulado</th>\n",
       "    </tr>\n",
       "  </thead>\n",
       "  <tbody>\n",
       "    <tr>\n",
       "      <th>0</th>\n",
       "      <td>1</td>\n",
       "      <td>0</td>\n",
       "    </tr>\n",
       "    <tr>\n",
       "      <th>1</th>\n",
       "      <td>1</td>\n",
       "      <td>0</td>\n",
       "    </tr>\n",
       "    <tr>\n",
       "      <th>2</th>\n",
       "      <td>1</td>\n",
       "      <td>0</td>\n",
       "    </tr>\n",
       "    <tr>\n",
       "      <th>3</th>\n",
       "      <td>1</td>\n",
       "      <td>0</td>\n",
       "    </tr>\n",
       "    <tr>\n",
       "      <th>4</th>\n",
       "      <td>1</td>\n",
       "      <td>0</td>\n",
       "    </tr>\n",
       "    <tr>\n",
       "      <th>...</th>\n",
       "      <td>...</td>\n",
       "      <td>...</td>\n",
       "    </tr>\n",
       "    <tr>\n",
       "      <th>2075</th>\n",
       "      <td>1</td>\n",
       "      <td>0</td>\n",
       "    </tr>\n",
       "    <tr>\n",
       "      <th>2076</th>\n",
       "      <td>1</td>\n",
       "      <td>0</td>\n",
       "    </tr>\n",
       "    <tr>\n",
       "      <th>2077</th>\n",
       "      <td>1</td>\n",
       "      <td>0</td>\n",
       "    </tr>\n",
       "    <tr>\n",
       "      <th>2078</th>\n",
       "      <td>1</td>\n",
       "      <td>0</td>\n",
       "    </tr>\n",
       "    <tr>\n",
       "      <th>2079</th>\n",
       "      <td>1</td>\n",
       "      <td>0</td>\n",
       "    </tr>\n",
       "  </tbody>\n",
       "</table>\n",
       "<p>2080 rows × 2 columns</p>\n",
       "</div>"
      ],
      "text/plain": [
       "      Libre  Regulado\n",
       "0         1         0\n",
       "1         1         0\n",
       "2         1         0\n",
       "3         1         0\n",
       "4         1         0\n",
       "...     ...       ...\n",
       "2075      1         0\n",
       "2076      1         0\n",
       "2077      1         0\n",
       "2078      1         0\n",
       "2079      1         0\n",
       "\n",
       "[2080 rows x 2 columns]"
      ]
     },
     "execution_count": 433,
     "metadata": {},
     "output_type": "execute_result"
    }
   ],
   "source": [
    "pd.get_dummies(dataset['mercado'], dtype='int')"
   ]
  },
  {
   "cell_type": "code",
   "execution_count": 434,
   "metadata": {},
   "outputs": [],
   "source": [
    "# Creamos los dummies del tipo de mercado\n",
    "\n",
    "dt = pd.merge(dataset, pd.get_dummies(dataset['mercado'], dtype='int'), left_index=True, right_index=True)"
   ]
  },
  {
   "cell_type": "code",
   "execution_count": 435,
   "metadata": {},
   "outputs": [
    {
     "data": {
      "text/html": [
       "<div>\n",
       "<style scoped>\n",
       "    .dataframe tbody tr th:only-of-type {\n",
       "        vertical-align: middle;\n",
       "    }\n",
       "\n",
       "    .dataframe tbody tr th {\n",
       "        vertical-align: top;\n",
       "    }\n",
       "\n",
       "    .dataframe thead th {\n",
       "        text-align: right;\n",
       "    }\n",
       "</style>\n",
       "<table border=\"1\" class=\"dataframe\">\n",
       "  <thead>\n",
       "    <tr style=\"text-align: right;\">\n",
       "      <th></th>\n",
       "      <th>Unnamed: 0.1</th>\n",
       "      <th>Unnamed: 0</th>\n",
       "      <th>id_tarifa</th>\n",
       "      <th>consumo_kWh</th>\n",
       "      <th>%consumo_valle</th>\n",
       "      <th>%consumo_llano</th>\n",
       "      <th>%consumo_punta</th>\n",
       "      <th>%consumo_8h</th>\n",
       "      <th>%consumo_16h</th>\n",
       "      <th>compania</th>\n",
       "      <th>tarifa</th>\n",
       "      <th>tp_punta_euros/kwh/dia</th>\n",
       "      <th>tp_valle_euros/kwh/dia</th>\n",
       "      <th>peaje_tran_dist_pot_punta</th>\n",
       "      <th>peaje_tran_dist_pot_valle</th>\n",
       "      <th>peaje_ener_valle_tdc</th>\n",
       "      <th>peaje_ener_llano_tdc</th>\n",
       "      <th>peaje_ener_punta_tdc</th>\n",
       "      <th>termino_consumo_euros/kwh/hora</th>\n",
       "      <th>tc_valle_euros/kwh/hora</th>\n",
       "      <th>tc_llano_euros/kwh/hora</th>\n",
       "      <th>tc_punta_euros/kwh/hora</th>\n",
       "      <th>tc_8h_euros/kwh/hora</th>\n",
       "      <th>tc_16h_euros/kwh/hora</th>\n",
       "      <th>mercado</th>\n",
       "      <th>tipo</th>\n",
       "      <th>otros</th>\n",
       "      <th>alquiler_equipo_euros/dia</th>\n",
       "      <th>impuesto_actual</th>\n",
       "      <th>bono_social_euro/dia</th>\n",
       "      <th>margen_euros/kWh/dia</th>\n",
       "      <th>consumo_unico</th>\n",
       "      <th>consumo_valle</th>\n",
       "      <th>consumo_llano</th>\n",
       "      <th>consumo_punta</th>\n",
       "      <th>consumo_8h</th>\n",
       "      <th>consumo_16h</th>\n",
       "      <th>consumo_euros_unico</th>\n",
       "      <th>consumo_euros_valle</th>\n",
       "      <th>consumo_euros_llano</th>\n",
       "      <th>consumo_euros_punta</th>\n",
       "      <th>consumo_euros_8h</th>\n",
       "      <th>consumo_euros_16h</th>\n",
       "      <th>precio_final</th>\n",
       "      <th>tipo_numerico</th>\n",
       "      <th>Libre</th>\n",
       "      <th>Regulado</th>\n",
       "    </tr>\n",
       "  </thead>\n",
       "  <tbody>\n",
       "    <tr>\n",
       "      <th>0</th>\n",
       "      <td>0</td>\n",
       "      <td>0</td>\n",
       "      <td>0</td>\n",
       "      <td>202</td>\n",
       "      <td>6</td>\n",
       "      <td>75</td>\n",
       "      <td>19</td>\n",
       "      <td>30</td>\n",
       "      <td>70</td>\n",
       "      <td>Repsol</td>\n",
       "      <td>Mis 10 Horas</td>\n",
       "      <td>0.068192</td>\n",
       "      <td>0.068192</td>\n",
       "      <td>0.008192</td>\n",
       "      <td>0.000527</td>\n",
       "      <td>0.002752</td>\n",
       "      <td>0.027963</td>\n",
       "      <td>0.076974</td>\n",
       "      <td>0.0</td>\n",
       "      <td>0.000000</td>\n",
       "      <td>0.000000</td>\n",
       "      <td>0.000000</td>\n",
       "      <td>0.086415</td>\n",
       "      <td>0.17283</td>\n",
       "      <td>Libre</td>\n",
       "      <td>DH</td>\n",
       "      <td>0.00</td>\n",
       "      <td>0.026557</td>\n",
       "      <td>5.11</td>\n",
       "      <td>0.0</td>\n",
       "      <td>0.0</td>\n",
       "      <td>0.0</td>\n",
       "      <td>0.00</td>\n",
       "      <td>0.00</td>\n",
       "      <td>0.00</td>\n",
       "      <td>60.60</td>\n",
       "      <td>141.40</td>\n",
       "      <td>0.0</td>\n",
       "      <td>0.000000</td>\n",
       "      <td>0.000000</td>\n",
       "      <td>0.000000</td>\n",
       "      <td>5.236749</td>\n",
       "      <td>24.438162</td>\n",
       "      <td>29.674911</td>\n",
       "      <td>0</td>\n",
       "      <td>1</td>\n",
       "      <td>0</td>\n",
       "    </tr>\n",
       "    <tr>\n",
       "      <th>1</th>\n",
       "      <td>1</td>\n",
       "      <td>1</td>\n",
       "      <td>0</td>\n",
       "      <td>279</td>\n",
       "      <td>23</td>\n",
       "      <td>19</td>\n",
       "      <td>58</td>\n",
       "      <td>1</td>\n",
       "      <td>99</td>\n",
       "      <td>Repsol</td>\n",
       "      <td>Mis 10 Horas</td>\n",
       "      <td>0.068192</td>\n",
       "      <td>0.068192</td>\n",
       "      <td>0.008192</td>\n",
       "      <td>0.000527</td>\n",
       "      <td>0.002752</td>\n",
       "      <td>0.027963</td>\n",
       "      <td>0.076974</td>\n",
       "      <td>0.0</td>\n",
       "      <td>0.000000</td>\n",
       "      <td>0.000000</td>\n",
       "      <td>0.000000</td>\n",
       "      <td>0.086415</td>\n",
       "      <td>0.17283</td>\n",
       "      <td>Libre</td>\n",
       "      <td>DH</td>\n",
       "      <td>0.00</td>\n",
       "      <td>0.026557</td>\n",
       "      <td>5.11</td>\n",
       "      <td>0.0</td>\n",
       "      <td>0.0</td>\n",
       "      <td>0.0</td>\n",
       "      <td>0.00</td>\n",
       "      <td>0.00</td>\n",
       "      <td>0.00</td>\n",
       "      <td>2.79</td>\n",
       "      <td>276.21</td>\n",
       "      <td>0.0</td>\n",
       "      <td>0.000000</td>\n",
       "      <td>0.000000</td>\n",
       "      <td>0.000000</td>\n",
       "      <td>0.241098</td>\n",
       "      <td>47.737374</td>\n",
       "      <td>47.978472</td>\n",
       "      <td>0</td>\n",
       "      <td>1</td>\n",
       "      <td>0</td>\n",
       "    </tr>\n",
       "    <tr>\n",
       "      <th>2</th>\n",
       "      <td>2</td>\n",
       "      <td>2</td>\n",
       "      <td>0</td>\n",
       "      <td>192</td>\n",
       "      <td>36</td>\n",
       "      <td>3</td>\n",
       "      <td>61</td>\n",
       "      <td>14</td>\n",
       "      <td>86</td>\n",
       "      <td>Repsol</td>\n",
       "      <td>Mis 10 Horas</td>\n",
       "      <td>0.068192</td>\n",
       "      <td>0.068192</td>\n",
       "      <td>0.008192</td>\n",
       "      <td>0.000527</td>\n",
       "      <td>0.002752</td>\n",
       "      <td>0.027963</td>\n",
       "      <td>0.076974</td>\n",
       "      <td>0.0</td>\n",
       "      <td>0.000000</td>\n",
       "      <td>0.000000</td>\n",
       "      <td>0.000000</td>\n",
       "      <td>0.086415</td>\n",
       "      <td>0.17283</td>\n",
       "      <td>Libre</td>\n",
       "      <td>DH</td>\n",
       "      <td>0.00</td>\n",
       "      <td>0.026557</td>\n",
       "      <td>5.11</td>\n",
       "      <td>0.0</td>\n",
       "      <td>0.0</td>\n",
       "      <td>0.0</td>\n",
       "      <td>0.00</td>\n",
       "      <td>0.00</td>\n",
       "      <td>0.00</td>\n",
       "      <td>26.88</td>\n",
       "      <td>165.12</td>\n",
       "      <td>0.0</td>\n",
       "      <td>0.000000</td>\n",
       "      <td>0.000000</td>\n",
       "      <td>0.000000</td>\n",
       "      <td>2.322835</td>\n",
       "      <td>28.537690</td>\n",
       "      <td>30.860525</td>\n",
       "      <td>0</td>\n",
       "      <td>1</td>\n",
       "      <td>0</td>\n",
       "    </tr>\n",
       "    <tr>\n",
       "      <th>3</th>\n",
       "      <td>3</td>\n",
       "      <td>3</td>\n",
       "      <td>0</td>\n",
       "      <td>114</td>\n",
       "      <td>59</td>\n",
       "      <td>23</td>\n",
       "      <td>18</td>\n",
       "      <td>56</td>\n",
       "      <td>44</td>\n",
       "      <td>Repsol</td>\n",
       "      <td>Mis 10 Horas</td>\n",
       "      <td>0.068192</td>\n",
       "      <td>0.068192</td>\n",
       "      <td>0.008192</td>\n",
       "      <td>0.000527</td>\n",
       "      <td>0.002752</td>\n",
       "      <td>0.027963</td>\n",
       "      <td>0.076974</td>\n",
       "      <td>0.0</td>\n",
       "      <td>0.000000</td>\n",
       "      <td>0.000000</td>\n",
       "      <td>0.000000</td>\n",
       "      <td>0.086415</td>\n",
       "      <td>0.17283</td>\n",
       "      <td>Libre</td>\n",
       "      <td>DH</td>\n",
       "      <td>0.00</td>\n",
       "      <td>0.026557</td>\n",
       "      <td>5.11</td>\n",
       "      <td>0.0</td>\n",
       "      <td>0.0</td>\n",
       "      <td>0.0</td>\n",
       "      <td>0.00</td>\n",
       "      <td>0.00</td>\n",
       "      <td>0.00</td>\n",
       "      <td>63.84</td>\n",
       "      <td>50.16</td>\n",
       "      <td>0.0</td>\n",
       "      <td>0.000000</td>\n",
       "      <td>0.000000</td>\n",
       "      <td>0.000000</td>\n",
       "      <td>5.516734</td>\n",
       "      <td>8.669153</td>\n",
       "      <td>14.185886</td>\n",
       "      <td>0</td>\n",
       "      <td>1</td>\n",
       "      <td>0</td>\n",
       "    </tr>\n",
       "    <tr>\n",
       "      <th>4</th>\n",
       "      <td>4</td>\n",
       "      <td>4</td>\n",
       "      <td>0</td>\n",
       "      <td>206</td>\n",
       "      <td>49</td>\n",
       "      <td>48</td>\n",
       "      <td>3</td>\n",
       "      <td>74</td>\n",
       "      <td>26</td>\n",
       "      <td>Repsol</td>\n",
       "      <td>Mis 10 Horas</td>\n",
       "      <td>0.068192</td>\n",
       "      <td>0.068192</td>\n",
       "      <td>0.008192</td>\n",
       "      <td>0.000527</td>\n",
       "      <td>0.002752</td>\n",
       "      <td>0.027963</td>\n",
       "      <td>0.076974</td>\n",
       "      <td>0.0</td>\n",
       "      <td>0.000000</td>\n",
       "      <td>0.000000</td>\n",
       "      <td>0.000000</td>\n",
       "      <td>0.086415</td>\n",
       "      <td>0.17283</td>\n",
       "      <td>Libre</td>\n",
       "      <td>DH</td>\n",
       "      <td>0.00</td>\n",
       "      <td>0.026557</td>\n",
       "      <td>5.11</td>\n",
       "      <td>0.0</td>\n",
       "      <td>0.0</td>\n",
       "      <td>0.0</td>\n",
       "      <td>0.00</td>\n",
       "      <td>0.00</td>\n",
       "      <td>0.00</td>\n",
       "      <td>152.44</td>\n",
       "      <td>53.56</td>\n",
       "      <td>0.0</td>\n",
       "      <td>0.000000</td>\n",
       "      <td>0.000000</td>\n",
       "      <td>0.000000</td>\n",
       "      <td>13.173103</td>\n",
       "      <td>9.256775</td>\n",
       "      <td>22.429877</td>\n",
       "      <td>0</td>\n",
       "      <td>1</td>\n",
       "      <td>0</td>\n",
       "    </tr>\n",
       "    <tr>\n",
       "      <th>...</th>\n",
       "      <td>...</td>\n",
       "      <td>...</td>\n",
       "      <td>...</td>\n",
       "      <td>...</td>\n",
       "      <td>...</td>\n",
       "      <td>...</td>\n",
       "      <td>...</td>\n",
       "      <td>...</td>\n",
       "      <td>...</td>\n",
       "      <td>...</td>\n",
       "      <td>...</td>\n",
       "      <td>...</td>\n",
       "      <td>...</td>\n",
       "      <td>...</td>\n",
       "      <td>...</td>\n",
       "      <td>...</td>\n",
       "      <td>...</td>\n",
       "      <td>...</td>\n",
       "      <td>...</td>\n",
       "      <td>...</td>\n",
       "      <td>...</td>\n",
       "      <td>...</td>\n",
       "      <td>...</td>\n",
       "      <td>...</td>\n",
       "      <td>...</td>\n",
       "      <td>...</td>\n",
       "      <td>...</td>\n",
       "      <td>...</td>\n",
       "      <td>...</td>\n",
       "      <td>...</td>\n",
       "      <td>...</td>\n",
       "      <td>...</td>\n",
       "      <td>...</td>\n",
       "      <td>...</td>\n",
       "      <td>...</td>\n",
       "      <td>...</td>\n",
       "      <td>...</td>\n",
       "      <td>...</td>\n",
       "      <td>...</td>\n",
       "      <td>...</td>\n",
       "      <td>...</td>\n",
       "      <td>...</td>\n",
       "      <td>...</td>\n",
       "      <td>...</td>\n",
       "      <td>...</td>\n",
       "      <td>...</td>\n",
       "      <td>...</td>\n",
       "    </tr>\n",
       "    <tr>\n",
       "      <th>2075</th>\n",
       "      <td>2075</td>\n",
       "      <td>2075</td>\n",
       "      <td>103</td>\n",
       "      <td>230</td>\n",
       "      <td>72</td>\n",
       "      <td>11</td>\n",
       "      <td>17</td>\n",
       "      <td>90</td>\n",
       "      <td>10</td>\n",
       "      <td>Aduriz Energia</td>\n",
       "      <td>coste + fija</td>\n",
       "      <td>0.080039</td>\n",
       "      <td>0.003141</td>\n",
       "      <td>0.008192</td>\n",
       "      <td>0.000527</td>\n",
       "      <td>0.002752</td>\n",
       "      <td>0.027963</td>\n",
       "      <td>0.076974</td>\n",
       "      <td>0.0</td>\n",
       "      <td>0.093282</td>\n",
       "      <td>0.129895</td>\n",
       "      <td>0.179284</td>\n",
       "      <td>0.000000</td>\n",
       "      <td>0.00000</td>\n",
       "      <td>Libre</td>\n",
       "      <td>TRAMOS</td>\n",
       "      <td>3.72</td>\n",
       "      <td>0.026557</td>\n",
       "      <td>5.11</td>\n",
       "      <td>0.0</td>\n",
       "      <td>0.0</td>\n",
       "      <td>0.0</td>\n",
       "      <td>165.60</td>\n",
       "      <td>25.30</td>\n",
       "      <td>39.10</td>\n",
       "      <td>0.00</td>\n",
       "      <td>0.00</td>\n",
       "      <td>0.0</td>\n",
       "      <td>15.447499</td>\n",
       "      <td>3.286344</td>\n",
       "      <td>7.010004</td>\n",
       "      <td>0.000000</td>\n",
       "      <td>0.000000</td>\n",
       "      <td>25.743847</td>\n",
       "      <td>3</td>\n",
       "      <td>1</td>\n",
       "      <td>0</td>\n",
       "    </tr>\n",
       "    <tr>\n",
       "      <th>2076</th>\n",
       "      <td>2076</td>\n",
       "      <td>2076</td>\n",
       "      <td>103</td>\n",
       "      <td>255</td>\n",
       "      <td>34</td>\n",
       "      <td>62</td>\n",
       "      <td>4</td>\n",
       "      <td>51</td>\n",
       "      <td>49</td>\n",
       "      <td>Aduriz Energia</td>\n",
       "      <td>coste + fija</td>\n",
       "      <td>0.080039</td>\n",
       "      <td>0.003141</td>\n",
       "      <td>0.008192</td>\n",
       "      <td>0.000527</td>\n",
       "      <td>0.002752</td>\n",
       "      <td>0.027963</td>\n",
       "      <td>0.076974</td>\n",
       "      <td>0.0</td>\n",
       "      <td>0.093282</td>\n",
       "      <td>0.129895</td>\n",
       "      <td>0.179284</td>\n",
       "      <td>0.000000</td>\n",
       "      <td>0.00000</td>\n",
       "      <td>Libre</td>\n",
       "      <td>TRAMOS</td>\n",
       "      <td>3.72</td>\n",
       "      <td>0.026557</td>\n",
       "      <td>5.11</td>\n",
       "      <td>0.0</td>\n",
       "      <td>0.0</td>\n",
       "      <td>0.0</td>\n",
       "      <td>86.70</td>\n",
       "      <td>158.10</td>\n",
       "      <td>10.20</td>\n",
       "      <td>0.00</td>\n",
       "      <td>0.00</td>\n",
       "      <td>0.0</td>\n",
       "      <td>8.087549</td>\n",
       "      <td>20.536400</td>\n",
       "      <td>1.828697</td>\n",
       "      <td>0.000000</td>\n",
       "      <td>0.000000</td>\n",
       "      <td>30.452646</td>\n",
       "      <td>3</td>\n",
       "      <td>1</td>\n",
       "      <td>0</td>\n",
       "    </tr>\n",
       "    <tr>\n",
       "      <th>2077</th>\n",
       "      <td>2077</td>\n",
       "      <td>2077</td>\n",
       "      <td>103</td>\n",
       "      <td>134</td>\n",
       "      <td>12</td>\n",
       "      <td>22</td>\n",
       "      <td>66</td>\n",
       "      <td>98</td>\n",
       "      <td>2</td>\n",
       "      <td>Aduriz Energia</td>\n",
       "      <td>coste + fija</td>\n",
       "      <td>0.080039</td>\n",
       "      <td>0.003141</td>\n",
       "      <td>0.008192</td>\n",
       "      <td>0.000527</td>\n",
       "      <td>0.002752</td>\n",
       "      <td>0.027963</td>\n",
       "      <td>0.076974</td>\n",
       "      <td>0.0</td>\n",
       "      <td>0.093282</td>\n",
       "      <td>0.129895</td>\n",
       "      <td>0.179284</td>\n",
       "      <td>0.000000</td>\n",
       "      <td>0.00000</td>\n",
       "      <td>Libre</td>\n",
       "      <td>TRAMOS</td>\n",
       "      <td>3.72</td>\n",
       "      <td>0.026557</td>\n",
       "      <td>5.11</td>\n",
       "      <td>0.0</td>\n",
       "      <td>0.0</td>\n",
       "      <td>0.0</td>\n",
       "      <td>16.08</td>\n",
       "      <td>29.48</td>\n",
       "      <td>88.44</td>\n",
       "      <td>0.00</td>\n",
       "      <td>0.00</td>\n",
       "      <td>0.0</td>\n",
       "      <td>1.499975</td>\n",
       "      <td>3.829305</td>\n",
       "      <td>15.855877</td>\n",
       "      <td>0.000000</td>\n",
       "      <td>0.000000</td>\n",
       "      <td>21.185156</td>\n",
       "      <td>3</td>\n",
       "      <td>1</td>\n",
       "      <td>0</td>\n",
       "    </tr>\n",
       "    <tr>\n",
       "      <th>2078</th>\n",
       "      <td>2078</td>\n",
       "      <td>2078</td>\n",
       "      <td>103</td>\n",
       "      <td>288</td>\n",
       "      <td>11</td>\n",
       "      <td>33</td>\n",
       "      <td>56</td>\n",
       "      <td>27</td>\n",
       "      <td>73</td>\n",
       "      <td>Aduriz Energia</td>\n",
       "      <td>coste + fija</td>\n",
       "      <td>0.080039</td>\n",
       "      <td>0.003141</td>\n",
       "      <td>0.008192</td>\n",
       "      <td>0.000527</td>\n",
       "      <td>0.002752</td>\n",
       "      <td>0.027963</td>\n",
       "      <td>0.076974</td>\n",
       "      <td>0.0</td>\n",
       "      <td>0.093282</td>\n",
       "      <td>0.129895</td>\n",
       "      <td>0.179284</td>\n",
       "      <td>0.000000</td>\n",
       "      <td>0.00000</td>\n",
       "      <td>Libre</td>\n",
       "      <td>TRAMOS</td>\n",
       "      <td>3.72</td>\n",
       "      <td>0.026557</td>\n",
       "      <td>5.11</td>\n",
       "      <td>0.0</td>\n",
       "      <td>0.0</td>\n",
       "      <td>0.0</td>\n",
       "      <td>31.68</td>\n",
       "      <td>95.04</td>\n",
       "      <td>161.28</td>\n",
       "      <td>0.00</td>\n",
       "      <td>0.00</td>\n",
       "      <td>0.0</td>\n",
       "      <td>2.955174</td>\n",
       "      <td>12.345221</td>\n",
       "      <td>28.914924</td>\n",
       "      <td>0.000000</td>\n",
       "      <td>0.000000</td>\n",
       "      <td>44.215318</td>\n",
       "      <td>3</td>\n",
       "      <td>1</td>\n",
       "      <td>0</td>\n",
       "    </tr>\n",
       "    <tr>\n",
       "      <th>2079</th>\n",
       "      <td>2079</td>\n",
       "      <td>2079</td>\n",
       "      <td>103</td>\n",
       "      <td>192</td>\n",
       "      <td>61</td>\n",
       "      <td>12</td>\n",
       "      <td>27</td>\n",
       "      <td>69</td>\n",
       "      <td>31</td>\n",
       "      <td>Aduriz Energia</td>\n",
       "      <td>coste + fija</td>\n",
       "      <td>0.080039</td>\n",
       "      <td>0.003141</td>\n",
       "      <td>0.008192</td>\n",
       "      <td>0.000527</td>\n",
       "      <td>0.002752</td>\n",
       "      <td>0.027963</td>\n",
       "      <td>0.076974</td>\n",
       "      <td>0.0</td>\n",
       "      <td>0.093282</td>\n",
       "      <td>0.129895</td>\n",
       "      <td>0.179284</td>\n",
       "      <td>0.000000</td>\n",
       "      <td>0.00000</td>\n",
       "      <td>Libre</td>\n",
       "      <td>TRAMOS</td>\n",
       "      <td>3.72</td>\n",
       "      <td>0.026557</td>\n",
       "      <td>5.11</td>\n",
       "      <td>0.0</td>\n",
       "      <td>0.0</td>\n",
       "      <td>0.0</td>\n",
       "      <td>117.12</td>\n",
       "      <td>23.04</td>\n",
       "      <td>51.84</td>\n",
       "      <td>0.00</td>\n",
       "      <td>0.00</td>\n",
       "      <td>0.0</td>\n",
       "      <td>10.925188</td>\n",
       "      <td>2.992781</td>\n",
       "      <td>9.294083</td>\n",
       "      <td>0.000000</td>\n",
       "      <td>0.000000</td>\n",
       "      <td>23.212051</td>\n",
       "      <td>3</td>\n",
       "      <td>1</td>\n",
       "      <td>0</td>\n",
       "    </tr>\n",
       "  </tbody>\n",
       "</table>\n",
       "<p>2080 rows × 47 columns</p>\n",
       "</div>"
      ],
      "text/plain": [
       "      Unnamed: 0.1  Unnamed: 0  id_tarifa  consumo_kWh  %consumo_valle  \\\n",
       "0                0           0          0          202               6   \n",
       "1                1           1          0          279              23   \n",
       "2                2           2          0          192              36   \n",
       "3                3           3          0          114              59   \n",
       "4                4           4          0          206              49   \n",
       "...            ...         ...        ...          ...             ...   \n",
       "2075          2075        2075        103          230              72   \n",
       "2076          2076        2076        103          255              34   \n",
       "2077          2077        2077        103          134              12   \n",
       "2078          2078        2078        103          288              11   \n",
       "2079          2079        2079        103          192              61   \n",
       "\n",
       "      %consumo_llano  %consumo_punta  %consumo_8h  %consumo_16h  \\\n",
       "0                 75              19           30            70   \n",
       "1                 19              58            1            99   \n",
       "2                  3              61           14            86   \n",
       "3                 23              18           56            44   \n",
       "4                 48               3           74            26   \n",
       "...              ...             ...          ...           ...   \n",
       "2075              11              17           90            10   \n",
       "2076              62               4           51            49   \n",
       "2077              22              66           98             2   \n",
       "2078              33              56           27            73   \n",
       "2079              12              27           69            31   \n",
       "\n",
       "            compania        tarifa  tp_punta_euros/kwh/dia  \\\n",
       "0             Repsol  Mis 10 Horas                0.068192   \n",
       "1             Repsol  Mis 10 Horas                0.068192   \n",
       "2             Repsol  Mis 10 Horas                0.068192   \n",
       "3             Repsol  Mis 10 Horas                0.068192   \n",
       "4             Repsol  Mis 10 Horas                0.068192   \n",
       "...              ...           ...                     ...   \n",
       "2075  Aduriz Energia  coste + fija                0.080039   \n",
       "2076  Aduriz Energia  coste + fija                0.080039   \n",
       "2077  Aduriz Energia  coste + fija                0.080039   \n",
       "2078  Aduriz Energia  coste + fija                0.080039   \n",
       "2079  Aduriz Energia  coste + fija                0.080039   \n",
       "\n",
       "      tp_valle_euros/kwh/dia  peaje_tran_dist_pot_punta  \\\n",
       "0                   0.068192                   0.008192   \n",
       "1                   0.068192                   0.008192   \n",
       "2                   0.068192                   0.008192   \n",
       "3                   0.068192                   0.008192   \n",
       "4                   0.068192                   0.008192   \n",
       "...                      ...                        ...   \n",
       "2075                0.003141                   0.008192   \n",
       "2076                0.003141                   0.008192   \n",
       "2077                0.003141                   0.008192   \n",
       "2078                0.003141                   0.008192   \n",
       "2079                0.003141                   0.008192   \n",
       "\n",
       "      peaje_tran_dist_pot_valle  peaje_ener_valle_tdc  peaje_ener_llano_tdc  \\\n",
       "0                      0.000527              0.002752              0.027963   \n",
       "1                      0.000527              0.002752              0.027963   \n",
       "2                      0.000527              0.002752              0.027963   \n",
       "3                      0.000527              0.002752              0.027963   \n",
       "4                      0.000527              0.002752              0.027963   \n",
       "...                         ...                   ...                   ...   \n",
       "2075                   0.000527              0.002752              0.027963   \n",
       "2076                   0.000527              0.002752              0.027963   \n",
       "2077                   0.000527              0.002752              0.027963   \n",
       "2078                   0.000527              0.002752              0.027963   \n",
       "2079                   0.000527              0.002752              0.027963   \n",
       "\n",
       "      peaje_ener_punta_tdc  termino_consumo_euros/kwh/hora  \\\n",
       "0                 0.076974                             0.0   \n",
       "1                 0.076974                             0.0   \n",
       "2                 0.076974                             0.0   \n",
       "3                 0.076974                             0.0   \n",
       "4                 0.076974                             0.0   \n",
       "...                    ...                             ...   \n",
       "2075              0.076974                             0.0   \n",
       "2076              0.076974                             0.0   \n",
       "2077              0.076974                             0.0   \n",
       "2078              0.076974                             0.0   \n",
       "2079              0.076974                             0.0   \n",
       "\n",
       "      tc_valle_euros/kwh/hora  tc_llano_euros/kwh/hora  \\\n",
       "0                    0.000000                 0.000000   \n",
       "1                    0.000000                 0.000000   \n",
       "2                    0.000000                 0.000000   \n",
       "3                    0.000000                 0.000000   \n",
       "4                    0.000000                 0.000000   \n",
       "...                       ...                      ...   \n",
       "2075                 0.093282                 0.129895   \n",
       "2076                 0.093282                 0.129895   \n",
       "2077                 0.093282                 0.129895   \n",
       "2078                 0.093282                 0.129895   \n",
       "2079                 0.093282                 0.129895   \n",
       "\n",
       "      tc_punta_euros/kwh/hora  tc_8h_euros/kwh/hora  tc_16h_euros/kwh/hora  \\\n",
       "0                    0.000000              0.086415                0.17283   \n",
       "1                    0.000000              0.086415                0.17283   \n",
       "2                    0.000000              0.086415                0.17283   \n",
       "3                    0.000000              0.086415                0.17283   \n",
       "4                    0.000000              0.086415                0.17283   \n",
       "...                       ...                   ...                    ...   \n",
       "2075                 0.179284              0.000000                0.00000   \n",
       "2076                 0.179284              0.000000                0.00000   \n",
       "2077                 0.179284              0.000000                0.00000   \n",
       "2078                 0.179284              0.000000                0.00000   \n",
       "2079                 0.179284              0.000000                0.00000   \n",
       "\n",
       "     mercado    tipo  otros  alquiler_equipo_euros/dia  impuesto_actual  \\\n",
       "0      Libre      DH   0.00                   0.026557             5.11   \n",
       "1      Libre      DH   0.00                   0.026557             5.11   \n",
       "2      Libre      DH   0.00                   0.026557             5.11   \n",
       "3      Libre      DH   0.00                   0.026557             5.11   \n",
       "4      Libre      DH   0.00                   0.026557             5.11   \n",
       "...      ...     ...    ...                        ...              ...   \n",
       "2075   Libre  TRAMOS   3.72                   0.026557             5.11   \n",
       "2076   Libre  TRAMOS   3.72                   0.026557             5.11   \n",
       "2077   Libre  TRAMOS   3.72                   0.026557             5.11   \n",
       "2078   Libre  TRAMOS   3.72                   0.026557             5.11   \n",
       "2079   Libre  TRAMOS   3.72                   0.026557             5.11   \n",
       "\n",
       "      bono_social_euro/dia  margen_euros/kWh/dia  consumo_unico  \\\n",
       "0                      0.0                   0.0            0.0   \n",
       "1                      0.0                   0.0            0.0   \n",
       "2                      0.0                   0.0            0.0   \n",
       "3                      0.0                   0.0            0.0   \n",
       "4                      0.0                   0.0            0.0   \n",
       "...                    ...                   ...            ...   \n",
       "2075                   0.0                   0.0            0.0   \n",
       "2076                   0.0                   0.0            0.0   \n",
       "2077                   0.0                   0.0            0.0   \n",
       "2078                   0.0                   0.0            0.0   \n",
       "2079                   0.0                   0.0            0.0   \n",
       "\n",
       "      consumo_valle  consumo_llano  consumo_punta  consumo_8h  consumo_16h  \\\n",
       "0              0.00           0.00           0.00       60.60       141.40   \n",
       "1              0.00           0.00           0.00        2.79       276.21   \n",
       "2              0.00           0.00           0.00       26.88       165.12   \n",
       "3              0.00           0.00           0.00       63.84        50.16   \n",
       "4              0.00           0.00           0.00      152.44        53.56   \n",
       "...             ...            ...            ...         ...          ...   \n",
       "2075         165.60          25.30          39.10        0.00         0.00   \n",
       "2076          86.70         158.10          10.20        0.00         0.00   \n",
       "2077          16.08          29.48          88.44        0.00         0.00   \n",
       "2078          31.68          95.04         161.28        0.00         0.00   \n",
       "2079         117.12          23.04          51.84        0.00         0.00   \n",
       "\n",
       "      consumo_euros_unico  consumo_euros_valle  consumo_euros_llano  \\\n",
       "0                     0.0             0.000000             0.000000   \n",
       "1                     0.0             0.000000             0.000000   \n",
       "2                     0.0             0.000000             0.000000   \n",
       "3                     0.0             0.000000             0.000000   \n",
       "4                     0.0             0.000000             0.000000   \n",
       "...                   ...                  ...                  ...   \n",
       "2075                  0.0            15.447499             3.286344   \n",
       "2076                  0.0             8.087549            20.536400   \n",
       "2077                  0.0             1.499975             3.829305   \n",
       "2078                  0.0             2.955174            12.345221   \n",
       "2079                  0.0            10.925188             2.992781   \n",
       "\n",
       "      consumo_euros_punta  consumo_euros_8h  consumo_euros_16h  precio_final  \\\n",
       "0                0.000000          5.236749          24.438162     29.674911   \n",
       "1                0.000000          0.241098          47.737374     47.978472   \n",
       "2                0.000000          2.322835          28.537690     30.860525   \n",
       "3                0.000000          5.516734           8.669153     14.185886   \n",
       "4                0.000000         13.173103           9.256775     22.429877   \n",
       "...                   ...               ...                ...           ...   \n",
       "2075             7.010004          0.000000           0.000000     25.743847   \n",
       "2076             1.828697          0.000000           0.000000     30.452646   \n",
       "2077            15.855877          0.000000           0.000000     21.185156   \n",
       "2078            28.914924          0.000000           0.000000     44.215318   \n",
       "2079             9.294083          0.000000           0.000000     23.212051   \n",
       "\n",
       "      tipo_numerico  Libre  Regulado  \n",
       "0                 0      1         0  \n",
       "1                 0      1         0  \n",
       "2                 0      1         0  \n",
       "3                 0      1         0  \n",
       "4                 0      1         0  \n",
       "...             ...    ...       ...  \n",
       "2075              3      1         0  \n",
       "2076              3      1         0  \n",
       "2077              3      1         0  \n",
       "2078              3      1         0  \n",
       "2079              3      1         0  \n",
       "\n",
       "[2080 rows x 47 columns]"
      ]
     },
     "execution_count": 435,
     "metadata": {},
     "output_type": "execute_result"
    }
   ],
   "source": [
    "dt"
   ]
  },
  {
   "cell_type": "code",
   "execution_count": 436,
   "metadata": {},
   "outputs": [
    {
     "data": {
      "text/html": [
       "<div>\n",
       "<style scoped>\n",
       "    .dataframe tbody tr th:only-of-type {\n",
       "        vertical-align: middle;\n",
       "    }\n",
       "\n",
       "    .dataframe tbody tr th {\n",
       "        vertical-align: top;\n",
       "    }\n",
       "\n",
       "    .dataframe thead th {\n",
       "        text-align: right;\n",
       "    }\n",
       "</style>\n",
       "<table border=\"1\" class=\"dataframe\">\n",
       "  <thead>\n",
       "    <tr style=\"text-align: right;\">\n",
       "      <th></th>\n",
       "      <th>consumo_kWh</th>\n",
       "      <th>tp_punta_euros/kwh/dia</th>\n",
       "      <th>tp_valle_euros/kwh/dia</th>\n",
       "      <th>peaje_tran_dist_pot_punta</th>\n",
       "      <th>peaje_tran_dist_pot_valle</th>\n",
       "      <th>termino_consumo_euros/kwh/hora</th>\n",
       "      <th>tc_valle_euros/kwh/hora</th>\n",
       "      <th>tc_llano_euros/kwh/hora</th>\n",
       "      <th>tc_punta_euros/kwh/hora</th>\n",
       "      <th>tc_8h_euros/kwh/hora</th>\n",
       "      <th>tc_16h_euros/kwh/hora</th>\n",
       "      <th>otros</th>\n",
       "      <th>bono_social_euro/dia</th>\n",
       "      <th>margen_euros/kWh/dia</th>\n",
       "      <th>consumo_unico</th>\n",
       "      <th>consumo_valle</th>\n",
       "      <th>consumo_llano</th>\n",
       "      <th>consumo_punta</th>\n",
       "      <th>consumo_8h</th>\n",
       "      <th>consumo_16h</th>\n",
       "      <th>consumo_euros_unico</th>\n",
       "      <th>consumo_euros_valle</th>\n",
       "      <th>consumo_euros_llano</th>\n",
       "      <th>consumo_euros_punta</th>\n",
       "      <th>consumo_euros_8h</th>\n",
       "      <th>consumo_euros_16h</th>\n",
       "      <th>precio_final</th>\n",
       "      <th>tipo_numerico</th>\n",
       "      <th>Regulado</th>\n",
       "    </tr>\n",
       "  </thead>\n",
       "  <tbody>\n",
       "    <tr>\n",
       "      <th>0</th>\n",
       "      <td>202</td>\n",
       "      <td>0.068192</td>\n",
       "      <td>0.068192</td>\n",
       "      <td>0.008192</td>\n",
       "      <td>0.000527</td>\n",
       "      <td>0.0</td>\n",
       "      <td>0.000000</td>\n",
       "      <td>0.000000</td>\n",
       "      <td>0.000000</td>\n",
       "      <td>0.086415</td>\n",
       "      <td>0.17283</td>\n",
       "      <td>0.00</td>\n",
       "      <td>0.0</td>\n",
       "      <td>0.0</td>\n",
       "      <td>0.0</td>\n",
       "      <td>0.00</td>\n",
       "      <td>0.00</td>\n",
       "      <td>0.00</td>\n",
       "      <td>60.60</td>\n",
       "      <td>141.40</td>\n",
       "      <td>0.0</td>\n",
       "      <td>0.000000</td>\n",
       "      <td>0.000000</td>\n",
       "      <td>0.000000</td>\n",
       "      <td>5.236749</td>\n",
       "      <td>24.438162</td>\n",
       "      <td>29.674911</td>\n",
       "      <td>0</td>\n",
       "      <td>0</td>\n",
       "    </tr>\n",
       "    <tr>\n",
       "      <th>1</th>\n",
       "      <td>279</td>\n",
       "      <td>0.068192</td>\n",
       "      <td>0.068192</td>\n",
       "      <td>0.008192</td>\n",
       "      <td>0.000527</td>\n",
       "      <td>0.0</td>\n",
       "      <td>0.000000</td>\n",
       "      <td>0.000000</td>\n",
       "      <td>0.000000</td>\n",
       "      <td>0.086415</td>\n",
       "      <td>0.17283</td>\n",
       "      <td>0.00</td>\n",
       "      <td>0.0</td>\n",
       "      <td>0.0</td>\n",
       "      <td>0.0</td>\n",
       "      <td>0.00</td>\n",
       "      <td>0.00</td>\n",
       "      <td>0.00</td>\n",
       "      <td>2.79</td>\n",
       "      <td>276.21</td>\n",
       "      <td>0.0</td>\n",
       "      <td>0.000000</td>\n",
       "      <td>0.000000</td>\n",
       "      <td>0.000000</td>\n",
       "      <td>0.241098</td>\n",
       "      <td>47.737374</td>\n",
       "      <td>47.978472</td>\n",
       "      <td>0</td>\n",
       "      <td>0</td>\n",
       "    </tr>\n",
       "    <tr>\n",
       "      <th>2</th>\n",
       "      <td>192</td>\n",
       "      <td>0.068192</td>\n",
       "      <td>0.068192</td>\n",
       "      <td>0.008192</td>\n",
       "      <td>0.000527</td>\n",
       "      <td>0.0</td>\n",
       "      <td>0.000000</td>\n",
       "      <td>0.000000</td>\n",
       "      <td>0.000000</td>\n",
       "      <td>0.086415</td>\n",
       "      <td>0.17283</td>\n",
       "      <td>0.00</td>\n",
       "      <td>0.0</td>\n",
       "      <td>0.0</td>\n",
       "      <td>0.0</td>\n",
       "      <td>0.00</td>\n",
       "      <td>0.00</td>\n",
       "      <td>0.00</td>\n",
       "      <td>26.88</td>\n",
       "      <td>165.12</td>\n",
       "      <td>0.0</td>\n",
       "      <td>0.000000</td>\n",
       "      <td>0.000000</td>\n",
       "      <td>0.000000</td>\n",
       "      <td>2.322835</td>\n",
       "      <td>28.537690</td>\n",
       "      <td>30.860525</td>\n",
       "      <td>0</td>\n",
       "      <td>0</td>\n",
       "    </tr>\n",
       "    <tr>\n",
       "      <th>3</th>\n",
       "      <td>114</td>\n",
       "      <td>0.068192</td>\n",
       "      <td>0.068192</td>\n",
       "      <td>0.008192</td>\n",
       "      <td>0.000527</td>\n",
       "      <td>0.0</td>\n",
       "      <td>0.000000</td>\n",
       "      <td>0.000000</td>\n",
       "      <td>0.000000</td>\n",
       "      <td>0.086415</td>\n",
       "      <td>0.17283</td>\n",
       "      <td>0.00</td>\n",
       "      <td>0.0</td>\n",
       "      <td>0.0</td>\n",
       "      <td>0.0</td>\n",
       "      <td>0.00</td>\n",
       "      <td>0.00</td>\n",
       "      <td>0.00</td>\n",
       "      <td>63.84</td>\n",
       "      <td>50.16</td>\n",
       "      <td>0.0</td>\n",
       "      <td>0.000000</td>\n",
       "      <td>0.000000</td>\n",
       "      <td>0.000000</td>\n",
       "      <td>5.516734</td>\n",
       "      <td>8.669153</td>\n",
       "      <td>14.185886</td>\n",
       "      <td>0</td>\n",
       "      <td>0</td>\n",
       "    </tr>\n",
       "    <tr>\n",
       "      <th>4</th>\n",
       "      <td>206</td>\n",
       "      <td>0.068192</td>\n",
       "      <td>0.068192</td>\n",
       "      <td>0.008192</td>\n",
       "      <td>0.000527</td>\n",
       "      <td>0.0</td>\n",
       "      <td>0.000000</td>\n",
       "      <td>0.000000</td>\n",
       "      <td>0.000000</td>\n",
       "      <td>0.086415</td>\n",
       "      <td>0.17283</td>\n",
       "      <td>0.00</td>\n",
       "      <td>0.0</td>\n",
       "      <td>0.0</td>\n",
       "      <td>0.0</td>\n",
       "      <td>0.00</td>\n",
       "      <td>0.00</td>\n",
       "      <td>0.00</td>\n",
       "      <td>152.44</td>\n",
       "      <td>53.56</td>\n",
       "      <td>0.0</td>\n",
       "      <td>0.000000</td>\n",
       "      <td>0.000000</td>\n",
       "      <td>0.000000</td>\n",
       "      <td>13.173103</td>\n",
       "      <td>9.256775</td>\n",
       "      <td>22.429877</td>\n",
       "      <td>0</td>\n",
       "      <td>0</td>\n",
       "    </tr>\n",
       "    <tr>\n",
       "      <th>...</th>\n",
       "      <td>...</td>\n",
       "      <td>...</td>\n",
       "      <td>...</td>\n",
       "      <td>...</td>\n",
       "      <td>...</td>\n",
       "      <td>...</td>\n",
       "      <td>...</td>\n",
       "      <td>...</td>\n",
       "      <td>...</td>\n",
       "      <td>...</td>\n",
       "      <td>...</td>\n",
       "      <td>...</td>\n",
       "      <td>...</td>\n",
       "      <td>...</td>\n",
       "      <td>...</td>\n",
       "      <td>...</td>\n",
       "      <td>...</td>\n",
       "      <td>...</td>\n",
       "      <td>...</td>\n",
       "      <td>...</td>\n",
       "      <td>...</td>\n",
       "      <td>...</td>\n",
       "      <td>...</td>\n",
       "      <td>...</td>\n",
       "      <td>...</td>\n",
       "      <td>...</td>\n",
       "      <td>...</td>\n",
       "      <td>...</td>\n",
       "      <td>...</td>\n",
       "    </tr>\n",
       "    <tr>\n",
       "      <th>2075</th>\n",
       "      <td>230</td>\n",
       "      <td>0.080039</td>\n",
       "      <td>0.003141</td>\n",
       "      <td>0.008192</td>\n",
       "      <td>0.000527</td>\n",
       "      <td>0.0</td>\n",
       "      <td>0.093282</td>\n",
       "      <td>0.129895</td>\n",
       "      <td>0.179284</td>\n",
       "      <td>0.000000</td>\n",
       "      <td>0.00000</td>\n",
       "      <td>3.72</td>\n",
       "      <td>0.0</td>\n",
       "      <td>0.0</td>\n",
       "      <td>0.0</td>\n",
       "      <td>165.60</td>\n",
       "      <td>25.30</td>\n",
       "      <td>39.10</td>\n",
       "      <td>0.00</td>\n",
       "      <td>0.00</td>\n",
       "      <td>0.0</td>\n",
       "      <td>15.447499</td>\n",
       "      <td>3.286344</td>\n",
       "      <td>7.010004</td>\n",
       "      <td>0.000000</td>\n",
       "      <td>0.000000</td>\n",
       "      <td>25.743847</td>\n",
       "      <td>3</td>\n",
       "      <td>0</td>\n",
       "    </tr>\n",
       "    <tr>\n",
       "      <th>2076</th>\n",
       "      <td>255</td>\n",
       "      <td>0.080039</td>\n",
       "      <td>0.003141</td>\n",
       "      <td>0.008192</td>\n",
       "      <td>0.000527</td>\n",
       "      <td>0.0</td>\n",
       "      <td>0.093282</td>\n",
       "      <td>0.129895</td>\n",
       "      <td>0.179284</td>\n",
       "      <td>0.000000</td>\n",
       "      <td>0.00000</td>\n",
       "      <td>3.72</td>\n",
       "      <td>0.0</td>\n",
       "      <td>0.0</td>\n",
       "      <td>0.0</td>\n",
       "      <td>86.70</td>\n",
       "      <td>158.10</td>\n",
       "      <td>10.20</td>\n",
       "      <td>0.00</td>\n",
       "      <td>0.00</td>\n",
       "      <td>0.0</td>\n",
       "      <td>8.087549</td>\n",
       "      <td>20.536400</td>\n",
       "      <td>1.828697</td>\n",
       "      <td>0.000000</td>\n",
       "      <td>0.000000</td>\n",
       "      <td>30.452646</td>\n",
       "      <td>3</td>\n",
       "      <td>0</td>\n",
       "    </tr>\n",
       "    <tr>\n",
       "      <th>2077</th>\n",
       "      <td>134</td>\n",
       "      <td>0.080039</td>\n",
       "      <td>0.003141</td>\n",
       "      <td>0.008192</td>\n",
       "      <td>0.000527</td>\n",
       "      <td>0.0</td>\n",
       "      <td>0.093282</td>\n",
       "      <td>0.129895</td>\n",
       "      <td>0.179284</td>\n",
       "      <td>0.000000</td>\n",
       "      <td>0.00000</td>\n",
       "      <td>3.72</td>\n",
       "      <td>0.0</td>\n",
       "      <td>0.0</td>\n",
       "      <td>0.0</td>\n",
       "      <td>16.08</td>\n",
       "      <td>29.48</td>\n",
       "      <td>88.44</td>\n",
       "      <td>0.00</td>\n",
       "      <td>0.00</td>\n",
       "      <td>0.0</td>\n",
       "      <td>1.499975</td>\n",
       "      <td>3.829305</td>\n",
       "      <td>15.855877</td>\n",
       "      <td>0.000000</td>\n",
       "      <td>0.000000</td>\n",
       "      <td>21.185156</td>\n",
       "      <td>3</td>\n",
       "      <td>0</td>\n",
       "    </tr>\n",
       "    <tr>\n",
       "      <th>2078</th>\n",
       "      <td>288</td>\n",
       "      <td>0.080039</td>\n",
       "      <td>0.003141</td>\n",
       "      <td>0.008192</td>\n",
       "      <td>0.000527</td>\n",
       "      <td>0.0</td>\n",
       "      <td>0.093282</td>\n",
       "      <td>0.129895</td>\n",
       "      <td>0.179284</td>\n",
       "      <td>0.000000</td>\n",
       "      <td>0.00000</td>\n",
       "      <td>3.72</td>\n",
       "      <td>0.0</td>\n",
       "      <td>0.0</td>\n",
       "      <td>0.0</td>\n",
       "      <td>31.68</td>\n",
       "      <td>95.04</td>\n",
       "      <td>161.28</td>\n",
       "      <td>0.00</td>\n",
       "      <td>0.00</td>\n",
       "      <td>0.0</td>\n",
       "      <td>2.955174</td>\n",
       "      <td>12.345221</td>\n",
       "      <td>28.914924</td>\n",
       "      <td>0.000000</td>\n",
       "      <td>0.000000</td>\n",
       "      <td>44.215318</td>\n",
       "      <td>3</td>\n",
       "      <td>0</td>\n",
       "    </tr>\n",
       "    <tr>\n",
       "      <th>2079</th>\n",
       "      <td>192</td>\n",
       "      <td>0.080039</td>\n",
       "      <td>0.003141</td>\n",
       "      <td>0.008192</td>\n",
       "      <td>0.000527</td>\n",
       "      <td>0.0</td>\n",
       "      <td>0.093282</td>\n",
       "      <td>0.129895</td>\n",
       "      <td>0.179284</td>\n",
       "      <td>0.000000</td>\n",
       "      <td>0.00000</td>\n",
       "      <td>3.72</td>\n",
       "      <td>0.0</td>\n",
       "      <td>0.0</td>\n",
       "      <td>0.0</td>\n",
       "      <td>117.12</td>\n",
       "      <td>23.04</td>\n",
       "      <td>51.84</td>\n",
       "      <td>0.00</td>\n",
       "      <td>0.00</td>\n",
       "      <td>0.0</td>\n",
       "      <td>10.925188</td>\n",
       "      <td>2.992781</td>\n",
       "      <td>9.294083</td>\n",
       "      <td>0.000000</td>\n",
       "      <td>0.000000</td>\n",
       "      <td>23.212051</td>\n",
       "      <td>3</td>\n",
       "      <td>0</td>\n",
       "    </tr>\n",
       "  </tbody>\n",
       "</table>\n",
       "<p>2080 rows × 29 columns</p>\n",
       "</div>"
      ],
      "text/plain": [
       "      consumo_kWh  tp_punta_euros/kwh/dia  tp_valle_euros/kwh/dia  \\\n",
       "0             202                0.068192                0.068192   \n",
       "1             279                0.068192                0.068192   \n",
       "2             192                0.068192                0.068192   \n",
       "3             114                0.068192                0.068192   \n",
       "4             206                0.068192                0.068192   \n",
       "...           ...                     ...                     ...   \n",
       "2075          230                0.080039                0.003141   \n",
       "2076          255                0.080039                0.003141   \n",
       "2077          134                0.080039                0.003141   \n",
       "2078          288                0.080039                0.003141   \n",
       "2079          192                0.080039                0.003141   \n",
       "\n",
       "      peaje_tran_dist_pot_punta  peaje_tran_dist_pot_valle  \\\n",
       "0                      0.008192                   0.000527   \n",
       "1                      0.008192                   0.000527   \n",
       "2                      0.008192                   0.000527   \n",
       "3                      0.008192                   0.000527   \n",
       "4                      0.008192                   0.000527   \n",
       "...                         ...                        ...   \n",
       "2075                   0.008192                   0.000527   \n",
       "2076                   0.008192                   0.000527   \n",
       "2077                   0.008192                   0.000527   \n",
       "2078                   0.008192                   0.000527   \n",
       "2079                   0.008192                   0.000527   \n",
       "\n",
       "      termino_consumo_euros/kwh/hora  tc_valle_euros/kwh/hora  \\\n",
       "0                                0.0                 0.000000   \n",
       "1                                0.0                 0.000000   \n",
       "2                                0.0                 0.000000   \n",
       "3                                0.0                 0.000000   \n",
       "4                                0.0                 0.000000   \n",
       "...                              ...                      ...   \n",
       "2075                             0.0                 0.093282   \n",
       "2076                             0.0                 0.093282   \n",
       "2077                             0.0                 0.093282   \n",
       "2078                             0.0                 0.093282   \n",
       "2079                             0.0                 0.093282   \n",
       "\n",
       "      tc_llano_euros/kwh/hora  tc_punta_euros/kwh/hora  tc_8h_euros/kwh/hora  \\\n",
       "0                    0.000000                 0.000000              0.086415   \n",
       "1                    0.000000                 0.000000              0.086415   \n",
       "2                    0.000000                 0.000000              0.086415   \n",
       "3                    0.000000                 0.000000              0.086415   \n",
       "4                    0.000000                 0.000000              0.086415   \n",
       "...                       ...                      ...                   ...   \n",
       "2075                 0.129895                 0.179284              0.000000   \n",
       "2076                 0.129895                 0.179284              0.000000   \n",
       "2077                 0.129895                 0.179284              0.000000   \n",
       "2078                 0.129895                 0.179284              0.000000   \n",
       "2079                 0.129895                 0.179284              0.000000   \n",
       "\n",
       "      tc_16h_euros/kwh/hora  otros  bono_social_euro/dia  \\\n",
       "0                   0.17283   0.00                   0.0   \n",
       "1                   0.17283   0.00                   0.0   \n",
       "2                   0.17283   0.00                   0.0   \n",
       "3                   0.17283   0.00                   0.0   \n",
       "4                   0.17283   0.00                   0.0   \n",
       "...                     ...    ...                   ...   \n",
       "2075                0.00000   3.72                   0.0   \n",
       "2076                0.00000   3.72                   0.0   \n",
       "2077                0.00000   3.72                   0.0   \n",
       "2078                0.00000   3.72                   0.0   \n",
       "2079                0.00000   3.72                   0.0   \n",
       "\n",
       "      margen_euros/kWh/dia  consumo_unico  consumo_valle  consumo_llano  \\\n",
       "0                      0.0            0.0           0.00           0.00   \n",
       "1                      0.0            0.0           0.00           0.00   \n",
       "2                      0.0            0.0           0.00           0.00   \n",
       "3                      0.0            0.0           0.00           0.00   \n",
       "4                      0.0            0.0           0.00           0.00   \n",
       "...                    ...            ...            ...            ...   \n",
       "2075                   0.0            0.0         165.60          25.30   \n",
       "2076                   0.0            0.0          86.70         158.10   \n",
       "2077                   0.0            0.0          16.08          29.48   \n",
       "2078                   0.0            0.0          31.68          95.04   \n",
       "2079                   0.0            0.0         117.12          23.04   \n",
       "\n",
       "      consumo_punta  consumo_8h  consumo_16h  consumo_euros_unico  \\\n",
       "0              0.00       60.60       141.40                  0.0   \n",
       "1              0.00        2.79       276.21                  0.0   \n",
       "2              0.00       26.88       165.12                  0.0   \n",
       "3              0.00       63.84        50.16                  0.0   \n",
       "4              0.00      152.44        53.56                  0.0   \n",
       "...             ...         ...          ...                  ...   \n",
       "2075          39.10        0.00         0.00                  0.0   \n",
       "2076          10.20        0.00         0.00                  0.0   \n",
       "2077          88.44        0.00         0.00                  0.0   \n",
       "2078         161.28        0.00         0.00                  0.0   \n",
       "2079          51.84        0.00         0.00                  0.0   \n",
       "\n",
       "      consumo_euros_valle  consumo_euros_llano  consumo_euros_punta  \\\n",
       "0                0.000000             0.000000             0.000000   \n",
       "1                0.000000             0.000000             0.000000   \n",
       "2                0.000000             0.000000             0.000000   \n",
       "3                0.000000             0.000000             0.000000   \n",
       "4                0.000000             0.000000             0.000000   \n",
       "...                   ...                  ...                  ...   \n",
       "2075            15.447499             3.286344             7.010004   \n",
       "2076             8.087549            20.536400             1.828697   \n",
       "2077             1.499975             3.829305            15.855877   \n",
       "2078             2.955174            12.345221            28.914924   \n",
       "2079            10.925188             2.992781             9.294083   \n",
       "\n",
       "      consumo_euros_8h  consumo_euros_16h  precio_final  tipo_numerico  \\\n",
       "0             5.236749          24.438162     29.674911              0   \n",
       "1             0.241098          47.737374     47.978472              0   \n",
       "2             2.322835          28.537690     30.860525              0   \n",
       "3             5.516734           8.669153     14.185886              0   \n",
       "4            13.173103           9.256775     22.429877              0   \n",
       "...                ...                ...           ...            ...   \n",
       "2075          0.000000           0.000000     25.743847              3   \n",
       "2076          0.000000           0.000000     30.452646              3   \n",
       "2077          0.000000           0.000000     21.185156              3   \n",
       "2078          0.000000           0.000000     44.215318              3   \n",
       "2079          0.000000           0.000000     23.212051              3   \n",
       "\n",
       "      Regulado  \n",
       "0            0  \n",
       "1            0  \n",
       "2            0  \n",
       "3            0  \n",
       "4            0  \n",
       "...        ...  \n",
       "2075         0  \n",
       "2076         0  \n",
       "2077         0  \n",
       "2078         0  \n",
       "2079         0  \n",
       "\n",
       "[2080 rows x 29 columns]"
      ]
     },
     "execution_count": 436,
     "metadata": {},
     "output_type": "execute_result"
    }
   ],
   "source": [
    "# eliminamos las columnas con valor objeto y las que no tienen correlación ya que son valores estaticos para todos, también los datos redundantes como los de los % de consumo\n",
    "\n",
    "dt.drop(columns=['mercado', 'Libre', 'compania', 'tarifa','tipo','Unnamed: 0','Unnamed: 0.1','id_tarifa', 'impuesto_actual', 'alquiler_equipo_euros/dia','peaje_ener_valle_tdc','peaje_ener_llano_tdc','peaje_ener_punta_tdc','%consumo_valle','%consumo_llano','%consumo_punta','%consumo_8h','%consumo_16h'], inplace=True, errors='ignore')\n",
    "dt"
   ]
  },
  {
   "cell_type": "code",
   "execution_count": 437,
   "metadata": {},
   "outputs": [],
   "source": [
    "#dt_2 = dt.drop(columns=['termino_consumo_euros/kwh/hora','tc_8h_euros/kwh/hora','tc_16h_euros/kwh/hora','consumo_8h','consumo_unico','consumo_16h','consumo_euros_8h','consumo_euros_unico','consumo_euros_16h'])"
   ]
  },
  {
   "cell_type": "code",
   "execution_count": 438,
   "metadata": {},
   "outputs": [],
   "source": [
    "dt_2 = dt[dt['tipo_numerico']==3]"
   ]
  },
  {
   "cell_type": "code",
   "execution_count": 439,
   "metadata": {},
   "outputs": [],
   "source": [
    "dt_unico = dt[dt['tipo_numerico']==1]"
   ]
  },
  {
   "cell_type": "code",
   "execution_count": 440,
   "metadata": {},
   "outputs": [],
   "source": [
    "dt_dos = dt[dt['tipo_numerico']==0]"
   ]
  },
  {
   "cell_type": "code",
   "execution_count": 441,
   "metadata": {},
   "outputs": [
    {
     "data": {
      "text/html": [
       "<div>\n",
       "<style scoped>\n",
       "    .dataframe tbody tr th:only-of-type {\n",
       "        vertical-align: middle;\n",
       "    }\n",
       "\n",
       "    .dataframe tbody tr th {\n",
       "        vertical-align: top;\n",
       "    }\n",
       "\n",
       "    .dataframe thead th {\n",
       "        text-align: right;\n",
       "    }\n",
       "</style>\n",
       "<table border=\"1\" class=\"dataframe\">\n",
       "  <thead>\n",
       "    <tr style=\"text-align: right;\">\n",
       "      <th></th>\n",
       "      <th>consumo_kWh</th>\n",
       "      <th>tp_punta_euros/kwh/dia</th>\n",
       "      <th>tp_valle_euros/kwh/dia</th>\n",
       "      <th>peaje_tran_dist_pot_punta</th>\n",
       "      <th>peaje_tran_dist_pot_valle</th>\n",
       "      <th>termino_consumo_euros/kwh/hora</th>\n",
       "      <th>tc_valle_euros/kwh/hora</th>\n",
       "      <th>tc_llano_euros/kwh/hora</th>\n",
       "      <th>tc_punta_euros/kwh/hora</th>\n",
       "      <th>tc_8h_euros/kwh/hora</th>\n",
       "      <th>tc_16h_euros/kwh/hora</th>\n",
       "      <th>otros</th>\n",
       "      <th>bono_social_euro/dia</th>\n",
       "      <th>margen_euros/kWh/dia</th>\n",
       "      <th>consumo_unico</th>\n",
       "      <th>consumo_valle</th>\n",
       "      <th>consumo_llano</th>\n",
       "      <th>consumo_punta</th>\n",
       "      <th>consumo_8h</th>\n",
       "      <th>consumo_16h</th>\n",
       "      <th>consumo_euros_unico</th>\n",
       "      <th>consumo_euros_valle</th>\n",
       "      <th>consumo_euros_llano</th>\n",
       "      <th>consumo_euros_punta</th>\n",
       "      <th>consumo_euros_8h</th>\n",
       "      <th>consumo_euros_16h</th>\n",
       "      <th>precio_final</th>\n",
       "      <th>tipo_numerico</th>\n",
       "      <th>Regulado</th>\n",
       "      <th>suma_tc</th>\n",
       "    </tr>\n",
       "  </thead>\n",
       "  <tbody>\n",
       "    <tr>\n",
       "      <th>0</th>\n",
       "      <td>202</td>\n",
       "      <td>0.068192</td>\n",
       "      <td>0.068192</td>\n",
       "      <td>0.008192</td>\n",
       "      <td>0.000527</td>\n",
       "      <td>0.0</td>\n",
       "      <td>0.000000</td>\n",
       "      <td>0.000000</td>\n",
       "      <td>0.000000</td>\n",
       "      <td>0.086415</td>\n",
       "      <td>0.17283</td>\n",
       "      <td>0.00</td>\n",
       "      <td>0.0</td>\n",
       "      <td>0.0</td>\n",
       "      <td>0.0</td>\n",
       "      <td>0.00</td>\n",
       "      <td>0.00</td>\n",
       "      <td>0.00</td>\n",
       "      <td>60.60</td>\n",
       "      <td>141.40</td>\n",
       "      <td>0.0</td>\n",
       "      <td>0.000000</td>\n",
       "      <td>0.000000</td>\n",
       "      <td>0.000000</td>\n",
       "      <td>5.236749</td>\n",
       "      <td>24.438162</td>\n",
       "      <td>29.674911</td>\n",
       "      <td>0</td>\n",
       "      <td>0</td>\n",
       "      <td>0.259245</td>\n",
       "    </tr>\n",
       "    <tr>\n",
       "      <th>1</th>\n",
       "      <td>279</td>\n",
       "      <td>0.068192</td>\n",
       "      <td>0.068192</td>\n",
       "      <td>0.008192</td>\n",
       "      <td>0.000527</td>\n",
       "      <td>0.0</td>\n",
       "      <td>0.000000</td>\n",
       "      <td>0.000000</td>\n",
       "      <td>0.000000</td>\n",
       "      <td>0.086415</td>\n",
       "      <td>0.17283</td>\n",
       "      <td>0.00</td>\n",
       "      <td>0.0</td>\n",
       "      <td>0.0</td>\n",
       "      <td>0.0</td>\n",
       "      <td>0.00</td>\n",
       "      <td>0.00</td>\n",
       "      <td>0.00</td>\n",
       "      <td>2.79</td>\n",
       "      <td>276.21</td>\n",
       "      <td>0.0</td>\n",
       "      <td>0.000000</td>\n",
       "      <td>0.000000</td>\n",
       "      <td>0.000000</td>\n",
       "      <td>0.241098</td>\n",
       "      <td>47.737374</td>\n",
       "      <td>47.978472</td>\n",
       "      <td>0</td>\n",
       "      <td>0</td>\n",
       "      <td>0.259245</td>\n",
       "    </tr>\n",
       "    <tr>\n",
       "      <th>2</th>\n",
       "      <td>192</td>\n",
       "      <td>0.068192</td>\n",
       "      <td>0.068192</td>\n",
       "      <td>0.008192</td>\n",
       "      <td>0.000527</td>\n",
       "      <td>0.0</td>\n",
       "      <td>0.000000</td>\n",
       "      <td>0.000000</td>\n",
       "      <td>0.000000</td>\n",
       "      <td>0.086415</td>\n",
       "      <td>0.17283</td>\n",
       "      <td>0.00</td>\n",
       "      <td>0.0</td>\n",
       "      <td>0.0</td>\n",
       "      <td>0.0</td>\n",
       "      <td>0.00</td>\n",
       "      <td>0.00</td>\n",
       "      <td>0.00</td>\n",
       "      <td>26.88</td>\n",
       "      <td>165.12</td>\n",
       "      <td>0.0</td>\n",
       "      <td>0.000000</td>\n",
       "      <td>0.000000</td>\n",
       "      <td>0.000000</td>\n",
       "      <td>2.322835</td>\n",
       "      <td>28.537690</td>\n",
       "      <td>30.860525</td>\n",
       "      <td>0</td>\n",
       "      <td>0</td>\n",
       "      <td>0.259245</td>\n",
       "    </tr>\n",
       "    <tr>\n",
       "      <th>3</th>\n",
       "      <td>114</td>\n",
       "      <td>0.068192</td>\n",
       "      <td>0.068192</td>\n",
       "      <td>0.008192</td>\n",
       "      <td>0.000527</td>\n",
       "      <td>0.0</td>\n",
       "      <td>0.000000</td>\n",
       "      <td>0.000000</td>\n",
       "      <td>0.000000</td>\n",
       "      <td>0.086415</td>\n",
       "      <td>0.17283</td>\n",
       "      <td>0.00</td>\n",
       "      <td>0.0</td>\n",
       "      <td>0.0</td>\n",
       "      <td>0.0</td>\n",
       "      <td>0.00</td>\n",
       "      <td>0.00</td>\n",
       "      <td>0.00</td>\n",
       "      <td>63.84</td>\n",
       "      <td>50.16</td>\n",
       "      <td>0.0</td>\n",
       "      <td>0.000000</td>\n",
       "      <td>0.000000</td>\n",
       "      <td>0.000000</td>\n",
       "      <td>5.516734</td>\n",
       "      <td>8.669153</td>\n",
       "      <td>14.185886</td>\n",
       "      <td>0</td>\n",
       "      <td>0</td>\n",
       "      <td>0.259245</td>\n",
       "    </tr>\n",
       "    <tr>\n",
       "      <th>4</th>\n",
       "      <td>206</td>\n",
       "      <td>0.068192</td>\n",
       "      <td>0.068192</td>\n",
       "      <td>0.008192</td>\n",
       "      <td>0.000527</td>\n",
       "      <td>0.0</td>\n",
       "      <td>0.000000</td>\n",
       "      <td>0.000000</td>\n",
       "      <td>0.000000</td>\n",
       "      <td>0.086415</td>\n",
       "      <td>0.17283</td>\n",
       "      <td>0.00</td>\n",
       "      <td>0.0</td>\n",
       "      <td>0.0</td>\n",
       "      <td>0.0</td>\n",
       "      <td>0.00</td>\n",
       "      <td>0.00</td>\n",
       "      <td>0.00</td>\n",
       "      <td>152.44</td>\n",
       "      <td>53.56</td>\n",
       "      <td>0.0</td>\n",
       "      <td>0.000000</td>\n",
       "      <td>0.000000</td>\n",
       "      <td>0.000000</td>\n",
       "      <td>13.173103</td>\n",
       "      <td>9.256775</td>\n",
       "      <td>22.429877</td>\n",
       "      <td>0</td>\n",
       "      <td>0</td>\n",
       "      <td>0.259245</td>\n",
       "    </tr>\n",
       "    <tr>\n",
       "      <th>...</th>\n",
       "      <td>...</td>\n",
       "      <td>...</td>\n",
       "      <td>...</td>\n",
       "      <td>...</td>\n",
       "      <td>...</td>\n",
       "      <td>...</td>\n",
       "      <td>...</td>\n",
       "      <td>...</td>\n",
       "      <td>...</td>\n",
       "      <td>...</td>\n",
       "      <td>...</td>\n",
       "      <td>...</td>\n",
       "      <td>...</td>\n",
       "      <td>...</td>\n",
       "      <td>...</td>\n",
       "      <td>...</td>\n",
       "      <td>...</td>\n",
       "      <td>...</td>\n",
       "      <td>...</td>\n",
       "      <td>...</td>\n",
       "      <td>...</td>\n",
       "      <td>...</td>\n",
       "      <td>...</td>\n",
       "      <td>...</td>\n",
       "      <td>...</td>\n",
       "      <td>...</td>\n",
       "      <td>...</td>\n",
       "      <td>...</td>\n",
       "      <td>...</td>\n",
       "      <td>...</td>\n",
       "    </tr>\n",
       "    <tr>\n",
       "      <th>2075</th>\n",
       "      <td>230</td>\n",
       "      <td>0.080039</td>\n",
       "      <td>0.003141</td>\n",
       "      <td>0.008192</td>\n",
       "      <td>0.000527</td>\n",
       "      <td>0.0</td>\n",
       "      <td>0.093282</td>\n",
       "      <td>0.129895</td>\n",
       "      <td>0.179284</td>\n",
       "      <td>0.000000</td>\n",
       "      <td>0.00000</td>\n",
       "      <td>3.72</td>\n",
       "      <td>0.0</td>\n",
       "      <td>0.0</td>\n",
       "      <td>0.0</td>\n",
       "      <td>165.60</td>\n",
       "      <td>25.30</td>\n",
       "      <td>39.10</td>\n",
       "      <td>0.00</td>\n",
       "      <td>0.00</td>\n",
       "      <td>0.0</td>\n",
       "      <td>15.447499</td>\n",
       "      <td>3.286344</td>\n",
       "      <td>7.010004</td>\n",
       "      <td>0.000000</td>\n",
       "      <td>0.000000</td>\n",
       "      <td>25.743847</td>\n",
       "      <td>3</td>\n",
       "      <td>0</td>\n",
       "      <td>0.402461</td>\n",
       "    </tr>\n",
       "    <tr>\n",
       "      <th>2076</th>\n",
       "      <td>255</td>\n",
       "      <td>0.080039</td>\n",
       "      <td>0.003141</td>\n",
       "      <td>0.008192</td>\n",
       "      <td>0.000527</td>\n",
       "      <td>0.0</td>\n",
       "      <td>0.093282</td>\n",
       "      <td>0.129895</td>\n",
       "      <td>0.179284</td>\n",
       "      <td>0.000000</td>\n",
       "      <td>0.00000</td>\n",
       "      <td>3.72</td>\n",
       "      <td>0.0</td>\n",
       "      <td>0.0</td>\n",
       "      <td>0.0</td>\n",
       "      <td>86.70</td>\n",
       "      <td>158.10</td>\n",
       "      <td>10.20</td>\n",
       "      <td>0.00</td>\n",
       "      <td>0.00</td>\n",
       "      <td>0.0</td>\n",
       "      <td>8.087549</td>\n",
       "      <td>20.536400</td>\n",
       "      <td>1.828697</td>\n",
       "      <td>0.000000</td>\n",
       "      <td>0.000000</td>\n",
       "      <td>30.452646</td>\n",
       "      <td>3</td>\n",
       "      <td>0</td>\n",
       "      <td>0.402461</td>\n",
       "    </tr>\n",
       "    <tr>\n",
       "      <th>2077</th>\n",
       "      <td>134</td>\n",
       "      <td>0.080039</td>\n",
       "      <td>0.003141</td>\n",
       "      <td>0.008192</td>\n",
       "      <td>0.000527</td>\n",
       "      <td>0.0</td>\n",
       "      <td>0.093282</td>\n",
       "      <td>0.129895</td>\n",
       "      <td>0.179284</td>\n",
       "      <td>0.000000</td>\n",
       "      <td>0.00000</td>\n",
       "      <td>3.72</td>\n",
       "      <td>0.0</td>\n",
       "      <td>0.0</td>\n",
       "      <td>0.0</td>\n",
       "      <td>16.08</td>\n",
       "      <td>29.48</td>\n",
       "      <td>88.44</td>\n",
       "      <td>0.00</td>\n",
       "      <td>0.00</td>\n",
       "      <td>0.0</td>\n",
       "      <td>1.499975</td>\n",
       "      <td>3.829305</td>\n",
       "      <td>15.855877</td>\n",
       "      <td>0.000000</td>\n",
       "      <td>0.000000</td>\n",
       "      <td>21.185156</td>\n",
       "      <td>3</td>\n",
       "      <td>0</td>\n",
       "      <td>0.402461</td>\n",
       "    </tr>\n",
       "    <tr>\n",
       "      <th>2078</th>\n",
       "      <td>288</td>\n",
       "      <td>0.080039</td>\n",
       "      <td>0.003141</td>\n",
       "      <td>0.008192</td>\n",
       "      <td>0.000527</td>\n",
       "      <td>0.0</td>\n",
       "      <td>0.093282</td>\n",
       "      <td>0.129895</td>\n",
       "      <td>0.179284</td>\n",
       "      <td>0.000000</td>\n",
       "      <td>0.00000</td>\n",
       "      <td>3.72</td>\n",
       "      <td>0.0</td>\n",
       "      <td>0.0</td>\n",
       "      <td>0.0</td>\n",
       "      <td>31.68</td>\n",
       "      <td>95.04</td>\n",
       "      <td>161.28</td>\n",
       "      <td>0.00</td>\n",
       "      <td>0.00</td>\n",
       "      <td>0.0</td>\n",
       "      <td>2.955174</td>\n",
       "      <td>12.345221</td>\n",
       "      <td>28.914924</td>\n",
       "      <td>0.000000</td>\n",
       "      <td>0.000000</td>\n",
       "      <td>44.215318</td>\n",
       "      <td>3</td>\n",
       "      <td>0</td>\n",
       "      <td>0.402461</td>\n",
       "    </tr>\n",
       "    <tr>\n",
       "      <th>2079</th>\n",
       "      <td>192</td>\n",
       "      <td>0.080039</td>\n",
       "      <td>0.003141</td>\n",
       "      <td>0.008192</td>\n",
       "      <td>0.000527</td>\n",
       "      <td>0.0</td>\n",
       "      <td>0.093282</td>\n",
       "      <td>0.129895</td>\n",
       "      <td>0.179284</td>\n",
       "      <td>0.000000</td>\n",
       "      <td>0.00000</td>\n",
       "      <td>3.72</td>\n",
       "      <td>0.0</td>\n",
       "      <td>0.0</td>\n",
       "      <td>0.0</td>\n",
       "      <td>117.12</td>\n",
       "      <td>23.04</td>\n",
       "      <td>51.84</td>\n",
       "      <td>0.00</td>\n",
       "      <td>0.00</td>\n",
       "      <td>0.0</td>\n",
       "      <td>10.925188</td>\n",
       "      <td>2.992781</td>\n",
       "      <td>9.294083</td>\n",
       "      <td>0.000000</td>\n",
       "      <td>0.000000</td>\n",
       "      <td>23.212051</td>\n",
       "      <td>3</td>\n",
       "      <td>0</td>\n",
       "      <td>0.402461</td>\n",
       "    </tr>\n",
       "  </tbody>\n",
       "</table>\n",
       "<p>2080 rows × 30 columns</p>\n",
       "</div>"
      ],
      "text/plain": [
       "      consumo_kWh  tp_punta_euros/kwh/dia  tp_valle_euros/kwh/dia  \\\n",
       "0             202                0.068192                0.068192   \n",
       "1             279                0.068192                0.068192   \n",
       "2             192                0.068192                0.068192   \n",
       "3             114                0.068192                0.068192   \n",
       "4             206                0.068192                0.068192   \n",
       "...           ...                     ...                     ...   \n",
       "2075          230                0.080039                0.003141   \n",
       "2076          255                0.080039                0.003141   \n",
       "2077          134                0.080039                0.003141   \n",
       "2078          288                0.080039                0.003141   \n",
       "2079          192                0.080039                0.003141   \n",
       "\n",
       "      peaje_tran_dist_pot_punta  peaje_tran_dist_pot_valle  \\\n",
       "0                      0.008192                   0.000527   \n",
       "1                      0.008192                   0.000527   \n",
       "2                      0.008192                   0.000527   \n",
       "3                      0.008192                   0.000527   \n",
       "4                      0.008192                   0.000527   \n",
       "...                         ...                        ...   \n",
       "2075                   0.008192                   0.000527   \n",
       "2076                   0.008192                   0.000527   \n",
       "2077                   0.008192                   0.000527   \n",
       "2078                   0.008192                   0.000527   \n",
       "2079                   0.008192                   0.000527   \n",
       "\n",
       "      termino_consumo_euros/kwh/hora  tc_valle_euros/kwh/hora  \\\n",
       "0                                0.0                 0.000000   \n",
       "1                                0.0                 0.000000   \n",
       "2                                0.0                 0.000000   \n",
       "3                                0.0                 0.000000   \n",
       "4                                0.0                 0.000000   \n",
       "...                              ...                      ...   \n",
       "2075                             0.0                 0.093282   \n",
       "2076                             0.0                 0.093282   \n",
       "2077                             0.0                 0.093282   \n",
       "2078                             0.0                 0.093282   \n",
       "2079                             0.0                 0.093282   \n",
       "\n",
       "      tc_llano_euros/kwh/hora  tc_punta_euros/kwh/hora  tc_8h_euros/kwh/hora  \\\n",
       "0                    0.000000                 0.000000              0.086415   \n",
       "1                    0.000000                 0.000000              0.086415   \n",
       "2                    0.000000                 0.000000              0.086415   \n",
       "3                    0.000000                 0.000000              0.086415   \n",
       "4                    0.000000                 0.000000              0.086415   \n",
       "...                       ...                      ...                   ...   \n",
       "2075                 0.129895                 0.179284              0.000000   \n",
       "2076                 0.129895                 0.179284              0.000000   \n",
       "2077                 0.129895                 0.179284              0.000000   \n",
       "2078                 0.129895                 0.179284              0.000000   \n",
       "2079                 0.129895                 0.179284              0.000000   \n",
       "\n",
       "      tc_16h_euros/kwh/hora  otros  bono_social_euro/dia  \\\n",
       "0                   0.17283   0.00                   0.0   \n",
       "1                   0.17283   0.00                   0.0   \n",
       "2                   0.17283   0.00                   0.0   \n",
       "3                   0.17283   0.00                   0.0   \n",
       "4                   0.17283   0.00                   0.0   \n",
       "...                     ...    ...                   ...   \n",
       "2075                0.00000   3.72                   0.0   \n",
       "2076                0.00000   3.72                   0.0   \n",
       "2077                0.00000   3.72                   0.0   \n",
       "2078                0.00000   3.72                   0.0   \n",
       "2079                0.00000   3.72                   0.0   \n",
       "\n",
       "      margen_euros/kWh/dia  consumo_unico  consumo_valle  consumo_llano  \\\n",
       "0                      0.0            0.0           0.00           0.00   \n",
       "1                      0.0            0.0           0.00           0.00   \n",
       "2                      0.0            0.0           0.00           0.00   \n",
       "3                      0.0            0.0           0.00           0.00   \n",
       "4                      0.0            0.0           0.00           0.00   \n",
       "...                    ...            ...            ...            ...   \n",
       "2075                   0.0            0.0         165.60          25.30   \n",
       "2076                   0.0            0.0          86.70         158.10   \n",
       "2077                   0.0            0.0          16.08          29.48   \n",
       "2078                   0.0            0.0          31.68          95.04   \n",
       "2079                   0.0            0.0         117.12          23.04   \n",
       "\n",
       "      consumo_punta  consumo_8h  consumo_16h  consumo_euros_unico  \\\n",
       "0              0.00       60.60       141.40                  0.0   \n",
       "1              0.00        2.79       276.21                  0.0   \n",
       "2              0.00       26.88       165.12                  0.0   \n",
       "3              0.00       63.84        50.16                  0.0   \n",
       "4              0.00      152.44        53.56                  0.0   \n",
       "...             ...         ...          ...                  ...   \n",
       "2075          39.10        0.00         0.00                  0.0   \n",
       "2076          10.20        0.00         0.00                  0.0   \n",
       "2077          88.44        0.00         0.00                  0.0   \n",
       "2078         161.28        0.00         0.00                  0.0   \n",
       "2079          51.84        0.00         0.00                  0.0   \n",
       "\n",
       "      consumo_euros_valle  consumo_euros_llano  consumo_euros_punta  \\\n",
       "0                0.000000             0.000000             0.000000   \n",
       "1                0.000000             0.000000             0.000000   \n",
       "2                0.000000             0.000000             0.000000   \n",
       "3                0.000000             0.000000             0.000000   \n",
       "4                0.000000             0.000000             0.000000   \n",
       "...                   ...                  ...                  ...   \n",
       "2075            15.447499             3.286344             7.010004   \n",
       "2076             8.087549            20.536400             1.828697   \n",
       "2077             1.499975             3.829305            15.855877   \n",
       "2078             2.955174            12.345221            28.914924   \n",
       "2079            10.925188             2.992781             9.294083   \n",
       "\n",
       "      consumo_euros_8h  consumo_euros_16h  precio_final  tipo_numerico  \\\n",
       "0             5.236749          24.438162     29.674911              0   \n",
       "1             0.241098          47.737374     47.978472              0   \n",
       "2             2.322835          28.537690     30.860525              0   \n",
       "3             5.516734           8.669153     14.185886              0   \n",
       "4            13.173103           9.256775     22.429877              0   \n",
       "...                ...                ...           ...            ...   \n",
       "2075          0.000000           0.000000     25.743847              3   \n",
       "2076          0.000000           0.000000     30.452646              3   \n",
       "2077          0.000000           0.000000     21.185156              3   \n",
       "2078          0.000000           0.000000     44.215318              3   \n",
       "2079          0.000000           0.000000     23.212051              3   \n",
       "\n",
       "      Regulado   suma_tc  \n",
       "0            0  0.259245  \n",
       "1            0  0.259245  \n",
       "2            0  0.259245  \n",
       "3            0  0.259245  \n",
       "4            0  0.259245  \n",
       "...        ...       ...  \n",
       "2075         0  0.402461  \n",
       "2076         0  0.402461  \n",
       "2077         0  0.402461  \n",
       "2078         0  0.402461  \n",
       "2079         0  0.402461  \n",
       "\n",
       "[2080 rows x 30 columns]"
      ]
     },
     "execution_count": 441,
     "metadata": {},
     "output_type": "execute_result"
    }
   ],
   "source": [
    "dt['suma_tc'] = (dt['termino_consumo_euros/kwh/hora'] + dt['tc_valle_euros/kwh/hora'] + dt['tc_llano_euros/kwh/hora'] + dt['tc_punta_euros/kwh/hora'] + dt['tc_8h_euros/kwh/hora'] + dt['tc_16h_euros/kwh/hora'])\n",
    "#dt['suma_tc'] = dt.apply(lambda row: sum([row['termino_consumo_euros/kwh/hora'] > 0,row['tc_valle_euros/kwh/hora'] > 0,row['tc_llano_euros/kwh/hora'] > 0,row['tc_punta_euros/kwh/hora'] > 0,row['tc_8h_euros/kwh/hora'] > 0,row['tc_16h_euros/kwh/hora'] > 0]), axis=1)\n",
    "dt"
   ]
  },
  {
   "cell_type": "code",
   "execution_count": 442,
   "metadata": {},
   "outputs": [
    {
     "data": {
      "text/plain": [
       "69.80265840999999"
      ]
     },
     "execution_count": 442,
     "metadata": {},
     "output_type": "execute_result"
    }
   ],
   "source": [
    "dt['precio_final'].max()"
   ]
  },
  {
   "cell_type": "markdown",
   "metadata": {},
   "source": [
    "## Kmeans"
   ]
  },
  {
   "cell_type": "markdown",
   "metadata": {},
   "source": [
    "### Intento 3 tramos"
   ]
  },
  {
   "cell_type": "code",
   "execution_count": 443,
   "metadata": {},
   "outputs": [
    {
     "name": "stderr",
     "output_type": "stream",
     "text": [
      "C:\\Users\\USUARIO\\AppData\\Local\\Temp\\ipykernel_7328\\2493811553.py:3: SettingWithCopyWarning:\n",
      "\n",
      "\n",
      "A value is trying to be set on a copy of a slice from a DataFrame.\n",
      "Try using .loc[row_indexer,col_indexer] = value instead\n",
      "\n",
      "See the caveats in the documentation: https://pandas.pydata.org/pandas-docs/stable/user_guide/indexing.html#returning-a-view-versus-a-copy\n",
      "\n",
      "C:\\Users\\USUARIO\\AppData\\Local\\Temp\\ipykernel_7328\\2493811553.py:4: SettingWithCopyWarning:\n",
      "\n",
      "\n",
      "A value is trying to be set on a copy of a slice from a DataFrame.\n",
      "Try using .loc[row_indexer,col_indexer] = value instead\n",
      "\n",
      "See the caveats in the documentation: https://pandas.pydata.org/pandas-docs/stable/user_guide/indexing.html#returning-a-view-versus-a-copy\n",
      "\n",
      "C:\\Users\\USUARIO\\AppData\\Local\\Temp\\ipykernel_7328\\2493811553.py:5: SettingWithCopyWarning:\n",
      "\n",
      "\n",
      "A value is trying to be set on a copy of a slice from a DataFrame.\n",
      "Try using .loc[row_indexer,col_indexer] = value instead\n",
      "\n",
      "See the caveats in the documentation: https://pandas.pydata.org/pandas-docs/stable/user_guide/indexing.html#returning-a-view-versus-a-copy\n",
      "\n"
     ]
    },
    {
     "data": {
      "application/vnd.plotly.v1+json": {
       "config": {
        "plotlyServerURL": "https://plot.ly"
       },
       "data": [
        {
         "mode": "lines+markers",
         "type": "scatter",
         "x": [
          1,
          2,
          3,
          4,
          5,
          6,
          7,
          8,
          9,
          10
         ],
         "y": [
          143.14012987408626,
          73.46163213803639,
          55.96986770326943,
          40.53573471854214,
          33.3621822785177,
          30.327638636395193,
          25.20292588426514,
          22.10116853935141,
          19.199408290094567,
          17.93693509167342
         ]
        }
       ],
       "layout": {
        "template": {
         "data": {
          "bar": [
           {
            "error_x": {
             "color": "#2a3f5f"
            },
            "error_y": {
             "color": "#2a3f5f"
            },
            "marker": {
             "line": {
              "color": "#E5ECF6",
              "width": 0.5
             },
             "pattern": {
              "fillmode": "overlay",
              "size": 10,
              "solidity": 0.2
             }
            },
            "type": "bar"
           }
          ],
          "barpolar": [
           {
            "marker": {
             "line": {
              "color": "#E5ECF6",
              "width": 0.5
             },
             "pattern": {
              "fillmode": "overlay",
              "size": 10,
              "solidity": 0.2
             }
            },
            "type": "barpolar"
           }
          ],
          "carpet": [
           {
            "aaxis": {
             "endlinecolor": "#2a3f5f",
             "gridcolor": "white",
             "linecolor": "white",
             "minorgridcolor": "white",
             "startlinecolor": "#2a3f5f"
            },
            "baxis": {
             "endlinecolor": "#2a3f5f",
             "gridcolor": "white",
             "linecolor": "white",
             "minorgridcolor": "white",
             "startlinecolor": "#2a3f5f"
            },
            "type": "carpet"
           }
          ],
          "choropleth": [
           {
            "colorbar": {
             "outlinewidth": 0,
             "ticks": ""
            },
            "type": "choropleth"
           }
          ],
          "contour": [
           {
            "colorbar": {
             "outlinewidth": 0,
             "ticks": ""
            },
            "colorscale": [
             [
              0,
              "#0d0887"
             ],
             [
              0.1111111111111111,
              "#46039f"
             ],
             [
              0.2222222222222222,
              "#7201a8"
             ],
             [
              0.3333333333333333,
              "#9c179e"
             ],
             [
              0.4444444444444444,
              "#bd3786"
             ],
             [
              0.5555555555555556,
              "#d8576b"
             ],
             [
              0.6666666666666666,
              "#ed7953"
             ],
             [
              0.7777777777777778,
              "#fb9f3a"
             ],
             [
              0.8888888888888888,
              "#fdca26"
             ],
             [
              1,
              "#f0f921"
             ]
            ],
            "type": "contour"
           }
          ],
          "contourcarpet": [
           {
            "colorbar": {
             "outlinewidth": 0,
             "ticks": ""
            },
            "type": "contourcarpet"
           }
          ],
          "heatmap": [
           {
            "colorbar": {
             "outlinewidth": 0,
             "ticks": ""
            },
            "colorscale": [
             [
              0,
              "#0d0887"
             ],
             [
              0.1111111111111111,
              "#46039f"
             ],
             [
              0.2222222222222222,
              "#7201a8"
             ],
             [
              0.3333333333333333,
              "#9c179e"
             ],
             [
              0.4444444444444444,
              "#bd3786"
             ],
             [
              0.5555555555555556,
              "#d8576b"
             ],
             [
              0.6666666666666666,
              "#ed7953"
             ],
             [
              0.7777777777777778,
              "#fb9f3a"
             ],
             [
              0.8888888888888888,
              "#fdca26"
             ],
             [
              1,
              "#f0f921"
             ]
            ],
            "type": "heatmap"
           }
          ],
          "heatmapgl": [
           {
            "colorbar": {
             "outlinewidth": 0,
             "ticks": ""
            },
            "colorscale": [
             [
              0,
              "#0d0887"
             ],
             [
              0.1111111111111111,
              "#46039f"
             ],
             [
              0.2222222222222222,
              "#7201a8"
             ],
             [
              0.3333333333333333,
              "#9c179e"
             ],
             [
              0.4444444444444444,
              "#bd3786"
             ],
             [
              0.5555555555555556,
              "#d8576b"
             ],
             [
              0.6666666666666666,
              "#ed7953"
             ],
             [
              0.7777777777777778,
              "#fb9f3a"
             ],
             [
              0.8888888888888888,
              "#fdca26"
             ],
             [
              1,
              "#f0f921"
             ]
            ],
            "type": "heatmapgl"
           }
          ],
          "histogram": [
           {
            "marker": {
             "pattern": {
              "fillmode": "overlay",
              "size": 10,
              "solidity": 0.2
             }
            },
            "type": "histogram"
           }
          ],
          "histogram2d": [
           {
            "colorbar": {
             "outlinewidth": 0,
             "ticks": ""
            },
            "colorscale": [
             [
              0,
              "#0d0887"
             ],
             [
              0.1111111111111111,
              "#46039f"
             ],
             [
              0.2222222222222222,
              "#7201a8"
             ],
             [
              0.3333333333333333,
              "#9c179e"
             ],
             [
              0.4444444444444444,
              "#bd3786"
             ],
             [
              0.5555555555555556,
              "#d8576b"
             ],
             [
              0.6666666666666666,
              "#ed7953"
             ],
             [
              0.7777777777777778,
              "#fb9f3a"
             ],
             [
              0.8888888888888888,
              "#fdca26"
             ],
             [
              1,
              "#f0f921"
             ]
            ],
            "type": "histogram2d"
           }
          ],
          "histogram2dcontour": [
           {
            "colorbar": {
             "outlinewidth": 0,
             "ticks": ""
            },
            "colorscale": [
             [
              0,
              "#0d0887"
             ],
             [
              0.1111111111111111,
              "#46039f"
             ],
             [
              0.2222222222222222,
              "#7201a8"
             ],
             [
              0.3333333333333333,
              "#9c179e"
             ],
             [
              0.4444444444444444,
              "#bd3786"
             ],
             [
              0.5555555555555556,
              "#d8576b"
             ],
             [
              0.6666666666666666,
              "#ed7953"
             ],
             [
              0.7777777777777778,
              "#fb9f3a"
             ],
             [
              0.8888888888888888,
              "#fdca26"
             ],
             [
              1,
              "#f0f921"
             ]
            ],
            "type": "histogram2dcontour"
           }
          ],
          "mesh3d": [
           {
            "colorbar": {
             "outlinewidth": 0,
             "ticks": ""
            },
            "type": "mesh3d"
           }
          ],
          "parcoords": [
           {
            "line": {
             "colorbar": {
              "outlinewidth": 0,
              "ticks": ""
             }
            },
            "type": "parcoords"
           }
          ],
          "pie": [
           {
            "automargin": true,
            "type": "pie"
           }
          ],
          "scatter": [
           {
            "fillpattern": {
             "fillmode": "overlay",
             "size": 10,
             "solidity": 0.2
            },
            "type": "scatter"
           }
          ],
          "scatter3d": [
           {
            "line": {
             "colorbar": {
              "outlinewidth": 0,
              "ticks": ""
             }
            },
            "marker": {
             "colorbar": {
              "outlinewidth": 0,
              "ticks": ""
             }
            },
            "type": "scatter3d"
           }
          ],
          "scattercarpet": [
           {
            "marker": {
             "colorbar": {
              "outlinewidth": 0,
              "ticks": ""
             }
            },
            "type": "scattercarpet"
           }
          ],
          "scattergeo": [
           {
            "marker": {
             "colorbar": {
              "outlinewidth": 0,
              "ticks": ""
             }
            },
            "type": "scattergeo"
           }
          ],
          "scattergl": [
           {
            "marker": {
             "colorbar": {
              "outlinewidth": 0,
              "ticks": ""
             }
            },
            "type": "scattergl"
           }
          ],
          "scattermapbox": [
           {
            "marker": {
             "colorbar": {
              "outlinewidth": 0,
              "ticks": ""
             }
            },
            "type": "scattermapbox"
           }
          ],
          "scatterpolar": [
           {
            "marker": {
             "colorbar": {
              "outlinewidth": 0,
              "ticks": ""
             }
            },
            "type": "scatterpolar"
           }
          ],
          "scatterpolargl": [
           {
            "marker": {
             "colorbar": {
              "outlinewidth": 0,
              "ticks": ""
             }
            },
            "type": "scatterpolargl"
           }
          ],
          "scatterternary": [
           {
            "marker": {
             "colorbar": {
              "outlinewidth": 0,
              "ticks": ""
             }
            },
            "type": "scatterternary"
           }
          ],
          "surface": [
           {
            "colorbar": {
             "outlinewidth": 0,
             "ticks": ""
            },
            "colorscale": [
             [
              0,
              "#0d0887"
             ],
             [
              0.1111111111111111,
              "#46039f"
             ],
             [
              0.2222222222222222,
              "#7201a8"
             ],
             [
              0.3333333333333333,
              "#9c179e"
             ],
             [
              0.4444444444444444,
              "#bd3786"
             ],
             [
              0.5555555555555556,
              "#d8576b"
             ],
             [
              0.6666666666666666,
              "#ed7953"
             ],
             [
              0.7777777777777778,
              "#fb9f3a"
             ],
             [
              0.8888888888888888,
              "#fdca26"
             ],
             [
              1,
              "#f0f921"
             ]
            ],
            "type": "surface"
           }
          ],
          "table": [
           {
            "cells": {
             "fill": {
              "color": "#EBF0F8"
             },
             "line": {
              "color": "white"
             }
            },
            "header": {
             "fill": {
              "color": "#C8D4E3"
             },
             "line": {
              "color": "white"
             }
            },
            "type": "table"
           }
          ]
         },
         "layout": {
          "annotationdefaults": {
           "arrowcolor": "#2a3f5f",
           "arrowhead": 0,
           "arrowwidth": 1
          },
          "autotypenumbers": "strict",
          "coloraxis": {
           "colorbar": {
            "outlinewidth": 0,
            "ticks": ""
           }
          },
          "colorscale": {
           "diverging": [
            [
             0,
             "#8e0152"
            ],
            [
             0.1,
             "#c51b7d"
            ],
            [
             0.2,
             "#de77ae"
            ],
            [
             0.3,
             "#f1b6da"
            ],
            [
             0.4,
             "#fde0ef"
            ],
            [
             0.5,
             "#f7f7f7"
            ],
            [
             0.6,
             "#e6f5d0"
            ],
            [
             0.7,
             "#b8e186"
            ],
            [
             0.8,
             "#7fbc41"
            ],
            [
             0.9,
             "#4d9221"
            ],
            [
             1,
             "#276419"
            ]
           ],
           "sequential": [
            [
             0,
             "#0d0887"
            ],
            [
             0.1111111111111111,
             "#46039f"
            ],
            [
             0.2222222222222222,
             "#7201a8"
            ],
            [
             0.3333333333333333,
             "#9c179e"
            ],
            [
             0.4444444444444444,
             "#bd3786"
            ],
            [
             0.5555555555555556,
             "#d8576b"
            ],
            [
             0.6666666666666666,
             "#ed7953"
            ],
            [
             0.7777777777777778,
             "#fb9f3a"
            ],
            [
             0.8888888888888888,
             "#fdca26"
            ],
            [
             1,
             "#f0f921"
            ]
           ],
           "sequentialminus": [
            [
             0,
             "#0d0887"
            ],
            [
             0.1111111111111111,
             "#46039f"
            ],
            [
             0.2222222222222222,
             "#7201a8"
            ],
            [
             0.3333333333333333,
             "#9c179e"
            ],
            [
             0.4444444444444444,
             "#bd3786"
            ],
            [
             0.5555555555555556,
             "#d8576b"
            ],
            [
             0.6666666666666666,
             "#ed7953"
            ],
            [
             0.7777777777777778,
             "#fb9f3a"
            ],
            [
             0.8888888888888888,
             "#fdca26"
            ],
            [
             1,
             "#f0f921"
            ]
           ]
          },
          "colorway": [
           "#636efa",
           "#EF553B",
           "#00cc96",
           "#ab63fa",
           "#FFA15A",
           "#19d3f3",
           "#FF6692",
           "#B6E880",
           "#FF97FF",
           "#FECB52"
          ],
          "font": {
           "color": "#2a3f5f"
          },
          "geo": {
           "bgcolor": "white",
           "lakecolor": "white",
           "landcolor": "#E5ECF6",
           "showlakes": true,
           "showland": true,
           "subunitcolor": "white"
          },
          "hoverlabel": {
           "align": "left"
          },
          "hovermode": "closest",
          "mapbox": {
           "style": "light"
          },
          "paper_bgcolor": "white",
          "plot_bgcolor": "#E5ECF6",
          "polar": {
           "angularaxis": {
            "gridcolor": "white",
            "linecolor": "white",
            "ticks": ""
           },
           "bgcolor": "#E5ECF6",
           "radialaxis": {
            "gridcolor": "white",
            "linecolor": "white",
            "ticks": ""
           }
          },
          "scene": {
           "xaxis": {
            "backgroundcolor": "#E5ECF6",
            "gridcolor": "white",
            "gridwidth": 2,
            "linecolor": "white",
            "showbackground": true,
            "ticks": "",
            "zerolinecolor": "white"
           },
           "yaxis": {
            "backgroundcolor": "#E5ECF6",
            "gridcolor": "white",
            "gridwidth": 2,
            "linecolor": "white",
            "showbackground": true,
            "ticks": "",
            "zerolinecolor": "white"
           },
           "zaxis": {
            "backgroundcolor": "#E5ECF6",
            "gridcolor": "white",
            "gridwidth": 2,
            "linecolor": "white",
            "showbackground": true,
            "ticks": "",
            "zerolinecolor": "white"
           }
          },
          "shapedefaults": {
           "line": {
            "color": "#2a3f5f"
           }
          },
          "ternary": {
           "aaxis": {
            "gridcolor": "white",
            "linecolor": "white",
            "ticks": ""
           },
           "baxis": {
            "gridcolor": "white",
            "linecolor": "white",
            "ticks": ""
           },
           "bgcolor": "#E5ECF6",
           "caxis": {
            "gridcolor": "white",
            "linecolor": "white",
            "ticks": ""
           }
          },
          "title": {
           "x": 0.05
          },
          "xaxis": {
           "automargin": true,
           "gridcolor": "white",
           "linecolor": "white",
           "ticks": "",
           "title": {
            "standoff": 15
           },
           "zerolinecolor": "white",
           "zerolinewidth": 2
          },
          "yaxis": {
           "automargin": true,
           "gridcolor": "white",
           "linecolor": "white",
           "ticks": "",
           "title": {
            "standoff": 15
           },
           "zerolinecolor": "white",
           "zerolinewidth": 2
          }
         }
        },
        "title": {
         "text": "The Elbow Method"
        },
        "xaxis": {
         "title": {
          "text": "Number of clusters"
         }
        },
        "yaxis": {
         "title": {
          "text": "WCSS"
         }
        }
       }
      }
     },
     "metadata": {},
     "output_type": "display_data"
    },
    {
     "data": {
      "application/vnd.plotly.v1+json": {
       "config": {
        "plotlyServerURL": "https://plot.ly"
       },
       "data": [
        {
         "marker": {
          "color": "red",
          "size": 10
         },
         "mode": "markers",
         "name": "Cluster 1",
         "type": "scatter",
         "x": [
          0.4623115577889447,
          0.5226130653266332,
          0.8241206030150754,
          0.6130653266331658,
          0.7688442211055277,
          0.6582914572864322,
          0.5175879396984926,
          0.6231155778894473,
          0.48241206030150763,
          0.7135678391959799,
          0.5175879396984926,
          0.5175879396984926,
          0.8944723618090453,
          0.8944723618090453,
          0.9899497487437185,
          0.6683417085427137,
          0.6733668341708543,
          0.8944723618090453,
          1,
          0.9597989949748744,
          0.5527638190954773,
          0.7839195979899498,
          0.7738693467336684,
          0.8190954773869348,
          0.7839195979899498,
          0.9246231155778895,
          0.7839195979899498,
          0.6783919597989951,
          0.7839195979899498,
          0.6482412060301508,
          0.7738693467336684,
          0.4723618090452262,
          0.5728643216080402,
          0.7386934673366834,
          0.5175879396984926,
          0.6683417085427137,
          0.44723618090452255,
          0.5326633165829147,
          0.6984924623115578,
          0.7035175879396987,
          0.5175879396984926,
          0.5527638190954773,
          0.5175879396984926,
          0.8542713567839197,
          0.4974874371859299,
          0.6633165829145728,
          0.5979899497487438,
          0.6331658291457287,
          0.5276381909547738,
          0.4572864321608041,
          0.6080402010050252,
          0.6834170854271358,
          0.7537688442211057,
          0.5025125628140703,
          0.7437185929648242,
          0.5477386934673367,
          0.8190954773869348,
          0.9095477386934674,
          0.9095477386934674,
          0.57286432160804,
          0.8391959798994975,
          0.7135678391959799,
          0.7437185929648242,
          0.8743718592964824,
          0.683417085427136,
          0.8994974874371859,
          0.5829145728643219,
          0.5879396984924623,
          0.9447236180904524,
          0.7035175879396987,
          0.8944723618090453,
          0.6130653266331658,
          0.9195979899497488,
          0.7889447236180904,
          0.864321608040201,
          0.7185929648241207,
          0.8391959798994975,
          0.5728643216080402,
          0.8743718592964824,
          0.9698492462311559,
          0.5628140703517588,
          0.5678391959798996,
          0.8291457286432162,
          0.8944723618090453,
          0.6582914572864322,
          0.6432160804020102,
          0.7839195979899498,
          0.5125628140703518,
          0.6532663316582916,
          0.5477386934673367,
          0.8090452261306533,
          0.6180904522613067,
          0.8894472361809045,
          0.6733668341708545,
          0.9346733668341709,
          0.8040201005025127,
          0.7537688442211057,
          0.5577889447236182,
          0.6231155778894473,
          0.7336683417085428,
          0.6432160804020102,
          0.7386934673366834,
          0.6482412060301506,
          0.5929648241206031,
          0.6984924623115578,
          0.8291457286432162,
          0.6834170854271358,
          0.8592964824120604,
          0.49246231155778897,
          0.5376884422110553,
          0.7889447236180904,
          0.5979899497487438,
          0.6381909547738693,
          0.5678391959798996,
          0.5728643216080405,
          0.5125628140703518,
          0.5427135678391961,
          0.48743718592964835,
          0.6381909547738693,
          0.9949748743718594,
          0.6884422110552764,
          0.864321608040201,
          0.7236180904522616,
          0.7688442211055277,
          0.949748743718593,
          0.6080402010050252,
          0.6482412060301508,
          0.5326633165829147,
          0.964824120603015,
          0.9045226130653268,
          0.5728643216080402,
          0.949748743718593,
          0.5427135678391961,
          0.7688442211055277,
          0.9698492462311559,
          0.6432160804020102,
          0.8542713567839197,
          0.6532663316582916,
          0.5376884422110553,
          0.8592964824120604,
          0.8944723618090453,
          0.5075376884422111,
          0.5025125628140703,
          0.9346733668341709,
          0.9447236180904524,
          0.7437185929648242,
          0.6733668341708543,
          0.5829145728643217,
          0.6834170854271358,
          0.57286432160804,
          0.8793969849246233,
          0.5778894472361811,
          0.8341708542713568,
          0.7286432160804022,
          0.9346733668341709,
          0.512562814070352,
          0.7939698492462313,
          0.7587939698492463,
          0.5376884422110553,
          0.9396984924623115,
          0.48743718592964835,
          0.6532663316582916,
          0.8542713567839197,
          0.8391959798994975,
          0.914572864321608,
          0.5376884422110553,
          0.5979899497487438,
          0.4623115577889447,
          0.7638190954773869,
          0.7035175879396987,
          0.8040201005025127,
          0.8492462311557789,
          0.6030150753768846,
          0.7889447236180904,
          0.7638190954773869,
          0.5125628140703518,
          0.6633165829145728,
          0.864321608040201,
          0.7085427135678393,
          0.5979899497487438,
          0.7889447236180904,
          0.7638190954773869,
          0.7135678391959799,
          0.6030150753768846,
          0.6984924623115578,
          0.8542713567839197,
          0.6180904522613067,
          0.5829145728643217,
          0.5477386934673367,
          0.5326633165829147,
          0.5979899497487438,
          0.6231155778894473,
          0.44221105527638194,
          0.7085427135678393,
          0.5025125628140703,
          0.48743718592964835,
          0.5226130653266334,
          0.6130653266331658,
          0.6834170854271358,
          0.7638190954773869,
          0.6934673366834172,
          0.6180904522613067,
          0.6633165829145728,
          0.5678391959798996,
          0.4623115577889447,
          0.5728643216080402,
          0.9296482412060303,
          0.7336683417085428,
          0.8391959798994975,
          0.4572864321608041,
          0.48241206030150763,
          0.8442211055276383,
          0.5326633165829147,
          0.9045226130653268,
          0.8492462311557789,
          0.4974874371859297,
          0.9547738693467338,
          0.7738693467336684,
          0.8291457286432162,
          0.9396984924623115,
          0.6633165829145728,
          0.8492462311557789,
          0.6884422110552764,
          0.7989949748743719,
          0.5326633165829149,
          0.9045226130653268,
          0.7889447236180904,
          0.7939698492462313,
          0.4974874371859297,
          0.9698492462311559,
          0.7738693467336684,
          0.6231155778894473,
          0.6934673366834172,
          0.6683417085427137,
          0.5527638190954773,
          0.7989949748743719,
          0.8944723618090453,
          0.8693467336683418,
          0.49246231155778897,
          0.7035175879396987,
          0.5929648241206031,
          0.7336683417085428,
          0.6532663316582916,
          0.6180904522613067,
          0.8090452261306533,
          0.6532663316582916,
          0.7386934673366834,
          0.7638190954773869,
          0.9949748743718594,
          0.6281407035175881,
          0.8291457286432162,
          0.8793969849246233,
          0.9396984924623115,
          0.5829145728643217,
          0.6482412060301508,
          0.6934673366834172,
          0.5477386934673367,
          0.4723618090452262,
          0.8291457286432162,
          0.5075376884422111,
          0.8442211055276383,
          0.6783919597989951,
          0.8944723618090453,
          0.7236180904522613,
          0.7487437185929648,
          0.5125628140703518,
          0.512562814070352,
          0.6080402010050252,
          0.5276381909547738,
          0.5929648241206031,
          0.8592964824120604,
          0.5175879396984926,
          0.6130653266331658,
          0.6683417085427137,
          0.5125628140703518,
          0.7989949748743719,
          0.5678391959798996,
          0.8894472361809045,
          0.5527638190954773,
          0.6331658291457287,
          0.6582914572864322,
          0.6683417085427137,
          0.5929648241206031,
          0.914572864321608,
          0.9899497487437185,
          0.7286432160804022,
          0.7487437185929648,
          0.4773869346733669,
          0.5226130653266332,
          0.6532663316582916,
          0.7788944723618092,
          0.9447236180904524
         ],
         "y": [
          0.3160968477652267,
          0.21855270793969894,
          0.3837159173341781,
          0.25078825349935785,
          0.3100765096967931,
          0.3482067527154801,
          0.3457274783285965,
          0.4225157558416255,
          0.32470580287137973,
          0.4551486755696664,
          0.34893694835359634,
          0.3521464183785963,
          0.46032230626570025,
          0.4520338285655524,
          0.4373163064174792,
          0.28532354293848167,
          0.36915696608149984,
          0.32721252645164356,
          0.621871645684286,
          0.39189426523750326,
          0.24710590384095021,
          0.41157250518384036,
          0.45356009790589735,
          0.34238525445101453,
          0.3828403687982731,
          0.46902088702488554,
          0.486294763989616,
          0.4598739061997025,
          0.3956155463290807,
          0.4166505090796615,
          0.5411164544742906,
          0.351821972949489,
          0.31338704724815414,
          0.5181671123177487,
          0.3069748349416299,
          0.3902871734964638,
          0.30603530556527264,
          0.3843492671049641,
          0.3044842243069899,
          0.5489273646493767,
          0.2750167078841842,
          0.3456015013320173,
          0.4321441659166252,
          0.423226205552641,
          0.4019248241604294,
          0.5267015913036277,
          0.3799533595180552,
          0.42176023024932385,
          0.38667269331423715,
          0.28554394448751425,
          0.3508898440909548,
          0.4689223847871117,
          0.4146416048778694,
          0.37615891219785835,
          0.35178564313472105,
          0.2836490755376323,
          0.3608526230166881,
          0.552954255506653,
          0.5637300822314036,
          0.2760978562607013,
          0.41317697512324725,
          0.5024453849769647,
          0.4019234786117343,
          0.3547438319409102,
          0.3275334734541435,
          0.5150255925018515,
          0.3062442020001877,
          0.19293692557278413,
          0.37177834386607367,
          0.32274197455087356,
          0.24848638970792386,
          0.2630242360293194,
          0.33653241903021425,
          0.24163584809461042,
          0.4636637113769012,
          0.3998670429022875,
          0.5428703771983603,
          0.3247609703678791,
          0.35502034219775425,
          0.5690187613775151,
          0.3692347186128465,
          0.26181384770063737,
          0.42954860248376703,
          0.5205981824226301,
          0.29957869015180993,
          0.2682714722756215,
          0.38218158815714964,
          0.32288392993820725,
          0.2825188146337438,
          0.27429852126817184,
          0.24374632440352434,
          0.29761671196075956,
          0.27061541810249484,
          0.2253225670893821,
          0.4665565737939429,
          0.4395530934190486,
          0.46370787901281807,
          0.42470703234968055,
          0.4186314258685957,
          0.5212689720858574,
          0.4878299004958616,
          0.4799384928700907,
          0.3634016809227716,
          0.4035674632796704,
          0.4347941031404461,
          0.39977760343955593,
          0.3798025961689633,
          0.5244599270244255,
          0.39144491084109345,
          0.310087910026306,
          0.4240242711715194,
          0.3682457679056924,
          0.30982631080371387,
          0.41158281477794223,
          0.2920077431126858,
          0.2401205752509763,
          0.39256922408336237,
          0.3661167458991138,
          0.5306131013602987,
          0.4156982982432402,
          0.38510708130740257,
          0.4112099955276972,
          0.30525073159496674,
          0.308127030139378,
          0.38065684164154034,
          0.3016426457965265,
          0.3084642197647574,
          0.2856582488491634,
          0.590891173452699,
          0.3326022764879877,
          0.3651128781027384,
          0.3685259508376997,
          0.26998435576449054,
          0.3494507797615397,
          0.41309456026567215,
          0.27801189927948866,
          0.4301288703585312,
          0.28004300503475005,
          0.24501029920898887,
          0.3501393643062598,
          0.46364716112795146,
          0.23908450275574522,
          0.2244482968247375,
          0.5522286683728176,
          0.37410829598651785,
          0.49318935550333554,
          0.42627090136637424,
          0.36826010405426435,
          0.3279784396798713,
          0.3229895538288371,
          0.473947609703561,
          0.41039587734469285,
          0.382671445251218,
          0.43374951904055703,
          0.49914275588805923,
          0.2586611295557254,
          0.40613589372309167,
          0.4180996456820275,
          0.4553982546693781,
          0.5186729965787115,
          0.415727825972967,
          0.3137401276354291,
          0.440165889933517,
          0.5511702160389153,
          0.468225010445541,
          0.38545659481328043,
          0.3808112325899141,
          0.404155151855488,
          0.4860920133483658,
          0.511729469140887,
          0.465563457940803,
          0.5321770056976457,
          0.4632528346273639,
          0.5293825890053327,
          0.44144739992957605,
          0.3822926958314864,
          0.4496591705897133,
          0.3935081937114623,
          0.4975098588777579,
          0.38572969259044,
          0.4442783455778637,
          0.4838656254198864,
          0.4828406954133996,
          0.39682167936001433,
          0.4696058427913036,
          0.41547769183441874,
          0.3957646114275257,
          0.44342427469023005,
          0.4850385011964975,
          0.37093728107044965,
          0.3559651436020925,
          0.3791193884368289,
          0.43340099585851866,
          0.5344589393900013,
          0.3399231176450862,
          0.3243408951110748,
          0.26940336802117454,
          0.5133051537570595,
          0.5448292168970794,
          0.4935676296079904,
          0.38700402727988903,
          0.4124497509612306,
          0.49748175675687345,
          0.23348393332720707,
          0.33438695576413,
          0.3629090005311538,
          0.38369208093904417,
          0.4061244629505397,
          0.6412953197592538,
          0.3738482729060283,
          0.42297404838162966,
          0.35777614971580984,
          0.28717832059221865,
          0.5068489487359488,
          0.4177926548787867,
          0.3477762777128115,
          0.4924767394589208,
          0.38430412394624336,
          0.5563675912963844,
          0.35737811824689036,
          0.4585682691699914,
          0.319711553999634,
          0.18750149718572579,
          0.40012563230064235,
          0.2060403682090573,
          0.287805468729069,
          0.3660036412623199,
          0.2834373867527877,
          0.31996732649179555,
          0.5413329509046229,
          0.3443445348169313,
          0.2978592807517696,
          0.2701633675628873,
          0.3021222666288967,
          0.27775617774998396,
          0.3154578668731515,
          0.3144354853358932,
          0.36769562955730906,
          0.22061564601321482,
          0.2718725642483318,
          0.3190966005706075,
          0.5325624482129739,
          0.3977286800966674,
          0.5389318417961482,
          0.4540189478394484,
          0.3796332972138222,
          0.2776103878852564,
          0.38814997526323947,
          0.43018692472975595,
          0.33921437930381704,
          0.43461658221000343,
          0.4754255856193028,
          0.6882426821723253,
          0.30261183813025455,
          0.40368749110088775,
          0.34435234404517046,
          0.35433504751959355,
          0.29496790852990784,
          0.4859742198107566,
          0.34283615454648775,
          0.4125669652401265,
          0.4136886048771383,
          0.5603140385249237,
          0.3855124771325238,
          0.4607213495872383,
          0.4112192017718691,
          0.2560888743901382,
          0.3376942162316442,
          0.4792851280624649,
          0.4967538821902563,
          0.44193841486829655,
          0.273838764098413,
          0.40346732754578074,
          0.5033673381234922,
          0.32397514234618935,
          0.434358329367016,
          0.37562696196757384,
          0.360681080695485,
          0.22340041209389921,
          0.43663270780344865,
          0.4468887337616637,
          0.34541545147297714,
          0.27851558491388373,
          0.4750668732697708,
          0.4881987868754645,
          0.39038846640223124,
          0.3823128982359817,
          0.2992472512333598,
          0.36012597155383475,
          0.2589590491742445,
          0.3381580218210394,
          0.5696373450969211
         ]
        },
        {
         "marker": {
          "color": "blue",
          "size": 10
         },
         "mode": "markers",
         "name": "Cluster 2",
         "type": "scatter",
         "x": [
          0.31658291457286436,
          0.35678391959799005,
          0.05025125628140714,
          0.0653266331658292,
          0.29648241206030157,
          0.14572864321608048,
          0.170854271356784,
          0.0201005025125629,
          0.4120603015075377,
          0.3869346733668342,
          0.306532663316583,
          0.44221105527638216,
          0.20603015075376885,
          0.44221105527638194,
          0.1959798994974875,
          0.19095477386934678,
          0.0653266331658292,
          0.15577889447236182,
          0.11055276381909562,
          0.2613065326633166,
          0.19095477386934678,
          0.33165829145728654,
          0.20603015075376885,
          0.07035175879396993,
          0.16080402010050254,
          0.18592964824120606,
          0.07035175879396993,
          0.0201005025125629,
          0.23115577889447236,
          0.33668341708542715,
          0.37688442211055284,
          0.17587939698492472,
          0.1256281407035177,
          0.21105527638190957,
          0.1306532663316583,
          0.3417085427135679,
          0.05025125628140714,
          0.3668341708542714,
          0.18592964824120606,
          0.11055276381909551,
          0.23115577889447236,
          0.22613065326633175,
          0.29648241206030157,
          0.33668341708542715,
          0.18090452261306533,
          0.35678391959799005,
          0.1507537688442212,
          0.25125628140703526,
          0.14070351758793975,
          0.1959798994974875,
          0.20100502512562823,
          0.05025125628140714,
          0,
          0.22613065326633175,
          0.44723618090452266,
          0.2814070351758795,
          0,
          0.31155778894472363,
          0.27135678391959805,
          0.2613065326633166,
          0.2814070351758795,
          0.42713567839195987,
          0.31155778894472363,
          0.5175879396984926,
          0.24120603015075381,
          0.3517587939698493,
          0,
          0.306532663316583,
          0.15577889447236182,
          0.14070351758793975,
          0.24120603015075381,
          0.14572864321608048,
          0.09045226130653272,
          0.085427135678392,
          0,
          0.3869346733668342,
          0.31155778894472363,
          0.035175879396984966,
          0.27135678391959805,
          0.15577889447236182,
          0.045226130653266416,
          0.4321608040201006,
          0.27135678391959805,
          0.15577889447236182,
          0.4623115577889447,
          0.035175879396984966,
          0.3216080402010051,
          0.2814070351758795,
          0.33165829145728654,
          0.35678391959799005,
          0.26633165829145733,
          0.33165829145728654,
          0.25125628140703526,
          0.03015075376884424,
          0.42211055276381915,
          0.17587939698492472,
          0.14070351758793975,
          0.4070351758793972,
          0.005025125628140725,
          0.23115577889447236,
          0.05025125628140714,
          0.09547738693467345,
          0.0201005025125629,
          0.18090452261306533,
          0.2613065326633166,
          0.42713567839195987,
          0.11557788944723624,
          0.40201005025125636,
          0.29145728643216084,
          0.0653266331658291,
          0.04020100502512569,
          0.1959798994974875,
          0.12060301507537696,
          0.10552763819095479,
          0.015075376884422176,
          0.14070351758793975,
          0.18090452261306533,
          0.3467336683417086,
          0.20603015075376885,
          0.2613065326633166,
          0.22613065326633175,
          0.31658291457286436,
          0.26633165829145733,
          0.25125628140703526,
          0.17587939698492472,
          0.1256281407035177,
          0.14070351758793975,
          0.36180904522613067,
          0.1959798994974875,
          0.08040201005025127,
          0.3015075376884423,
          0.5175879396984926,
          0.20603015075376885,
          0.12060301507537696,
          0.19095477386934678,
          0.170854271356784,
          0.48743718592964835,
          0.055276381909547756,
          0.09045226130653272,
          0.2160804020100503,
          0.24120603015075381,
          0.08040201005025127,
          0.3668341708542714,
          0.2814070351758795,
          0.27135678391959805,
          0.23115577889447225,
          0.055276381909547756,
          0.306532663316583,
          0.39698492462311563,
          0.4120603015075377,
          0.035175879396984966,
          0.40201005025125636,
          0.0653266331658292,
          0.3919597989949749,
          0.03015075376884424,
          0.35678391959799005,
          0.29145728643216084,
          0.4070351758793971,
          0.08040201005025127,
          0.0653266331658292,
          0.22110552763819102,
          0.18090452261306533,
          0.19095477386934678,
          0.07035175879396993,
          0.015075376884422176,
          0.07537688442211066,
          0.045226130653266416,
          0.4170854271356784,
          0.3216080402010051,
          0.01005025125628145,
          0.33668341708542715,
          0.18090452261306533,
          0.18090452261306533,
          0.3015075376884423,
          0.19095477386934678,
          0.31155778894472363,
          0.22613065326633175,
          0.05025125628140714,
          0.306532663316583,
          0.256281407035176,
          0.015075376884422176,
          0.26633165829145733,
          0.2814070351758793,
          0.06030150753768848,
          0.33668341708542715,
          0.05025125628140714,
          0.33165829145728654,
          0.14070351758793975,
          0.37688442211055284,
          0.04020100502512569,
          0.1959798994974875,
          0.12060301507537696,
          0.0201005025125629,
          0.18592964824120606,
          0.18090452261306533,
          0.13567839195979903,
          0.40201005025125636,
          0.1959798994974875,
          0.22110552763819102,
          0.306532663316583,
          0.33165829145728654,
          0.2763819095477388,
          0.1959798994974875,
          0.48743718592964846,
          0.1959798994974875,
          0.4522613065326634,
          0.16080402010050254,
          0.025125628140703515,
          0.39698492462311563,
          0.29145728643216084,
          0.29145728643216084,
          0.2361809045226131,
          0.06030150753768848,
          0.22110552763819102,
          0.44221105527638194,
          0.03015075376884424,
          0.22110552763819102,
          0.2864321608040201,
          0.1507537688442212,
          0.11055276381909551,
          0.19095477386934678,
          0.4070351758793971,
          0.005025125628140725,
          0.38190954773869357,
          0.055276381909547756,
          0.19095477386934678,
          0.06030150753768848,
          0.22613065326633175,
          0.03015075376884424,
          0.14070351758793975,
          0.16080402010050254,
          0.3919597989949749,
          0.2864321608040201,
          0.1256281407035177,
          0.14070351758793975,
          0.015075376884422176,
          0.19095477386934678,
          0.07035175879396993,
          0.025125628140703515,
          0,
          0.28643216080402,
          0.07035175879396993,
          0.31658291457286436,
          0.12060301507537696,
          0.11557788944723635,
          0.055276381909547756,
          0.085427135678392,
          0.07035175879396993,
          0.1306532663316583,
          0.22613065326633175,
          0.07035175879396993,
          0.08040201005025127,
          0.4170854271356784,
          0.04020100502512569,
          0.31155778894472363,
          0.4371859296482412,
          0.35678391959799005,
          0.31658291457286436,
          0.35678391959799005,
          0.10050251256281417,
          0.085427135678392,
          0.31658291457286436,
          0.4070351758793971,
          0.15577889447236182,
          0.05025125628140714,
          0.22110552763819102,
          0.16080402010050254,
          0.05025125628140714,
          0.4371859296482412,
          0.20100502512562823,
          0.44723618090452266,
          0.24120603015075393,
          0.3015075376884423,
          0.04020100502512558,
          0.025125628140703515,
          0.36180904522613067,
          0.20100502512562823,
          0.035175879396984966,
          0.35678391959799005,
          0.4572864321608041,
          0.306532663316583,
          0.4170854271356784,
          0.306532663316583,
          0.03015075376884424,
          0.4170854271356784,
          0.2864321608040201,
          0.10552763819095479,
          0.2613065326633166,
          0.15577889447236182,
          0.25125628140703526,
          0.2160804020100503,
          0.4070351758793971,
          0.18090452261306533,
          0.2763819095477388,
          0.29145728643216084,
          0.170854271356784,
          0.4623115577889447
         ],
         "y": [
          0.09409091692666605,
          0.2504146619041619,
          0.08649743060135023,
          0.04560164771089595,
          0.16810315928810599,
          0.07004197555712538,
          0.15085522652054023,
          0.020116232193178263,
          0.14257909288412135,
          0.08619189013140915,
          0.19034132850120877,
          0.1430502031209952,
          0.1147428356024679,
          0.18895985365594414,
          0.17197189771563137,
          0.18802799390714897,
          0.12422325214036456,
          0.20176503692265257,
          0.13833418949952064,
          0.2187512436496617,
          0.1822428624600403,
          0.20976618211780146,
          0.17690536882559366,
          0.03795723505856777,
          0.20772056192876592,
          0.11391473515019834,
          0.10655737512874042,
          0.11741797142128274,
          0.2753436762170949,
          0.14499129166855407,
          0.20159919804598087,
          0.1653299329694179,
          0.18282879374926214,
          0.251854432646642,
          0.15427658682630174,
          0.2725301338956297,
          0.10248439922865676,
          0.26539435277831264,
          0.17934415901611322,
          0.1310497252513944,
          0.21596663062514138,
          0.24563396102917018,
          0.2840678775689837,
          0.2812196873686196,
          0.14455768860155627,
          0.2698629199947572,
          0.17773084613068202,
          0.2443624175122957,
          0.14906796782754922,
          0.18085588297506405,
          0.17964152527773147,
          0.12542600448020186,
          0.05006518593909265,
          0.17598163282704515,
          0.2137848234160281,
          0.13620452230234276,
          0.06335247930325735,
          0.18077918669944304,
          0.15144622514614786,
          0.15176982960732066,
          0.1415046386123624,
          0.18612025814787003,
          0.17506813981793812,
          0.15354851042738032,
          0.13638536404696489,
          0.13853316251280934,
          0.04062279797119134,
          0.0669036514193792,
          0.0709265392692876,
          0.06146736558141486,
          0.08977636457773491,
          0.044478602311884996,
          0.08198832873046552,
          0.06383956793088544,
          0.06059410447829147,
          0.2914519124205478,
          0.2937467457200499,
          0.08407292004635741,
          0.17796968102406324,
          0.0886237339267903,
          0.061379400335472345,
          0.2533035885912703,
          0.13378118910245812,
          0.11863317008654972,
          0.24335325599096674,
          0.06298077147623449,
          0.13062655018678382,
          0.18041588855176466,
          0.2065992569969921,
          0.17173003533768622,
          0.21412995665632256,
          0.14953050019149167,
          0.09871518094649306,
          0.146039474102041,
          0.2330830864658366,
          0.13059863005136035,
          0.22205268192797206,
          0.3034631210409919,
          0.08600610349533255,
          0.23224497782237297,
          0.09141692482424202,
          0.041133002284433395,
          0.07928391444481947,
          0.1495307504635489,
          0.19764949055295317,
          0.21362147212250643,
          0.09067115294623762,
          0.24164201070763403,
          0.12941638656473392,
          0.10732702898234064,
          0.16582946792247577,
          0.12189427554272425,
          0.14013890668683054,
          0.08003122815343489,
          0.11028454501418211,
          0.1755914237054646,
          0.23404205902083813,
          0.24306833605477812,
          0.18871321458013135,
          0.11627405185259032,
          0.0778831572139797,
          0.1489978028452943,
          0.12867565965336825,
          0.17839650588950934,
          0.15634057442779986,
          0.15089579060885805,
          0.07624736761037104,
          0.09998235143010847,
          0.055544932999908925,
          0.03624774638905648,
          0.13592464817376082,
          0.1366680638278065,
          0.2005234318642442,
          0.05588064739933768,
          0.09246948029098812,
          0.09475153087788668,
          0.17705336236269653,
          0.023375218410158022,
          0.08385393199622904,
          0.12131871708839298,
          0.10939177345497975,
          0.10355881986169835,
          0.1211871897034465,
          0.09217682344980271,
          0.19615275331536847,
          0.07599592761681417,
          0.11586386267843618,
          0.1095370927140511,
          0.17917529265487758,
          0.2596027748074057,
          0.05542215168148057,
          0.1698862972382182,
          0.15775930919836778,
          0.3262038072794481,
          0.05867607022568741,
          0.2906527397514807,
          0.2575067715566435,
          0.24338834958287098,
          0.10642558872567004,
          0.12254607867289574,
          0.19967056927933863,
          0.15153996279599236,
          0.09788256718751298,
          0.11177578972199337,
          0.10318718688082168,
          0.090223456770401,
          0.12950309523638875,
          0.25994990013254327,
          0.35991819528820834,
          0.11502870986906838,
          0.38980484171985996,
          0.2497273744683839,
          0.25152877353261166,
          0.25254184656399725,
          0.25037814842199724,
          0.21813491002406116,
          0.20720326455557764,
          0.16928994669267577,
          0.22932655603509344,
          0.23696506273781165,
          0.08744282690640531,
          0.20830088026160615,
          0.22589618660804378,
          0.13532267659854463,
          0.31017664795358674,
          0.12823884879828146,
          0.2265008691274934,
          0.2328844565674652,
          0.2923422241485419,
          0.15639009196532844,
          0.2478477948201307,
          0.1741651239237456,
          0.08174393806652225,
          0.22499890577877696,
          0.22659971347102303,
          0.18065448023721914,
          0.3009467700598148,
          0.1339193106851722,
          0.20296466624396847,
          0.2699780459820784,
          0.2298240074059969,
          0.13897250854983134,
          0.21935147694415746,
          0.21070853327796596,
          0.12032952519163526,
          0.2620260306382403,
          0.12262595935769732,
          0.03179563439218505,
          0.15123430240402386,
          0.16215510813221967,
          0.22328005915447835,
          0.1684622159299103,
          0.16464141839322993,
          0.1327631846351049,
          0.18167824600769766,
          0.12583541054501546,
          0.24271328612060078,
          0.18219822993704932,
          0.08562134048209541,
          0.09547677254209475,
          0.05007274186779001,
          0.1433836963559154,
          0.007377671919978485,
          0.1227133890752592,
          0.04587012201454577,
          0.1391320928115874,
          0.06960827157397556,
          0.0788326335590655,
          0.031175310373735526,
          0.11042553160645519,
          0.0817539206922912,
          0.19908765740138862,
          0.14501454275000547,
          0.05841999212577839,
          0.12375033886823944,
          0,
          0.1064931621811383,
          0.06305850718822248,
          0.09383712121373117,
          0.08370810815639695,
          0.17541992006878648,
          0.14404383028263912,
          0.29911704585000626,
          0.14018604125762013,
          0.13579919257730094,
          0.14848860651621842,
          0.12382009211259365,
          0.1428905100379883,
          0.21458547198382005,
          0.14747627118190482,
          0.13268068265325172,
          0.09463153753635462,
          0.3190217137215942,
          0.03345097969594754,
          0.2283050147929952,
          0.2146377981860561,
          0.3085496526880556,
          0.17546455999229532,
          0.26837165678565145,
          0.11817990855311661,
          0.1261828878993304,
          0.25535680356172175,
          0.2436398699729624,
          0.1769829052281811,
          0.1096695989856733,
          0.20665037439191913,
          0.14817086696542037,
          0.10525876085405628,
          0.2680660290232388,
          0.19117974662087234,
          0.2705910300323961,
          0.12915653823738127,
          0.2070503521970261,
          0.08531351594324443,
          0.15670664776966198,
          0.19106372601186256,
          0.21213052175347225,
          0.04570522199447602,
          0.2384220583537185,
          0.22340242066171384,
          0.27923703616741763,
          0.2485643440715748,
          0.1842373591991796,
          0.10304565887339229,
          0.2198724707078048,
          0.18171158651784575,
          0.08735696744417071,
          0.18221188523798165,
          0.19518929083256498,
          0.10304561917970584,
          0.09584834564605449,
          0.2046612722938857,
          0.10209582225764341,
          0.1722610123998769,
          0.23671319385060807,
          0.1822847904301541,
          0.21637586580527063
         ]
        },
        {
         "marker": {
          "color": "green",
          "size": 10
         },
         "mode": "markers",
         "name": "Cluster 3",
         "type": "scatter",
         "x": [
          0.35678391959799005,
          0.31155778894472363,
          0.48241206030150763,
          0.4572864321608041,
          0.035175879396984966,
          0.170854271356784,
          0.4773869346733669,
          0.4371859296482412,
          0.3869346733668342,
          0.15577889447236182,
          0.22613065326633175,
          0.27135678391959805,
          0.03015075376884435,
          0.3668341708542714,
          0.3718592964824121,
          0.42211055276381915,
          0.4974874371859297,
          0.20100502512562823,
          0.16582914572864327,
          0.08040201005025127,
          0.37688442211055284,
          0.4321608040201006,
          0.5276381909547738,
          0.42713567839195987,
          0.1306532663316583,
          0.2814070351758795,
          0.1507537688442212,
          0.48743718592964835,
          0.055276381909547756,
          0.05025125628140714,
          0.1959798994974875,
          0.05025125628140714,
          0.5628140703517588,
          0.19095477386934678,
          0.26633165829145733,
          0.48743718592964835,
          0.27135678391959805,
          0.3417085427135679,
          0.2763819095477388,
          0.16080402010050254,
          0.17587939698492472,
          0.40201005025125636,
          0.12060301507537696,
          0.44221105527638194,
          0.055276381909547756,
          0.29145728643216084,
          0.5427135678391961,
          0.1256281407035177,
          0.23115577889447236,
          0.15577889447236182,
          0.045226130653266416,
          0.07537688442211066,
          0.1256281407035177,
          0.42713567839195987,
          0.5376884422110553,
          0.27135678391959805,
          0.16582914572864327,
          0.06030150753768848,
          0.085427135678392,
          0.4773869346733669,
          0.19095477386934678,
          0.22613065326633175,
          0.14070351758793975,
          0.306532663316583,
          0.07537688442211066,
          0.36180904522613067,
          0.24120603015075381,
          0.4371859296482411,
          0.4371859296482412,
          0.38190954773869357,
          0.29145728643216084,
          0.35678391959799005,
          0.4623115577889446,
          0.31155778894472363,
          0.3668341708542714,
          0.01005025125628145,
          0.025125628140703626,
          0.0201005025125629,
          0.0201005025125629,
          0.26633165829145733,
          0.23115577889447225,
          0.04020100502512569,
          0.49246231155778897,
          0.09547738693467345,
          0.3015075376884423,
          0.4070351758793971,
          0.306532663316583,
          0.010050251256281562,
          0.36180904522613067,
          0.35678391959799005,
          0.44723618090452266,
          0.29648241206030157,
          0.35678391959799005,
          0.29648241206030157,
          0.4623115577889447,
          0.2613065326633166,
          0.035175879396984966,
          0.3919597989949749,
          0.1306532663316583,
          0.24623115577889454,
          0.4623115577889446,
          0.11557788944723624,
          0.29648241206030157,
          0.37688442211055284,
          0.22613065326633175,
          0.39698492462311563,
          0.26633165829145733,
          0.42713567839195987,
          0.4572864321608041,
          0.48241206030150763,
          0.005025125628140725,
          0.16080402010050254,
          0.38190954773869357,
          0.01005025125628145,
          0.20100502512562823,
          0.5276381909547738,
          0.0653266331658292,
          0.055276381909547756,
          0.4321608040201006,
          0.05527638190954787,
          0.12060301507537696,
          0.22110552763819102,
          0.27135678391959805,
          0.4974874371859297
         ],
         "y": [
          0.26109078347060527,
          0.30478192695578205,
          0.6132171430820292,
          0.4348479787420044,
          0.22986069917336371,
          0.3191663134485008,
          0.4719878811017353,
          0.4780562384392255,
          0.42853802813630815,
          0.30689060359331627,
          0.3581019850967191,
          0.3914420579414726,
          0.16424239323659906,
          0.46546869767395016,
          0.3594189408820534,
          0.30459994149476904,
          0.46189874792120733,
          0.2931369800540172,
          0.19260673280061946,
          0.2591398986557717,
          0.390165834438043,
          0.39540584155578695,
          0.47626450075101556,
          0.4875112955890589,
          0.23723354814223818,
          0.2628876924388375,
          0.2513420056551491,
          0.4644726471791063,
          0.16735025970227652,
          0.21738483894978233,
          0.18440480129712156,
          0.23773441283379393,
          0.39448346893445385,
          0.24997042900247285,
          0.406537651016348,
          0.4411655653365454,
          0.30986429984821634,
          0.37684473836775356,
          0.32405237078631927,
          0.1746039255181268,
          0.3406576190390267,
          0.3432370358875434,
          0.24716358078576584,
          0.5276395732989856,
          0.1753373841118287,
          0.3596242716129264,
          0.4487399616897495,
          0.24456845465623367,
          0.37788081086298453,
          0.24582294334339772,
          0.19098709095870714,
          0.17028727074935956,
          0.26973442009437476,
          0.3976113314310956,
          0.5684216011480454,
          0.4072325280195408,
          0.3831975369624838,
          0.2634528013620026,
          0.2345498072031309,
          0.48770885914008955,
          0.2718725935140159,
          0.2897779043563841,
          0.32193230946127577,
          0.493555188496562,
          0.20134208555551253,
          0.2913913378366172,
          0.3098743955000757,
          0.3121784954252474,
          0.37171194440184185,
          0.3487889662536574,
          0.28131284441420223,
          0.3396409231177795,
          0.35155784712283467,
          0.26546916192188863,
          0.29434559932255233,
          0.13220704984896187,
          0.11860244448209706,
          0.17477044255134094,
          0.16433551058849516,
          0.3406724537133903,
          0.23392246530726846,
          0.15324525604467226,
          0.5165085149909837,
          0.21721638970864204,
          0.3621583165594443,
          0.39789962062121675,
          0.41595509520253937,
          0.11201964351200733,
          0.37776218392615235,
          0.3064583178184911,
          0.33070830417811736,
          0.26836876906995816,
          0.30664937782809754,
          0.29532474282984855,
          0.423785264888873,
          0.29793971361611693,
          0.1422712870147586,
          0.3332249446204576,
          0.2014523347697818,
          0.2788924515746036,
          0.4098068115997858,
          0.26195509953419704,
          0.32314627341742136,
          0.3222632913977503,
          0.2812765401648596,
          0.36761532670660435,
          0.26020813699713996,
          0.47068261897552943,
          0.4779564828228421,
          0.3759494492869426,
          0.12467588799365459,
          0.2705255818710918,
          0.3037935514706951,
          0.19353561602750735,
          0.3251240465000228,
          0.377450411883817,
          0.17011168370877894,
          0.2289393888627254,
          0.38416734353919113,
          0.1425969641255026,
          0.19140659536647758,
          0.2837085757009298,
          0.28491883418416264,
          0.45594772226173685
         ]
        },
        {
         "marker": {
          "color": "magenta",
          "size": 10
         },
         "mode": "markers",
         "name": "Cluster 4",
         "type": "scatter",
         "x": [
          0.7286432160804022,
          0.8944723618090453,
          0.8291457286432162,
          0.7638190954773869,
          0.7236180904522613,
          0.9698492462311559,
          0.864321608040201,
          0.8190954773869348,
          1,
          0.949748743718593,
          0.8090452261306533,
          0.5979899497487438,
          0.7185929648241207,
          0.9798994974874373,
          0.8241206030150754,
          0.9095477386934674,
          0.7085427135678393,
          0.8793969849246233,
          0.7336683417085428,
          0.9396984924623115,
          0.9849246231155779,
          0.9748743718592965,
          0.9698492462311559,
          0.7688442211055277,
          0.9296482412060303,
          0.7286432160804022,
          0.8291457286432162,
          0.8241206030150754,
          0.7638190954773869,
          0.6080402010050252,
          0.5829145728643217,
          0.6683417085427137,
          0.8391959798994975,
          0.7437185929648242,
          0.8190954773869348,
          0.9346733668341709,
          0.5527638190954773,
          0.7587939698492463,
          0.7487437185929648,
          0.7386934673366834,
          0.5879396984924623,
          0.9899497487437185,
          1,
          0.7135678391959799,
          0.7688442211055277,
          0.9949748743718594,
          0.7236180904522613,
          0.7537688442211057,
          0.6281407035175881,
          0.9698492462311559,
          0.8492462311557789,
          0.7889447236180904,
          0.7035175879396984,
          0.7989949748743719,
          0.6130653266331658,
          0.949748743718593,
          0.9246231155778895,
          0.9195979899497488,
          0.8844221105527639,
          0.7286432160804022,
          0.949748743718593,
          0.8793969849246233,
          0.964824120603015,
          0.9045226130653268,
          0.9798994974874373,
          0.9346733668341709,
          0.9899497487437185,
          0.9195979899497488,
          0.7638190954773869,
          0.9949748743718594,
          0.7386934673366834,
          0.8442211055276383,
          0.5979899497487438,
          0.8844221105527641,
          0.608040201005025,
          0.6130653266331658,
          0.8140703517587939,
          0.8894472361809045,
          0.7236180904522616,
          0.7989949748743719,
          0.9195979899497488,
          0.9748743718592965,
          0.8492462311557789,
          0.9346733668341709,
          0.8793969849246233,
          0.7286432160804022,
          0.9899497487437185,
          0.8793969849246233,
          0.9849246231155779,
          0.9246231155778895,
          0.9849246231155779,
          0.8291457286432162,
          0.9447236180904524,
          0.8140703517587939,
          0.8693467336683418,
          0.7236180904522613,
          0.8693467336683418,
          0.9949748743718594,
          0.6532663316582916,
          0.9597989949748744,
          0.8592964824120604,
          0.9045226130653268,
          0.6080402010050252,
          0.6030150753768846,
          0.7989949748743719,
          0.7386934673366834,
          0.8040201005025127,
          0.8391959798994975,
          0.7989949748743719,
          0.7889447236180904,
          0.8040201005025127,
          0.5778894472361811,
          0.7688442211055277,
          0.9698492462311561,
          0.8291457286432162,
          0.8693467336683418,
          0.7135678391959799,
          0.9748743718592965,
          0.7688442211055277,
          0.6331658291457287,
          0.6331658291457287,
          0.9396984924623115,
          0.7035175879396987,
          0.6080402010050252,
          0.7336683417085428,
          0.864321608040201,
          0.6783919597989951
         ],
         "y": [
          0.5559124443128421,
          0.5707225624126921,
          0.6238794727743477,
          0.6046573005032474,
          0.5027831176994362,
          0.7244008745588176,
          0.5596809898206582,
          0.6320126418619118,
          0.7148880134780101,
          0.6889495348952918,
          0.8512404687677644,
          0.7015913012729798,
          0.6881141509879356,
          0.8041355673269532,
          0.6465334669923141,
          0.958597964336434,
          0.7259144486472242,
          0.8431652255515247,
          0.5920461117196557,
          0.6546612202463802,
          0.6301012226630798,
          0.6353933329583636,
          0.5000257520359916,
          0.5895346787189591,
          0.5428824871366162,
          0.5687691620945732,
          0.5711442699882572,
          0.7288784071662177,
          0.5848144824593656,
          0.710859695498149,
          0.5137647178405805,
          0.5872539311277782,
          0.7520168404582378,
          0.6381719582911909,
          0.6766500929249972,
          0.8728279810899904,
          0.6348811834862893,
          0.6619960752931382,
          0.7029313163990764,
          0.627797088258223,
          0.554741682393231,
          0.709521494339887,
          0.7785348887441412,
          0.5783806182560144,
          0.6926235219685594,
          0.7210672440279768,
          0.5845989369955741,
          0.6416020310247532,
          0.620567753663039,
          0.8046687214869328,
          0.9055619227639304,
          0.7769739032383011,
          0.6884509687372944,
          0.8982279805037685,
          0.5900980979693503,
          1,
          0.8756989124088503,
          0.5912696931199909,
          0.6694167373257315,
          0.6167401309987962,
          0.5012820789108667,
          0.5225602236862757,
          0.6383355447193468,
          0.5251183917979928,
          0.6561239132518493,
          0.5269308196521002,
          0.5644517484363417,
          0.7453493403934693,
          0.49546884147442105,
          0.6396736310013892,
          0.5305719295885516,
          0.5143181043435139,
          0.5486908414086538,
          0.5909580216574205,
          0.5406151689623804,
          0.4184127755511896,
          0.6615564858799958,
          0.8159901971368455,
          0.5320179093654852,
          0.5105208485268032,
          0.5109277037676779,
          0.6415828535919762,
          0.48237296149458875,
          0.6066055789902586,
          0.658731463000677,
          0.5732636151450077,
          0.5625301873324141,
          0.47958106888343444,
          0.7824428021491504,
          0.5627677861711252,
          0.6671733497350382,
          0.5685972430197351,
          0.5913407279994772,
          0.505151623153867,
          0.5642429781466168,
          0.43063683988358414,
          0.8143410817235414,
          0.8771133535335323,
          0.395500490142098,
          0.6371612229824692,
          0.6410399808701592,
          0.626351669575095,
          0.4948222886752579,
          0.5230366597730782,
          0.6775010616501145,
          0.5557252976634217,
          0.5401828858786526,
          0.6547705001610081,
          0.5538705785410531,
          0.6184877215707067,
          0.5899331360540407,
          0.5147957795124711,
          0.5190286077748884,
          0.49214083668267483,
          0.6249491839869564,
          0.7134678709271198,
          0.61252623746581,
          0.5992214519686089,
          0.5502423656888442,
          0.6105359348019533,
          0.5832148369848053,
          0.8261692985807421,
          0.5427175497775704,
          0.4848673955058458,
          0.7017798893414396,
          0.4921178197266962,
          0.6892083259577572
         ]
        },
        {
         "marker": {
          "color": "yellow",
          "size": 15,
          "symbol": "x"
         },
         "mode": "markers",
         "name": "Centroids",
         "type": "scatter",
         "x": [
          0.6999380463963655,
          0.21504830550056686,
          0.2694520992057059,
          0.819055909468603
         ],
         "y": [
          0.38938148433800923,
          0.15925512170194872,
          0.31586204603198303,
          0.6306853835095241
         ]
        }
       ],
       "layout": {
        "legend": {
         "title": {
          "text": "Clusters"
         }
        },
        "template": {
         "data": {
          "bar": [
           {
            "error_x": {
             "color": "#2a3f5f"
            },
            "error_y": {
             "color": "#2a3f5f"
            },
            "marker": {
             "line": {
              "color": "#E5ECF6",
              "width": 0.5
             },
             "pattern": {
              "fillmode": "overlay",
              "size": 10,
              "solidity": 0.2
             }
            },
            "type": "bar"
           }
          ],
          "barpolar": [
           {
            "marker": {
             "line": {
              "color": "#E5ECF6",
              "width": 0.5
             },
             "pattern": {
              "fillmode": "overlay",
              "size": 10,
              "solidity": 0.2
             }
            },
            "type": "barpolar"
           }
          ],
          "carpet": [
           {
            "aaxis": {
             "endlinecolor": "#2a3f5f",
             "gridcolor": "white",
             "linecolor": "white",
             "minorgridcolor": "white",
             "startlinecolor": "#2a3f5f"
            },
            "baxis": {
             "endlinecolor": "#2a3f5f",
             "gridcolor": "white",
             "linecolor": "white",
             "minorgridcolor": "white",
             "startlinecolor": "#2a3f5f"
            },
            "type": "carpet"
           }
          ],
          "choropleth": [
           {
            "colorbar": {
             "outlinewidth": 0,
             "ticks": ""
            },
            "type": "choropleth"
           }
          ],
          "contour": [
           {
            "colorbar": {
             "outlinewidth": 0,
             "ticks": ""
            },
            "colorscale": [
             [
              0,
              "#0d0887"
             ],
             [
              0.1111111111111111,
              "#46039f"
             ],
             [
              0.2222222222222222,
              "#7201a8"
             ],
             [
              0.3333333333333333,
              "#9c179e"
             ],
             [
              0.4444444444444444,
              "#bd3786"
             ],
             [
              0.5555555555555556,
              "#d8576b"
             ],
             [
              0.6666666666666666,
              "#ed7953"
             ],
             [
              0.7777777777777778,
              "#fb9f3a"
             ],
             [
              0.8888888888888888,
              "#fdca26"
             ],
             [
              1,
              "#f0f921"
             ]
            ],
            "type": "contour"
           }
          ],
          "contourcarpet": [
           {
            "colorbar": {
             "outlinewidth": 0,
             "ticks": ""
            },
            "type": "contourcarpet"
           }
          ],
          "heatmap": [
           {
            "colorbar": {
             "outlinewidth": 0,
             "ticks": ""
            },
            "colorscale": [
             [
              0,
              "#0d0887"
             ],
             [
              0.1111111111111111,
              "#46039f"
             ],
             [
              0.2222222222222222,
              "#7201a8"
             ],
             [
              0.3333333333333333,
              "#9c179e"
             ],
             [
              0.4444444444444444,
              "#bd3786"
             ],
             [
              0.5555555555555556,
              "#d8576b"
             ],
             [
              0.6666666666666666,
              "#ed7953"
             ],
             [
              0.7777777777777778,
              "#fb9f3a"
             ],
             [
              0.8888888888888888,
              "#fdca26"
             ],
             [
              1,
              "#f0f921"
             ]
            ],
            "type": "heatmap"
           }
          ],
          "heatmapgl": [
           {
            "colorbar": {
             "outlinewidth": 0,
             "ticks": ""
            },
            "colorscale": [
             [
              0,
              "#0d0887"
             ],
             [
              0.1111111111111111,
              "#46039f"
             ],
             [
              0.2222222222222222,
              "#7201a8"
             ],
             [
              0.3333333333333333,
              "#9c179e"
             ],
             [
              0.4444444444444444,
              "#bd3786"
             ],
             [
              0.5555555555555556,
              "#d8576b"
             ],
             [
              0.6666666666666666,
              "#ed7953"
             ],
             [
              0.7777777777777778,
              "#fb9f3a"
             ],
             [
              0.8888888888888888,
              "#fdca26"
             ],
             [
              1,
              "#f0f921"
             ]
            ],
            "type": "heatmapgl"
           }
          ],
          "histogram": [
           {
            "marker": {
             "pattern": {
              "fillmode": "overlay",
              "size": 10,
              "solidity": 0.2
             }
            },
            "type": "histogram"
           }
          ],
          "histogram2d": [
           {
            "colorbar": {
             "outlinewidth": 0,
             "ticks": ""
            },
            "colorscale": [
             [
              0,
              "#0d0887"
             ],
             [
              0.1111111111111111,
              "#46039f"
             ],
             [
              0.2222222222222222,
              "#7201a8"
             ],
             [
              0.3333333333333333,
              "#9c179e"
             ],
             [
              0.4444444444444444,
              "#bd3786"
             ],
             [
              0.5555555555555556,
              "#d8576b"
             ],
             [
              0.6666666666666666,
              "#ed7953"
             ],
             [
              0.7777777777777778,
              "#fb9f3a"
             ],
             [
              0.8888888888888888,
              "#fdca26"
             ],
             [
              1,
              "#f0f921"
             ]
            ],
            "type": "histogram2d"
           }
          ],
          "histogram2dcontour": [
           {
            "colorbar": {
             "outlinewidth": 0,
             "ticks": ""
            },
            "colorscale": [
             [
              0,
              "#0d0887"
             ],
             [
              0.1111111111111111,
              "#46039f"
             ],
             [
              0.2222222222222222,
              "#7201a8"
             ],
             [
              0.3333333333333333,
              "#9c179e"
             ],
             [
              0.4444444444444444,
              "#bd3786"
             ],
             [
              0.5555555555555556,
              "#d8576b"
             ],
             [
              0.6666666666666666,
              "#ed7953"
             ],
             [
              0.7777777777777778,
              "#fb9f3a"
             ],
             [
              0.8888888888888888,
              "#fdca26"
             ],
             [
              1,
              "#f0f921"
             ]
            ],
            "type": "histogram2dcontour"
           }
          ],
          "mesh3d": [
           {
            "colorbar": {
             "outlinewidth": 0,
             "ticks": ""
            },
            "type": "mesh3d"
           }
          ],
          "parcoords": [
           {
            "line": {
             "colorbar": {
              "outlinewidth": 0,
              "ticks": ""
             }
            },
            "type": "parcoords"
           }
          ],
          "pie": [
           {
            "automargin": true,
            "type": "pie"
           }
          ],
          "scatter": [
           {
            "fillpattern": {
             "fillmode": "overlay",
             "size": 10,
             "solidity": 0.2
            },
            "type": "scatter"
           }
          ],
          "scatter3d": [
           {
            "line": {
             "colorbar": {
              "outlinewidth": 0,
              "ticks": ""
             }
            },
            "marker": {
             "colorbar": {
              "outlinewidth": 0,
              "ticks": ""
             }
            },
            "type": "scatter3d"
           }
          ],
          "scattercarpet": [
           {
            "marker": {
             "colorbar": {
              "outlinewidth": 0,
              "ticks": ""
             }
            },
            "type": "scattercarpet"
           }
          ],
          "scattergeo": [
           {
            "marker": {
             "colorbar": {
              "outlinewidth": 0,
              "ticks": ""
             }
            },
            "type": "scattergeo"
           }
          ],
          "scattergl": [
           {
            "marker": {
             "colorbar": {
              "outlinewidth": 0,
              "ticks": ""
             }
            },
            "type": "scattergl"
           }
          ],
          "scattermapbox": [
           {
            "marker": {
             "colorbar": {
              "outlinewidth": 0,
              "ticks": ""
             }
            },
            "type": "scattermapbox"
           }
          ],
          "scatterpolar": [
           {
            "marker": {
             "colorbar": {
              "outlinewidth": 0,
              "ticks": ""
             }
            },
            "type": "scatterpolar"
           }
          ],
          "scatterpolargl": [
           {
            "marker": {
             "colorbar": {
              "outlinewidth": 0,
              "ticks": ""
             }
            },
            "type": "scatterpolargl"
           }
          ],
          "scatterternary": [
           {
            "marker": {
             "colorbar": {
              "outlinewidth": 0,
              "ticks": ""
             }
            },
            "type": "scatterternary"
           }
          ],
          "surface": [
           {
            "colorbar": {
             "outlinewidth": 0,
             "ticks": ""
            },
            "colorscale": [
             [
              0,
              "#0d0887"
             ],
             [
              0.1111111111111111,
              "#46039f"
             ],
             [
              0.2222222222222222,
              "#7201a8"
             ],
             [
              0.3333333333333333,
              "#9c179e"
             ],
             [
              0.4444444444444444,
              "#bd3786"
             ],
             [
              0.5555555555555556,
              "#d8576b"
             ],
             [
              0.6666666666666666,
              "#ed7953"
             ],
             [
              0.7777777777777778,
              "#fb9f3a"
             ],
             [
              0.8888888888888888,
              "#fdca26"
             ],
             [
              1,
              "#f0f921"
             ]
            ],
            "type": "surface"
           }
          ],
          "table": [
           {
            "cells": {
             "fill": {
              "color": "#EBF0F8"
             },
             "line": {
              "color": "white"
             }
            },
            "header": {
             "fill": {
              "color": "#C8D4E3"
             },
             "line": {
              "color": "white"
             }
            },
            "type": "table"
           }
          ]
         },
         "layout": {
          "annotationdefaults": {
           "arrowcolor": "#2a3f5f",
           "arrowhead": 0,
           "arrowwidth": 1
          },
          "autotypenumbers": "strict",
          "coloraxis": {
           "colorbar": {
            "outlinewidth": 0,
            "ticks": ""
           }
          },
          "colorscale": {
           "diverging": [
            [
             0,
             "#8e0152"
            ],
            [
             0.1,
             "#c51b7d"
            ],
            [
             0.2,
             "#de77ae"
            ],
            [
             0.3,
             "#f1b6da"
            ],
            [
             0.4,
             "#fde0ef"
            ],
            [
             0.5,
             "#f7f7f7"
            ],
            [
             0.6,
             "#e6f5d0"
            ],
            [
             0.7,
             "#b8e186"
            ],
            [
             0.8,
             "#7fbc41"
            ],
            [
             0.9,
             "#4d9221"
            ],
            [
             1,
             "#276419"
            ]
           ],
           "sequential": [
            [
             0,
             "#0d0887"
            ],
            [
             0.1111111111111111,
             "#46039f"
            ],
            [
             0.2222222222222222,
             "#7201a8"
            ],
            [
             0.3333333333333333,
             "#9c179e"
            ],
            [
             0.4444444444444444,
             "#bd3786"
            ],
            [
             0.5555555555555556,
             "#d8576b"
            ],
            [
             0.6666666666666666,
             "#ed7953"
            ],
            [
             0.7777777777777778,
             "#fb9f3a"
            ],
            [
             0.8888888888888888,
             "#fdca26"
            ],
            [
             1,
             "#f0f921"
            ]
           ],
           "sequentialminus": [
            [
             0,
             "#0d0887"
            ],
            [
             0.1111111111111111,
             "#46039f"
            ],
            [
             0.2222222222222222,
             "#7201a8"
            ],
            [
             0.3333333333333333,
             "#9c179e"
            ],
            [
             0.4444444444444444,
             "#bd3786"
            ],
            [
             0.5555555555555556,
             "#d8576b"
            ],
            [
             0.6666666666666666,
             "#ed7953"
            ],
            [
             0.7777777777777778,
             "#fb9f3a"
            ],
            [
             0.8888888888888888,
             "#fdca26"
            ],
            [
             1,
             "#f0f921"
            ]
           ]
          },
          "colorway": [
           "#636efa",
           "#EF553B",
           "#00cc96",
           "#ab63fa",
           "#FFA15A",
           "#19d3f3",
           "#FF6692",
           "#B6E880",
           "#FF97FF",
           "#FECB52"
          ],
          "font": {
           "color": "#2a3f5f"
          },
          "geo": {
           "bgcolor": "white",
           "lakecolor": "white",
           "landcolor": "#E5ECF6",
           "showlakes": true,
           "showland": true,
           "subunitcolor": "white"
          },
          "hoverlabel": {
           "align": "left"
          },
          "hovermode": "closest",
          "mapbox": {
           "style": "light"
          },
          "paper_bgcolor": "white",
          "plot_bgcolor": "#E5ECF6",
          "polar": {
           "angularaxis": {
            "gridcolor": "white",
            "linecolor": "white",
            "ticks": ""
           },
           "bgcolor": "#E5ECF6",
           "radialaxis": {
            "gridcolor": "white",
            "linecolor": "white",
            "ticks": ""
           }
          },
          "scene": {
           "xaxis": {
            "backgroundcolor": "#E5ECF6",
            "gridcolor": "white",
            "gridwidth": 2,
            "linecolor": "white",
            "showbackground": true,
            "ticks": "",
            "zerolinecolor": "white"
           },
           "yaxis": {
            "backgroundcolor": "#E5ECF6",
            "gridcolor": "white",
            "gridwidth": 2,
            "linecolor": "white",
            "showbackground": true,
            "ticks": "",
            "zerolinecolor": "white"
           },
           "zaxis": {
            "backgroundcolor": "#E5ECF6",
            "gridcolor": "white",
            "gridwidth": 2,
            "linecolor": "white",
            "showbackground": true,
            "ticks": "",
            "zerolinecolor": "white"
           }
          },
          "shapedefaults": {
           "line": {
            "color": "#2a3f5f"
           }
          },
          "ternary": {
           "aaxis": {
            "gridcolor": "white",
            "linecolor": "white",
            "ticks": ""
           },
           "baxis": {
            "gridcolor": "white",
            "linecolor": "white",
            "ticks": ""
           },
           "bgcolor": "#E5ECF6",
           "caxis": {
            "gridcolor": "white",
            "linecolor": "white",
            "ticks": ""
           }
          },
          "title": {
           "x": 0.05
          },
          "xaxis": {
           "automargin": true,
           "gridcolor": "white",
           "linecolor": "white",
           "ticks": "",
           "title": {
            "standoff": 15
           },
           "zerolinecolor": "white",
           "zerolinewidth": 2
          },
          "yaxis": {
           "automargin": true,
           "gridcolor": "white",
           "linecolor": "white",
           "ticks": "",
           "title": {
            "standoff": 15
           },
           "zerolinecolor": "white",
           "zerolinewidth": 2
          }
         }
        },
        "title": {
         "text": "Clusters of customers"
        },
        "xaxis": {
         "title": {
          "text": "tarifa_media"
         }
        },
        "yaxis": {
         "title": {
          "text": "consumo_total"
         }
        }
       }
      }
     },
     "metadata": {},
     "output_type": "display_data"
    }
   ],
   "source": [
    "# Supongamos que ya tienes 'dt_dos' cargado\n",
    "# Calculamos variables adicionales\n",
    "dt_2['consumo_total'] = dt_2[['consumo_valle', 'consumo_llano', 'consumo_punta']].sum(axis=1)\n",
    "dt_2['gasto_total'] = dt_2[['consumo_euros_valle', 'consumo_euros_llano', 'consumo_euros_punta']].sum(axis=1)\n",
    "dt_2['tarifa_media'] = dt_2[['tc_valle_euros/kwh/hora', 'tc_llano_euros/kwh/hora', 'tc_punta_euros/kwh/hora']].mean(axis=1)\n",
    "\n",
    "X = dt_2[['consumo_total', 'gasto_total', 'tarifa_media']]\n",
    "\n",
    "# Normalizar las variables\n",
    "scaler = MinMaxScaler()\n",
    "X_scaled = scaler.fit_transform(X)\n",
    "\n",
    "# Método del codo para determinar el número óptimo de clústeres\n",
    "wcss = []\n",
    "for i in range(1, 11):\n",
    "    kmeans = KMeans(n_clusters=i, init='k-means++', random_state=0)\n",
    "    kmeans.fit(X_scaled)\n",
    "    wcss.append(kmeans.inertia_)\n",
    "\n",
    "# Gráfico del método del codo con plotly\n",
    "fig_elbow = go.Figure()\n",
    "fig_elbow.add_trace(go.Scatter(x=list(range(1, 11)), y=wcss, mode='lines+markers'))\n",
    "fig_elbow.update_layout(title='The Elbow Method',\n",
    "                        xaxis_title='Number of clusters',\n",
    "                        yaxis_title='WCSS')\n",
    "fig_elbow.show()\n",
    "\n",
    "# Aplicar KMeans con el número óptimo de clústeres (4)\n",
    "kmeansmodel = KMeans(n_clusters=4, init='k-means++', random_state=0)\n",
    "y_kmeans = kmeansmodel.fit_predict(X_scaled)\n",
    "\n",
    "# Definir colores y etiquetas para los clusters\n",
    "colors = ['red', 'blue', 'green', 'magenta']\n",
    "labels = ['Cluster 1', 'Cluster 2', 'Cluster 3', 'Cluster 4']\n",
    "\n",
    "# Crear trazas para cada cluster\n",
    "fig_clusters = go.Figure()\n",
    "\n",
    "for i in range(4):\n",
    "    fig_clusters.add_trace(go.Scatter(\n",
    "        x=X_scaled[y_kmeans == i, 0],\n",
    "        y=X_scaled[y_kmeans == i, 1],\n",
    "        mode='markers',\n",
    "        marker=dict(size=10, color=colors[i]),\n",
    "        name=labels[i]\n",
    "    ))\n",
    "\n",
    "# Agregar los centroides\n",
    "centroids = kmeansmodel.cluster_centers_\n",
    "fig_clusters.add_trace(go.Scatter(\n",
    "    x=centroids[:, 0],\n",
    "    y=centroids[:, 1],\n",
    "    mode='markers',\n",
    "    marker=dict(size=15, color='yellow', symbol='x'),\n",
    "    name='Centroids'\n",
    "))\n",
    "\n",
    "# Configurar el layout\n",
    "fig_clusters.update_layout(\n",
    "    title='Clusters of customers',\n",
    "    xaxis_title='tarifa_media',\n",
    "    yaxis_title='consumo_total',\n",
    "    legend_title='Clusters'\n",
    ")\n",
    "\n",
    "fig_clusters.show()"
   ]
  },
  {
   "cell_type": "code",
   "execution_count": 444,
   "metadata": {},
   "outputs": [
    {
     "data": {
      "application/vnd.plotly.v1+json": {
       "config": {
        "plotlyServerURL": "https://plot.ly"
       },
       "data": [
        {
         "marker": {
          "color": "red",
          "size": 10
         },
         "mode": "markers",
         "name": "Cluster 1",
         "type": "scatter",
         "x": [
          0.12276666666666668,
          0.12276666666666668,
          0.12276666666666668,
          0.12276666666666668,
          0.12276666666666668,
          0.16366666666666665,
          0.16366666666666665,
          0.16366666666666665,
          0.16366666666666665,
          0.16366666666666665,
          0.16366666666666665,
          0.13261766666666666,
          0.13261766666666666,
          0.13261766666666666,
          0.13261766666666666,
          0.13261766666666666,
          0.13261766666666666,
          0.13261766666666666,
          0.13261766666666666,
          0.13261766666666666,
          0.13261766666666666,
          0.13261766666666666,
          0.13261766666666666,
          0.13261766666666666,
          0.13261766666666666,
          0.157,
          0.157,
          0.157,
          0.157,
          0.157,
          0.157,
          0.157,
          0.157,
          0.157,
          0.157,
          0.157,
          0.157,
          0.157,
          0.157,
          0.157,
          0.157,
          0.157,
          0.157,
          0.157,
          0.151,
          0.151,
          0.151,
          0.151,
          0.151,
          0.151,
          0.151,
          0.151,
          0.151,
          0.13899999999999998,
          0.13899999999999998,
          0.13899999999999998,
          0.13899999999999998,
          0.13899999999999998,
          0.13899999999999998,
          0.13899999999999998,
          0.13899999999999998,
          0.13899999999999998,
          0.13899999999999998,
          0.13899999999999998,
          0.13899999999999998,
          0.13899999999999998,
          0.10983333333333334,
          0.10983333333333334,
          0.10983333333333334,
          0.10983333333333334,
          0.10983333333333334,
          0.10983333333333334,
          0.10983333333333334,
          0.10983333333333334,
          0.136,
          0.136,
          0.136,
          0.136,
          0.136,
          0.136,
          0.136,
          0.136,
          0.136,
          0.136,
          0.136,
          0.136,
          0.136,
          0.13033333333333333,
          0.13033333333333333,
          0.13033333333333333,
          0.13033333333333333,
          0.13033333333333333,
          0.13033333333333333,
          0.15713333333333332,
          0.15713333333333332,
          0.15713333333333332,
          0.15713333333333332,
          0.15713333333333332,
          0.15713333333333332,
          0.15713333333333332,
          0.15713333333333332,
          0.14383866666666667,
          0.14383866666666667,
          0.14383866666666667,
          0.14383866666666667,
          0.14383866666666667,
          0.14383866666666667,
          0.14383866666666667,
          0.14383866666666667,
          0.14383866666666667,
          0.14383866666666667,
          0.14383866666666667,
          0.14383866666666667,
          0.16133333333333333,
          0.16133333333333333,
          0.16133333333333333,
          0.119272,
          0.119272,
          0.119272,
          0.119272,
          0.119272,
          0.119272,
          0.119272,
          0.119272,
          0.119272,
          0.119272,
          0.119272,
          0.119272,
          0.12066666666666666,
          0.12066666666666666,
          0.12066666666666666,
          0.12066666666666666,
          0.12066666666666666,
          0.12066666666666666,
          0.12066666666666666,
          0.12066666666666666,
          0.12066666666666666,
          0.12066666666666666,
          0.12066666666666666,
          0.12066666666666666,
          0.12066666666666666,
          0.14958333333333332,
          0.14958333333333332,
          0.14958333333333332,
          0.14958333333333332,
          0.14958333333333332,
          0.14958333333333332,
          0.14958333333333332,
          0.14958333333333332,
          0.14958333333333332,
          0.14958333333333332,
          0.14958333333333332,
          0.14958333333333332,
          0.14958333333333332,
          0.14958333333333332,
          0.14958333333333332,
          0.14958333333333332,
          0.14958333333333332,
          0.14958333333333332,
          0.14958333333333332,
          0.14958333333333332,
          0.14958333333333332,
          0.14958333333333332,
          0.14958333333333332,
          0.14958333333333332,
          0.14958333333333332,
          0.14958333333333332,
          0.14958333333333332,
          0.156892,
          0.156892,
          0.156892,
          0.156892,
          0.156892,
          0.156892,
          0.156892,
          0.156892,
          0.156892,
          0.156892,
          0.156892,
          0.163045,
          0.163045,
          0.163045,
          0.163045,
          0.163045,
          0.1641443333333333,
          0.1641443333333333,
          0.1641443333333333,
          0.1641443333333333,
          0.15958333333333333,
          0.15958333333333333,
          0.15958333333333333,
          0.15958333333333333,
          0.15958333333333333,
          0.15958333333333333,
          0.15958333333333333,
          0.15958333333333333,
          0.15958333333333333,
          0.15958333333333333,
          0.15958333333333333,
          0.15958333333333333,
          0.16449266666666668,
          0.16449266666666668,
          0.16449266666666668,
          0.16449266666666668,
          0.16449266666666668,
          0.14271066666666668,
          0.14271066666666668,
          0.14271066666666668,
          0.14271066666666668,
          0.14271066666666668,
          0.14271066666666668,
          0.14271066666666668,
          0.13634333333333334,
          0.13634333333333334,
          0.13634333333333334,
          0.13634333333333334,
          0.13634333333333334,
          0.13634333333333334,
          0.13634333333333334,
          0.13634333333333334,
          0.13634333333333334,
          0.13634333333333334,
          0.13634333333333334,
          0.11942566666666665,
          0.11942566666666665,
          0.11942566666666665,
          0.11942566666666665,
          0.11942566666666665,
          0.11942566666666665,
          0.11942566666666665,
          0.11942566666666665,
          0.11942566666666665,
          0.12147000000000001,
          0.12147000000000001,
          0.12147000000000001,
          0.12147000000000001,
          0.12147000000000001,
          0.12147000000000001,
          0.12147000000000001,
          0.12147000000000001,
          0.12147000000000001,
          0.15960333333333332,
          0.15960333333333332,
          0.15960333333333332,
          0.15960333333333332,
          0.15960333333333332,
          0.13212566666666667,
          0.13212566666666667,
          0.13212566666666667,
          0.13212566666666667,
          0.13212566666666667,
          0.13212566666666667,
          0.13212566666666667,
          0.13212566666666667,
          0.13212566666666667,
          0.13212566666666667,
          0.13212566666666667,
          0.13212566666666667,
          0.14837233333333333,
          0.14837233333333333,
          0.14837233333333333,
          0.14837233333333333,
          0.14837233333333333,
          0.14837233333333333,
          0.14837233333333333,
          0.14837233333333333,
          0.15633333333333332,
          0.15633333333333332,
          0.15633333333333332,
          0.15633333333333332,
          0.15633333333333332,
          0.15633333333333332,
          0.15633333333333332,
          0.15633333333333332,
          0.15633333333333332,
          0.15633333333333332,
          0.15633333333333332,
          0.13683133333333333,
          0.13683133333333333,
          0.13683133333333333,
          0.13683133333333333,
          0.13683133333333333,
          0.13683133333333333,
          0.13683133333333333,
          0.13683133333333333,
          0.13415366666666667,
          0.13415366666666667,
          0.13415366666666667,
          0.13415366666666667,
          0.13415366666666667,
          0.13415366666666667,
          0.13415366666666667,
          0.13415366666666667,
          0.13415366666666667,
          0.13415366666666667
         ],
         "y": [
          192,
          264,
          221.99999999999997,
          253,
          231,
          203.00000000000003,
          224,
          242,
          244,
          203,
          203,
          278,
          278,
          297,
          233,
          234,
          278,
          299,
          291,
          210,
          256,
          254,
          263,
          256,
          284,
          256,
          235,
          256,
          229,
          254,
          194,
          214,
          247,
          203,
          233,
          188.99999999999997,
          206,
          238.99999999999997,
          240,
          203,
          210,
          203.00000000000003,
          270,
          199.00000000000003,
          232,
          219,
          226,
          205,
          191,
          221,
          236,
          250,
          200,
          248,
          209,
          263,
          281,
          281,
          213.99999999999997,
          267,
          242,
          248,
          274,
          236.00000000000003,
          279,
          216.00000000000003,
          288,
          240,
          278,
          222,
          283,
          257,
          272,
          243,
          267,
          214,
          274,
          293,
          212,
          213,
          265,
          278,
          231,
          228,
          256,
          202,
          230,
          209,
          261,
          223,
          277,
          234.00000000000003,
          286,
          260,
          250,
          211,
          224,
          246,
          228,
          247,
          228.99999999999997,
          218,
          239,
          265,
          236,
          271,
          198,
          207,
          257,
          219,
          227,
          213,
          214.00000000000003,
          208,
          197,
          227,
          298,
          237,
          272,
          244.00000000000003,
          253,
          289,
          221,
          229,
          206,
          292,
          280,
          214,
          289,
          208,
          253,
          293,
          228,
          270,
          230,
          207,
          271,
          278,
          286,
          288,
          248,
          234,
          178,
          216,
          236,
          213.99999999999997,
          275,
          215,
          266,
          245,
          286,
          202.00000000000003,
          258,
          251,
          207,
          287,
          197,
          230,
          270,
          267,
          282,
          207,
          219,
          192,
          252,
          240,
          260,
          269,
          220,
          257,
          252,
          202,
          232,
          272,
          241,
          219,
          257,
          289,
          252,
          242,
          220,
          238.99999999999997,
          270,
          223,
          252,
          216,
          209,
          206,
          259,
          219,
          224,
          188,
          241,
          200,
          197,
          204.00000000000003,
          283,
          222,
          236,
          252,
          269,
          238,
          223,
          232,
          275,
          213,
          192,
          214,
          285,
          246,
          267,
          191,
          196,
          268,
          206,
          280,
          269,
          199,
          290,
          254,
          265,
          287,
          232,
          269,
          237,
          259,
          280,
          257,
          258,
          199,
          293,
          254,
          224,
          238,
          233,
          210,
          259,
          278,
          273,
          240,
          218,
          246,
          230,
          223,
          261,
          262,
          230,
          247,
          252,
          298,
          225,
          183,
          265,
          275,
          287,
          216,
          229,
          238,
          209,
          194,
          265,
          201,
          268,
          235,
          278,
          243.99999999999997,
          249,
          202,
          293.00000000000006,
          202.00000000000003,
          221,
          205,
          218,
          271,
          203,
          222,
          233,
          202,
          259,
          213,
          277,
          210,
          226,
          231,
          233,
          218,
          282,
          297,
          245,
          249,
          195,
          204,
          230,
          255,
          288
         ]
        },
        {
         "marker": {
          "color": "blue",
          "size": 10
         },
         "mode": "markers",
         "name": "Cluster 2",
         "type": "scatter",
         "x": [
          0.12276666666666668,
          0.12276666666666668,
          0.12276666666666668,
          0.12276666666666668,
          0.12276666666666668,
          0.12276666666666668,
          0.12276666666666668,
          0.12276666666666668,
          0.12276666666666668,
          0.12276666666666668,
          0.12276666666666668,
          0.12276666666666668,
          0.12276666666666668,
          0.12276666666666668,
          0.12276666666666668,
          0.16366666666666665,
          0.16366666666666665,
          0.16366666666666665,
          0.16366666666666665,
          0.16366666666666665,
          0.13261766666666666,
          0.13261766666666666,
          0.13261766666666666,
          0.13261766666666666,
          0.13261766666666666,
          0.13261766666666666,
          0.157,
          0.157,
          0.157,
          0.157,
          0.157,
          0.157,
          0.157,
          0.157,
          0.157,
          0.157,
          0.157,
          0.157,
          0.157,
          0.157,
          0.157,
          0.157,
          0.157,
          0.151,
          0.151,
          0.151,
          0.151,
          0.151,
          0.151,
          0.151,
          0.151,
          0.151,
          0.151,
          0.151,
          0.13899999999999998,
          0.13899999999999998,
          0.13899999999999998,
          0.13899999999999998,
          0.13899999999999998,
          0.13899999999999998,
          0.13899999999999998,
          0.10983333333333334,
          0.10983333333333334,
          0.10983333333333334,
          0.10983333333333334,
          0.10983333333333334,
          0.10983333333333334,
          0.10983333333333334,
          0.10983333333333334,
          0.10983333333333334,
          0.10983333333333334,
          0.10983333333333334,
          0.10983333333333334,
          0.136,
          0.136,
          0.136,
          0.136,
          0.136,
          0.136,
          0.136,
          0.13033333333333333,
          0.13033333333333333,
          0.13033333333333333,
          0.13033333333333333,
          0.13033333333333333,
          0.13033333333333333,
          0.13033333333333333,
          0.13033333333333333,
          0.13033333333333333,
          0.13033333333333333,
          0.13033333333333333,
          0.13033333333333333,
          0.13033333333333333,
          0.13033333333333333,
          0.15713333333333332,
          0.15713333333333332,
          0.15713333333333332,
          0.15713333333333332,
          0.15713333333333332,
          0.15713333333333332,
          0.15713333333333332,
          0.14383866666666667,
          0.14383866666666667,
          0.14383866666666667,
          0.14383866666666667,
          0.14383866666666667,
          0.14383866666666667,
          0.14383866666666667,
          0.14383866666666667,
          0.16133333333333333,
          0.16133333333333333,
          0.16133333333333333,
          0.16133333333333333,
          0.16133333333333333,
          0.16133333333333333,
          0.16133333333333333,
          0.16133333333333333,
          0.16133333333333333,
          0.119272,
          0.119272,
          0.119272,
          0.119272,
          0.119272,
          0.119272,
          0.119272,
          0.119272,
          0.12066666666666666,
          0.12066666666666666,
          0.12066666666666666,
          0.12066666666666666,
          0.12066666666666666,
          0.12066666666666666,
          0.12066666666666666,
          0.12066666666666666,
          0.12066666666666666,
          0.12066666666666666,
          0.12066666666666666,
          0.12066666666666666,
          0.12066666666666666,
          0.12066666666666666,
          0.12066666666666666,
          0.12066666666666666,
          0.12066666666666666,
          0.12066666666666666,
          0.12066666666666666,
          0.12066666666666666,
          0.12066666666666666,
          0.12066666666666666,
          0.12066666666666666,
          0.12066666666666666,
          0.12066666666666666,
          0.12066666666666666,
          0.12066666666666666,
          0.14958333333333332,
          0.14958333333333332,
          0.14958333333333332,
          0.14958333333333332,
          0.14958333333333332,
          0.14958333333333332,
          0.14958333333333332,
          0.14958333333333332,
          0.14958333333333332,
          0.14958333333333332,
          0.14958333333333332,
          0.14958333333333332,
          0.14958333333333332,
          0.156892,
          0.156892,
          0.156892,
          0.156892,
          0.163045,
          0.1641443333333333,
          0.1641443333333333,
          0.15958333333333333,
          0.15958333333333333,
          0.15958333333333333,
          0.15958333333333333,
          0.16449266666666668,
          0.16449266666666668,
          0.16449266666666668,
          0.16449266666666668,
          0.14271066666666668,
          0.14271066666666668,
          0.14271066666666668,
          0.14271066666666668,
          0.14271066666666668,
          0.14271066666666668,
          0.14271066666666668,
          0.14271066666666668,
          0.14271066666666668,
          0.14271066666666668,
          0.14271066666666668,
          0.14271066666666668,
          0.14271066666666668,
          0.13634333333333334,
          0.13634333333333334,
          0.13634333333333334,
          0.13634333333333334,
          0.13634333333333334,
          0.13634333333333334,
          0.13634333333333334,
          0.13634333333333334,
          0.13634333333333334,
          0.11942566666666665,
          0.11942566666666665,
          0.11942566666666665,
          0.11942566666666665,
          0.11942566666666665,
          0.11942566666666665,
          0.11942566666666665,
          0.11942566666666665,
          0.11942566666666665,
          0.11942566666666665,
          0.11942566666666665,
          0.12147000000000001,
          0.12147000000000001,
          0.12147000000000001,
          0.12147000000000001,
          0.12147000000000001,
          0.12147000000000001,
          0.12147000000000001,
          0.12147000000000001,
          0.12147000000000001,
          0.12147000000000001,
          0.12147000000000001,
          0.15960333333333332,
          0.15960333333333332,
          0.15960333333333332,
          0.15960333333333332,
          0.15960333333333332,
          0.15960333333333332,
          0.15960333333333332,
          0.15960333333333332,
          0.15960333333333332,
          0.15960333333333332,
          0.13212566666666667,
          0.13212566666666667,
          0.13212566666666667,
          0.13212566666666667,
          0.13212566666666667,
          0.13212566666666667,
          0.13212566666666667,
          0.13212566666666667,
          0.14837233333333333,
          0.14837233333333333,
          0.14837233333333333,
          0.14837233333333333,
          0.14837233333333333,
          0.14837233333333333,
          0.14837233333333333,
          0.14837233333333333,
          0.14837233333333333,
          0.14837233333333333,
          0.14837233333333333,
          0.14837233333333333,
          0.15633333333333332,
          0.15633333333333332,
          0.15633333333333332,
          0.15633333333333332,
          0.15633333333333332,
          0.13683133333333333,
          0.13683133333333333,
          0.13683133333333333,
          0.13683133333333333,
          0.13683133333333333,
          0.13683133333333333,
          0.13683133333333333,
          0.13683133333333333,
          0.13683133333333333,
          0.13683133333333333,
          0.13683133333333333,
          0.13683133333333333,
          0.13415366666666667,
          0.13415366666666667,
          0.13415366666666667,
          0.13415366666666667,
          0.13415366666666667,
          0.13415366666666667,
          0.13415366666666667,
          0.13415366666666667,
          0.13415366666666667,
          0.13415366666666667
         ],
         "y": [
          163,
          171,
          110,
          204,
          113,
          159,
          129,
          134,
          104,
          182,
          177,
          161,
          188.00000000000003,
          141,
          188,
          139,
          138,
          113,
          131,
          122.00000000000001,
          138,
          166,
          141,
          114,
          132,
          137,
          114,
          104,
          146,
          167,
          175,
          135,
          125,
          142,
          126,
          168,
          110,
          173,
          137,
          122,
          146,
          145,
          159,
          167,
          136,
          171,
          130,
          150,
          128,
          139,
          140,
          110,
          100,
          145,
          189,
          156,
          100,
          162,
          154,
          152,
          156,
          217,
          185,
          162,
          203,
          148,
          170,
          100,
          161,
          131,
          128,
          148,
          129,
          118,
          116.99999999999999,
          100,
          177,
          162,
          107,
          154,
          131,
          109,
          186,
          154,
          131,
          192,
          107,
          164,
          156,
          166,
          171,
          153,
          166,
          150,
          106,
          184,
          135,
          128,
          101,
          146,
          110,
          119,
          104,
          136,
          152,
          185,
          123,
          180,
          158,
          112.99999999999999,
          108,
          139,
          124.00000000000001,
          121,
          103,
          128,
          136,
          141,
          152,
          145,
          163,
          153,
          150,
          135,
          125,
          128,
          172,
          139,
          116,
          160,
          203,
          141,
          124,
          138,
          134,
          201,
          197,
          111,
          118,
          200,
          143,
          148,
          116,
          173,
          156,
          154,
          145.99999999999997,
          111,
          161,
          179,
          182,
          107,
          180,
          113,
          106,
          171,
          158,
          181,
          116,
          113,
          144,
          136,
          138,
          114,
          103,
          115,
          109,
          183,
          102,
          136,
          145,
          110,
          103,
          112,
          110.00000000000001,
          166,
          128,
          108,
          124,
          104,
          127,
          180,
          139,
          144,
          161,
          166,
          155,
          139,
          197.00000000000003,
          139,
          190,
          132,
          105,
          179,
          158,
          158,
          147,
          112,
          144,
          188,
          106,
          144,
          157,
          130,
          122,
          206.00000000000003,
          138,
          181,
          101,
          176,
          111,
          138,
          112,
          145,
          105.99999999999999,
          128,
          132,
          178,
          157,
          125,
          128,
          103,
          198,
          138,
          114,
          105,
          100,
          156.99999999999997,
          114,
          124,
          123.00000000000001,
          111,
          117,
          114,
          126,
          145,
          114,
          116,
          108,
          162,
          187,
          171,
          163,
          171,
          120,
          117,
          163,
          181,
          131,
          110,
          144,
          132,
          110,
          187,
          140,
          189,
          148.00000000000003,
          160,
          107.99999999999999,
          105,
          172,
          140,
          107,
          171,
          191,
          161,
          183,
          161,
          106,
          183,
          157,
          121,
          152,
          131,
          150,
          143,
          181,
          136,
          155,
          158,
          134,
          192
         ]
        },
        {
         "marker": {
          "color": "green",
          "size": 10
         },
         "mode": "markers",
         "name": "Cluster 3",
         "type": "scatter",
         "x": [
          0.16366666666666665,
          0.16366666666666665,
          0.16366666666666665,
          0.16366666666666665,
          0.16366666666666665,
          0.157,
          0.157,
          0.157,
          0.157,
          0.21283333333333335,
          0.21283333333333335,
          0.21283333333333335,
          0.21283333333333335,
          0.21283333333333335,
          0.21283333333333335,
          0.21283333333333335,
          0.21283333333333335,
          0.21283333333333335,
          0.15713333333333332,
          0.15713333333333332,
          0.15713333333333332,
          0.15713333333333332,
          0.16133333333333333,
          0.16133333333333333,
          0.16133333333333333,
          0.16133333333333333,
          0.19699199999999997,
          0.19699199999999997,
          0.19699199999999997,
          0.19699199999999997,
          0.19699199999999997,
          0.19699199999999997,
          0.19699199999999997,
          0.1878,
          0.1878,
          0.1878,
          0.1878,
          0.1878,
          0.1878,
          0.1878,
          0.19473600000000002,
          0.19473600000000002,
          0.19473600000000002,
          0.19473600000000002,
          0.19473600000000002,
          0.19473600000000002,
          0.19473600000000002,
          0.19473600000000002,
          0.22481900000000002,
          0.22481900000000002,
          0.22481900000000002,
          0.22481900000000002,
          0.22481900000000002,
          0.22481900000000002,
          0.22481900000000002,
          0.22481900000000002,
          0.22481900000000002,
          0.22481900000000002,
          0.156892,
          0.156892,
          0.156892,
          0.163045,
          0.163045,
          0.163045,
          0.163045,
          0.163045,
          0.163045,
          0.163045,
          0.1641443333333333,
          0.1641443333333333,
          0.1641443333333333,
          0.184184,
          0.184184,
          0.184184,
          0.184184,
          0.184184,
          0.184184,
          0.184184,
          0.15958333333333333,
          0.16449266666666668,
          0.16449266666666668,
          0.16449266666666668,
          0.16449266666666668,
          0.16449266666666668,
          0.15960333333333332,
          0.15960333333333332,
          0.15960333333333332,
          0.15960333333333332,
          0.18271099999999998,
          0.18271099999999998,
          0.18271099999999998,
          0.18271099999999998,
          0.18271099999999998,
          0.18271099999999998,
          0.18271099999999998,
          0.18271099999999998,
          0.178405,
          0.178405,
          0.178405,
          0.178405,
          0.178405,
          0.178405,
          0.178405,
          0.178405,
          0.178405,
          0.178405,
          0.15633333333333332,
          0.15633333333333332,
          0.15633333333333332,
          0.15633333333333332,
          0.18411633333333333,
          0.18411633333333333,
          0.18411633333333333,
          0.18411633333333333,
          0.18411633333333333,
          0.18411633333333333,
          0.18411633333333333,
          0.18411633333333333,
          0.18411633333333333
         ],
         "y": [
          245,
          278,
          265,
          252,
          293,
          272,
          263,
          299,
          289,
          196,
          261,
          219,
          243,
          295,
          264,
          281,
          241,
          275,
          246,
          287,
          296,
          294,
          293,
          253,
          285,
          245,
          265,
          264,
          252,
          221,
          216,
          233,
          267,
          248,
          263,
          286,
          210,
          251,
          249,
          247,
          217,
          297,
          299,
          242,
          253,
          298,
          243.99999999999997,
          250,
          207,
          225,
          293,
          269,
          257,
          239.99999999999997,
          259,
          221.99999999999997,
          289,
          284,
          283,
          276,
          245,
          275,
          292,
          280,
          295,
          286,
          297,
          283,
          298,
          247,
          268,
          219,
          276.00000000000006,
          198,
          220.99999999999997,
          262,
          277,
          244.00000000000003,
          294,
          286,
          275,
          245,
          297,
          296,
          284,
          296,
          265,
          288,
          273,
          243.99999999999997,
          273,
          298,
          291,
          271,
          280,
          221,
          220,
          259,
          246.99999999999997,
          260,
          267,
          259,
          257,
          260,
          215,
          253,
          265,
          273,
          242,
          294,
          253,
          226,
          226,
          287,
          240,
          221,
          246,
          272,
          235
         ]
        },
        {
         "marker": {
          "color": "magenta",
          "size": 10
         },
         "mode": "markers",
         "name": "Cluster 4",
         "type": "scatter",
         "x": [
          0.16366666666666665,
          0.16366666666666665,
          0.16366666666666665,
          0.16366666666666665,
          0.21283333333333335,
          0.21283333333333335,
          0.21283333333333335,
          0.21283333333333335,
          0.21283333333333335,
          0.21283333333333335,
          0.21283333333333335,
          0.21283333333333335,
          0.21283333333333335,
          0.21283333333333335,
          0.21283333333333335,
          0.15713333333333332,
          0.16133333333333333,
          0.16133333333333333,
          0.16133333333333333,
          0.16133333333333333,
          0.19699199999999997,
          0.19699199999999997,
          0.19699199999999997,
          0.19699199999999997,
          0.19699199999999997,
          0.19699199999999997,
          0.19699199999999997,
          0.19699199999999997,
          0.19699199999999997,
          0.19699199999999997,
          0.19699199999999997,
          0.19699199999999997,
          0.19699199999999997,
          0.1878,
          0.1878,
          0.1878,
          0.1878,
          0.1878,
          0.1878,
          0.1878,
          0.1878,
          0.1878,
          0.1878,
          0.1878,
          0.1878,
          0.1878,
          0.19473600000000002,
          0.19473600000000002,
          0.19473600000000002,
          0.19473600000000002,
          0.19473600000000002,
          0.19473600000000002,
          0.19473600000000002,
          0.19473600000000002,
          0.19473600000000002,
          0.19473600000000002,
          0.19473600000000002,
          0.19473600000000002,
          0.22481900000000002,
          0.22481900000000002,
          0.22481900000000002,
          0.22481900000000002,
          0.22481900000000002,
          0.22481900000000002,
          0.22481900000000002,
          0.22481900000000002,
          0.22481900000000002,
          0.22481900000000002,
          0.156892,
          0.156892,
          0.163045,
          0.163045,
          0.163045,
          0.163045,
          0.163045,
          0.163045,
          0.163045,
          0.1641443333333333,
          0.1641443333333333,
          0.1641443333333333,
          0.1641443333333333,
          0.1641443333333333,
          0.1641443333333333,
          0.1641443333333333,
          0.1641443333333333,
          0.1641443333333333,
          0.1641443333333333,
          0.1641443333333333,
          0.184184,
          0.184184,
          0.184184,
          0.184184,
          0.184184,
          0.184184,
          0.184184,
          0.184184,
          0.184184,
          0.184184,
          0.184184,
          0.184184,
          0.184184,
          0.15958333333333333,
          0.15958333333333333,
          0.15958333333333333,
          0.16449266666666668,
          0.16449266666666668,
          0.16449266666666668,
          0.16449266666666668,
          0.16449266666666668,
          0.16449266666666668,
          0.15960333333333332,
          0.18271099999999998,
          0.18271099999999998,
          0.18271099999999998,
          0.18271099999999998,
          0.18271099999999998,
          0.18271099999999998,
          0.18271099999999998,
          0.18271099999999998,
          0.18271099999999998,
          0.18271099999999998,
          0.18271099999999998,
          0.18271099999999998,
          0.178405,
          0.178405,
          0.178405,
          0.178405,
          0.178405,
          0.178405,
          0.178405,
          0.178405,
          0.178405,
          0.178405,
          0.18411633333333333,
          0.18411633333333333,
          0.18411633333333333,
          0.18411633333333333,
          0.18411633333333333,
          0.18411633333333333,
          0.18411633333333333,
          0.18411633333333333,
          0.18411633333333333,
          0.18411633333333333,
          0.18411633333333333
         ],
         "y": [
          171,
          196,
          162,
          152,
          191,
          107,
          134,
          195,
          187,
          177,
          131,
          145,
          154,
          106.00000000000001,
          173,
          181.00000000000003,
          202,
          174,
          169,
          184,
          199,
          140,
          133,
          116,
          175,
          186,
          205,
          185,
          126,
          156,
          130,
          197,
          110.99999999999999,
          110,
          139,
          110,
          212,
          138,
          153,
          197,
          154,
          168,
          155,
          132,
          135,
          180,
          124,
          188,
          111,
          158,
          208,
          125,
          146,
          131,
          109,
          115,
          125,
          185,
          154,
          133,
          112,
          117,
          195,
          138,
          145,
          128,
          161,
          115,
          164,
          167,
          172,
          148,
          186.99999999999997,
          136,
          160,
          138,
          162,
          187,
          161,
          176,
          151,
          158,
          171,
          191.99999999999997,
          162,
          153,
          173,
          155.99999999999997,
          102,
          105.00000000000001,
          104,
          104,
          153,
          145.99999999999997,
          108,
          119,
          160,
          222,
          181,
          161,
          102.00000000000001,
          172,
          167,
          175,
          139,
          137,
          171,
          189,
          136,
          159,
          163,
          171,
          159,
          192,
          152,
          107,
          178,
          126,
          149,
          230.00000000000003,
          191.99999999999997,
          123,
          159,
          175,
          145,
          179,
          153,
          185,
          191,
          196,
          101,
          132,
          176,
          102,
          140,
          205,
          113,
          111,
          186,
          111.00000000000001,
          124.00000000000001,
          144,
          154,
          199
         ]
        },
        {
         "marker": {
          "color": "yellow",
          "size": 15,
          "symbol": "x"
         },
         "mode": "markers",
         "name": "Centroids",
         "type": "scatter",
         "x": [
          0.1419125627118644,
          0.1385059598108747,
          0.18216480952380953,
          0.18519352546296297
         ],
         "y": [
          240.79661016949154,
          142.93617021276594,
          261.5378151260504,
          154.61805555555554
         ]
        }
       ],
       "layout": {
        "legend": {
         "title": {
          "text": "Clusters"
         }
        },
        "template": {
         "data": {
          "bar": [
           {
            "error_x": {
             "color": "#2a3f5f"
            },
            "error_y": {
             "color": "#2a3f5f"
            },
            "marker": {
             "line": {
              "color": "#E5ECF6",
              "width": 0.5
             },
             "pattern": {
              "fillmode": "overlay",
              "size": 10,
              "solidity": 0.2
             }
            },
            "type": "bar"
           }
          ],
          "barpolar": [
           {
            "marker": {
             "line": {
              "color": "#E5ECF6",
              "width": 0.5
             },
             "pattern": {
              "fillmode": "overlay",
              "size": 10,
              "solidity": 0.2
             }
            },
            "type": "barpolar"
           }
          ],
          "carpet": [
           {
            "aaxis": {
             "endlinecolor": "#2a3f5f",
             "gridcolor": "white",
             "linecolor": "white",
             "minorgridcolor": "white",
             "startlinecolor": "#2a3f5f"
            },
            "baxis": {
             "endlinecolor": "#2a3f5f",
             "gridcolor": "white",
             "linecolor": "white",
             "minorgridcolor": "white",
             "startlinecolor": "#2a3f5f"
            },
            "type": "carpet"
           }
          ],
          "choropleth": [
           {
            "colorbar": {
             "outlinewidth": 0,
             "ticks": ""
            },
            "type": "choropleth"
           }
          ],
          "contour": [
           {
            "colorbar": {
             "outlinewidth": 0,
             "ticks": ""
            },
            "colorscale": [
             [
              0,
              "#0d0887"
             ],
             [
              0.1111111111111111,
              "#46039f"
             ],
             [
              0.2222222222222222,
              "#7201a8"
             ],
             [
              0.3333333333333333,
              "#9c179e"
             ],
             [
              0.4444444444444444,
              "#bd3786"
             ],
             [
              0.5555555555555556,
              "#d8576b"
             ],
             [
              0.6666666666666666,
              "#ed7953"
             ],
             [
              0.7777777777777778,
              "#fb9f3a"
             ],
             [
              0.8888888888888888,
              "#fdca26"
             ],
             [
              1,
              "#f0f921"
             ]
            ],
            "type": "contour"
           }
          ],
          "contourcarpet": [
           {
            "colorbar": {
             "outlinewidth": 0,
             "ticks": ""
            },
            "type": "contourcarpet"
           }
          ],
          "heatmap": [
           {
            "colorbar": {
             "outlinewidth": 0,
             "ticks": ""
            },
            "colorscale": [
             [
              0,
              "#0d0887"
             ],
             [
              0.1111111111111111,
              "#46039f"
             ],
             [
              0.2222222222222222,
              "#7201a8"
             ],
             [
              0.3333333333333333,
              "#9c179e"
             ],
             [
              0.4444444444444444,
              "#bd3786"
             ],
             [
              0.5555555555555556,
              "#d8576b"
             ],
             [
              0.6666666666666666,
              "#ed7953"
             ],
             [
              0.7777777777777778,
              "#fb9f3a"
             ],
             [
              0.8888888888888888,
              "#fdca26"
             ],
             [
              1,
              "#f0f921"
             ]
            ],
            "type": "heatmap"
           }
          ],
          "heatmapgl": [
           {
            "colorbar": {
             "outlinewidth": 0,
             "ticks": ""
            },
            "colorscale": [
             [
              0,
              "#0d0887"
             ],
             [
              0.1111111111111111,
              "#46039f"
             ],
             [
              0.2222222222222222,
              "#7201a8"
             ],
             [
              0.3333333333333333,
              "#9c179e"
             ],
             [
              0.4444444444444444,
              "#bd3786"
             ],
             [
              0.5555555555555556,
              "#d8576b"
             ],
             [
              0.6666666666666666,
              "#ed7953"
             ],
             [
              0.7777777777777778,
              "#fb9f3a"
             ],
             [
              0.8888888888888888,
              "#fdca26"
             ],
             [
              1,
              "#f0f921"
             ]
            ],
            "type": "heatmapgl"
           }
          ],
          "histogram": [
           {
            "marker": {
             "pattern": {
              "fillmode": "overlay",
              "size": 10,
              "solidity": 0.2
             }
            },
            "type": "histogram"
           }
          ],
          "histogram2d": [
           {
            "colorbar": {
             "outlinewidth": 0,
             "ticks": ""
            },
            "colorscale": [
             [
              0,
              "#0d0887"
             ],
             [
              0.1111111111111111,
              "#46039f"
             ],
             [
              0.2222222222222222,
              "#7201a8"
             ],
             [
              0.3333333333333333,
              "#9c179e"
             ],
             [
              0.4444444444444444,
              "#bd3786"
             ],
             [
              0.5555555555555556,
              "#d8576b"
             ],
             [
              0.6666666666666666,
              "#ed7953"
             ],
             [
              0.7777777777777778,
              "#fb9f3a"
             ],
             [
              0.8888888888888888,
              "#fdca26"
             ],
             [
              1,
              "#f0f921"
             ]
            ],
            "type": "histogram2d"
           }
          ],
          "histogram2dcontour": [
           {
            "colorbar": {
             "outlinewidth": 0,
             "ticks": ""
            },
            "colorscale": [
             [
              0,
              "#0d0887"
             ],
             [
              0.1111111111111111,
              "#46039f"
             ],
             [
              0.2222222222222222,
              "#7201a8"
             ],
             [
              0.3333333333333333,
              "#9c179e"
             ],
             [
              0.4444444444444444,
              "#bd3786"
             ],
             [
              0.5555555555555556,
              "#d8576b"
             ],
             [
              0.6666666666666666,
              "#ed7953"
             ],
             [
              0.7777777777777778,
              "#fb9f3a"
             ],
             [
              0.8888888888888888,
              "#fdca26"
             ],
             [
              1,
              "#f0f921"
             ]
            ],
            "type": "histogram2dcontour"
           }
          ],
          "mesh3d": [
           {
            "colorbar": {
             "outlinewidth": 0,
             "ticks": ""
            },
            "type": "mesh3d"
           }
          ],
          "parcoords": [
           {
            "line": {
             "colorbar": {
              "outlinewidth": 0,
              "ticks": ""
             }
            },
            "type": "parcoords"
           }
          ],
          "pie": [
           {
            "automargin": true,
            "type": "pie"
           }
          ],
          "scatter": [
           {
            "fillpattern": {
             "fillmode": "overlay",
             "size": 10,
             "solidity": 0.2
            },
            "type": "scatter"
           }
          ],
          "scatter3d": [
           {
            "line": {
             "colorbar": {
              "outlinewidth": 0,
              "ticks": ""
             }
            },
            "marker": {
             "colorbar": {
              "outlinewidth": 0,
              "ticks": ""
             }
            },
            "type": "scatter3d"
           }
          ],
          "scattercarpet": [
           {
            "marker": {
             "colorbar": {
              "outlinewidth": 0,
              "ticks": ""
             }
            },
            "type": "scattercarpet"
           }
          ],
          "scattergeo": [
           {
            "marker": {
             "colorbar": {
              "outlinewidth": 0,
              "ticks": ""
             }
            },
            "type": "scattergeo"
           }
          ],
          "scattergl": [
           {
            "marker": {
             "colorbar": {
              "outlinewidth": 0,
              "ticks": ""
             }
            },
            "type": "scattergl"
           }
          ],
          "scattermapbox": [
           {
            "marker": {
             "colorbar": {
              "outlinewidth": 0,
              "ticks": ""
             }
            },
            "type": "scattermapbox"
           }
          ],
          "scatterpolar": [
           {
            "marker": {
             "colorbar": {
              "outlinewidth": 0,
              "ticks": ""
             }
            },
            "type": "scatterpolar"
           }
          ],
          "scatterpolargl": [
           {
            "marker": {
             "colorbar": {
              "outlinewidth": 0,
              "ticks": ""
             }
            },
            "type": "scatterpolargl"
           }
          ],
          "scatterternary": [
           {
            "marker": {
             "colorbar": {
              "outlinewidth": 0,
              "ticks": ""
             }
            },
            "type": "scatterternary"
           }
          ],
          "surface": [
           {
            "colorbar": {
             "outlinewidth": 0,
             "ticks": ""
            },
            "colorscale": [
             [
              0,
              "#0d0887"
             ],
             [
              0.1111111111111111,
              "#46039f"
             ],
             [
              0.2222222222222222,
              "#7201a8"
             ],
             [
              0.3333333333333333,
              "#9c179e"
             ],
             [
              0.4444444444444444,
              "#bd3786"
             ],
             [
              0.5555555555555556,
              "#d8576b"
             ],
             [
              0.6666666666666666,
              "#ed7953"
             ],
             [
              0.7777777777777778,
              "#fb9f3a"
             ],
             [
              0.8888888888888888,
              "#fdca26"
             ],
             [
              1,
              "#f0f921"
             ]
            ],
            "type": "surface"
           }
          ],
          "table": [
           {
            "cells": {
             "fill": {
              "color": "#EBF0F8"
             },
             "line": {
              "color": "white"
             }
            },
            "header": {
             "fill": {
              "color": "#C8D4E3"
             },
             "line": {
              "color": "white"
             }
            },
            "type": "table"
           }
          ]
         },
         "layout": {
          "annotationdefaults": {
           "arrowcolor": "#2a3f5f",
           "arrowhead": 0,
           "arrowwidth": 1
          },
          "autotypenumbers": "strict",
          "coloraxis": {
           "colorbar": {
            "outlinewidth": 0,
            "ticks": ""
           }
          },
          "colorscale": {
           "diverging": [
            [
             0,
             "#8e0152"
            ],
            [
             0.1,
             "#c51b7d"
            ],
            [
             0.2,
             "#de77ae"
            ],
            [
             0.3,
             "#f1b6da"
            ],
            [
             0.4,
             "#fde0ef"
            ],
            [
             0.5,
             "#f7f7f7"
            ],
            [
             0.6,
             "#e6f5d0"
            ],
            [
             0.7,
             "#b8e186"
            ],
            [
             0.8,
             "#7fbc41"
            ],
            [
             0.9,
             "#4d9221"
            ],
            [
             1,
             "#276419"
            ]
           ],
           "sequential": [
            [
             0,
             "#0d0887"
            ],
            [
             0.1111111111111111,
             "#46039f"
            ],
            [
             0.2222222222222222,
             "#7201a8"
            ],
            [
             0.3333333333333333,
             "#9c179e"
            ],
            [
             0.4444444444444444,
             "#bd3786"
            ],
            [
             0.5555555555555556,
             "#d8576b"
            ],
            [
             0.6666666666666666,
             "#ed7953"
            ],
            [
             0.7777777777777778,
             "#fb9f3a"
            ],
            [
             0.8888888888888888,
             "#fdca26"
            ],
            [
             1,
             "#f0f921"
            ]
           ],
           "sequentialminus": [
            [
             0,
             "#0d0887"
            ],
            [
             0.1111111111111111,
             "#46039f"
            ],
            [
             0.2222222222222222,
             "#7201a8"
            ],
            [
             0.3333333333333333,
             "#9c179e"
            ],
            [
             0.4444444444444444,
             "#bd3786"
            ],
            [
             0.5555555555555556,
             "#d8576b"
            ],
            [
             0.6666666666666666,
             "#ed7953"
            ],
            [
             0.7777777777777778,
             "#fb9f3a"
            ],
            [
             0.8888888888888888,
             "#fdca26"
            ],
            [
             1,
             "#f0f921"
            ]
           ]
          },
          "colorway": [
           "#636efa",
           "#EF553B",
           "#00cc96",
           "#ab63fa",
           "#FFA15A",
           "#19d3f3",
           "#FF6692",
           "#B6E880",
           "#FF97FF",
           "#FECB52"
          ],
          "font": {
           "color": "#2a3f5f"
          },
          "geo": {
           "bgcolor": "white",
           "lakecolor": "white",
           "landcolor": "#E5ECF6",
           "showlakes": true,
           "showland": true,
           "subunitcolor": "white"
          },
          "hoverlabel": {
           "align": "left"
          },
          "hovermode": "closest",
          "mapbox": {
           "style": "light"
          },
          "paper_bgcolor": "white",
          "plot_bgcolor": "#E5ECF6",
          "polar": {
           "angularaxis": {
            "gridcolor": "white",
            "linecolor": "white",
            "ticks": ""
           },
           "bgcolor": "#E5ECF6",
           "radialaxis": {
            "gridcolor": "white",
            "linecolor": "white",
            "ticks": ""
           }
          },
          "scene": {
           "xaxis": {
            "backgroundcolor": "#E5ECF6",
            "gridcolor": "white",
            "gridwidth": 2,
            "linecolor": "white",
            "showbackground": true,
            "ticks": "",
            "zerolinecolor": "white"
           },
           "yaxis": {
            "backgroundcolor": "#E5ECF6",
            "gridcolor": "white",
            "gridwidth": 2,
            "linecolor": "white",
            "showbackground": true,
            "ticks": "",
            "zerolinecolor": "white"
           },
           "zaxis": {
            "backgroundcolor": "#E5ECF6",
            "gridcolor": "white",
            "gridwidth": 2,
            "linecolor": "white",
            "showbackground": true,
            "ticks": "",
            "zerolinecolor": "white"
           }
          },
          "shapedefaults": {
           "line": {
            "color": "#2a3f5f"
           }
          },
          "ternary": {
           "aaxis": {
            "gridcolor": "white",
            "linecolor": "white",
            "ticks": ""
           },
           "baxis": {
            "gridcolor": "white",
            "linecolor": "white",
            "ticks": ""
           },
           "bgcolor": "#E5ECF6",
           "caxis": {
            "gridcolor": "white",
            "linecolor": "white",
            "ticks": ""
           }
          },
          "title": {
           "x": 0.05
          },
          "xaxis": {
           "automargin": true,
           "gridcolor": "white",
           "linecolor": "white",
           "ticks": "",
           "title": {
            "standoff": 15
           },
           "zerolinecolor": "white",
           "zerolinewidth": 2
          },
          "yaxis": {
           "automargin": true,
           "gridcolor": "white",
           "linecolor": "white",
           "ticks": "",
           "title": {
            "standoff": 15
           },
           "zerolinecolor": "white",
           "zerolinewidth": 2
          }
         }
        },
        "title": {
         "text": "Clusters of customers (Descaled)"
        },
        "xaxis": {
         "title": {
          "text": "tarifa_media"
         }
        },
        "yaxis": {
         "title": {
          "text": "consumo_total"
         }
        }
       }
      }
     },
     "metadata": {},
     "output_type": "display_data"
    }
   ],
   "source": [
    "# Normalizar las variables\n",
    "scaler = StandardScaler()\n",
    "X_scaled = scaler.fit_transform(X)\n",
    "\n",
    "# Aplicar KMeans con el número óptimo de clústeres (4)\n",
    "kmeansmodel = KMeans(n_clusters=4, init='k-means++', random_state=0)\n",
    "y_kmeans = kmeansmodel.fit_predict(X_scaled)\n",
    "\n",
    "# Revertir el escalado de los datos\n",
    "X_reverted = scaler.inverse_transform(X_scaled)\n",
    "centroids_reverted = scaler.inverse_transform(kmeansmodel.cluster_centers_)\n",
    "\n",
    "# Definir colores y etiquetas para los clusters\n",
    "colors = ['red', 'blue', 'green', 'magenta']\n",
    "labels = ['Cluster 1', 'Cluster 2', 'Cluster 3', 'Cluster 4']\n",
    "\n",
    "# Crear trazas para cada cluster con los datos desescalados\n",
    "fig_clusters = go.Figure()\n",
    "\n",
    "for i in range(4):\n",
    "    fig_clusters.add_trace(go.Scatter(\n",
    "        x=X_reverted[y_kmeans == i, 2],  # 'tarifa_media'\n",
    "        y=X_reverted[y_kmeans == i, 0],  # 'consumo_total'\n",
    "        mode='markers',\n",
    "        marker=dict(size=10, color=colors[i]),\n",
    "        name=labels[i]\n",
    "    ))\n",
    "\n",
    "# Agregar los centroides desescalados\n",
    "fig_clusters.add_trace(go.Scatter(\n",
    "    x=centroids_reverted[:, 2],  # 'tarifa_media'\n",
    "    y=centroids_reverted[:, 0],  # 'consumo_total'\n",
    "    mode='markers',\n",
    "    marker=dict(size=15, color='yellow', symbol='x'),\n",
    "    name='Centroids'\n",
    "))\n",
    "\n",
    "# Configurar el layout\n",
    "fig_clusters.update_layout(\n",
    "    title='Clusters of customers (Descaled)',\n",
    "    xaxis_title='tarifa_media',\n",
    "    yaxis_title='consumo_total',\n",
    "    legend_title='Clusters'\n",
    ")\n",
    "\n",
    "fig_clusters.show()"
   ]
  },
  {
   "cell_type": "markdown",
   "metadata": {},
   "source": [
    "## Intento Tarifa única"
   ]
  },
  {
   "cell_type": "code",
   "execution_count": 445,
   "metadata": {},
   "outputs": [
    {
     "name": "stderr",
     "output_type": "stream",
     "text": [
      "C:\\Users\\USUARIO\\AppData\\Local\\Temp\\ipykernel_7328\\315337196.py:4: SettingWithCopyWarning:\n",
      "\n",
      "\n",
      "A value is trying to be set on a copy of a slice from a DataFrame.\n",
      "Try using .loc[row_indexer,col_indexer] = value instead\n",
      "\n",
      "See the caveats in the documentation: https://pandas.pydata.org/pandas-docs/stable/user_guide/indexing.html#returning-a-view-versus-a-copy\n",
      "\n",
      "C:\\Users\\USUARIO\\AppData\\Local\\Temp\\ipykernel_7328\\315337196.py:5: SettingWithCopyWarning:\n",
      "\n",
      "\n",
      "A value is trying to be set on a copy of a slice from a DataFrame.\n",
      "Try using .loc[row_indexer,col_indexer] = value instead\n",
      "\n",
      "See the caveats in the documentation: https://pandas.pydata.org/pandas-docs/stable/user_guide/indexing.html#returning-a-view-versus-a-copy\n",
      "\n",
      "C:\\Users\\USUARIO\\AppData\\Local\\Temp\\ipykernel_7328\\315337196.py:6: SettingWithCopyWarning:\n",
      "\n",
      "\n",
      "A value is trying to be set on a copy of a slice from a DataFrame.\n",
      "Try using .loc[row_indexer,col_indexer] = value instead\n",
      "\n",
      "See the caveats in the documentation: https://pandas.pydata.org/pandas-docs/stable/user_guide/indexing.html#returning-a-view-versus-a-copy\n",
      "\n"
     ]
    },
    {
     "data": {
      "application/vnd.plotly.v1+json": {
       "config": {
        "plotlyServerURL": "https://plot.ly"
       },
       "data": [
        {
         "mode": "lines+markers",
         "type": "scatter",
         "x": [
          1,
          2,
          3,
          4,
          5,
          6,
          7,
          8,
          9,
          10
         ],
         "y": [
          143.14012987408626,
          73.4616321380364,
          55.96986770326943,
          40.53573471854214,
          33.3621822785177,
          30.327638636395193,
          25.20292588426514,
          22.10116853935141,
          19.199408290094567,
          17.936935091673423
         ]
        }
       ],
       "layout": {
        "template": {
         "data": {
          "bar": [
           {
            "error_x": {
             "color": "#2a3f5f"
            },
            "error_y": {
             "color": "#2a3f5f"
            },
            "marker": {
             "line": {
              "color": "#E5ECF6",
              "width": 0.5
             },
             "pattern": {
              "fillmode": "overlay",
              "size": 10,
              "solidity": 0.2
             }
            },
            "type": "bar"
           }
          ],
          "barpolar": [
           {
            "marker": {
             "line": {
              "color": "#E5ECF6",
              "width": 0.5
             },
             "pattern": {
              "fillmode": "overlay",
              "size": 10,
              "solidity": 0.2
             }
            },
            "type": "barpolar"
           }
          ],
          "carpet": [
           {
            "aaxis": {
             "endlinecolor": "#2a3f5f",
             "gridcolor": "white",
             "linecolor": "white",
             "minorgridcolor": "white",
             "startlinecolor": "#2a3f5f"
            },
            "baxis": {
             "endlinecolor": "#2a3f5f",
             "gridcolor": "white",
             "linecolor": "white",
             "minorgridcolor": "white",
             "startlinecolor": "#2a3f5f"
            },
            "type": "carpet"
           }
          ],
          "choropleth": [
           {
            "colorbar": {
             "outlinewidth": 0,
             "ticks": ""
            },
            "type": "choropleth"
           }
          ],
          "contour": [
           {
            "colorbar": {
             "outlinewidth": 0,
             "ticks": ""
            },
            "colorscale": [
             [
              0,
              "#0d0887"
             ],
             [
              0.1111111111111111,
              "#46039f"
             ],
             [
              0.2222222222222222,
              "#7201a8"
             ],
             [
              0.3333333333333333,
              "#9c179e"
             ],
             [
              0.4444444444444444,
              "#bd3786"
             ],
             [
              0.5555555555555556,
              "#d8576b"
             ],
             [
              0.6666666666666666,
              "#ed7953"
             ],
             [
              0.7777777777777778,
              "#fb9f3a"
             ],
             [
              0.8888888888888888,
              "#fdca26"
             ],
             [
              1,
              "#f0f921"
             ]
            ],
            "type": "contour"
           }
          ],
          "contourcarpet": [
           {
            "colorbar": {
             "outlinewidth": 0,
             "ticks": ""
            },
            "type": "contourcarpet"
           }
          ],
          "heatmap": [
           {
            "colorbar": {
             "outlinewidth": 0,
             "ticks": ""
            },
            "colorscale": [
             [
              0,
              "#0d0887"
             ],
             [
              0.1111111111111111,
              "#46039f"
             ],
             [
              0.2222222222222222,
              "#7201a8"
             ],
             [
              0.3333333333333333,
              "#9c179e"
             ],
             [
              0.4444444444444444,
              "#bd3786"
             ],
             [
              0.5555555555555556,
              "#d8576b"
             ],
             [
              0.6666666666666666,
              "#ed7953"
             ],
             [
              0.7777777777777778,
              "#fb9f3a"
             ],
             [
              0.8888888888888888,
              "#fdca26"
             ],
             [
              1,
              "#f0f921"
             ]
            ],
            "type": "heatmap"
           }
          ],
          "heatmapgl": [
           {
            "colorbar": {
             "outlinewidth": 0,
             "ticks": ""
            },
            "colorscale": [
             [
              0,
              "#0d0887"
             ],
             [
              0.1111111111111111,
              "#46039f"
             ],
             [
              0.2222222222222222,
              "#7201a8"
             ],
             [
              0.3333333333333333,
              "#9c179e"
             ],
             [
              0.4444444444444444,
              "#bd3786"
             ],
             [
              0.5555555555555556,
              "#d8576b"
             ],
             [
              0.6666666666666666,
              "#ed7953"
             ],
             [
              0.7777777777777778,
              "#fb9f3a"
             ],
             [
              0.8888888888888888,
              "#fdca26"
             ],
             [
              1,
              "#f0f921"
             ]
            ],
            "type": "heatmapgl"
           }
          ],
          "histogram": [
           {
            "marker": {
             "pattern": {
              "fillmode": "overlay",
              "size": 10,
              "solidity": 0.2
             }
            },
            "type": "histogram"
           }
          ],
          "histogram2d": [
           {
            "colorbar": {
             "outlinewidth": 0,
             "ticks": ""
            },
            "colorscale": [
             [
              0,
              "#0d0887"
             ],
             [
              0.1111111111111111,
              "#46039f"
             ],
             [
              0.2222222222222222,
              "#7201a8"
             ],
             [
              0.3333333333333333,
              "#9c179e"
             ],
             [
              0.4444444444444444,
              "#bd3786"
             ],
             [
              0.5555555555555556,
              "#d8576b"
             ],
             [
              0.6666666666666666,
              "#ed7953"
             ],
             [
              0.7777777777777778,
              "#fb9f3a"
             ],
             [
              0.8888888888888888,
              "#fdca26"
             ],
             [
              1,
              "#f0f921"
             ]
            ],
            "type": "histogram2d"
           }
          ],
          "histogram2dcontour": [
           {
            "colorbar": {
             "outlinewidth": 0,
             "ticks": ""
            },
            "colorscale": [
             [
              0,
              "#0d0887"
             ],
             [
              0.1111111111111111,
              "#46039f"
             ],
             [
              0.2222222222222222,
              "#7201a8"
             ],
             [
              0.3333333333333333,
              "#9c179e"
             ],
             [
              0.4444444444444444,
              "#bd3786"
             ],
             [
              0.5555555555555556,
              "#d8576b"
             ],
             [
              0.6666666666666666,
              "#ed7953"
             ],
             [
              0.7777777777777778,
              "#fb9f3a"
             ],
             [
              0.8888888888888888,
              "#fdca26"
             ],
             [
              1,
              "#f0f921"
             ]
            ],
            "type": "histogram2dcontour"
           }
          ],
          "mesh3d": [
           {
            "colorbar": {
             "outlinewidth": 0,
             "ticks": ""
            },
            "type": "mesh3d"
           }
          ],
          "parcoords": [
           {
            "line": {
             "colorbar": {
              "outlinewidth": 0,
              "ticks": ""
             }
            },
            "type": "parcoords"
           }
          ],
          "pie": [
           {
            "automargin": true,
            "type": "pie"
           }
          ],
          "scatter": [
           {
            "fillpattern": {
             "fillmode": "overlay",
             "size": 10,
             "solidity": 0.2
            },
            "type": "scatter"
           }
          ],
          "scatter3d": [
           {
            "line": {
             "colorbar": {
              "outlinewidth": 0,
              "ticks": ""
             }
            },
            "marker": {
             "colorbar": {
              "outlinewidth": 0,
              "ticks": ""
             }
            },
            "type": "scatter3d"
           }
          ],
          "scattercarpet": [
           {
            "marker": {
             "colorbar": {
              "outlinewidth": 0,
              "ticks": ""
             }
            },
            "type": "scattercarpet"
           }
          ],
          "scattergeo": [
           {
            "marker": {
             "colorbar": {
              "outlinewidth": 0,
              "ticks": ""
             }
            },
            "type": "scattergeo"
           }
          ],
          "scattergl": [
           {
            "marker": {
             "colorbar": {
              "outlinewidth": 0,
              "ticks": ""
             }
            },
            "type": "scattergl"
           }
          ],
          "scattermapbox": [
           {
            "marker": {
             "colorbar": {
              "outlinewidth": 0,
              "ticks": ""
             }
            },
            "type": "scattermapbox"
           }
          ],
          "scatterpolar": [
           {
            "marker": {
             "colorbar": {
              "outlinewidth": 0,
              "ticks": ""
             }
            },
            "type": "scatterpolar"
           }
          ],
          "scatterpolargl": [
           {
            "marker": {
             "colorbar": {
              "outlinewidth": 0,
              "ticks": ""
             }
            },
            "type": "scatterpolargl"
           }
          ],
          "scatterternary": [
           {
            "marker": {
             "colorbar": {
              "outlinewidth": 0,
              "ticks": ""
             }
            },
            "type": "scatterternary"
           }
          ],
          "surface": [
           {
            "colorbar": {
             "outlinewidth": 0,
             "ticks": ""
            },
            "colorscale": [
             [
              0,
              "#0d0887"
             ],
             [
              0.1111111111111111,
              "#46039f"
             ],
             [
              0.2222222222222222,
              "#7201a8"
             ],
             [
              0.3333333333333333,
              "#9c179e"
             ],
             [
              0.4444444444444444,
              "#bd3786"
             ],
             [
              0.5555555555555556,
              "#d8576b"
             ],
             [
              0.6666666666666666,
              "#ed7953"
             ],
             [
              0.7777777777777778,
              "#fb9f3a"
             ],
             [
              0.8888888888888888,
              "#fdca26"
             ],
             [
              1,
              "#f0f921"
             ]
            ],
            "type": "surface"
           }
          ],
          "table": [
           {
            "cells": {
             "fill": {
              "color": "#EBF0F8"
             },
             "line": {
              "color": "white"
             }
            },
            "header": {
             "fill": {
              "color": "#C8D4E3"
             },
             "line": {
              "color": "white"
             }
            },
            "type": "table"
           }
          ]
         },
         "layout": {
          "annotationdefaults": {
           "arrowcolor": "#2a3f5f",
           "arrowhead": 0,
           "arrowwidth": 1
          },
          "autotypenumbers": "strict",
          "coloraxis": {
           "colorbar": {
            "outlinewidth": 0,
            "ticks": ""
           }
          },
          "colorscale": {
           "diverging": [
            [
             0,
             "#8e0152"
            ],
            [
             0.1,
             "#c51b7d"
            ],
            [
             0.2,
             "#de77ae"
            ],
            [
             0.3,
             "#f1b6da"
            ],
            [
             0.4,
             "#fde0ef"
            ],
            [
             0.5,
             "#f7f7f7"
            ],
            [
             0.6,
             "#e6f5d0"
            ],
            [
             0.7,
             "#b8e186"
            ],
            [
             0.8,
             "#7fbc41"
            ],
            [
             0.9,
             "#4d9221"
            ],
            [
             1,
             "#276419"
            ]
           ],
           "sequential": [
            [
             0,
             "#0d0887"
            ],
            [
             0.1111111111111111,
             "#46039f"
            ],
            [
             0.2222222222222222,
             "#7201a8"
            ],
            [
             0.3333333333333333,
             "#9c179e"
            ],
            [
             0.4444444444444444,
             "#bd3786"
            ],
            [
             0.5555555555555556,
             "#d8576b"
            ],
            [
             0.6666666666666666,
             "#ed7953"
            ],
            [
             0.7777777777777778,
             "#fb9f3a"
            ],
            [
             0.8888888888888888,
             "#fdca26"
            ],
            [
             1,
             "#f0f921"
            ]
           ],
           "sequentialminus": [
            [
             0,
             "#0d0887"
            ],
            [
             0.1111111111111111,
             "#46039f"
            ],
            [
             0.2222222222222222,
             "#7201a8"
            ],
            [
             0.3333333333333333,
             "#9c179e"
            ],
            [
             0.4444444444444444,
             "#bd3786"
            ],
            [
             0.5555555555555556,
             "#d8576b"
            ],
            [
             0.6666666666666666,
             "#ed7953"
            ],
            [
             0.7777777777777778,
             "#fb9f3a"
            ],
            [
             0.8888888888888888,
             "#fdca26"
            ],
            [
             1,
             "#f0f921"
            ]
           ]
          },
          "colorway": [
           "#636efa",
           "#EF553B",
           "#00cc96",
           "#ab63fa",
           "#FFA15A",
           "#19d3f3",
           "#FF6692",
           "#B6E880",
           "#FF97FF",
           "#FECB52"
          ],
          "font": {
           "color": "#2a3f5f"
          },
          "geo": {
           "bgcolor": "white",
           "lakecolor": "white",
           "landcolor": "#E5ECF6",
           "showlakes": true,
           "showland": true,
           "subunitcolor": "white"
          },
          "hoverlabel": {
           "align": "left"
          },
          "hovermode": "closest",
          "mapbox": {
           "style": "light"
          },
          "paper_bgcolor": "white",
          "plot_bgcolor": "#E5ECF6",
          "polar": {
           "angularaxis": {
            "gridcolor": "white",
            "linecolor": "white",
            "ticks": ""
           },
           "bgcolor": "#E5ECF6",
           "radialaxis": {
            "gridcolor": "white",
            "linecolor": "white",
            "ticks": ""
           }
          },
          "scene": {
           "xaxis": {
            "backgroundcolor": "#E5ECF6",
            "gridcolor": "white",
            "gridwidth": 2,
            "linecolor": "white",
            "showbackground": true,
            "ticks": "",
            "zerolinecolor": "white"
           },
           "yaxis": {
            "backgroundcolor": "#E5ECF6",
            "gridcolor": "white",
            "gridwidth": 2,
            "linecolor": "white",
            "showbackground": true,
            "ticks": "",
            "zerolinecolor": "white"
           },
           "zaxis": {
            "backgroundcolor": "#E5ECF6",
            "gridcolor": "white",
            "gridwidth": 2,
            "linecolor": "white",
            "showbackground": true,
            "ticks": "",
            "zerolinecolor": "white"
           }
          },
          "shapedefaults": {
           "line": {
            "color": "#2a3f5f"
           }
          },
          "ternary": {
           "aaxis": {
            "gridcolor": "white",
            "linecolor": "white",
            "ticks": ""
           },
           "baxis": {
            "gridcolor": "white",
            "linecolor": "white",
            "ticks": ""
           },
           "bgcolor": "#E5ECF6",
           "caxis": {
            "gridcolor": "white",
            "linecolor": "white",
            "ticks": ""
           }
          },
          "title": {
           "x": 0.05
          },
          "xaxis": {
           "automargin": true,
           "gridcolor": "white",
           "linecolor": "white",
           "ticks": "",
           "title": {
            "standoff": 15
           },
           "zerolinecolor": "white",
           "zerolinewidth": 2
          },
          "yaxis": {
           "automargin": true,
           "gridcolor": "white",
           "linecolor": "white",
           "ticks": "",
           "title": {
            "standoff": 15
           },
           "zerolinecolor": "white",
           "zerolinewidth": 2
          }
         }
        },
        "title": {
         "text": "The Elbow Method"
        },
        "xaxis": {
         "title": {
          "text": "Number of clusters"
         }
        },
        "yaxis": {
         "title": {
          "text": "WCSS"
         }
        }
       }
      }
     },
     "metadata": {},
     "output_type": "display_data"
    },
    {
     "data": {
      "application/vnd.plotly.v1+json": {
       "config": {
        "plotlyServerURL": "https://plot.ly"
       },
       "data": [
        {
         "marker": {
          "color": "red",
          "size": 10
         },
         "mode": "markers",
         "name": "Cluster 1",
         "type": "scatter",
         "x": [
          0.8241206030150754,
          0.6130653266331658,
          0.7688442211055277,
          0.6582914572864322,
          0.7286432160804022,
          0.5175879396984926,
          0.8944723618090453,
          0.6231155778894473,
          0.8291457286432162,
          0.48241206030150763,
          0.7135678391959799,
          0.7638190954773869,
          0.7236180904522613,
          0.9698492462311559,
          0.5175879396984926,
          0.5175879396984926,
          0.8944723618090453,
          0.8944723618090453,
          0.9899497487437185,
          0.6683417085427137,
          0.6733668341708543,
          0.8944723618090453,
          1,
          0.9597989949748744,
          0.5527638190954773,
          0.7839195979899498,
          0.7738693467336684,
          0.8190954773869348,
          0.7839195979899498,
          0.9246231155778895,
          0.7839195979899498,
          0.6783919597989951,
          0.7839195979899498,
          0.864321608040201,
          0.6482412060301508,
          0.7738693467336684,
          0.4723618090452262,
          0.5728643216080402,
          0.8190954773869348,
          0.7386934673366834,
          0.5175879396984926,
          0.6683417085427137,
          1,
          0.5326633165829147,
          0.6984924623115578,
          0.7035175879396987,
          0.5175879396984926,
          0.949748743718593,
          0.5527638190954773,
          0.5175879396984926,
          0.8542713567839197,
          0.4974874371859299,
          0.6633165829145728,
          0.5979899497487438,
          0.6331658291457287,
          0.5276381909547738,
          0.6080402010050252,
          0.6834170854271358,
          0.7537688442211057,
          0.5025125628140703,
          0.7437185929648242,
          0.5477386934673367,
          0.8190954773869348,
          0.9095477386934674,
          0.9095477386934674,
          0.57286432160804,
          0.8391959798994975,
          0.7135678391959799,
          0.7437185929648242,
          0.8743718592964824,
          0.683417085427136,
          0.8994974874371859,
          0.5829145728643219,
          0.5879396984924623,
          0.9447236180904524,
          0.7035175879396987,
          0.8944723618090453,
          0.6130653266331658,
          0.9195979899497488,
          0.7889447236180904,
          0.864321608040201,
          0.7185929648241207,
          0.8391959798994975,
          0.5728643216080402,
          0.8743718592964824,
          0.9698492462311559,
          0.5628140703517588,
          0.5678391959798996,
          0.8291457286432162,
          0.8944723618090453,
          0.6582914572864322,
          0.6432160804020102,
          0.7839195979899498,
          0.5125628140703518,
          0.6532663316582916,
          0.5477386934673367,
          0.8090452261306533,
          0.6180904522613067,
          0.8894472361809045,
          0.6733668341708545,
          0.9346733668341709,
          0.48241206030150763,
          0.4572864321608041,
          0.8090452261306533,
          0.4773869346733669,
          0.4371859296482412,
          0.3869346733668342,
          0.5979899497487438,
          0.7185929648241207,
          0.9798994974874373,
          0.8241206030150754,
          0.9095477386934674,
          0.7085427135678393,
          0.8793969849246233,
          0.3668341708542714,
          0.8040201005025127,
          0.7537688442211057,
          0.7336683417085428,
          0.5577889447236182,
          0.6231155778894473,
          0.7336683417085428,
          0.9396984924623115,
          0.6432160804020102,
          0.9849246231155779,
          0.7386934673366834,
          0.6482412060301506,
          0.9748743718592965,
          0.5929648241206031,
          0.6984924623115578,
          0.8291457286432162,
          0.6834170854271358,
          0.8592964824120604,
          0.49246231155778897,
          0.5376884422110553,
          0.7889447236180904,
          0.5979899497487438,
          0.6381909547738693,
          0.5678391959798996,
          0.5728643216080405,
          0.9698492462311559,
          0.7688442211055277,
          0.9296482412060303,
          0.5427135678391961,
          0.48743718592964835,
          0.7286432160804022,
          0.6381909547738693,
          0.4974874371859297,
          0.8291457286432162,
          0.8241206030150754,
          0.7638190954773869,
          0.6080402010050252,
          0.4321608040201006,
          0.5829145728643217,
          0.5276381909547738,
          0.42713567839195987,
          0.6683417085427137,
          0.8391959798994975,
          0.48743718592964835,
          0.9949748743718594,
          0.6884422110552764,
          0.864321608040201,
          0.7236180904522616,
          0.7688442211055277,
          0.949748743718593,
          0.6080402010050252,
          0.6482412060301508,
          0.5326633165829147,
          0.964824120603015,
          0.9045226130653268,
          0.5728643216080402,
          0.7437185929648242,
          0.8190954773869348,
          0.5628140703517588,
          0.9346733668341709,
          0.48743718592964835,
          0.5527638190954773,
          0.7587939698492463,
          0.7487437185929648,
          0.7386934673366834,
          0.949748743718593,
          0.5427135678391961,
          0.7688442211055277,
          0.9698492462311559,
          0.6432160804020102,
          0.8542713567839197,
          0.6532663316582916,
          0.8592964824120604,
          0.8944723618090453,
          0.9346733668341709,
          0.9447236180904524,
          0.7437185929648242,
          0.5879396984924623,
          0.9899497487437185,
          1,
          0.44221105527638194,
          0.7135678391959799,
          0.7688442211055277,
          0.5427135678391961,
          0.9949748743718594,
          0.7236180904522613,
          0.7537688442211057,
          0.42713567839195987,
          0.6733668341708543,
          0.5829145728643217,
          0.6834170854271358,
          0.57286432160804,
          0.8793969849246233,
          0.5778894472361811,
          0.8341708542713568,
          0.7286432160804022,
          0.9346733668341709,
          0.7939698492462313,
          0.7587939698492463,
          0.5376884422110553,
          0.9396984924623115,
          0.48743718592964835,
          0.6532663316582916,
          0.8542713567839197,
          0.8391959798994975,
          0.914572864321608,
          0.5376884422110553,
          0.5979899497487438,
          0.4623115577889447,
          0.7638190954773869,
          0.7035175879396987,
          0.8040201005025127,
          0.8492462311557789,
          0.5376884422110553,
          0.6281407035175881,
          0.9698492462311559,
          0.8492462311557789,
          0.7889447236180904,
          0.7035175879396984,
          0.7989949748743719,
          0.4773869346733669,
          0.6130653266331658,
          0.949748743718593,
          0.9246231155778895,
          0.9195979899497488,
          0.6030150753768846,
          0.7889447236180904,
          0.7638190954773869,
          0.5125628140703518,
          0.6633165829145728,
          0.8844221105527639,
          0.864321608040201,
          0.7085427135678393,
          0.5979899497487438,
          0.7889447236180904,
          0.7286432160804022,
          0.949748743718593,
          0.7638190954773869,
          0.8793969849246233,
          0.964824120603015,
          0.9045226130653268,
          0.7135678391959799,
          0.6030150753768846,
          0.9798994974874373,
          0.6984924623115578,
          0.9346733668341709,
          0.8542713567839197,
          0.6180904522613067,
          0.9899497487437185,
          0.9195979899497488,
          0.7638190954773869,
          0.9949748743718594,
          0.7386934673366834,
          0.4623115577889446,
          0.5829145728643217,
          0.5477386934673367,
          0.5326633165829147,
          0.8442211055276383,
          0.5979899497487438,
          0.8844221105527641,
          0.49246231155778897,
          0.608040201005025,
          0.6130653266331658,
          0.8140703517587939,
          0.8894472361809045,
          0.7236180904522616,
          0.7989949748743719,
          0.5979899497487438,
          0.6231155778894473,
          0.44221105527638194,
          0.7085427135678393,
          0.5025125628140703,
          0.48743718592964835,
          0.5226130653266334,
          0.9195979899497488,
          0.6130653266331658,
          0.6834170854271358,
          0.9748743718592965,
          0.7638190954773869,
          0.8492462311557789,
          0.6934673366834172,
          0.9346733668341709,
          0.6180904522613067,
          0.6633165829145728,
          0.8793969849246233,
          0.7286432160804022,
          0.9899497487437185,
          0.8793969849246233,
          0.9849246231155779,
          0.5678391959798996,
          0.5728643216080402,
          0.9296482412060303,
          0.7336683417085428,
          0.8391959798994975,
          0.48241206030150763,
          0.8442211055276383,
          0.5326633165829147,
          0.9045226130653268,
          0.8492462311557789,
          0.4974874371859297,
          0.9547738693467338,
          0.7738693467336684,
          0.8291457286432162,
          0.9396984924623115,
          0.6633165829145728,
          0.8492462311557789,
          0.6884422110552764,
          0.7989949748743719,
          0.9045226130653268,
          0.7889447236180904,
          0.7939698492462313,
          0.9698492462311559,
          0.7738693467336684,
          0.6231155778894473,
          0.6934673366834172,
          0.6683417085427137,
          0.5527638190954773,
          0.7989949748743719,
          0.8944723618090453,
          0.8693467336683418,
          0.7035175879396987,
          0.5929648241206031,
          0.7336683417085428,
          0.9246231155778895,
          0.9849246231155779,
          0.6532663316582916,
          0.6180904522613067,
          0.8291457286432162,
          0.8090452261306533,
          0.9447236180904524,
          0.8140703517587939,
          0.8693467336683418,
          0.7236180904522613,
          0.4623115577889447,
          0.8693467336683418,
          0.9949748743718594,
          0.6532663316582916,
          0.4623115577889446,
          0.9597989949748744,
          0.8592964824120604,
          0.9045226130653268,
          0.6080402010050252,
          0.6532663316582916,
          0.7386934673366834,
          0.7638190954773869,
          0.9949748743718594,
          0.6281407035175881,
          0.8291457286432162,
          0.8793969849246233,
          0.9396984924623115,
          0.5829145728643217,
          0.6482412060301508,
          0.6934673366834172,
          0.5477386934673367,
          0.8291457286432162,
          0.5075376884422111,
          0.8442211055276383,
          0.6783919597989951,
          0.8944723618090453,
          0.7236180904522613,
          0.6030150753768846,
          0.7989949748743719,
          0.42713567839195987,
          0.4572864321608041,
          0.7386934673366834,
          0.8040201005025127,
          0.8391959798994975,
          0.7989949748743719,
          0.48241206030150763,
          0.7889447236180904,
          0.8040201005025127,
          0.5778894472361811,
          0.7688442211055277,
          0.7487437185929648,
          0.5125628140703518,
          0.9698492462311561,
          0.8291457286432162,
          0.8693467336683418,
          0.6080402010050252,
          0.7135678391959799,
          0.5276381909547738,
          0.5929648241206031,
          0.8592964824120604,
          0.5175879396984926,
          0.9748743718592965,
          0.6130653266331658,
          0.6683417085427137,
          0.5125628140703518,
          0.7989949748743719,
          0.5678391959798996,
          0.8894472361809045,
          0.5527638190954773,
          0.6331658291457287,
          0.6582914572864322,
          0.6683417085427137,
          0.7688442211055277,
          0.6331658291457287,
          0.6331658291457287,
          0.9396984924623115,
          0.5276381909547738,
          0.4321608040201006,
          0.7035175879396987,
          0.6080402010050252,
          0.7336683417085428,
          0.4974874371859297,
          0.864321608040201,
          0.6783919597989951,
          0.5929648241206031,
          0.914572864321608,
          0.9899497487437185,
          0.7286432160804022,
          0.7487437185929648,
          0.5226130653266332,
          0.6532663316582916,
          0.7788944723618092,
          0.9447236180904524
         ],
         "y": [
          0.3837159173341781,
          0.25078825349935785,
          0.3100765096967931,
          0.3482067527154801,
          0.5559124443128421,
          0.3457274783285965,
          0.5707225624126921,
          0.4225157558416255,
          0.6238794727743477,
          0.32470580287137973,
          0.4551486755696664,
          0.6046573005032474,
          0.5027831176994362,
          0.7244008745588176,
          0.34893694835359634,
          0.3521464183785963,
          0.46032230626570025,
          0.4520338285655524,
          0.4373163064174792,
          0.28532354293848167,
          0.36915696608149984,
          0.32721252645164356,
          0.621871645684286,
          0.39189426523750326,
          0.24710590384095021,
          0.41157250518384036,
          0.45356009790589735,
          0.34238525445101453,
          0.3828403687982731,
          0.46902088702488554,
          0.486294763989616,
          0.4598739061997025,
          0.3956155463290807,
          0.5596809898206582,
          0.4166505090796615,
          0.5411164544742906,
          0.351821972949489,
          0.31338704724815414,
          0.6320126418619118,
          0.5181671123177487,
          0.3069748349416299,
          0.3902871734964638,
          0.7148880134780101,
          0.3843492671049641,
          0.3044842243069899,
          0.5489273646493767,
          0.2750167078841842,
          0.6889495348952918,
          0.3456015013320173,
          0.4321441659166252,
          0.423226205552641,
          0.4019248241604294,
          0.5267015913036277,
          0.3799533595180552,
          0.42176023024932385,
          0.38667269331423715,
          0.3508898440909548,
          0.4689223847871117,
          0.4146416048778694,
          0.37615891219785835,
          0.35178564313472105,
          0.2836490755376323,
          0.3608526230166881,
          0.552954255506653,
          0.5637300822314036,
          0.2760978562607013,
          0.41317697512324725,
          0.5024453849769647,
          0.4019234786117343,
          0.3547438319409102,
          0.3275334734541435,
          0.5150255925018515,
          0.3062442020001877,
          0.19293692557278413,
          0.37177834386607367,
          0.32274197455087356,
          0.24848638970792386,
          0.2630242360293194,
          0.33653241903021425,
          0.24163584809461042,
          0.4636637113769012,
          0.3998670429022875,
          0.5428703771983603,
          0.3247609703678791,
          0.35502034219775425,
          0.5690187613775151,
          0.3692347186128465,
          0.26181384770063737,
          0.42954860248376703,
          0.5205981824226301,
          0.29957869015180993,
          0.2682714722756215,
          0.38218158815714964,
          0.32288392993820725,
          0.2825188146337438,
          0.27429852126817184,
          0.24374632440352434,
          0.29761671196075956,
          0.27061541810249484,
          0.2253225670893821,
          0.4665565737939429,
          0.6132171430820292,
          0.4348479787420044,
          0.8512404687677644,
          0.4719878811017353,
          0.4780562384392255,
          0.42853802813630815,
          0.7015913012729798,
          0.6881141509879356,
          0.8041355673269532,
          0.6465334669923141,
          0.958597964336434,
          0.7259144486472242,
          0.8431652255515247,
          0.46546869767395016,
          0.4395530934190486,
          0.46370787901281807,
          0.5920461117196557,
          0.42470703234968055,
          0.4186314258685957,
          0.5212689720858574,
          0.6546612202463802,
          0.4878299004958616,
          0.6301012226630798,
          0.4799384928700907,
          0.3634016809227716,
          0.6353933329583636,
          0.4035674632796704,
          0.4347941031404461,
          0.39977760343955593,
          0.3798025961689633,
          0.5244599270244255,
          0.39144491084109345,
          0.310087910026306,
          0.4240242711715194,
          0.3682457679056924,
          0.30982631080371387,
          0.41158281477794223,
          0.2920077431126858,
          0.5000257520359916,
          0.5895346787189591,
          0.5428824871366162,
          0.39256922408336237,
          0.3661167458991138,
          0.5687691620945732,
          0.5306131013602987,
          0.46189874792120733,
          0.5711442699882572,
          0.7288784071662177,
          0.5848144824593656,
          0.710859695498149,
          0.39540584155578695,
          0.5137647178405805,
          0.47626450075101556,
          0.4875112955890589,
          0.5872539311277782,
          0.7520168404582378,
          0.4644726471791063,
          0.4156982982432402,
          0.38510708130740257,
          0.4112099955276972,
          0.30525073159496674,
          0.308127030139378,
          0.38065684164154034,
          0.3016426457965265,
          0.3084642197647574,
          0.2856582488491634,
          0.590891173452699,
          0.3326022764879877,
          0.3651128781027384,
          0.6381719582911909,
          0.6766500929249972,
          0.39448346893445385,
          0.8728279810899904,
          0.4411655653365454,
          0.6348811834862893,
          0.6619960752931382,
          0.7029313163990764,
          0.627797088258223,
          0.3685259508376997,
          0.26998435576449054,
          0.3494507797615397,
          0.41309456026567215,
          0.27801189927948866,
          0.4301288703585312,
          0.28004300503475005,
          0.3501393643062598,
          0.46364716112795146,
          0.5522286683728176,
          0.37410829598651785,
          0.49318935550333554,
          0.554741682393231,
          0.709521494339887,
          0.7785348887441412,
          0.5276395732989856,
          0.5783806182560144,
          0.6926235219685594,
          0.4487399616897495,
          0.7210672440279768,
          0.5845989369955741,
          0.6416020310247532,
          0.3976113314310956,
          0.42627090136637424,
          0.36826010405426435,
          0.3279784396798713,
          0.3229895538288371,
          0.473947609703561,
          0.41039587734469285,
          0.382671445251218,
          0.43374951904055703,
          0.49914275588805923,
          0.40613589372309167,
          0.4180996456820275,
          0.4553982546693781,
          0.5186729965787115,
          0.415727825972967,
          0.3137401276354291,
          0.440165889933517,
          0.5511702160389153,
          0.468225010445541,
          0.38545659481328043,
          0.3808112325899141,
          0.404155151855488,
          0.4860920133483658,
          0.511729469140887,
          0.465563457940803,
          0.5321770056976457,
          0.5684216011480454,
          0.620567753663039,
          0.8046687214869328,
          0.9055619227639304,
          0.7769739032383011,
          0.6884509687372944,
          0.8982279805037685,
          0.48770885914008955,
          0.5900980979693503,
          1,
          0.8756989124088503,
          0.5912696931199909,
          0.4632528346273639,
          0.5293825890053327,
          0.44144739992957605,
          0.3822926958314864,
          0.4496591705897133,
          0.6694167373257315,
          0.3935081937114623,
          0.4975098588777579,
          0.38572969259044,
          0.4442783455778637,
          0.6167401309987962,
          0.5012820789108667,
          0.4838656254198864,
          0.5225602236862757,
          0.6383355447193468,
          0.5251183917979928,
          0.4828406954133996,
          0.39682167936001433,
          0.6561239132518493,
          0.4696058427913036,
          0.5269308196521002,
          0.41547769183441874,
          0.3957646114275257,
          0.5644517484363417,
          0.7453493403934693,
          0.49546884147442105,
          0.6396736310013892,
          0.5305719295885516,
          0.35155784712283467,
          0.44342427469023005,
          0.4850385011964975,
          0.37093728107044965,
          0.5143181043435139,
          0.5486908414086538,
          0.5909580216574205,
          0.5165085149909837,
          0.5406151689623804,
          0.4184127755511896,
          0.6615564858799958,
          0.8159901971368455,
          0.5320179093654852,
          0.5105208485268032,
          0.3559651436020925,
          0.3791193884368289,
          0.43340099585851866,
          0.5344589393900013,
          0.3399231176450862,
          0.3243408951110748,
          0.26940336802117454,
          0.5109277037676779,
          0.5133051537570595,
          0.5448292168970794,
          0.6415828535919762,
          0.4935676296079904,
          0.48237296149458875,
          0.38700402727988903,
          0.6066055789902586,
          0.4124497509612306,
          0.49748175675687345,
          0.658731463000677,
          0.5732636151450077,
          0.5625301873324141,
          0.47958106888343444,
          0.7824428021491504,
          0.23348393332720707,
          0.3629090005311538,
          0.38369208093904417,
          0.4061244629505397,
          0.6412953197592538,
          0.42297404838162966,
          0.35777614971580984,
          0.28717832059221865,
          0.5068489487359488,
          0.4177926548787867,
          0.3477762777128115,
          0.4924767394589208,
          0.38430412394624336,
          0.5563675912963844,
          0.35737811824689036,
          0.4585682691699914,
          0.319711553999634,
          0.18750149718572579,
          0.40012563230064235,
          0.287805468729069,
          0.3660036412623199,
          0.2834373867527877,
          0.5413329509046229,
          0.3443445348169313,
          0.2978592807517696,
          0.2701633675628873,
          0.3021222666288967,
          0.27775617774998396,
          0.3154578668731515,
          0.3144354853358932,
          0.36769562955730906,
          0.2718725642483318,
          0.3190966005706075,
          0.5325624482129739,
          0.5627677861711252,
          0.6671733497350382,
          0.3977286800966674,
          0.5389318417961482,
          0.5685972430197351,
          0.4540189478394484,
          0.5913407279994772,
          0.505151623153867,
          0.5642429781466168,
          0.43063683988358414,
          0.423785264888873,
          0.8143410817235414,
          0.8771133535335323,
          0.395500490142098,
          0.4098068115997858,
          0.6371612229824692,
          0.6410399808701592,
          0.626351669575095,
          0.4948222886752579,
          0.3796332972138222,
          0.2776103878852564,
          0.38814997526323947,
          0.43018692472975595,
          0.33921437930381704,
          0.43461658221000343,
          0.4754255856193028,
          0.6882426821723253,
          0.30261183813025455,
          0.40368749110088775,
          0.34435234404517046,
          0.35433504751959355,
          0.4859742198107566,
          0.34283615454648775,
          0.4125669652401265,
          0.4136886048771383,
          0.5603140385249237,
          0.3855124771325238,
          0.5230366597730782,
          0.6775010616501145,
          0.47068261897552943,
          0.4779564828228421,
          0.5557252976634217,
          0.5401828858786526,
          0.6547705001610081,
          0.5538705785410531,
          0.3759494492869426,
          0.6184877215707067,
          0.5899331360540407,
          0.5147957795124711,
          0.5190286077748884,
          0.4607213495872383,
          0.4112192017718691,
          0.49214083668267483,
          0.6249491839869564,
          0.7134678709271198,
          0.3376942162316442,
          0.61252623746581,
          0.4792851280624649,
          0.4967538821902563,
          0.44193841486829655,
          0.273838764098413,
          0.5992214519686089,
          0.40346732754578074,
          0.5033673381234922,
          0.32397514234618935,
          0.434358329367016,
          0.37562696196757384,
          0.360681080695485,
          0.22340041209389921,
          0.43663270780344865,
          0.4468887337616637,
          0.34541545147297714,
          0.5502423656888442,
          0.6105359348019533,
          0.5832148369848053,
          0.8261692985807421,
          0.377450411883817,
          0.38416734353919113,
          0.5427175497775704,
          0.4848673955058458,
          0.7017798893414396,
          0.45594772226173685,
          0.4921178197266962,
          0.6892083259577572,
          0.27851558491388373,
          0.4750668732697708,
          0.4881987868754645,
          0.39038846640223124,
          0.3823128982359817,
          0.36012597155383475,
          0.2589590491742445,
          0.3381580218210394,
          0.5696373450969211
         ]
        },
        {
         "marker": {
          "color": "blue",
          "size": 10
         },
         "mode": "markers",
         "name": "Cluster 2",
         "type": "scatter",
         "x": [
          0.31658291457286436,
          0.4623115577889447,
          0.35678391959799005,
          0.05025125628140714,
          0.5226130653266332,
          0.0653266331658292,
          0.29648241206030157,
          0.14572864321608048,
          0.170854271356784,
          0.0201005025125629,
          0.4120603015075377,
          0.3869346733668342,
          0.306532663316583,
          0.44221105527638216,
          0.20603015075376885,
          0.44221105527638194,
          0.1959798994974875,
          0.35678391959799005,
          0.19095477386934678,
          0.0653266331658292,
          0.15577889447236182,
          0.11055276381909562,
          0.31155778894472363,
          0.2613065326633166,
          0.19095477386934678,
          0.33165829145728654,
          0.20603015075376885,
          0.07035175879396993,
          0.16080402010050254,
          0.18592964824120606,
          0.07035175879396993,
          0.0201005025125629,
          0.23115577889447236,
          0.33668341708542715,
          0.37688442211055284,
          0.17587939698492472,
          0.1256281407035177,
          0.21105527638190957,
          0.1306532663316583,
          0.3417085427135679,
          0.05025125628140714,
          0.3668341708542714,
          0.18592964824120606,
          0.11055276381909551,
          0.23115577889447236,
          0.44723618090452255,
          0.22613065326633175,
          0.29648241206030157,
          0.33668341708542715,
          0.18090452261306533,
          0.35678391959799005,
          0.4572864321608041,
          0.1507537688442212,
          0.25125628140703526,
          0.14070351758793975,
          0.1959798994974875,
          0.20100502512562823,
          0.05025125628140714,
          0,
          0.22613065326633175,
          0.44723618090452266,
          0.2814070351758795,
          0,
          0.31155778894472363,
          0.27135678391959805,
          0.2613065326633166,
          0.2814070351758795,
          0.42713567839195987,
          0.31155778894472363,
          0.5175879396984926,
          0.24120603015075381,
          0.3517587939698493,
          0,
          0.306532663316583,
          0.15577889447236182,
          0.14070351758793975,
          0.24120603015075381,
          0.14572864321608048,
          0.09045226130653272,
          0.085427135678392,
          0,
          0.3869346733668342,
          0.31155778894472363,
          0.035175879396984966,
          0.27135678391959805,
          0.15577889447236182,
          0.045226130653266416,
          0.4321608040201006,
          0.27135678391959805,
          0.15577889447236182,
          0.4623115577889447,
          0.035175879396984966,
          0.3216080402010051,
          0.2814070351758795,
          0.33165829145728654,
          0.35678391959799005,
          0.26633165829145733,
          0.33165829145728654,
          0.25125628140703526,
          0.035175879396984966,
          0.170854271356784,
          0.15577889447236182,
          0.22613065326633175,
          0.27135678391959805,
          0.03015075376884435,
          0.03015075376884424,
          0.42211055276381915,
          0.17587939698492472,
          0.14070351758793975,
          0.4070351758793972,
          0.005025125628140725,
          0.23115577889447236,
          0.05025125628140714,
          0.09547738693467345,
          0.0201005025125629,
          0.18090452261306533,
          0.2613065326633166,
          0.42713567839195987,
          0.11557788944723624,
          0.40201005025125636,
          0.29145728643216084,
          0.0653266331658291,
          0.04020100502512569,
          0.1959798994974875,
          0.12060301507537696,
          0.5125628140703518,
          0.10552763819095479,
          0.015075376884422176,
          0.14070351758793975,
          0.18090452261306533,
          0.3718592964824121,
          0.3467336683417086,
          0.42211055276381915,
          0.20603015075376885,
          0.20100502512562823,
          0.16582914572864327,
          0.08040201005025127,
          0.37688442211055284,
          0.1306532663316583,
          0.2814070351758795,
          0.1507537688442212,
          0.055276381909547756,
          0.2613065326633166,
          0.22613065326633175,
          0.31658291457286436,
          0.26633165829145733,
          0.25125628140703526,
          0.17587939698492472,
          0.1256281407035177,
          0.14070351758793975,
          0.05025125628140714,
          0.1959798994974875,
          0.05025125628140714,
          0.19095477386934678,
          0.26633165829145733,
          0.27135678391959805,
          0.3417085427135679,
          0.2763819095477388,
          0.16080402010050254,
          0.17587939698492472,
          0.40201005025125636,
          0.36180904522613067,
          0.1959798994974875,
          0.08040201005025127,
          0.3015075376884423,
          0.5175879396984926,
          0.20603015075376885,
          0.12060301507537696,
          0.19095477386934678,
          0.170854271356784,
          0.5376884422110553,
          0.5075376884422111,
          0.48743718592964835,
          0.055276381909547756,
          0.09045226130653272,
          0.5025125628140703,
          0.2160804020100503,
          0.24120603015075381,
          0.08040201005025127,
          0.3668341708542714,
          0.2814070351758795,
          0.27135678391959805,
          0.23115577889447225,
          0.055276381909547756,
          0.306532663316583,
          0.39698492462311563,
          0.4120603015075377,
          0.035175879396984966,
          0.40201005025125636,
          0.12060301507537696,
          0.055276381909547756,
          0.29145728643216084,
          0.1256281407035177,
          0.23115577889447236,
          0.15577889447236182,
          0.045226130653266416,
          0.07537688442211066,
          0.1256281407035177,
          0.0653266331658292,
          0.3919597989949749,
          0.03015075376884424,
          0.35678391959799005,
          0.29145728643216084,
          0.4070351758793971,
          0.512562814070352,
          0.08040201005025127,
          0.0653266331658292,
          0.22110552763819102,
          0.18090452261306533,
          0.19095477386934678,
          0.07035175879396993,
          0.015075376884422176,
          0.07537688442211066,
          0.27135678391959805,
          0.16582914572864327,
          0.06030150753768848,
          0.085427135678392,
          0.19095477386934678,
          0.22613065326633175,
          0.14070351758793975,
          0.306532663316583,
          0.07537688442211066,
          0.045226130653266416,
          0.4170854271356784,
          0.3216080402010051,
          0.01005025125628145,
          0.33668341708542715,
          0.18090452261306533,
          0.36180904522613067,
          0.24120603015075381,
          0.4371859296482411,
          0.18090452261306533,
          0.3015075376884423,
          0.19095477386934678,
          0.31155778894472363,
          0.22613065326633175,
          0.4371859296482412,
          0.05025125628140714,
          0.306532663316583,
          0.38190954773869357,
          0.256281407035176,
          0.015075376884422176,
          0.29145728643216084,
          0.35678391959799005,
          0.31155778894472363,
          0.26633165829145733,
          0.3668341708542714,
          0.2814070351758793,
          0.01005025125628145,
          0.025125628140703626,
          0.0201005025125629,
          0.0201005025125629,
          0.26633165829145733,
          0.23115577889447225,
          0.04020100502512569,
          0.09547738693467345,
          0.3015075376884423,
          0.4070351758793971,
          0.306532663316583,
          0.010050251256281562,
          0.06030150753768848,
          0.36180904522613067,
          0.33668341708542715,
          0.05025125628140714,
          0.33165829145728654,
          0.14070351758793975,
          0.37688442211055284,
          0.04020100502512569,
          0.1959798994974875,
          0.12060301507537696,
          0.0201005025125629,
          0.18592964824120606,
          0.35678391959799005,
          0.44723618090452266,
          0.18090452261306533,
          0.29648241206030157,
          0.13567839195979903,
          0.40201005025125636,
          0.1959798994974875,
          0.22110552763819102,
          0.306532663316583,
          0.4623115577889447,
          0.33165829145728654,
          0.2763819095477388,
          0.1959798994974875,
          0.48743718592964846,
          0.1959798994974875,
          0.4522613065326634,
          0.16080402010050254,
          0.025125628140703515,
          0.39698492462311563,
          0.4572864321608041,
          0.29145728643216084,
          0.29145728643216084,
          0.2361809045226131,
          0.06030150753768848,
          0.22110552763819102,
          0.44221105527638194,
          0.03015075376884424,
          0.22110552763819102,
          0.2864321608040201,
          0.1507537688442212,
          0.11055276381909551,
          0.5326633165829149,
          0.19095477386934678,
          0.4070351758793971,
          0.4974874371859297,
          0.005025125628140725,
          0.38190954773869357,
          0.055276381909547756,
          0.19095477386934678,
          0.06030150753768848,
          0.22613065326633175,
          0.03015075376884424,
          0.14070351758793975,
          0.16080402010050254,
          0.3919597989949749,
          0.2864321608040201,
          0.1256281407035177,
          0.14070351758793975,
          0.015075376884422176,
          0.49246231155778897,
          0.19095477386934678,
          0.07035175879396993,
          0.025125628140703515,
          0,
          0.28643216080402,
          0.07035175879396993,
          0.31658291457286436,
          0.12060301507537696,
          0.11557788944723635,
          0.055276381909547756,
          0.085427135678392,
          0.07035175879396993,
          0.1306532663316583,
          0.35678391959799005,
          0.29648241206030157,
          0.2613065326633166,
          0.035175879396984966,
          0.3919597989949749,
          0.1306532663316583,
          0.24623115577889454,
          0.11557788944723624,
          0.29648241206030157,
          0.22613065326633175,
          0.07035175879396993,
          0.08040201005025127,
          0.4170854271356784,
          0.04020100502512569,
          0.31155778894472363,
          0.4371859296482412,
          0.35678391959799005,
          0.31658291457286436,
          0.35678391959799005,
          0.10050251256281417,
          0.085427135678392,
          0.31658291457286436,
          0.4070351758793971,
          0.4723618090452262,
          0.15577889447236182,
          0.05025125628140714,
          0.22110552763819102,
          0.16080402010050254,
          0.05025125628140714,
          0.4371859296482412,
          0.20100502512562823,
          0.37688442211055284,
          0.22613065326633175,
          0.39698492462311563,
          0.26633165829145733,
          0.005025125628140725,
          0.16080402010050254,
          0.38190954773869357,
          0.512562814070352,
          0.44723618090452266,
          0.24120603015075393,
          0.3015075376884423,
          0.04020100502512558,
          0.025125628140703515,
          0.36180904522613067,
          0.20100502512562823,
          0.035175879396984966,
          0.35678391959799005,
          0.4572864321608041,
          0.306532663316583,
          0.4170854271356784,
          0.306532663316583,
          0.03015075376884424,
          0.4170854271356784,
          0.2864321608040201,
          0.10552763819095479,
          0.01005025125628145,
          0.20100502512562823,
          0.0653266331658292,
          0.055276381909547756,
          0.05527638190954787,
          0.12060301507537696,
          0.22110552763819102,
          0.27135678391959805,
          0.2613065326633166,
          0.15577889447236182,
          0.25125628140703526,
          0.2160804020100503,
          0.4070351758793971,
          0.18090452261306533,
          0.4773869346733669,
          0.2763819095477388,
          0.29145728643216084,
          0.170854271356784,
          0.4623115577889447
         ],
         "y": [
          0.09409091692666605,
          0.3160968477652267,
          0.2504146619041619,
          0.08649743060135023,
          0.21855270793969894,
          0.04560164771089595,
          0.16810315928810599,
          0.07004197555712538,
          0.15085522652054023,
          0.020116232193178263,
          0.14257909288412135,
          0.08619189013140915,
          0.19034132850120877,
          0.1430502031209952,
          0.1147428356024679,
          0.18895985365594414,
          0.17197189771563137,
          0.26109078347060527,
          0.18802799390714897,
          0.12422325214036456,
          0.20176503692265257,
          0.13833418949952064,
          0.30478192695578205,
          0.2187512436496617,
          0.1822428624600403,
          0.20976618211780146,
          0.17690536882559366,
          0.03795723505856777,
          0.20772056192876592,
          0.11391473515019834,
          0.10655737512874042,
          0.11741797142128274,
          0.2753436762170949,
          0.14499129166855407,
          0.20159919804598087,
          0.1653299329694179,
          0.18282879374926214,
          0.251854432646642,
          0.15427658682630174,
          0.2725301338956297,
          0.10248439922865676,
          0.26539435277831264,
          0.17934415901611322,
          0.1310497252513944,
          0.21596663062514138,
          0.30603530556527264,
          0.24563396102917018,
          0.2840678775689837,
          0.2812196873686196,
          0.14455768860155627,
          0.2698629199947572,
          0.28554394448751425,
          0.17773084613068202,
          0.2443624175122957,
          0.14906796782754922,
          0.18085588297506405,
          0.17964152527773147,
          0.12542600448020186,
          0.05006518593909265,
          0.17598163282704515,
          0.2137848234160281,
          0.13620452230234276,
          0.06335247930325735,
          0.18077918669944304,
          0.15144622514614786,
          0.15176982960732066,
          0.1415046386123624,
          0.18612025814787003,
          0.17506813981793812,
          0.15354851042738032,
          0.13638536404696489,
          0.13853316251280934,
          0.04062279797119134,
          0.0669036514193792,
          0.0709265392692876,
          0.06146736558141486,
          0.08977636457773491,
          0.044478602311884996,
          0.08198832873046552,
          0.06383956793088544,
          0.06059410447829147,
          0.2914519124205478,
          0.2937467457200499,
          0.08407292004635741,
          0.17796968102406324,
          0.0886237339267903,
          0.061379400335472345,
          0.2533035885912703,
          0.13378118910245812,
          0.11863317008654972,
          0.24335325599096674,
          0.06298077147623449,
          0.13062655018678382,
          0.18041588855176466,
          0.2065992569969921,
          0.17173003533768622,
          0.21412995665632256,
          0.14953050019149167,
          0.09871518094649306,
          0.22986069917336371,
          0.3191663134485008,
          0.30689060359331627,
          0.3581019850967191,
          0.3914420579414726,
          0.16424239323659906,
          0.146039474102041,
          0.2330830864658366,
          0.13059863005136035,
          0.22205268192797206,
          0.3034631210409919,
          0.08600610349533255,
          0.23224497782237297,
          0.09141692482424202,
          0.041133002284433395,
          0.07928391444481947,
          0.1495307504635489,
          0.19764949055295317,
          0.21362147212250643,
          0.09067115294623762,
          0.24164201070763403,
          0.12941638656473392,
          0.10732702898234064,
          0.16582946792247577,
          0.12189427554272425,
          0.14013890668683054,
          0.2401205752509763,
          0.08003122815343489,
          0.11028454501418211,
          0.1755914237054646,
          0.23404205902083813,
          0.3594189408820534,
          0.24306833605477812,
          0.30459994149476904,
          0.18871321458013135,
          0.2931369800540172,
          0.19260673280061946,
          0.2591398986557717,
          0.390165834438043,
          0.23723354814223818,
          0.2628876924388375,
          0.2513420056551491,
          0.16735025970227652,
          0.11627405185259032,
          0.0778831572139797,
          0.1489978028452943,
          0.12867565965336825,
          0.17839650588950934,
          0.15634057442779986,
          0.15089579060885805,
          0.07624736761037104,
          0.21738483894978233,
          0.18440480129712156,
          0.23773441283379393,
          0.24997042900247285,
          0.406537651016348,
          0.30986429984821634,
          0.37684473836775356,
          0.32405237078631927,
          0.1746039255181268,
          0.3406576190390267,
          0.3432370358875434,
          0.09998235143010847,
          0.055544932999908925,
          0.03624774638905648,
          0.13592464817376082,
          0.1366680638278065,
          0.2005234318642442,
          0.05588064739933768,
          0.09246948029098812,
          0.09475153087788668,
          0.24501029920898887,
          0.23908450275574522,
          0.17705336236269653,
          0.023375218410158022,
          0.08385393199622904,
          0.2244482968247375,
          0.12131871708839298,
          0.10939177345497975,
          0.10355881986169835,
          0.1211871897034465,
          0.09217682344980271,
          0.19615275331536847,
          0.07599592761681417,
          0.11586386267843618,
          0.1095370927140511,
          0.17917529265487758,
          0.2596027748074057,
          0.05542215168148057,
          0.1698862972382182,
          0.24716358078576584,
          0.1753373841118287,
          0.3596242716129264,
          0.24456845465623367,
          0.37788081086298453,
          0.24582294334339772,
          0.19098709095870714,
          0.17028727074935956,
          0.26973442009437476,
          0.15775930919836778,
          0.3262038072794481,
          0.05867607022568741,
          0.2906527397514807,
          0.2575067715566435,
          0.24338834958287098,
          0.2586611295557254,
          0.10642558872567004,
          0.12254607867289574,
          0.19967056927933863,
          0.15153996279599236,
          0.09788256718751298,
          0.11177578972199337,
          0.10318718688082168,
          0.090223456770401,
          0.4072325280195408,
          0.3831975369624838,
          0.2634528013620026,
          0.2345498072031309,
          0.2718725935140159,
          0.2897779043563841,
          0.32193230946127577,
          0.493555188496562,
          0.20134208555551253,
          0.12950309523638875,
          0.25994990013254327,
          0.35991819528820834,
          0.11502870986906838,
          0.38980484171985996,
          0.2497273744683839,
          0.2913913378366172,
          0.3098743955000757,
          0.3121784954252474,
          0.25152877353261166,
          0.25254184656399725,
          0.25037814842199724,
          0.21813491002406116,
          0.20720326455557764,
          0.37171194440184185,
          0.16928994669267577,
          0.22932655603509344,
          0.3487889662536574,
          0.23696506273781165,
          0.08744282690640531,
          0.28131284441420223,
          0.3396409231177795,
          0.26546916192188863,
          0.20830088026160615,
          0.29434559932255233,
          0.22589618660804378,
          0.13220704984896187,
          0.11860244448209706,
          0.17477044255134094,
          0.16433551058849516,
          0.3406724537133903,
          0.23392246530726846,
          0.15324525604467226,
          0.21721638970864204,
          0.3621583165594443,
          0.39789962062121675,
          0.41595509520253937,
          0.11201964351200733,
          0.13532267659854463,
          0.37776218392615235,
          0.31017664795358674,
          0.12823884879828146,
          0.2265008691274934,
          0.2328844565674652,
          0.2923422241485419,
          0.15639009196532844,
          0.2478477948201307,
          0.1741651239237456,
          0.08174393806652225,
          0.22499890577877696,
          0.3064583178184911,
          0.33070830417811736,
          0.22659971347102303,
          0.26836876906995816,
          0.18065448023721914,
          0.3009467700598148,
          0.1339193106851722,
          0.20296466624396847,
          0.2699780459820784,
          0.33438695576413,
          0.2298240074059969,
          0.13897250854983134,
          0.21935147694415746,
          0.21070853327796596,
          0.12032952519163526,
          0.2620260306382403,
          0.12262595935769732,
          0.03179563439218505,
          0.15123430240402386,
          0.3738482729060283,
          0.16215510813221967,
          0.22328005915447835,
          0.1684622159299103,
          0.16464141839322993,
          0.1327631846351049,
          0.18167824600769766,
          0.12583541054501546,
          0.24271328612060078,
          0.18219822993704932,
          0.08562134048209541,
          0.09547677254209475,
          0.2060403682090573,
          0.05007274186779001,
          0.1433836963559154,
          0.31996732649179555,
          0.007377671919978485,
          0.1227133890752592,
          0.04587012201454577,
          0.1391320928115874,
          0.06960827157397556,
          0.0788326335590655,
          0.031175310373735526,
          0.11042553160645519,
          0.0817539206922912,
          0.19908765740138862,
          0.14501454275000547,
          0.05841999212577839,
          0.12375033886823944,
          0,
          0.22061564601321482,
          0.1064931621811383,
          0.06305850718822248,
          0.09383712121373117,
          0.08370810815639695,
          0.17541992006878648,
          0.14404383028263912,
          0.29911704585000626,
          0.14018604125762013,
          0.13579919257730094,
          0.14848860651621842,
          0.12382009211259365,
          0.1428905100379883,
          0.21458547198382005,
          0.30664937782809754,
          0.29532474282984855,
          0.29793971361611693,
          0.1422712870147586,
          0.3332249446204576,
          0.2014523347697818,
          0.2788924515746036,
          0.26195509953419704,
          0.32314627341742136,
          0.14747627118190482,
          0.13268068265325172,
          0.09463153753635462,
          0.3190217137215942,
          0.03345097969594754,
          0.2283050147929952,
          0.2146377981860561,
          0.3085496526880556,
          0.17546455999229532,
          0.26837165678565145,
          0.11817990855311661,
          0.1261828878993304,
          0.25535680356172175,
          0.2436398699729624,
          0.29496790852990784,
          0.1769829052281811,
          0.1096695989856733,
          0.20665037439191913,
          0.14817086696542037,
          0.10525876085405628,
          0.2680660290232388,
          0.19117974662087234,
          0.3222632913977503,
          0.2812765401648596,
          0.36761532670660435,
          0.26020813699713996,
          0.12467588799365459,
          0.2705255818710918,
          0.3037935514706951,
          0.2560888743901382,
          0.2705910300323961,
          0.12915653823738127,
          0.2070503521970261,
          0.08531351594324443,
          0.15670664776966198,
          0.19106372601186256,
          0.21213052175347225,
          0.04570522199447602,
          0.2384220583537185,
          0.22340242066171384,
          0.27923703616741763,
          0.2485643440715748,
          0.1842373591991796,
          0.10304565887339229,
          0.2198724707078048,
          0.18171158651784575,
          0.08735696744417071,
          0.19353561602750735,
          0.3251240465000228,
          0.17011168370877894,
          0.2289393888627254,
          0.1425969641255026,
          0.19140659536647758,
          0.2837085757009298,
          0.28491883418416264,
          0.18221188523798165,
          0.19518929083256498,
          0.10304561917970584,
          0.09584834564605449,
          0.2046612722938857,
          0.10209582225764341,
          0.2992472512333598,
          0.1722610123998769,
          0.23671319385060807,
          0.1822847904301541,
          0.21637586580527063
         ]
        },
        {
         "marker": {
          "color": "yellow",
          "size": 15,
          "symbol": "x"
         },
         "mode": "markers",
         "name": "Centroids",
         "type": "scatter",
         "x": [
          0.7283627439523197,
          0.22557911508763334
         ],
         "y": [
          0.4694069133675341,
          0.19126129082393473
         ]
        }
       ],
       "layout": {
        "legend": {
         "title": {
          "text": "Clusters"
         }
        },
        "template": {
         "data": {
          "bar": [
           {
            "error_x": {
             "color": "#2a3f5f"
            },
            "error_y": {
             "color": "#2a3f5f"
            },
            "marker": {
             "line": {
              "color": "#E5ECF6",
              "width": 0.5
             },
             "pattern": {
              "fillmode": "overlay",
              "size": 10,
              "solidity": 0.2
             }
            },
            "type": "bar"
           }
          ],
          "barpolar": [
           {
            "marker": {
             "line": {
              "color": "#E5ECF6",
              "width": 0.5
             },
             "pattern": {
              "fillmode": "overlay",
              "size": 10,
              "solidity": 0.2
             }
            },
            "type": "barpolar"
           }
          ],
          "carpet": [
           {
            "aaxis": {
             "endlinecolor": "#2a3f5f",
             "gridcolor": "white",
             "linecolor": "white",
             "minorgridcolor": "white",
             "startlinecolor": "#2a3f5f"
            },
            "baxis": {
             "endlinecolor": "#2a3f5f",
             "gridcolor": "white",
             "linecolor": "white",
             "minorgridcolor": "white",
             "startlinecolor": "#2a3f5f"
            },
            "type": "carpet"
           }
          ],
          "choropleth": [
           {
            "colorbar": {
             "outlinewidth": 0,
             "ticks": ""
            },
            "type": "choropleth"
           }
          ],
          "contour": [
           {
            "colorbar": {
             "outlinewidth": 0,
             "ticks": ""
            },
            "colorscale": [
             [
              0,
              "#0d0887"
             ],
             [
              0.1111111111111111,
              "#46039f"
             ],
             [
              0.2222222222222222,
              "#7201a8"
             ],
             [
              0.3333333333333333,
              "#9c179e"
             ],
             [
              0.4444444444444444,
              "#bd3786"
             ],
             [
              0.5555555555555556,
              "#d8576b"
             ],
             [
              0.6666666666666666,
              "#ed7953"
             ],
             [
              0.7777777777777778,
              "#fb9f3a"
             ],
             [
              0.8888888888888888,
              "#fdca26"
             ],
             [
              1,
              "#f0f921"
             ]
            ],
            "type": "contour"
           }
          ],
          "contourcarpet": [
           {
            "colorbar": {
             "outlinewidth": 0,
             "ticks": ""
            },
            "type": "contourcarpet"
           }
          ],
          "heatmap": [
           {
            "colorbar": {
             "outlinewidth": 0,
             "ticks": ""
            },
            "colorscale": [
             [
              0,
              "#0d0887"
             ],
             [
              0.1111111111111111,
              "#46039f"
             ],
             [
              0.2222222222222222,
              "#7201a8"
             ],
             [
              0.3333333333333333,
              "#9c179e"
             ],
             [
              0.4444444444444444,
              "#bd3786"
             ],
             [
              0.5555555555555556,
              "#d8576b"
             ],
             [
              0.6666666666666666,
              "#ed7953"
             ],
             [
              0.7777777777777778,
              "#fb9f3a"
             ],
             [
              0.8888888888888888,
              "#fdca26"
             ],
             [
              1,
              "#f0f921"
             ]
            ],
            "type": "heatmap"
           }
          ],
          "heatmapgl": [
           {
            "colorbar": {
             "outlinewidth": 0,
             "ticks": ""
            },
            "colorscale": [
             [
              0,
              "#0d0887"
             ],
             [
              0.1111111111111111,
              "#46039f"
             ],
             [
              0.2222222222222222,
              "#7201a8"
             ],
             [
              0.3333333333333333,
              "#9c179e"
             ],
             [
              0.4444444444444444,
              "#bd3786"
             ],
             [
              0.5555555555555556,
              "#d8576b"
             ],
             [
              0.6666666666666666,
              "#ed7953"
             ],
             [
              0.7777777777777778,
              "#fb9f3a"
             ],
             [
              0.8888888888888888,
              "#fdca26"
             ],
             [
              1,
              "#f0f921"
             ]
            ],
            "type": "heatmapgl"
           }
          ],
          "histogram": [
           {
            "marker": {
             "pattern": {
              "fillmode": "overlay",
              "size": 10,
              "solidity": 0.2
             }
            },
            "type": "histogram"
           }
          ],
          "histogram2d": [
           {
            "colorbar": {
             "outlinewidth": 0,
             "ticks": ""
            },
            "colorscale": [
             [
              0,
              "#0d0887"
             ],
             [
              0.1111111111111111,
              "#46039f"
             ],
             [
              0.2222222222222222,
              "#7201a8"
             ],
             [
              0.3333333333333333,
              "#9c179e"
             ],
             [
              0.4444444444444444,
              "#bd3786"
             ],
             [
              0.5555555555555556,
              "#d8576b"
             ],
             [
              0.6666666666666666,
              "#ed7953"
             ],
             [
              0.7777777777777778,
              "#fb9f3a"
             ],
             [
              0.8888888888888888,
              "#fdca26"
             ],
             [
              1,
              "#f0f921"
             ]
            ],
            "type": "histogram2d"
           }
          ],
          "histogram2dcontour": [
           {
            "colorbar": {
             "outlinewidth": 0,
             "ticks": ""
            },
            "colorscale": [
             [
              0,
              "#0d0887"
             ],
             [
              0.1111111111111111,
              "#46039f"
             ],
             [
              0.2222222222222222,
              "#7201a8"
             ],
             [
              0.3333333333333333,
              "#9c179e"
             ],
             [
              0.4444444444444444,
              "#bd3786"
             ],
             [
              0.5555555555555556,
              "#d8576b"
             ],
             [
              0.6666666666666666,
              "#ed7953"
             ],
             [
              0.7777777777777778,
              "#fb9f3a"
             ],
             [
              0.8888888888888888,
              "#fdca26"
             ],
             [
              1,
              "#f0f921"
             ]
            ],
            "type": "histogram2dcontour"
           }
          ],
          "mesh3d": [
           {
            "colorbar": {
             "outlinewidth": 0,
             "ticks": ""
            },
            "type": "mesh3d"
           }
          ],
          "parcoords": [
           {
            "line": {
             "colorbar": {
              "outlinewidth": 0,
              "ticks": ""
             }
            },
            "type": "parcoords"
           }
          ],
          "pie": [
           {
            "automargin": true,
            "type": "pie"
           }
          ],
          "scatter": [
           {
            "fillpattern": {
             "fillmode": "overlay",
             "size": 10,
             "solidity": 0.2
            },
            "type": "scatter"
           }
          ],
          "scatter3d": [
           {
            "line": {
             "colorbar": {
              "outlinewidth": 0,
              "ticks": ""
             }
            },
            "marker": {
             "colorbar": {
              "outlinewidth": 0,
              "ticks": ""
             }
            },
            "type": "scatter3d"
           }
          ],
          "scattercarpet": [
           {
            "marker": {
             "colorbar": {
              "outlinewidth": 0,
              "ticks": ""
             }
            },
            "type": "scattercarpet"
           }
          ],
          "scattergeo": [
           {
            "marker": {
             "colorbar": {
              "outlinewidth": 0,
              "ticks": ""
             }
            },
            "type": "scattergeo"
           }
          ],
          "scattergl": [
           {
            "marker": {
             "colorbar": {
              "outlinewidth": 0,
              "ticks": ""
             }
            },
            "type": "scattergl"
           }
          ],
          "scattermapbox": [
           {
            "marker": {
             "colorbar": {
              "outlinewidth": 0,
              "ticks": ""
             }
            },
            "type": "scattermapbox"
           }
          ],
          "scatterpolar": [
           {
            "marker": {
             "colorbar": {
              "outlinewidth": 0,
              "ticks": ""
             }
            },
            "type": "scatterpolar"
           }
          ],
          "scatterpolargl": [
           {
            "marker": {
             "colorbar": {
              "outlinewidth": 0,
              "ticks": ""
             }
            },
            "type": "scatterpolargl"
           }
          ],
          "scatterternary": [
           {
            "marker": {
             "colorbar": {
              "outlinewidth": 0,
              "ticks": ""
             }
            },
            "type": "scatterternary"
           }
          ],
          "surface": [
           {
            "colorbar": {
             "outlinewidth": 0,
             "ticks": ""
            },
            "colorscale": [
             [
              0,
              "#0d0887"
             ],
             [
              0.1111111111111111,
              "#46039f"
             ],
             [
              0.2222222222222222,
              "#7201a8"
             ],
             [
              0.3333333333333333,
              "#9c179e"
             ],
             [
              0.4444444444444444,
              "#bd3786"
             ],
             [
              0.5555555555555556,
              "#d8576b"
             ],
             [
              0.6666666666666666,
              "#ed7953"
             ],
             [
              0.7777777777777778,
              "#fb9f3a"
             ],
             [
              0.8888888888888888,
              "#fdca26"
             ],
             [
              1,
              "#f0f921"
             ]
            ],
            "type": "surface"
           }
          ],
          "table": [
           {
            "cells": {
             "fill": {
              "color": "#EBF0F8"
             },
             "line": {
              "color": "white"
             }
            },
            "header": {
             "fill": {
              "color": "#C8D4E3"
             },
             "line": {
              "color": "white"
             }
            },
            "type": "table"
           }
          ]
         },
         "layout": {
          "annotationdefaults": {
           "arrowcolor": "#2a3f5f",
           "arrowhead": 0,
           "arrowwidth": 1
          },
          "autotypenumbers": "strict",
          "coloraxis": {
           "colorbar": {
            "outlinewidth": 0,
            "ticks": ""
           }
          },
          "colorscale": {
           "diverging": [
            [
             0,
             "#8e0152"
            ],
            [
             0.1,
             "#c51b7d"
            ],
            [
             0.2,
             "#de77ae"
            ],
            [
             0.3,
             "#f1b6da"
            ],
            [
             0.4,
             "#fde0ef"
            ],
            [
             0.5,
             "#f7f7f7"
            ],
            [
             0.6,
             "#e6f5d0"
            ],
            [
             0.7,
             "#b8e186"
            ],
            [
             0.8,
             "#7fbc41"
            ],
            [
             0.9,
             "#4d9221"
            ],
            [
             1,
             "#276419"
            ]
           ],
           "sequential": [
            [
             0,
             "#0d0887"
            ],
            [
             0.1111111111111111,
             "#46039f"
            ],
            [
             0.2222222222222222,
             "#7201a8"
            ],
            [
             0.3333333333333333,
             "#9c179e"
            ],
            [
             0.4444444444444444,
             "#bd3786"
            ],
            [
             0.5555555555555556,
             "#d8576b"
            ],
            [
             0.6666666666666666,
             "#ed7953"
            ],
            [
             0.7777777777777778,
             "#fb9f3a"
            ],
            [
             0.8888888888888888,
             "#fdca26"
            ],
            [
             1,
             "#f0f921"
            ]
           ],
           "sequentialminus": [
            [
             0,
             "#0d0887"
            ],
            [
             0.1111111111111111,
             "#46039f"
            ],
            [
             0.2222222222222222,
             "#7201a8"
            ],
            [
             0.3333333333333333,
             "#9c179e"
            ],
            [
             0.4444444444444444,
             "#bd3786"
            ],
            [
             0.5555555555555556,
             "#d8576b"
            ],
            [
             0.6666666666666666,
             "#ed7953"
            ],
            [
             0.7777777777777778,
             "#fb9f3a"
            ],
            [
             0.8888888888888888,
             "#fdca26"
            ],
            [
             1,
             "#f0f921"
            ]
           ]
          },
          "colorway": [
           "#636efa",
           "#EF553B",
           "#00cc96",
           "#ab63fa",
           "#FFA15A",
           "#19d3f3",
           "#FF6692",
           "#B6E880",
           "#FF97FF",
           "#FECB52"
          ],
          "font": {
           "color": "#2a3f5f"
          },
          "geo": {
           "bgcolor": "white",
           "lakecolor": "white",
           "landcolor": "#E5ECF6",
           "showlakes": true,
           "showland": true,
           "subunitcolor": "white"
          },
          "hoverlabel": {
           "align": "left"
          },
          "hovermode": "closest",
          "mapbox": {
           "style": "light"
          },
          "paper_bgcolor": "white",
          "plot_bgcolor": "#E5ECF6",
          "polar": {
           "angularaxis": {
            "gridcolor": "white",
            "linecolor": "white",
            "ticks": ""
           },
           "bgcolor": "#E5ECF6",
           "radialaxis": {
            "gridcolor": "white",
            "linecolor": "white",
            "ticks": ""
           }
          },
          "scene": {
           "xaxis": {
            "backgroundcolor": "#E5ECF6",
            "gridcolor": "white",
            "gridwidth": 2,
            "linecolor": "white",
            "showbackground": true,
            "ticks": "",
            "zerolinecolor": "white"
           },
           "yaxis": {
            "backgroundcolor": "#E5ECF6",
            "gridcolor": "white",
            "gridwidth": 2,
            "linecolor": "white",
            "showbackground": true,
            "ticks": "",
            "zerolinecolor": "white"
           },
           "zaxis": {
            "backgroundcolor": "#E5ECF6",
            "gridcolor": "white",
            "gridwidth": 2,
            "linecolor": "white",
            "showbackground": true,
            "ticks": "",
            "zerolinecolor": "white"
           }
          },
          "shapedefaults": {
           "line": {
            "color": "#2a3f5f"
           }
          },
          "ternary": {
           "aaxis": {
            "gridcolor": "white",
            "linecolor": "white",
            "ticks": ""
           },
           "baxis": {
            "gridcolor": "white",
            "linecolor": "white",
            "ticks": ""
           },
           "bgcolor": "#E5ECF6",
           "caxis": {
            "gridcolor": "white",
            "linecolor": "white",
            "ticks": ""
           }
          },
          "title": {
           "x": 0.05
          },
          "xaxis": {
           "automargin": true,
           "gridcolor": "white",
           "linecolor": "white",
           "ticks": "",
           "title": {
            "standoff": 15
           },
           "zerolinecolor": "white",
           "zerolinewidth": 2
          },
          "yaxis": {
           "automargin": true,
           "gridcolor": "white",
           "linecolor": "white",
           "ticks": "",
           "title": {
            "standoff": 15
           },
           "zerolinecolor": "white",
           "zerolinewidth": 2
          }
         }
        },
        "title": {
         "text": "Clusters of customers"
        },
        "xaxis": {
         "title": {
          "text": "tarifa_media"
         }
        },
        "yaxis": {
         "title": {
          "text": "consumo_total"
         }
        }
       }
      }
     },
     "metadata": {},
     "output_type": "display_data"
    }
   ],
   "source": [
    "# Supongamos que ya tienes 'dt_dos' cargado\n",
    "# Calculamos variables adicionales\n",
    "# Calculamos variables adicionales\n",
    "dt_unico['consumo_total'] = dt_unico[['consumo_unico']].sum(axis=1)\n",
    "dt_unico['gasto_total'] = dt_unico[['consumo_euros_unico']].sum(axis=1)\n",
    "dt_unico['tarifa_media'] = dt_unico[['termino_consumo_euros/kwh/hora']].mean(axis=1)\n",
    "\n",
    "X = dt_2[['consumo_total', 'gasto_total', 'tarifa_media']]\n",
    "\n",
    "# Normalizar las variables\n",
    "scaler = MinMaxScaler()\n",
    "X_scaled = scaler.fit_transform(X)\n",
    "\n",
    "# Método del codo para determinar el número óptimo de clústeres\n",
    "wcss = []\n",
    "for i in range(1, 11):\n",
    "    kmeans = KMeans(n_clusters=i, init='k-means++', random_state=0)\n",
    "    kmeans.fit(X_scaled)\n",
    "    wcss.append(kmeans.inertia_)\n",
    "\n",
    "# Gráfico del método del codo con plotly\n",
    "fig_elbow = go.Figure()\n",
    "fig_elbow.add_trace(go.Scatter(x=list(range(1, 11)), y=wcss, mode='lines+markers'))\n",
    "fig_elbow.update_layout(title='The Elbow Method',\n",
    "                        xaxis_title='Number of clusters',\n",
    "                        yaxis_title='WCSS')\n",
    "fig_elbow.show()\n",
    "\n",
    "# Aplicar KMeans con el número óptimo de clústeres (4)\n",
    "kmeansmodel = KMeans(n_clusters=2, init='k-means++', random_state=0)\n",
    "y_kmeans = kmeansmodel.fit_predict(X_scaled)\n",
    "\n",
    "# Definir colores y etiquetas para los clusters\n",
    "colors = ['red', 'blue']\n",
    "labels = ['Cluster 1', 'Cluster 2']\n",
    "\n",
    "# Crear trazas para cada cluster\n",
    "fig_clusters = go.Figure()\n",
    "\n",
    "for i in range(2):\n",
    "    fig_clusters.add_trace(go.Scatter(\n",
    "        x=X_scaled[y_kmeans == i, 0],\n",
    "        y=X_scaled[y_kmeans == i, 1],\n",
    "        mode='markers',\n",
    "        marker=dict(size=10, color=colors[i]),\n",
    "        name=labels[i]\n",
    "    ))\n",
    "\n",
    "# Agregar los centroides\n",
    "centroids = kmeansmodel.cluster_centers_\n",
    "fig_clusters.add_trace(go.Scatter(\n",
    "    x=centroids[:, 0],\n",
    "    y=centroids[:, 1],\n",
    "    mode='markers',\n",
    "    marker=dict(size=15, color='yellow', symbol='x'),\n",
    "    name='Centroids'\n",
    "))\n",
    "\n",
    "# Configurar el layout\n",
    "fig_clusters.update_layout(\n",
    "    title='Clusters of customers',\n",
    "    xaxis_title='tarifa_media',\n",
    "    yaxis_title='consumo_total',\n",
    "    legend_title='Clusters'\n",
    ")\n",
    "\n",
    "fig_clusters.show()"
   ]
  },
  {
   "cell_type": "code",
   "execution_count": 446,
   "metadata": {},
   "outputs": [
    {
     "data": {
      "application/vnd.plotly.v1+json": {
       "config": {
        "plotlyServerURL": "https://plot.ly"
       },
       "data": [
        {
         "marker": {
          "color": "red",
          "size": 10
         },
         "mode": "markers",
         "name": "Cluster 1",
         "type": "scatter",
         "x": [
          0.12276666666666668,
          0.12276666666666668,
          0.12276666666666668,
          0.16366666666666665,
          0.16366666666666665,
          0.16366666666666665,
          0.16366666666666665,
          0.16366666666666665,
          0.16366666666666665,
          0.16366666666666665,
          0.16366666666666665,
          0.16366666666666665,
          0.16366666666666665,
          0.16366666666666665,
          0.13261766666666666,
          0.13261766666666666,
          0.13261766666666666,
          0.13261766666666666,
          0.13261766666666666,
          0.13261766666666666,
          0.13261766666666666,
          0.13261766666666666,
          0.13261766666666666,
          0.13261766666666666,
          0.13261766666666666,
          0.13261766666666666,
          0.13261766666666666,
          0.157,
          0.157,
          0.157,
          0.157,
          0.157,
          0.157,
          0.157,
          0.157,
          0.157,
          0.157,
          0.157,
          0.157,
          0.157,
          0.157,
          0.157,
          0.157,
          0.157,
          0.157,
          0.157,
          0.157,
          0.151,
          0.151,
          0.151,
          0.151,
          0.151,
          0.151,
          0.151,
          0.151,
          0.13899999999999998,
          0.13899999999999998,
          0.13899999999999998,
          0.13899999999999998,
          0.13899999999999998,
          0.13899999999999998,
          0.13899999999999998,
          0.13899999999999998,
          0.13899999999999998,
          0.13899999999999998,
          0.13899999999999998,
          0.10983333333333334,
          0.10983333333333334,
          0.10983333333333334,
          0.10983333333333334,
          0.10983333333333334,
          0.10983333333333334,
          0.10983333333333334,
          0.136,
          0.136,
          0.136,
          0.136,
          0.136,
          0.136,
          0.136,
          0.136,
          0.136,
          0.136,
          0.13033333333333333,
          0.13033333333333333,
          0.13033333333333333,
          0.13033333333333333,
          0.21283333333333335,
          0.21283333333333335,
          0.21283333333333335,
          0.21283333333333335,
          0.21283333333333335,
          0.21283333333333335,
          0.21283333333333335,
          0.21283333333333335,
          0.21283333333333335,
          0.21283333333333335,
          0.21283333333333335,
          0.21283333333333335,
          0.21283333333333335,
          0.21283333333333335,
          0.21283333333333335,
          0.15713333333333332,
          0.15713333333333332,
          0.15713333333333332,
          0.15713333333333332,
          0.15713333333333332,
          0.15713333333333332,
          0.15713333333333332,
          0.15713333333333332,
          0.15713333333333332,
          0.15713333333333332,
          0.15713333333333332,
          0.15713333333333332,
          0.14383866666666667,
          0.14383866666666667,
          0.14383866666666667,
          0.14383866666666667,
          0.14383866666666667,
          0.14383866666666667,
          0.14383866666666667,
          0.14383866666666667,
          0.14383866666666667,
          0.14383866666666667,
          0.16133333333333333,
          0.16133333333333333,
          0.16133333333333333,
          0.16133333333333333,
          0.16133333333333333,
          0.16133333333333333,
          0.16133333333333333,
          0.19699199999999997,
          0.19699199999999997,
          0.19699199999999997,
          0.19699199999999997,
          0.19699199999999997,
          0.19699199999999997,
          0.19699199999999997,
          0.19699199999999997,
          0.19699199999999997,
          0.19699199999999997,
          0.19699199999999997,
          0.19699199999999997,
          0.19699199999999997,
          0.119272,
          0.119272,
          0.119272,
          0.119272,
          0.119272,
          0.119272,
          0.119272,
          0.119272,
          0.119272,
          0.119272,
          0.1878,
          0.1878,
          0.1878,
          0.1878,
          0.1878,
          0.1878,
          0.1878,
          0.1878,
          0.1878,
          0.1878,
          0.12066666666666666,
          0.12066666666666666,
          0.12066666666666666,
          0.12066666666666666,
          0.12066666666666666,
          0.12066666666666666,
          0.12066666666666666,
          0.12066666666666666,
          0.12066666666666666,
          0.19473600000000002,
          0.19473600000000002,
          0.19473600000000002,
          0.19473600000000002,
          0.19473600000000002,
          0.19473600000000002,
          0.19473600000000002,
          0.19473600000000002,
          0.19473600000000002,
          0.19473600000000002,
          0.19473600000000002,
          0.14958333333333332,
          0.14958333333333332,
          0.14958333333333332,
          0.14958333333333332,
          0.14958333333333332,
          0.14958333333333332,
          0.14958333333333332,
          0.14958333333333332,
          0.14958333333333332,
          0.14958333333333332,
          0.14958333333333332,
          0.14958333333333332,
          0.14958333333333332,
          0.14958333333333332,
          0.14958333333333332,
          0.14958333333333332,
          0.14958333333333332,
          0.14958333333333332,
          0.14958333333333332,
          0.14958333333333332,
          0.14958333333333332,
          0.14958333333333332,
          0.14958333333333332,
          0.14958333333333332,
          0.14958333333333332,
          0.22481900000000002,
          0.22481900000000002,
          0.22481900000000002,
          0.22481900000000002,
          0.22481900000000002,
          0.22481900000000002,
          0.22481900000000002,
          0.22481900000000002,
          0.22481900000000002,
          0.22481900000000002,
          0.22481900000000002,
          0.22481900000000002,
          0.22481900000000002,
          0.156892,
          0.156892,
          0.156892,
          0.156892,
          0.156892,
          0.156892,
          0.156892,
          0.156892,
          0.156892,
          0.156892,
          0.156892,
          0.156892,
          0.156892,
          0.156892,
          0.163045,
          0.163045,
          0.163045,
          0.163045,
          0.163045,
          0.163045,
          0.163045,
          0.163045,
          0.163045,
          0.163045,
          0.163045,
          0.163045,
          0.1641443333333333,
          0.1641443333333333,
          0.1641443333333333,
          0.1641443333333333,
          0.1641443333333333,
          0.1641443333333333,
          0.1641443333333333,
          0.1641443333333333,
          0.1641443333333333,
          0.184184,
          0.184184,
          0.184184,
          0.184184,
          0.184184,
          0.184184,
          0.184184,
          0.184184,
          0.184184,
          0.184184,
          0.15958333333333333,
          0.15958333333333333,
          0.15958333333333333,
          0.15958333333333333,
          0.15958333333333333,
          0.15958333333333333,
          0.15958333333333333,
          0.15958333333333333,
          0.15958333333333333,
          0.15958333333333333,
          0.15958333333333333,
          0.16449266666666668,
          0.16449266666666668,
          0.16449266666666668,
          0.16449266666666668,
          0.16449266666666668,
          0.16449266666666668,
          0.16449266666666668,
          0.16449266666666668,
          0.16449266666666668,
          0.16449266666666668,
          0.14271066666666668,
          0.14271066666666668,
          0.14271066666666668,
          0.14271066666666668,
          0.13634333333333334,
          0.13634333333333334,
          0.13634333333333334,
          0.13634333333333334,
          0.13634333333333334,
          0.13634333333333334,
          0.13634333333333334,
          0.13634333333333334,
          0.13634333333333334,
          0.11942566666666665,
          0.11942566666666665,
          0.11942566666666665,
          0.11942566666666665,
          0.11942566666666665,
          0.11942566666666665,
          0.11942566666666665,
          0.12147000000000001,
          0.12147000000000001,
          0.12147000000000001,
          0.12147000000000001,
          0.12147000000000001,
          0.12147000000000001,
          0.15960333333333332,
          0.15960333333333332,
          0.15960333333333332,
          0.15960333333333332,
          0.15960333333333332,
          0.15960333333333332,
          0.15960333333333332,
          0.15960333333333332,
          0.15960333333333332,
          0.18271099999999998,
          0.18271099999999998,
          0.18271099999999998,
          0.18271099999999998,
          0.18271099999999998,
          0.18271099999999998,
          0.18271099999999998,
          0.18271099999999998,
          0.18271099999999998,
          0.18271099999999998,
          0.18271099999999998,
          0.13212566666666667,
          0.13212566666666667,
          0.13212566666666667,
          0.13212566666666667,
          0.13212566666666667,
          0.13212566666666667,
          0.13212566666666667,
          0.13212566666666667,
          0.13212566666666667,
          0.13212566666666667,
          0.14837233333333333,
          0.14837233333333333,
          0.14837233333333333,
          0.14837233333333333,
          0.14837233333333333,
          0.14837233333333333,
          0.14837233333333333,
          0.178405,
          0.178405,
          0.178405,
          0.178405,
          0.178405,
          0.178405,
          0.178405,
          0.178405,
          0.178405,
          0.178405,
          0.178405,
          0.178405,
          0.178405,
          0.178405,
          0.15633333333333332,
          0.15633333333333332,
          0.15633333333333332,
          0.15633333333333332,
          0.15633333333333332,
          0.15633333333333332,
          0.15633333333333332,
          0.15633333333333332,
          0.15633333333333332,
          0.15633333333333332,
          0.15633333333333332,
          0.15633333333333332,
          0.15633333333333332,
          0.13683133333333333,
          0.13683133333333333,
          0.13683133333333333,
          0.13683133333333333,
          0.13683133333333333,
          0.13683133333333333,
          0.18411633333333333,
          0.18411633333333333,
          0.18411633333333333,
          0.18411633333333333,
          0.18411633333333333,
          0.18411633333333333,
          0.18411633333333333,
          0.18411633333333333,
          0.18411633333333333,
          0.18411633333333333,
          0.18411633333333333,
          0.18411633333333333,
          0.13415366666666667,
          0.13415366666666667,
          0.13415366666666667,
          0.13415366666666667,
          0.13415366666666667,
          0.13415366666666667,
          0.13415366666666667
         ],
         "y": [
          264,
          253,
          231,
          245,
          203.00000000000003,
          278,
          224,
          265,
          242,
          252,
          244,
          293,
          203,
          203,
          278,
          278,
          297,
          233,
          234,
          278,
          299,
          291,
          256,
          254,
          263,
          256,
          284,
          256,
          235,
          256,
          272,
          229,
          254,
          194,
          214,
          263,
          247,
          233,
          299,
          206,
          238.99999999999997,
          240,
          289,
          210,
          203.00000000000003,
          270,
          199.00000000000003,
          232,
          219,
          226,
          205,
          221,
          236,
          250,
          200,
          248,
          263,
          281,
          281,
          267,
          242,
          248,
          274,
          236.00000000000003,
          279,
          216.00000000000003,
          288,
          240,
          278,
          283,
          257,
          272,
          243,
          267,
          214,
          274,
          293,
          212,
          265,
          278,
          231,
          256,
          230,
          261,
          223,
          277,
          286,
          196,
          191,
          261,
          195,
          187,
          177,
          219,
          243,
          295,
          264,
          281,
          241,
          154,
          275,
          173,
          260,
          250,
          246,
          211,
          224,
          246,
          287,
          228,
          296,
          247,
          228.99999999999997,
          294,
          218,
          239,
          265,
          236,
          271,
          198,
          257,
          219,
          227,
          213,
          293,
          253,
          285,
          208,
          197,
          245,
          227,
          199,
          265,
          264,
          252,
          221,
          175,
          186,
          216,
          205,
          185,
          233,
          267,
          197,
          298,
          237,
          272,
          244.00000000000003,
          253,
          289,
          229,
          292,
          280,
          214,
          248,
          263,
          212,
          286,
          197,
          210,
          251,
          249,
          247,
          180,
          289,
          253,
          293,
          270,
          271,
          278,
          286,
          288,
          248,
          217,
          297,
          299,
          188,
          242,
          253,
          208,
          298,
          243.99999999999997,
          250,
          185,
          234,
          216,
          236,
          213.99999999999997,
          275,
          215,
          266,
          245,
          286,
          258,
          251,
          207,
          287,
          197,
          230,
          270,
          267,
          282,
          207,
          219,
          192,
          252,
          240,
          260,
          269,
          207,
          225,
          293,
          154,
          269,
          257,
          239.99999999999997,
          259,
          195,
          221.99999999999997,
          289,
          161,
          284,
          283,
          220,
          257,
          252,
          202,
          232,
          276,
          272,
          241,
          219,
          257,
          245,
          289,
          252,
          275,
          292,
          280,
          242,
          220,
          295,
          238.99999999999997,
          286,
          270,
          223,
          297,
          283,
          187,
          252,
          298,
          247,
          191.99999999999997,
          216,
          209,
          206,
          268,
          219,
          276.00000000000006,
          198,
          220.99999999999997,
          222,
          262,
          277,
          181,
          161,
          244.00000000000003,
          259,
          219,
          224,
          188,
          241,
          200,
          283,
          222,
          236,
          294,
          252,
          269,
          238,
          286,
          223,
          232,
          275,
          245,
          297,
          275,
          296,
          214,
          285,
          246,
          267,
          196,
          268,
          280,
          269,
          290,
          254,
          265,
          287,
          232,
          269,
          259,
          280,
          257,
          258,
          293,
          254,
          238,
          233,
          259,
          278,
          273,
          240,
          246,
          284,
          296,
          230,
          223,
          265,
          261,
          288,
          262,
          273,
          243.99999999999997,
          192,
          273,
          298,
          230.00000000000003,
          191.99999999999997,
          291,
          271,
          280,
          221,
          230,
          247,
          252,
          298,
          225,
          265,
          275,
          287,
          229,
          238,
          209,
          265,
          201,
          268,
          235,
          278,
          243.99999999999997,
          220,
          259,
          179,
          185,
          191,
          246.99999999999997,
          260,
          267,
          259,
          196,
          257,
          260,
          215,
          253,
          249,
          202,
          293.00000000000006,
          265,
          273,
          221,
          242,
          205,
          218,
          271,
          294,
          222,
          233,
          259,
          213,
          277,
          226,
          231,
          233,
          253,
          226,
          226,
          287,
          205,
          186,
          240,
          221,
          246,
          199,
          272,
          235,
          282,
          297,
          245,
          249,
          204,
          255,
          288
         ]
        },
        {
         "marker": {
          "color": "blue",
          "size": 10
         },
         "mode": "markers",
         "name": "Cluster 2",
         "type": "scatter",
         "x": [
          0.12276666666666668,
          0.12276666666666668,
          0.12276666666666668,
          0.12276666666666668,
          0.12276666666666668,
          0.12276666666666668,
          0.12276666666666668,
          0.12276666666666668,
          0.12276666666666668,
          0.12276666666666668,
          0.12276666666666668,
          0.12276666666666668,
          0.12276666666666668,
          0.12276666666666668,
          0.12276666666666668,
          0.12276666666666668,
          0.12276666666666668,
          0.16366666666666665,
          0.16366666666666665,
          0.16366666666666665,
          0.16366666666666665,
          0.16366666666666665,
          0.16366666666666665,
          0.16366666666666665,
          0.16366666666666665,
          0.16366666666666665,
          0.13261766666666666,
          0.13261766666666666,
          0.13261766666666666,
          0.13261766666666666,
          0.13261766666666666,
          0.13261766666666666,
          0.13261766666666666,
          0.157,
          0.157,
          0.157,
          0.157,
          0.157,
          0.157,
          0.157,
          0.157,
          0.157,
          0.157,
          0.157,
          0.157,
          0.157,
          0.157,
          0.157,
          0.157,
          0.157,
          0.157,
          0.157,
          0.157,
          0.151,
          0.151,
          0.151,
          0.151,
          0.151,
          0.151,
          0.151,
          0.151,
          0.151,
          0.151,
          0.151,
          0.151,
          0.13899999999999998,
          0.13899999999999998,
          0.13899999999999998,
          0.13899999999999998,
          0.13899999999999998,
          0.13899999999999998,
          0.13899999999999998,
          0.13899999999999998,
          0.13899999999999998,
          0.10983333333333334,
          0.10983333333333334,
          0.10983333333333334,
          0.10983333333333334,
          0.10983333333333334,
          0.10983333333333334,
          0.10983333333333334,
          0.10983333333333334,
          0.10983333333333334,
          0.10983333333333334,
          0.10983333333333334,
          0.10983333333333334,
          0.10983333333333334,
          0.136,
          0.136,
          0.136,
          0.136,
          0.136,
          0.136,
          0.136,
          0.136,
          0.136,
          0.136,
          0.13033333333333333,
          0.13033333333333333,
          0.13033333333333333,
          0.13033333333333333,
          0.13033333333333333,
          0.13033333333333333,
          0.13033333333333333,
          0.13033333333333333,
          0.13033333333333333,
          0.13033333333333333,
          0.13033333333333333,
          0.13033333333333333,
          0.13033333333333333,
          0.13033333333333333,
          0.13033333333333333,
          0.13033333333333333,
          0.21283333333333335,
          0.21283333333333335,
          0.21283333333333335,
          0.21283333333333335,
          0.21283333333333335,
          0.15713333333333332,
          0.15713333333333332,
          0.15713333333333332,
          0.15713333333333332,
          0.15713333333333332,
          0.15713333333333332,
          0.15713333333333332,
          0.15713333333333332,
          0.14383866666666667,
          0.14383866666666667,
          0.14383866666666667,
          0.14383866666666667,
          0.14383866666666667,
          0.14383866666666667,
          0.14383866666666667,
          0.14383866666666667,
          0.14383866666666667,
          0.14383866666666667,
          0.16133333333333333,
          0.16133333333333333,
          0.16133333333333333,
          0.16133333333333333,
          0.16133333333333333,
          0.16133333333333333,
          0.16133333333333333,
          0.16133333333333333,
          0.16133333333333333,
          0.16133333333333333,
          0.16133333333333333,
          0.16133333333333333,
          0.16133333333333333,
          0.19699199999999997,
          0.19699199999999997,
          0.19699199999999997,
          0.19699199999999997,
          0.19699199999999997,
          0.19699199999999997,
          0.19699199999999997,
          0.119272,
          0.119272,
          0.119272,
          0.119272,
          0.119272,
          0.119272,
          0.119272,
          0.119272,
          0.119272,
          0.119272,
          0.1878,
          0.1878,
          0.1878,
          0.1878,
          0.1878,
          0.1878,
          0.1878,
          0.1878,
          0.1878,
          0.1878,
          0.12066666666666666,
          0.12066666666666666,
          0.12066666666666666,
          0.12066666666666666,
          0.12066666666666666,
          0.12066666666666666,
          0.12066666666666666,
          0.12066666666666666,
          0.12066666666666666,
          0.12066666666666666,
          0.12066666666666666,
          0.12066666666666666,
          0.12066666666666666,
          0.12066666666666666,
          0.12066666666666666,
          0.12066666666666666,
          0.12066666666666666,
          0.12066666666666666,
          0.12066666666666666,
          0.12066666666666666,
          0.12066666666666666,
          0.12066666666666666,
          0.12066666666666666,
          0.12066666666666666,
          0.12066666666666666,
          0.12066666666666666,
          0.12066666666666666,
          0.12066666666666666,
          0.12066666666666666,
          0.12066666666666666,
          0.12066666666666666,
          0.19473600000000002,
          0.19473600000000002,
          0.19473600000000002,
          0.19473600000000002,
          0.19473600000000002,
          0.19473600000000002,
          0.19473600000000002,
          0.19473600000000002,
          0.19473600000000002,
          0.14958333333333332,
          0.14958333333333332,
          0.14958333333333332,
          0.14958333333333332,
          0.14958333333333332,
          0.14958333333333332,
          0.14958333333333332,
          0.14958333333333332,
          0.14958333333333332,
          0.14958333333333332,
          0.14958333333333332,
          0.14958333333333332,
          0.14958333333333332,
          0.14958333333333332,
          0.14958333333333332,
          0.22481900000000002,
          0.22481900000000002,
          0.22481900000000002,
          0.22481900000000002,
          0.22481900000000002,
          0.22481900000000002,
          0.22481900000000002,
          0.156892,
          0.156892,
          0.156892,
          0.156892,
          0.156892,
          0.156892,
          0.163045,
          0.163045,
          0.163045,
          0.163045,
          0.163045,
          0.163045,
          0.163045,
          0.163045,
          0.1641443333333333,
          0.1641443333333333,
          0.1641443333333333,
          0.1641443333333333,
          0.1641443333333333,
          0.1641443333333333,
          0.1641443333333333,
          0.1641443333333333,
          0.1641443333333333,
          0.1641443333333333,
          0.1641443333333333,
          0.184184,
          0.184184,
          0.184184,
          0.184184,
          0.184184,
          0.184184,
          0.184184,
          0.184184,
          0.184184,
          0.184184,
          0.15958333333333333,
          0.15958333333333333,
          0.15958333333333333,
          0.15958333333333333,
          0.15958333333333333,
          0.15958333333333333,
          0.15958333333333333,
          0.15958333333333333,
          0.15958333333333333,
          0.16449266666666668,
          0.16449266666666668,
          0.16449266666666668,
          0.16449266666666668,
          0.16449266666666668,
          0.16449266666666668,
          0.16449266666666668,
          0.16449266666666668,
          0.16449266666666668,
          0.16449266666666668,
          0.14271066666666668,
          0.14271066666666668,
          0.14271066666666668,
          0.14271066666666668,
          0.14271066666666668,
          0.14271066666666668,
          0.14271066666666668,
          0.14271066666666668,
          0.14271066666666668,
          0.14271066666666668,
          0.14271066666666668,
          0.14271066666666668,
          0.14271066666666668,
          0.14271066666666668,
          0.14271066666666668,
          0.14271066666666668,
          0.13634333333333334,
          0.13634333333333334,
          0.13634333333333334,
          0.13634333333333334,
          0.13634333333333334,
          0.13634333333333334,
          0.13634333333333334,
          0.13634333333333334,
          0.13634333333333334,
          0.13634333333333334,
          0.13634333333333334,
          0.11942566666666665,
          0.11942566666666665,
          0.11942566666666665,
          0.11942566666666665,
          0.11942566666666665,
          0.11942566666666665,
          0.11942566666666665,
          0.11942566666666665,
          0.11942566666666665,
          0.11942566666666665,
          0.11942566666666665,
          0.11942566666666665,
          0.11942566666666665,
          0.12147000000000001,
          0.12147000000000001,
          0.12147000000000001,
          0.12147000000000001,
          0.12147000000000001,
          0.12147000000000001,
          0.12147000000000001,
          0.12147000000000001,
          0.12147000000000001,
          0.12147000000000001,
          0.12147000000000001,
          0.12147000000000001,
          0.12147000000000001,
          0.12147000000000001,
          0.15960333333333332,
          0.15960333333333332,
          0.15960333333333332,
          0.15960333333333332,
          0.15960333333333332,
          0.15960333333333332,
          0.15960333333333332,
          0.15960333333333332,
          0.15960333333333332,
          0.15960333333333332,
          0.15960333333333332,
          0.18271099999999998,
          0.18271099999999998,
          0.18271099999999998,
          0.18271099999999998,
          0.18271099999999998,
          0.18271099999999998,
          0.18271099999999998,
          0.18271099999999998,
          0.18271099999999998,
          0.13212566666666667,
          0.13212566666666667,
          0.13212566666666667,
          0.13212566666666667,
          0.13212566666666667,
          0.13212566666666667,
          0.13212566666666667,
          0.13212566666666667,
          0.13212566666666667,
          0.13212566666666667,
          0.14837233333333333,
          0.14837233333333333,
          0.14837233333333333,
          0.14837233333333333,
          0.14837233333333333,
          0.14837233333333333,
          0.14837233333333333,
          0.14837233333333333,
          0.14837233333333333,
          0.14837233333333333,
          0.14837233333333333,
          0.14837233333333333,
          0.14837233333333333,
          0.178405,
          0.178405,
          0.178405,
          0.178405,
          0.178405,
          0.178405,
          0.15633333333333332,
          0.15633333333333332,
          0.15633333333333332,
          0.15633333333333332,
          0.15633333333333332,
          0.15633333333333332,
          0.15633333333333332,
          0.13683133333333333,
          0.13683133333333333,
          0.13683133333333333,
          0.13683133333333333,
          0.13683133333333333,
          0.13683133333333333,
          0.13683133333333333,
          0.13683133333333333,
          0.13683133333333333,
          0.13683133333333333,
          0.13683133333333333,
          0.13683133333333333,
          0.13683133333333333,
          0.13683133333333333,
          0.18411633333333333,
          0.18411633333333333,
          0.18411633333333333,
          0.18411633333333333,
          0.18411633333333333,
          0.18411633333333333,
          0.18411633333333333,
          0.18411633333333333,
          0.13415366666666667,
          0.13415366666666667,
          0.13415366666666667,
          0.13415366666666667,
          0.13415366666666667,
          0.13415366666666667,
          0.13415366666666667,
          0.13415366666666667,
          0.13415366666666667,
          0.13415366666666667,
          0.13415366666666667,
          0.13415366666666667,
          0.13415366666666667
         ],
         "y": [
          163,
          192,
          171,
          110,
          204,
          113,
          159,
          129,
          134,
          104,
          182,
          221.99999999999997,
          177,
          161,
          188.00000000000003,
          141,
          188,
          139,
          171,
          138,
          113,
          131,
          196,
          122.00000000000001,
          162,
          152,
          138,
          166,
          141,
          114,
          210,
          132,
          137,
          114,
          104,
          146,
          167,
          175,
          135,
          125,
          142,
          126,
          168,
          110,
          173,
          203,
          137,
          122,
          146,
          188.99999999999997,
          145,
          203,
          159,
          167,
          136,
          171,
          191,
          130,
          150,
          128,
          139,
          140,
          110,
          100,
          145,
          189,
          209,
          156,
          100,
          162,
          154,
          213.99999999999997,
          152,
          156,
          217,
          185,
          162,
          203,
          148,
          170,
          100,
          222,
          161,
          131,
          128,
          148,
          129,
          118,
          116.99999999999999,
          100,
          177,
          213,
          162,
          228,
          107,
          154,
          202,
          131,
          109,
          209,
          186,
          154,
          131,
          234.00000000000003,
          192,
          107,
          164,
          156,
          166,
          171,
          153,
          166,
          150,
          107,
          134,
          131,
          145,
          106.00000000000001,
          106,
          184,
          135,
          128,
          181.00000000000003,
          101,
          146,
          110,
          119,
          104,
          136,
          152,
          185,
          207,
          123,
          180,
          158,
          214.00000000000003,
          112.99999999999999,
          108,
          139,
          124.00000000000001,
          202,
          121,
          103,
          128,
          136,
          174,
          169,
          184,
          141,
          140,
          133,
          116,
          126,
          156,
          130,
          110.99999999999999,
          152,
          221,
          145,
          163,
          153,
          206,
          150,
          135,
          125,
          128,
          110,
          139,
          110,
          138,
          153,
          154,
          168,
          155,
          132,
          135,
          208,
          172,
          139,
          116,
          228,
          160,
          203,
          141,
          124,
          138,
          134,
          230,
          207,
          201,
          197,
          111,
          118,
          200,
          143,
          148,
          116,
          173,
          156,
          154,
          145.99999999999997,
          111,
          161,
          179,
          182,
          107,
          180,
          124,
          111,
          158,
          125,
          146,
          131,
          109,
          115,
          125,
          113,
          178,
          106,
          171,
          158,
          181,
          202.00000000000003,
          116,
          113,
          144,
          136,
          138,
          114,
          103,
          115,
          133,
          112,
          117,
          138,
          145,
          128,
          115,
          109,
          183,
          164,
          102,
          167,
          136,
          172,
          148,
          186.99999999999997,
          136,
          160,
          138,
          162,
          145,
          110,
          161,
          176,
          151,
          103,
          158,
          171,
          162,
          153,
          173,
          155.99999999999997,
          102,
          105.00000000000001,
          104,
          104,
          153,
          145.99999999999997,
          108,
          119,
          160,
          102.00000000000001,
          112,
          172,
          167,
          197,
          110.00000000000001,
          204.00000000000003,
          166,
          128,
          175,
          108,
          139,
          124,
          104,
          137,
          171,
          189,
          136,
          159,
          127,
          180,
          213,
          139,
          144,
          161,
          192,
          166,
          155,
          139,
          197.00000000000003,
          139,
          190,
          132,
          105,
          179,
          191,
          158,
          158,
          147,
          112,
          206,
          144,
          188,
          199,
          106,
          144,
          157,
          130,
          122,
          237,
          206.00000000000003,
          138,
          181,
          199,
          101,
          176,
          111,
          138,
          112,
          145,
          224,
          105.99999999999999,
          128,
          132,
          210,
          178,
          157,
          125,
          128,
          103,
          198,
          138,
          114,
          218,
          105,
          100,
          156.99999999999997,
          114,
          163,
          124,
          123.00000000000001,
          111,
          117,
          114,
          126,
          171,
          159,
          152,
          107,
          178,
          126,
          149,
          123,
          159,
          145,
          114,
          116,
          183,
          108,
          162,
          216,
          187,
          171,
          163,
          171,
          120,
          117,
          163,
          181,
          194,
          131,
          110,
          144,
          132,
          110,
          187,
          140,
          175,
          145,
          153,
          101,
          132,
          176,
          202.00000000000003,
          189,
          148.00000000000003,
          203,
          160,
          107.99999999999999,
          105,
          172,
          202,
          140,
          107,
          171,
          191,
          161,
          183,
          161,
          210,
          106,
          183,
          157,
          121,
          102,
          140,
          113,
          111,
          111.00000000000001,
          124.00000000000001,
          144,
          154,
          218,
          152,
          131,
          150,
          143,
          181,
          136,
          195,
          155,
          158,
          230,
          134,
          192
         ]
        },
        {
         "marker": {
          "color": "yellow",
          "size": 15,
          "symbol": "x"
         },
         "mode": "markers",
         "name": "Centroids",
         "type": "scatter",
         "x": [
          0.15912757237386269,
          0.1490616819221968
         ],
         "y": [
          246.09181141439205,
          150.0137299771167
         ]
        }
       ],
       "layout": {
        "legend": {
         "title": {
          "text": "Clusters"
         }
        },
        "template": {
         "data": {
          "bar": [
           {
            "error_x": {
             "color": "#2a3f5f"
            },
            "error_y": {
             "color": "#2a3f5f"
            },
            "marker": {
             "line": {
              "color": "#E5ECF6",
              "width": 0.5
             },
             "pattern": {
              "fillmode": "overlay",
              "size": 10,
              "solidity": 0.2
             }
            },
            "type": "bar"
           }
          ],
          "barpolar": [
           {
            "marker": {
             "line": {
              "color": "#E5ECF6",
              "width": 0.5
             },
             "pattern": {
              "fillmode": "overlay",
              "size": 10,
              "solidity": 0.2
             }
            },
            "type": "barpolar"
           }
          ],
          "carpet": [
           {
            "aaxis": {
             "endlinecolor": "#2a3f5f",
             "gridcolor": "white",
             "linecolor": "white",
             "minorgridcolor": "white",
             "startlinecolor": "#2a3f5f"
            },
            "baxis": {
             "endlinecolor": "#2a3f5f",
             "gridcolor": "white",
             "linecolor": "white",
             "minorgridcolor": "white",
             "startlinecolor": "#2a3f5f"
            },
            "type": "carpet"
           }
          ],
          "choropleth": [
           {
            "colorbar": {
             "outlinewidth": 0,
             "ticks": ""
            },
            "type": "choropleth"
           }
          ],
          "contour": [
           {
            "colorbar": {
             "outlinewidth": 0,
             "ticks": ""
            },
            "colorscale": [
             [
              0,
              "#0d0887"
             ],
             [
              0.1111111111111111,
              "#46039f"
             ],
             [
              0.2222222222222222,
              "#7201a8"
             ],
             [
              0.3333333333333333,
              "#9c179e"
             ],
             [
              0.4444444444444444,
              "#bd3786"
             ],
             [
              0.5555555555555556,
              "#d8576b"
             ],
             [
              0.6666666666666666,
              "#ed7953"
             ],
             [
              0.7777777777777778,
              "#fb9f3a"
             ],
             [
              0.8888888888888888,
              "#fdca26"
             ],
             [
              1,
              "#f0f921"
             ]
            ],
            "type": "contour"
           }
          ],
          "contourcarpet": [
           {
            "colorbar": {
             "outlinewidth": 0,
             "ticks": ""
            },
            "type": "contourcarpet"
           }
          ],
          "heatmap": [
           {
            "colorbar": {
             "outlinewidth": 0,
             "ticks": ""
            },
            "colorscale": [
             [
              0,
              "#0d0887"
             ],
             [
              0.1111111111111111,
              "#46039f"
             ],
             [
              0.2222222222222222,
              "#7201a8"
             ],
             [
              0.3333333333333333,
              "#9c179e"
             ],
             [
              0.4444444444444444,
              "#bd3786"
             ],
             [
              0.5555555555555556,
              "#d8576b"
             ],
             [
              0.6666666666666666,
              "#ed7953"
             ],
             [
              0.7777777777777778,
              "#fb9f3a"
             ],
             [
              0.8888888888888888,
              "#fdca26"
             ],
             [
              1,
              "#f0f921"
             ]
            ],
            "type": "heatmap"
           }
          ],
          "heatmapgl": [
           {
            "colorbar": {
             "outlinewidth": 0,
             "ticks": ""
            },
            "colorscale": [
             [
              0,
              "#0d0887"
             ],
             [
              0.1111111111111111,
              "#46039f"
             ],
             [
              0.2222222222222222,
              "#7201a8"
             ],
             [
              0.3333333333333333,
              "#9c179e"
             ],
             [
              0.4444444444444444,
              "#bd3786"
             ],
             [
              0.5555555555555556,
              "#d8576b"
             ],
             [
              0.6666666666666666,
              "#ed7953"
             ],
             [
              0.7777777777777778,
              "#fb9f3a"
             ],
             [
              0.8888888888888888,
              "#fdca26"
             ],
             [
              1,
              "#f0f921"
             ]
            ],
            "type": "heatmapgl"
           }
          ],
          "histogram": [
           {
            "marker": {
             "pattern": {
              "fillmode": "overlay",
              "size": 10,
              "solidity": 0.2
             }
            },
            "type": "histogram"
           }
          ],
          "histogram2d": [
           {
            "colorbar": {
             "outlinewidth": 0,
             "ticks": ""
            },
            "colorscale": [
             [
              0,
              "#0d0887"
             ],
             [
              0.1111111111111111,
              "#46039f"
             ],
             [
              0.2222222222222222,
              "#7201a8"
             ],
             [
              0.3333333333333333,
              "#9c179e"
             ],
             [
              0.4444444444444444,
              "#bd3786"
             ],
             [
              0.5555555555555556,
              "#d8576b"
             ],
             [
              0.6666666666666666,
              "#ed7953"
             ],
             [
              0.7777777777777778,
              "#fb9f3a"
             ],
             [
              0.8888888888888888,
              "#fdca26"
             ],
             [
              1,
              "#f0f921"
             ]
            ],
            "type": "histogram2d"
           }
          ],
          "histogram2dcontour": [
           {
            "colorbar": {
             "outlinewidth": 0,
             "ticks": ""
            },
            "colorscale": [
             [
              0,
              "#0d0887"
             ],
             [
              0.1111111111111111,
              "#46039f"
             ],
             [
              0.2222222222222222,
              "#7201a8"
             ],
             [
              0.3333333333333333,
              "#9c179e"
             ],
             [
              0.4444444444444444,
              "#bd3786"
             ],
             [
              0.5555555555555556,
              "#d8576b"
             ],
             [
              0.6666666666666666,
              "#ed7953"
             ],
             [
              0.7777777777777778,
              "#fb9f3a"
             ],
             [
              0.8888888888888888,
              "#fdca26"
             ],
             [
              1,
              "#f0f921"
             ]
            ],
            "type": "histogram2dcontour"
           }
          ],
          "mesh3d": [
           {
            "colorbar": {
             "outlinewidth": 0,
             "ticks": ""
            },
            "type": "mesh3d"
           }
          ],
          "parcoords": [
           {
            "line": {
             "colorbar": {
              "outlinewidth": 0,
              "ticks": ""
             }
            },
            "type": "parcoords"
           }
          ],
          "pie": [
           {
            "automargin": true,
            "type": "pie"
           }
          ],
          "scatter": [
           {
            "fillpattern": {
             "fillmode": "overlay",
             "size": 10,
             "solidity": 0.2
            },
            "type": "scatter"
           }
          ],
          "scatter3d": [
           {
            "line": {
             "colorbar": {
              "outlinewidth": 0,
              "ticks": ""
             }
            },
            "marker": {
             "colorbar": {
              "outlinewidth": 0,
              "ticks": ""
             }
            },
            "type": "scatter3d"
           }
          ],
          "scattercarpet": [
           {
            "marker": {
             "colorbar": {
              "outlinewidth": 0,
              "ticks": ""
             }
            },
            "type": "scattercarpet"
           }
          ],
          "scattergeo": [
           {
            "marker": {
             "colorbar": {
              "outlinewidth": 0,
              "ticks": ""
             }
            },
            "type": "scattergeo"
           }
          ],
          "scattergl": [
           {
            "marker": {
             "colorbar": {
              "outlinewidth": 0,
              "ticks": ""
             }
            },
            "type": "scattergl"
           }
          ],
          "scattermapbox": [
           {
            "marker": {
             "colorbar": {
              "outlinewidth": 0,
              "ticks": ""
             }
            },
            "type": "scattermapbox"
           }
          ],
          "scatterpolar": [
           {
            "marker": {
             "colorbar": {
              "outlinewidth": 0,
              "ticks": ""
             }
            },
            "type": "scatterpolar"
           }
          ],
          "scatterpolargl": [
           {
            "marker": {
             "colorbar": {
              "outlinewidth": 0,
              "ticks": ""
             }
            },
            "type": "scatterpolargl"
           }
          ],
          "scatterternary": [
           {
            "marker": {
             "colorbar": {
              "outlinewidth": 0,
              "ticks": ""
             }
            },
            "type": "scatterternary"
           }
          ],
          "surface": [
           {
            "colorbar": {
             "outlinewidth": 0,
             "ticks": ""
            },
            "colorscale": [
             [
              0,
              "#0d0887"
             ],
             [
              0.1111111111111111,
              "#46039f"
             ],
             [
              0.2222222222222222,
              "#7201a8"
             ],
             [
              0.3333333333333333,
              "#9c179e"
             ],
             [
              0.4444444444444444,
              "#bd3786"
             ],
             [
              0.5555555555555556,
              "#d8576b"
             ],
             [
              0.6666666666666666,
              "#ed7953"
             ],
             [
              0.7777777777777778,
              "#fb9f3a"
             ],
             [
              0.8888888888888888,
              "#fdca26"
             ],
             [
              1,
              "#f0f921"
             ]
            ],
            "type": "surface"
           }
          ],
          "table": [
           {
            "cells": {
             "fill": {
              "color": "#EBF0F8"
             },
             "line": {
              "color": "white"
             }
            },
            "header": {
             "fill": {
              "color": "#C8D4E3"
             },
             "line": {
              "color": "white"
             }
            },
            "type": "table"
           }
          ]
         },
         "layout": {
          "annotationdefaults": {
           "arrowcolor": "#2a3f5f",
           "arrowhead": 0,
           "arrowwidth": 1
          },
          "autotypenumbers": "strict",
          "coloraxis": {
           "colorbar": {
            "outlinewidth": 0,
            "ticks": ""
           }
          },
          "colorscale": {
           "diverging": [
            [
             0,
             "#8e0152"
            ],
            [
             0.1,
             "#c51b7d"
            ],
            [
             0.2,
             "#de77ae"
            ],
            [
             0.3,
             "#f1b6da"
            ],
            [
             0.4,
             "#fde0ef"
            ],
            [
             0.5,
             "#f7f7f7"
            ],
            [
             0.6,
             "#e6f5d0"
            ],
            [
             0.7,
             "#b8e186"
            ],
            [
             0.8,
             "#7fbc41"
            ],
            [
             0.9,
             "#4d9221"
            ],
            [
             1,
             "#276419"
            ]
           ],
           "sequential": [
            [
             0,
             "#0d0887"
            ],
            [
             0.1111111111111111,
             "#46039f"
            ],
            [
             0.2222222222222222,
             "#7201a8"
            ],
            [
             0.3333333333333333,
             "#9c179e"
            ],
            [
             0.4444444444444444,
             "#bd3786"
            ],
            [
             0.5555555555555556,
             "#d8576b"
            ],
            [
             0.6666666666666666,
             "#ed7953"
            ],
            [
             0.7777777777777778,
             "#fb9f3a"
            ],
            [
             0.8888888888888888,
             "#fdca26"
            ],
            [
             1,
             "#f0f921"
            ]
           ],
           "sequentialminus": [
            [
             0,
             "#0d0887"
            ],
            [
             0.1111111111111111,
             "#46039f"
            ],
            [
             0.2222222222222222,
             "#7201a8"
            ],
            [
             0.3333333333333333,
             "#9c179e"
            ],
            [
             0.4444444444444444,
             "#bd3786"
            ],
            [
             0.5555555555555556,
             "#d8576b"
            ],
            [
             0.6666666666666666,
             "#ed7953"
            ],
            [
             0.7777777777777778,
             "#fb9f3a"
            ],
            [
             0.8888888888888888,
             "#fdca26"
            ],
            [
             1,
             "#f0f921"
            ]
           ]
          },
          "colorway": [
           "#636efa",
           "#EF553B",
           "#00cc96",
           "#ab63fa",
           "#FFA15A",
           "#19d3f3",
           "#FF6692",
           "#B6E880",
           "#FF97FF",
           "#FECB52"
          ],
          "font": {
           "color": "#2a3f5f"
          },
          "geo": {
           "bgcolor": "white",
           "lakecolor": "white",
           "landcolor": "#E5ECF6",
           "showlakes": true,
           "showland": true,
           "subunitcolor": "white"
          },
          "hoverlabel": {
           "align": "left"
          },
          "hovermode": "closest",
          "mapbox": {
           "style": "light"
          },
          "paper_bgcolor": "white",
          "plot_bgcolor": "#E5ECF6",
          "polar": {
           "angularaxis": {
            "gridcolor": "white",
            "linecolor": "white",
            "ticks": ""
           },
           "bgcolor": "#E5ECF6",
           "radialaxis": {
            "gridcolor": "white",
            "linecolor": "white",
            "ticks": ""
           }
          },
          "scene": {
           "xaxis": {
            "backgroundcolor": "#E5ECF6",
            "gridcolor": "white",
            "gridwidth": 2,
            "linecolor": "white",
            "showbackground": true,
            "ticks": "",
            "zerolinecolor": "white"
           },
           "yaxis": {
            "backgroundcolor": "#E5ECF6",
            "gridcolor": "white",
            "gridwidth": 2,
            "linecolor": "white",
            "showbackground": true,
            "ticks": "",
            "zerolinecolor": "white"
           },
           "zaxis": {
            "backgroundcolor": "#E5ECF6",
            "gridcolor": "white",
            "gridwidth": 2,
            "linecolor": "white",
            "showbackground": true,
            "ticks": "",
            "zerolinecolor": "white"
           }
          },
          "shapedefaults": {
           "line": {
            "color": "#2a3f5f"
           }
          },
          "ternary": {
           "aaxis": {
            "gridcolor": "white",
            "linecolor": "white",
            "ticks": ""
           },
           "baxis": {
            "gridcolor": "white",
            "linecolor": "white",
            "ticks": ""
           },
           "bgcolor": "#E5ECF6",
           "caxis": {
            "gridcolor": "white",
            "linecolor": "white",
            "ticks": ""
           }
          },
          "title": {
           "x": 0.05
          },
          "xaxis": {
           "automargin": true,
           "gridcolor": "white",
           "linecolor": "white",
           "ticks": "",
           "title": {
            "standoff": 15
           },
           "zerolinecolor": "white",
           "zerolinewidth": 2
          },
          "yaxis": {
           "automargin": true,
           "gridcolor": "white",
           "linecolor": "white",
           "ticks": "",
           "title": {
            "standoff": 15
           },
           "zerolinecolor": "white",
           "zerolinewidth": 2
          }
         }
        },
        "title": {
         "text": "Clusters of customers (Descaled)"
        },
        "xaxis": {
         "title": {
          "text": "tarifa_media"
         }
        },
        "yaxis": {
         "title": {
          "text": "consumo_total"
         }
        }
       }
      }
     },
     "metadata": {},
     "output_type": "display_data"
    }
   ],
   "source": [
    "# Normalizar las variables\n",
    "scaler = StandardScaler()\n",
    "X_scaled = scaler.fit_transform(X)\n",
    "\n",
    "# Aplicar KMeans con el número óptimo de clústeres (4)\n",
    "kmeansmodel = KMeans(n_clusters=2, init='k-means++', random_state=0)\n",
    "y_kmeans = kmeansmodel.fit_predict(X_scaled)\n",
    "\n",
    "# Revertir el escalado de los datos\n",
    "X_reverted = scaler.inverse_transform(X_scaled)\n",
    "centroids_reverted = scaler.inverse_transform(kmeansmodel.cluster_centers_)\n",
    "\n",
    "# Definir colores y etiquetas para los clusters\n",
    "colors = ['red', 'blue']\n",
    "labels = ['Cluster 1', 'Cluster 2']\n",
    "\n",
    "# Crear trazas para cada cluster con los datos desescalados\n",
    "fig_clusters = go.Figure()\n",
    "\n",
    "for i in range(2):\n",
    "    fig_clusters.add_trace(go.Scatter(\n",
    "        x=X_reverted[y_kmeans == i, 2],  # 'tarifa_media'\n",
    "        y=X_reverted[y_kmeans == i, 0],  # 'consumo_total'\n",
    "        mode='markers',\n",
    "        marker=dict(size=10, color=colors[i]),\n",
    "        name=labels[i]\n",
    "    ))\n",
    "\n",
    "# Agregar los centroides desescalados\n",
    "fig_clusters.add_trace(go.Scatter(\n",
    "    x=centroids_reverted[:, 2],  # 'tarifa_media'\n",
    "    y=centroids_reverted[:, 0],  # 'consumo_total'\n",
    "    mode='markers',\n",
    "    marker=dict(size=15, color='yellow', symbol='x'),\n",
    "    name='Centroids'\n",
    "))\n",
    "\n",
    "# Configurar el layout\n",
    "fig_clusters.update_layout(\n",
    "    title='Clusters of customers (Descaled)',\n",
    "    xaxis_title='tarifa_media',\n",
    "    yaxis_title='consumo_total',\n",
    "    legend_title='Clusters'\n",
    ")\n",
    "\n",
    "fig_clusters.show()"
   ]
  },
  {
   "cell_type": "markdown",
   "metadata": {},
   "source": [
    "## Intento Dos tramos"
   ]
  },
  {
   "cell_type": "code",
   "execution_count": 447,
   "metadata": {},
   "outputs": [
    {
     "name": "stderr",
     "output_type": "stream",
     "text": [
      "C:\\Users\\USUARIO\\AppData\\Local\\Temp\\ipykernel_7328\\2168412489.py:3: SettingWithCopyWarning:\n",
      "\n",
      "\n",
      "A value is trying to be set on a copy of a slice from a DataFrame.\n",
      "Try using .loc[row_indexer,col_indexer] = value instead\n",
      "\n",
      "See the caveats in the documentation: https://pandas.pydata.org/pandas-docs/stable/user_guide/indexing.html#returning-a-view-versus-a-copy\n",
      "\n",
      "C:\\Users\\USUARIO\\AppData\\Local\\Temp\\ipykernel_7328\\2168412489.py:4: SettingWithCopyWarning:\n",
      "\n",
      "\n",
      "A value is trying to be set on a copy of a slice from a DataFrame.\n",
      "Try using .loc[row_indexer,col_indexer] = value instead\n",
      "\n",
      "See the caveats in the documentation: https://pandas.pydata.org/pandas-docs/stable/user_guide/indexing.html#returning-a-view-versus-a-copy\n",
      "\n",
      "C:\\Users\\USUARIO\\AppData\\Local\\Temp\\ipykernel_7328\\2168412489.py:5: SettingWithCopyWarning:\n",
      "\n",
      "\n",
      "A value is trying to be set on a copy of a slice from a DataFrame.\n",
      "Try using .loc[row_indexer,col_indexer] = value instead\n",
      "\n",
      "See the caveats in the documentation: https://pandas.pydata.org/pandas-docs/stable/user_guide/indexing.html#returning-a-view-versus-a-copy\n",
      "\n"
     ]
    },
    {
     "data": {
      "application/vnd.plotly.v1+json": {
       "config": {
        "plotlyServerURL": "https://plot.ly"
       },
       "data": [
        {
         "mode": "lines+markers",
         "type": "scatter",
         "x": [
          1,
          2,
          3,
          4,
          5,
          6,
          7,
          8,
          9,
          10
         ],
         "y": [
          39.980318845335,
          26.3306238695153,
          14.885873979685881,
          11.316430299358215,
          10.00541887888555,
          8.932526667860579,
          8.541944456098905,
          6.776313893748778,
          6.075258388320007,
          6.14487471958368
         ]
        }
       ],
       "layout": {
        "template": {
         "data": {
          "bar": [
           {
            "error_x": {
             "color": "#2a3f5f"
            },
            "error_y": {
             "color": "#2a3f5f"
            },
            "marker": {
             "line": {
              "color": "#E5ECF6",
              "width": 0.5
             },
             "pattern": {
              "fillmode": "overlay",
              "size": 10,
              "solidity": 0.2
             }
            },
            "type": "bar"
           }
          ],
          "barpolar": [
           {
            "marker": {
             "line": {
              "color": "#E5ECF6",
              "width": 0.5
             },
             "pattern": {
              "fillmode": "overlay",
              "size": 10,
              "solidity": 0.2
             }
            },
            "type": "barpolar"
           }
          ],
          "carpet": [
           {
            "aaxis": {
             "endlinecolor": "#2a3f5f",
             "gridcolor": "white",
             "linecolor": "white",
             "minorgridcolor": "white",
             "startlinecolor": "#2a3f5f"
            },
            "baxis": {
             "endlinecolor": "#2a3f5f",
             "gridcolor": "white",
             "linecolor": "white",
             "minorgridcolor": "white",
             "startlinecolor": "#2a3f5f"
            },
            "type": "carpet"
           }
          ],
          "choropleth": [
           {
            "colorbar": {
             "outlinewidth": 0,
             "ticks": ""
            },
            "type": "choropleth"
           }
          ],
          "contour": [
           {
            "colorbar": {
             "outlinewidth": 0,
             "ticks": ""
            },
            "colorscale": [
             [
              0,
              "#0d0887"
             ],
             [
              0.1111111111111111,
              "#46039f"
             ],
             [
              0.2222222222222222,
              "#7201a8"
             ],
             [
              0.3333333333333333,
              "#9c179e"
             ],
             [
              0.4444444444444444,
              "#bd3786"
             ],
             [
              0.5555555555555556,
              "#d8576b"
             ],
             [
              0.6666666666666666,
              "#ed7953"
             ],
             [
              0.7777777777777778,
              "#fb9f3a"
             ],
             [
              0.8888888888888888,
              "#fdca26"
             ],
             [
              1,
              "#f0f921"
             ]
            ],
            "type": "contour"
           }
          ],
          "contourcarpet": [
           {
            "colorbar": {
             "outlinewidth": 0,
             "ticks": ""
            },
            "type": "contourcarpet"
           }
          ],
          "heatmap": [
           {
            "colorbar": {
             "outlinewidth": 0,
             "ticks": ""
            },
            "colorscale": [
             [
              0,
              "#0d0887"
             ],
             [
              0.1111111111111111,
              "#46039f"
             ],
             [
              0.2222222222222222,
              "#7201a8"
             ],
             [
              0.3333333333333333,
              "#9c179e"
             ],
             [
              0.4444444444444444,
              "#bd3786"
             ],
             [
              0.5555555555555556,
              "#d8576b"
             ],
             [
              0.6666666666666666,
              "#ed7953"
             ],
             [
              0.7777777777777778,
              "#fb9f3a"
             ],
             [
              0.8888888888888888,
              "#fdca26"
             ],
             [
              1,
              "#f0f921"
             ]
            ],
            "type": "heatmap"
           }
          ],
          "heatmapgl": [
           {
            "colorbar": {
             "outlinewidth": 0,
             "ticks": ""
            },
            "colorscale": [
             [
              0,
              "#0d0887"
             ],
             [
              0.1111111111111111,
              "#46039f"
             ],
             [
              0.2222222222222222,
              "#7201a8"
             ],
             [
              0.3333333333333333,
              "#9c179e"
             ],
             [
              0.4444444444444444,
              "#bd3786"
             ],
             [
              0.5555555555555556,
              "#d8576b"
             ],
             [
              0.6666666666666666,
              "#ed7953"
             ],
             [
              0.7777777777777778,
              "#fb9f3a"
             ],
             [
              0.8888888888888888,
              "#fdca26"
             ],
             [
              1,
              "#f0f921"
             ]
            ],
            "type": "heatmapgl"
           }
          ],
          "histogram": [
           {
            "marker": {
             "pattern": {
              "fillmode": "overlay",
              "size": 10,
              "solidity": 0.2
             }
            },
            "type": "histogram"
           }
          ],
          "histogram2d": [
           {
            "colorbar": {
             "outlinewidth": 0,
             "ticks": ""
            },
            "colorscale": [
             [
              0,
              "#0d0887"
             ],
             [
              0.1111111111111111,
              "#46039f"
             ],
             [
              0.2222222222222222,
              "#7201a8"
             ],
             [
              0.3333333333333333,
              "#9c179e"
             ],
             [
              0.4444444444444444,
              "#bd3786"
             ],
             [
              0.5555555555555556,
              "#d8576b"
             ],
             [
              0.6666666666666666,
              "#ed7953"
             ],
             [
              0.7777777777777778,
              "#fb9f3a"
             ],
             [
              0.8888888888888888,
              "#fdca26"
             ],
             [
              1,
              "#f0f921"
             ]
            ],
            "type": "histogram2d"
           }
          ],
          "histogram2dcontour": [
           {
            "colorbar": {
             "outlinewidth": 0,
             "ticks": ""
            },
            "colorscale": [
             [
              0,
              "#0d0887"
             ],
             [
              0.1111111111111111,
              "#46039f"
             ],
             [
              0.2222222222222222,
              "#7201a8"
             ],
             [
              0.3333333333333333,
              "#9c179e"
             ],
             [
              0.4444444444444444,
              "#bd3786"
             ],
             [
              0.5555555555555556,
              "#d8576b"
             ],
             [
              0.6666666666666666,
              "#ed7953"
             ],
             [
              0.7777777777777778,
              "#fb9f3a"
             ],
             [
              0.8888888888888888,
              "#fdca26"
             ],
             [
              1,
              "#f0f921"
             ]
            ],
            "type": "histogram2dcontour"
           }
          ],
          "mesh3d": [
           {
            "colorbar": {
             "outlinewidth": 0,
             "ticks": ""
            },
            "type": "mesh3d"
           }
          ],
          "parcoords": [
           {
            "line": {
             "colorbar": {
              "outlinewidth": 0,
              "ticks": ""
             }
            },
            "type": "parcoords"
           }
          ],
          "pie": [
           {
            "automargin": true,
            "type": "pie"
           }
          ],
          "scatter": [
           {
            "fillpattern": {
             "fillmode": "overlay",
             "size": 10,
             "solidity": 0.2
            },
            "type": "scatter"
           }
          ],
          "scatter3d": [
           {
            "line": {
             "colorbar": {
              "outlinewidth": 0,
              "ticks": ""
             }
            },
            "marker": {
             "colorbar": {
              "outlinewidth": 0,
              "ticks": ""
             }
            },
            "type": "scatter3d"
           }
          ],
          "scattercarpet": [
           {
            "marker": {
             "colorbar": {
              "outlinewidth": 0,
              "ticks": ""
             }
            },
            "type": "scattercarpet"
           }
          ],
          "scattergeo": [
           {
            "marker": {
             "colorbar": {
              "outlinewidth": 0,
              "ticks": ""
             }
            },
            "type": "scattergeo"
           }
          ],
          "scattergl": [
           {
            "marker": {
             "colorbar": {
              "outlinewidth": 0,
              "ticks": ""
             }
            },
            "type": "scattergl"
           }
          ],
          "scattermapbox": [
           {
            "marker": {
             "colorbar": {
              "outlinewidth": 0,
              "ticks": ""
             }
            },
            "type": "scattermapbox"
           }
          ],
          "scatterpolar": [
           {
            "marker": {
             "colorbar": {
              "outlinewidth": 0,
              "ticks": ""
             }
            },
            "type": "scatterpolar"
           }
          ],
          "scatterpolargl": [
           {
            "marker": {
             "colorbar": {
              "outlinewidth": 0,
              "ticks": ""
             }
            },
            "type": "scatterpolargl"
           }
          ],
          "scatterternary": [
           {
            "marker": {
             "colorbar": {
              "outlinewidth": 0,
              "ticks": ""
             }
            },
            "type": "scatterternary"
           }
          ],
          "surface": [
           {
            "colorbar": {
             "outlinewidth": 0,
             "ticks": ""
            },
            "colorscale": [
             [
              0,
              "#0d0887"
             ],
             [
              0.1111111111111111,
              "#46039f"
             ],
             [
              0.2222222222222222,
              "#7201a8"
             ],
             [
              0.3333333333333333,
              "#9c179e"
             ],
             [
              0.4444444444444444,
              "#bd3786"
             ],
             [
              0.5555555555555556,
              "#d8576b"
             ],
             [
              0.6666666666666666,
              "#ed7953"
             ],
             [
              0.7777777777777778,
              "#fb9f3a"
             ],
             [
              0.8888888888888888,
              "#fdca26"
             ],
             [
              1,
              "#f0f921"
             ]
            ],
            "type": "surface"
           }
          ],
          "table": [
           {
            "cells": {
             "fill": {
              "color": "#EBF0F8"
             },
             "line": {
              "color": "white"
             }
            },
            "header": {
             "fill": {
              "color": "#C8D4E3"
             },
             "line": {
              "color": "white"
             }
            },
            "type": "table"
           }
          ]
         },
         "layout": {
          "annotationdefaults": {
           "arrowcolor": "#2a3f5f",
           "arrowhead": 0,
           "arrowwidth": 1
          },
          "autotypenumbers": "strict",
          "coloraxis": {
           "colorbar": {
            "outlinewidth": 0,
            "ticks": ""
           }
          },
          "colorscale": {
           "diverging": [
            [
             0,
             "#8e0152"
            ],
            [
             0.1,
             "#c51b7d"
            ],
            [
             0.2,
             "#de77ae"
            ],
            [
             0.3,
             "#f1b6da"
            ],
            [
             0.4,
             "#fde0ef"
            ],
            [
             0.5,
             "#f7f7f7"
            ],
            [
             0.6,
             "#e6f5d0"
            ],
            [
             0.7,
             "#b8e186"
            ],
            [
             0.8,
             "#7fbc41"
            ],
            [
             0.9,
             "#4d9221"
            ],
            [
             1,
             "#276419"
            ]
           ],
           "sequential": [
            [
             0,
             "#0d0887"
            ],
            [
             0.1111111111111111,
             "#46039f"
            ],
            [
             0.2222222222222222,
             "#7201a8"
            ],
            [
             0.3333333333333333,
             "#9c179e"
            ],
            [
             0.4444444444444444,
             "#bd3786"
            ],
            [
             0.5555555555555556,
             "#d8576b"
            ],
            [
             0.6666666666666666,
             "#ed7953"
            ],
            [
             0.7777777777777778,
             "#fb9f3a"
            ],
            [
             0.8888888888888888,
             "#fdca26"
            ],
            [
             1,
             "#f0f921"
            ]
           ],
           "sequentialminus": [
            [
             0,
             "#0d0887"
            ],
            [
             0.1111111111111111,
             "#46039f"
            ],
            [
             0.2222222222222222,
             "#7201a8"
            ],
            [
             0.3333333333333333,
             "#9c179e"
            ],
            [
             0.4444444444444444,
             "#bd3786"
            ],
            [
             0.5555555555555556,
             "#d8576b"
            ],
            [
             0.6666666666666666,
             "#ed7953"
            ],
            [
             0.7777777777777778,
             "#fb9f3a"
            ],
            [
             0.8888888888888888,
             "#fdca26"
            ],
            [
             1,
             "#f0f921"
            ]
           ]
          },
          "colorway": [
           "#636efa",
           "#EF553B",
           "#00cc96",
           "#ab63fa",
           "#FFA15A",
           "#19d3f3",
           "#FF6692",
           "#B6E880",
           "#FF97FF",
           "#FECB52"
          ],
          "font": {
           "color": "#2a3f5f"
          },
          "geo": {
           "bgcolor": "white",
           "lakecolor": "white",
           "landcolor": "#E5ECF6",
           "showlakes": true,
           "showland": true,
           "subunitcolor": "white"
          },
          "hoverlabel": {
           "align": "left"
          },
          "hovermode": "closest",
          "mapbox": {
           "style": "light"
          },
          "paper_bgcolor": "white",
          "plot_bgcolor": "#E5ECF6",
          "polar": {
           "angularaxis": {
            "gridcolor": "white",
            "linecolor": "white",
            "ticks": ""
           },
           "bgcolor": "#E5ECF6",
           "radialaxis": {
            "gridcolor": "white",
            "linecolor": "white",
            "ticks": ""
           }
          },
          "scene": {
           "xaxis": {
            "backgroundcolor": "#E5ECF6",
            "gridcolor": "white",
            "gridwidth": 2,
            "linecolor": "white",
            "showbackground": true,
            "ticks": "",
            "zerolinecolor": "white"
           },
           "yaxis": {
            "backgroundcolor": "#E5ECF6",
            "gridcolor": "white",
            "gridwidth": 2,
            "linecolor": "white",
            "showbackground": true,
            "ticks": "",
            "zerolinecolor": "white"
           },
           "zaxis": {
            "backgroundcolor": "#E5ECF6",
            "gridcolor": "white",
            "gridwidth": 2,
            "linecolor": "white",
            "showbackground": true,
            "ticks": "",
            "zerolinecolor": "white"
           }
          },
          "shapedefaults": {
           "line": {
            "color": "#2a3f5f"
           }
          },
          "ternary": {
           "aaxis": {
            "gridcolor": "white",
            "linecolor": "white",
            "ticks": ""
           },
           "baxis": {
            "gridcolor": "white",
            "linecolor": "white",
            "ticks": ""
           },
           "bgcolor": "#E5ECF6",
           "caxis": {
            "gridcolor": "white",
            "linecolor": "white",
            "ticks": ""
           }
          },
          "title": {
           "x": 0.05
          },
          "xaxis": {
           "automargin": true,
           "gridcolor": "white",
           "linecolor": "white",
           "ticks": "",
           "title": {
            "standoff": 15
           },
           "zerolinecolor": "white",
           "zerolinewidth": 2
          },
          "yaxis": {
           "automargin": true,
           "gridcolor": "white",
           "linecolor": "white",
           "ticks": "",
           "title": {
            "standoff": 15
           },
           "zerolinecolor": "white",
           "zerolinewidth": 2
          }
         }
        },
        "title": {
         "text": "The Elbow Method"
        },
        "xaxis": {
         "title": {
          "text": "Number of clusters"
         }
        },
        "yaxis": {
         "title": {
          "text": "WCSS"
         }
        }
       }
      }
     },
     "metadata": {},
     "output_type": "display_data"
    },
    {
     "data": {
      "application/vnd.plotly.v1+json": {
       "config": {
        "plotlyServerURL": "https://plot.ly"
       },
       "data": [
        {
         "marker": {
          "color": "red",
          "size": 10
         },
         "mode": "markers",
         "name": "Cluster 1",
         "type": "scatter",
         "x": [
          0.4371859296482412,
          0.18592964824120606,
          0.10050251256281417,
          0.2864321608040201,
          0.10552763819095479,
          0.44221105527638194,
          0.24120603015075381,
          0.29145728643216084,
          0.07035175879396993,
          0.25125628140703526,
          0.5376884422110553,
          0.27135678391959805,
          0.31658291457286436,
          0.25125628140703526,
          0.10050251256281417,
          0.36180904522613067,
          0.085427135678392,
          0.29648241206030157,
          0.0653266331658292,
          0.04020100502512569,
          0.44723618090452266,
          0.2613065326633166,
          0.4170854271356784,
          0.4572864321608041,
          0.035175879396984966,
          0.170854271356784,
          0.40201005025125636,
          0.24623115577889454,
          0.005025125628140725,
          0.26633165829145733,
          0.015075376884422176,
          0.26633165829145733,
          0.2160804020100503,
          0.0653266331658292,
          0.2361809045226131,
          0.07035175879396993,
          0.1959798994974875,
          0.4070351758793971,
          0.5527638190954773,
          0.2613065326633166,
          0.11557788944723624,
          0.20100502512562823,
          0.07035175879396993,
          0.22110552763819102,
          0.3216080402010051,
          0.3517587939698493,
          0.04020100502512569,
          0.4371859296482412,
          0.31155778894472363,
          0.40201005025125636,
          0.16080402010050254,
          0.0201005025125629,
          0.20100502512562823,
          0.13567839195979903,
          0.5125628140703518,
          0.1306532663316583,
          0.07035175879396993,
          0.44723618090452266,
          0.20603015075376885,
          0.31155778894472363,
          0.4773869346733669,
          0.256281407035176,
          0.4773869346733669,
          0.14070351758793975,
          0.17587939698492472,
          0.06030150753768848
         ],
         "y": [
          0.3337351676553596,
          0.25497424106093725,
          0.1976766402224572,
          0.47027818608058747,
          0.19708180858995059,
          0.3069009982372999,
          0.26869283026913304,
          0.4616873432294064,
          0.1883588546553606,
          0.3263991380034966,
          0.34137124924798545,
          0.4492425401438688,
          0.3259328846889,
          0.45228753294458035,
          0.2285935388569623,
          0.6104550035115831,
          0.3702287428575569,
          0.2189420952448126,
          0.20903600559161387,
          0.16485312418764772,
          0.26275556056105986,
          0.2506724265850908,
          0.46007217001636447,
          0.34626583308206227,
          0.22957410544319853,
          0.15736294401685116,
          0.4062360517182694,
          0.34087988998567975,
          0.1032413352276646,
          0.4095252895245506,
          0.23606578620796673,
          0.40480608866804124,
          0.3933782199272785,
          0.12311627940333456,
          0.2998119393796148,
          0.2478103485462594,
          0.40032898087872626,
          0.3899351185271803,
          0.27066393408941003,
          0.2285935388569623,
          0.3234402227377875,
          0.19308655566845148,
          0.11331312413574299,
          0.45102649705679454,
          0.22497613044848433,
          0.23317716759584275,
          0.284117852810293,
          0.2325552574054501,
          0.22842676363289507,
          0.2823166803903667,
          0.3892830811995368,
          0.30332605474608976,
          0.16996397782841824,
          0.18246889172589917,
          0.3128858257834619,
          0.16191701946871415,
          0.15502995589316806,
          0.38919011746173415,
          0.15792689533367557,
          0.27998096647807513,
          0.2521594160022582,
          0.20420504740215964,
          0.33742782217568557,
          0.2757904251490392,
          0.37295632474794704,
          0.17084469447405162
         ]
        },
        {
         "marker": {
          "color": "blue",
          "size": 10
         },
         "mode": "markers",
         "name": "Cluster 2",
         "type": "scatter",
         "x": [
          0.7889447236180904,
          0.6482412060301508,
          0.9597989949748744,
          0.9396984924623115,
          0.8040201005025127,
          0.8492462311557789,
          0.9396984924623115,
          0.949748743718593,
          0.949748743718593,
          0.8743718592964824,
          0.949748743718593,
          0.6532663316582916,
          0.6733668341708543,
          0.8341708542713568,
          0.6582914572864322,
          0.44221105527638194,
          0.6482412060301508,
          0.9396984924623115,
          0.9949748743718594,
          0.8592964824120604,
          0.8743718592964824,
          0.8190954773869348,
          0.6582914572864322,
          0.6683417085427137,
          0.9547738693467338,
          0.7286432160804022,
          0.8090452261306533,
          0.949748743718593,
          0.4723618090452262,
          1,
          0.949748743718593,
          0.7688442211055277,
          0.9396984924623115,
          0.6180904522613067,
          0.7839195979899498,
          0.44221105527638194,
          0.6432160804020102,
          0.6783919597989951,
          0.6934673366834172,
          0.6783919597989951,
          0.8140703517587939,
          0.8140703517587939,
          0.6130653266331658,
          0.6834170854271358,
          0.6180904522613067,
          0.8944723618090453,
          0.6582914572864322,
          0.7537688442211057,
          0.7135678391959799,
          0.8542713567839197,
          0.7989949748743719
         ],
         "y": [
          0.33898618421562576,
          0.6459820714582611,
          0.5937315372205509,
          0.48755660141290846,
          0.6133099084224978,
          0.6034279384119197,
          1,
          0.7160517134778465,
          0.6263100730041794,
          0.6804397694950922,
          0.8730995843067644,
          0.493030899512407,
          0.37253669676481005,
          0.927962751059997,
          0.3933190416219643,
          0.6552511873524416,
          0.5331322711316736,
          0.5252357332643862,
          0.7654591246672459,
          0.4356745686891075,
          0.5938033043653592,
          0.3791036953727054,
          0.6192499756504586,
          0.5967880428915692,
          0.7196838088657345,
          0.829145740877184,
          0.4914850904463214,
          0.406397447096399,
          0.5508463105223862,
          0.5335339662950183,
          0.8292963765634381,
          0.641927102246854,
          0.9278121153737426,
          0.6971243215671756,
          0.7444562061266479,
          0.6431816823195148,
          0.47043913313822205,
          0.4174853095739022,
          0.4517054336141264,
          0.7273563658138175,
          0.6777192172700605,
          0.4049771677688586,
          0.6247266588149895,
          0.4824023324154211,
          0.4093229355860156,
          0.536587853774347,
          0.5583057897056987,
          0.7041001884663325,
          0.6605185586443583,
          0.5967858909531941,
          0.8135097566439887
         ]
        },
        {
         "marker": {
          "color": "green",
          "size": 10
         },
         "mode": "markers",
         "name": "Cluster 3",
         "type": "scatter",
         "x": [
          0.5125628140703518,
          0.8994974874371859,
          0.4623115577889447,
          0.5326633165829147,
          0.9447236180904524,
          0.5125628140703518,
          0.6080402010050252,
          0.4371859296482412,
          0.5829145728643217,
          0.4974874371859297,
          0.5175879396984926,
          0.7587939698492463,
          0.6532663316582916,
          0.7487437185929648,
          0.5527638190954773,
          0.5175879396984926,
          0.5276381909547738,
          0.6733668341708543,
          0.8090452261306533,
          0.7537688442211057,
          0.8592964824120604,
          0.5175879396984926,
          0.964824120603015,
          0.5025125628140703,
          0.8743718592964824,
          0.6532663316582916,
          0.7085427135678393,
          0.9346733668341709,
          0.8492462311557789,
          0.9246231155778895,
          0.6683417085427137,
          0.5376884422110553,
          0.949748743718593,
          0.6381909547738693,
          0.4572864321608041
         ],
         "y": [
          0.42547637133431404,
          0.7537108349923594,
          0.44673776995283254,
          0.29555248939724543,
          0.48690507696391105,
          0.43173701640857176,
          0.3556639800978524,
          0.3627769407143976,
          0.3083837124702288,
          0.3990700861696236,
          0.2708198420246831,
          0.5934600163960776,
          0.45290543514974957,
          0.5955985535749082,
          0.3427431099620869,
          0.4185530296643284,
          0.3193963718746514,
          0.5470988325027045,
          0.3042648604575632,
          0.04306049562299821,
          0.774397896680799,
          0.45429873114267694,
          0.1216274364499135,
          0.35455158487011895,
          0.7423862178687858,
          0.44477116547704143,
          0.3462452813532676,
          0.6826291594883201,
          0.4119124767268043,
          0.4477795792705974,
          0.4622401715354265,
          0.35570126727206175,
          0.5636172760929604,
          0.47536300592955283,
          0.4461519692883733
         ]
        },
        {
         "marker": {
          "color": "magenta",
          "size": 10
         },
         "mode": "markers",
         "name": "Cluster 4",
         "type": "scatter",
         "x": [
          0.07035175879396993,
          0.35678391959799005,
          0.10050251256281417,
          0.3718592964824121,
          0.2613065326633166,
          0.005025125628140725,
          0.35678391959799005,
          0.055276381909547756,
          0.16080402010050254,
          0.2361809045226131,
          0.306532663316583,
          0.18090452261306533,
          0.49246231155778897,
          0.170854271356784,
          0,
          0.0201005025125629,
          0.3517587939698493,
          0.42713567839195987,
          0.13567839195979903,
          0.3266331658291458,
          0.22110552763819102,
          0.306532663316583,
          0.13567839195979903,
          0.13567839195979903,
          0.2160804020100503,
          0.4170854271356784,
          0.14572864321608048,
          0.3718592964824121
         ],
         "y": [
          0.1477144844259148,
          0.3358592662243346,
          0.12763083092037558,
          0.3921585819539828,
          0.1995352693969976,
          0.19539766485534718,
          0.10521682667096008,
          0.2135983755106153,
          0.11725134782105182,
          0.003774972439658991,
          0.2400708065984221,
          0.12403709957252562,
          0.13867397719441416,
          0.1982605977516981,
          0.10564519385516635,
          0,
          0.3042525395343968,
          0.254500192349577,
          0.23915680394933134,
          0.23362259732009674,
          0.20264427806049054,
          0.28052755882534086,
          0.16923466116581867,
          0.12417372470533267,
          0.22149119859428265,
          0.34463258179338796,
          0.22724178262712977,
          0.2585710625922939
         ]
        },
        {
         "marker": {
          "color": "yellow",
          "size": 15,
          "symbol": "x"
         },
         "mode": "markers",
         "name": "Centroids",
         "type": "scatter",
         "x": [
          0.24227196589005637,
          0.7785003448615628,
          0.67264895908112,
          0.22631012203876535
         ],
         "y": [
          0.2881760080860165,
          0.6082406947892847,
          0.4353596584336511,
          0.19660265273960512
         ]
        }
       ],
       "layout": {
        "legend": {
         "title": {
          "text": "Clusters"
         }
        },
        "template": {
         "data": {
          "bar": [
           {
            "error_x": {
             "color": "#2a3f5f"
            },
            "error_y": {
             "color": "#2a3f5f"
            },
            "marker": {
             "line": {
              "color": "#E5ECF6",
              "width": 0.5
             },
             "pattern": {
              "fillmode": "overlay",
              "size": 10,
              "solidity": 0.2
             }
            },
            "type": "bar"
           }
          ],
          "barpolar": [
           {
            "marker": {
             "line": {
              "color": "#E5ECF6",
              "width": 0.5
             },
             "pattern": {
              "fillmode": "overlay",
              "size": 10,
              "solidity": 0.2
             }
            },
            "type": "barpolar"
           }
          ],
          "carpet": [
           {
            "aaxis": {
             "endlinecolor": "#2a3f5f",
             "gridcolor": "white",
             "linecolor": "white",
             "minorgridcolor": "white",
             "startlinecolor": "#2a3f5f"
            },
            "baxis": {
             "endlinecolor": "#2a3f5f",
             "gridcolor": "white",
             "linecolor": "white",
             "minorgridcolor": "white",
             "startlinecolor": "#2a3f5f"
            },
            "type": "carpet"
           }
          ],
          "choropleth": [
           {
            "colorbar": {
             "outlinewidth": 0,
             "ticks": ""
            },
            "type": "choropleth"
           }
          ],
          "contour": [
           {
            "colorbar": {
             "outlinewidth": 0,
             "ticks": ""
            },
            "colorscale": [
             [
              0,
              "#0d0887"
             ],
             [
              0.1111111111111111,
              "#46039f"
             ],
             [
              0.2222222222222222,
              "#7201a8"
             ],
             [
              0.3333333333333333,
              "#9c179e"
             ],
             [
              0.4444444444444444,
              "#bd3786"
             ],
             [
              0.5555555555555556,
              "#d8576b"
             ],
             [
              0.6666666666666666,
              "#ed7953"
             ],
             [
              0.7777777777777778,
              "#fb9f3a"
             ],
             [
              0.8888888888888888,
              "#fdca26"
             ],
             [
              1,
              "#f0f921"
             ]
            ],
            "type": "contour"
           }
          ],
          "contourcarpet": [
           {
            "colorbar": {
             "outlinewidth": 0,
             "ticks": ""
            },
            "type": "contourcarpet"
           }
          ],
          "heatmap": [
           {
            "colorbar": {
             "outlinewidth": 0,
             "ticks": ""
            },
            "colorscale": [
             [
              0,
              "#0d0887"
             ],
             [
              0.1111111111111111,
              "#46039f"
             ],
             [
              0.2222222222222222,
              "#7201a8"
             ],
             [
              0.3333333333333333,
              "#9c179e"
             ],
             [
              0.4444444444444444,
              "#bd3786"
             ],
             [
              0.5555555555555556,
              "#d8576b"
             ],
             [
              0.6666666666666666,
              "#ed7953"
             ],
             [
              0.7777777777777778,
              "#fb9f3a"
             ],
             [
              0.8888888888888888,
              "#fdca26"
             ],
             [
              1,
              "#f0f921"
             ]
            ],
            "type": "heatmap"
           }
          ],
          "heatmapgl": [
           {
            "colorbar": {
             "outlinewidth": 0,
             "ticks": ""
            },
            "colorscale": [
             [
              0,
              "#0d0887"
             ],
             [
              0.1111111111111111,
              "#46039f"
             ],
             [
              0.2222222222222222,
              "#7201a8"
             ],
             [
              0.3333333333333333,
              "#9c179e"
             ],
             [
              0.4444444444444444,
              "#bd3786"
             ],
             [
              0.5555555555555556,
              "#d8576b"
             ],
             [
              0.6666666666666666,
              "#ed7953"
             ],
             [
              0.7777777777777778,
              "#fb9f3a"
             ],
             [
              0.8888888888888888,
              "#fdca26"
             ],
             [
              1,
              "#f0f921"
             ]
            ],
            "type": "heatmapgl"
           }
          ],
          "histogram": [
           {
            "marker": {
             "pattern": {
              "fillmode": "overlay",
              "size": 10,
              "solidity": 0.2
             }
            },
            "type": "histogram"
           }
          ],
          "histogram2d": [
           {
            "colorbar": {
             "outlinewidth": 0,
             "ticks": ""
            },
            "colorscale": [
             [
              0,
              "#0d0887"
             ],
             [
              0.1111111111111111,
              "#46039f"
             ],
             [
              0.2222222222222222,
              "#7201a8"
             ],
             [
              0.3333333333333333,
              "#9c179e"
             ],
             [
              0.4444444444444444,
              "#bd3786"
             ],
             [
              0.5555555555555556,
              "#d8576b"
             ],
             [
              0.6666666666666666,
              "#ed7953"
             ],
             [
              0.7777777777777778,
              "#fb9f3a"
             ],
             [
              0.8888888888888888,
              "#fdca26"
             ],
             [
              1,
              "#f0f921"
             ]
            ],
            "type": "histogram2d"
           }
          ],
          "histogram2dcontour": [
           {
            "colorbar": {
             "outlinewidth": 0,
             "ticks": ""
            },
            "colorscale": [
             [
              0,
              "#0d0887"
             ],
             [
              0.1111111111111111,
              "#46039f"
             ],
             [
              0.2222222222222222,
              "#7201a8"
             ],
             [
              0.3333333333333333,
              "#9c179e"
             ],
             [
              0.4444444444444444,
              "#bd3786"
             ],
             [
              0.5555555555555556,
              "#d8576b"
             ],
             [
              0.6666666666666666,
              "#ed7953"
             ],
             [
              0.7777777777777778,
              "#fb9f3a"
             ],
             [
              0.8888888888888888,
              "#fdca26"
             ],
             [
              1,
              "#f0f921"
             ]
            ],
            "type": "histogram2dcontour"
           }
          ],
          "mesh3d": [
           {
            "colorbar": {
             "outlinewidth": 0,
             "ticks": ""
            },
            "type": "mesh3d"
           }
          ],
          "parcoords": [
           {
            "line": {
             "colorbar": {
              "outlinewidth": 0,
              "ticks": ""
             }
            },
            "type": "parcoords"
           }
          ],
          "pie": [
           {
            "automargin": true,
            "type": "pie"
           }
          ],
          "scatter": [
           {
            "fillpattern": {
             "fillmode": "overlay",
             "size": 10,
             "solidity": 0.2
            },
            "type": "scatter"
           }
          ],
          "scatter3d": [
           {
            "line": {
             "colorbar": {
              "outlinewidth": 0,
              "ticks": ""
             }
            },
            "marker": {
             "colorbar": {
              "outlinewidth": 0,
              "ticks": ""
             }
            },
            "type": "scatter3d"
           }
          ],
          "scattercarpet": [
           {
            "marker": {
             "colorbar": {
              "outlinewidth": 0,
              "ticks": ""
             }
            },
            "type": "scattercarpet"
           }
          ],
          "scattergeo": [
           {
            "marker": {
             "colorbar": {
              "outlinewidth": 0,
              "ticks": ""
             }
            },
            "type": "scattergeo"
           }
          ],
          "scattergl": [
           {
            "marker": {
             "colorbar": {
              "outlinewidth": 0,
              "ticks": ""
             }
            },
            "type": "scattergl"
           }
          ],
          "scattermapbox": [
           {
            "marker": {
             "colorbar": {
              "outlinewidth": 0,
              "ticks": ""
             }
            },
            "type": "scattermapbox"
           }
          ],
          "scatterpolar": [
           {
            "marker": {
             "colorbar": {
              "outlinewidth": 0,
              "ticks": ""
             }
            },
            "type": "scatterpolar"
           }
          ],
          "scatterpolargl": [
           {
            "marker": {
             "colorbar": {
              "outlinewidth": 0,
              "ticks": ""
             }
            },
            "type": "scatterpolargl"
           }
          ],
          "scatterternary": [
           {
            "marker": {
             "colorbar": {
              "outlinewidth": 0,
              "ticks": ""
             }
            },
            "type": "scatterternary"
           }
          ],
          "surface": [
           {
            "colorbar": {
             "outlinewidth": 0,
             "ticks": ""
            },
            "colorscale": [
             [
              0,
              "#0d0887"
             ],
             [
              0.1111111111111111,
              "#46039f"
             ],
             [
              0.2222222222222222,
              "#7201a8"
             ],
             [
              0.3333333333333333,
              "#9c179e"
             ],
             [
              0.4444444444444444,
              "#bd3786"
             ],
             [
              0.5555555555555556,
              "#d8576b"
             ],
             [
              0.6666666666666666,
              "#ed7953"
             ],
             [
              0.7777777777777778,
              "#fb9f3a"
             ],
             [
              0.8888888888888888,
              "#fdca26"
             ],
             [
              1,
              "#f0f921"
             ]
            ],
            "type": "surface"
           }
          ],
          "table": [
           {
            "cells": {
             "fill": {
              "color": "#EBF0F8"
             },
             "line": {
              "color": "white"
             }
            },
            "header": {
             "fill": {
              "color": "#C8D4E3"
             },
             "line": {
              "color": "white"
             }
            },
            "type": "table"
           }
          ]
         },
         "layout": {
          "annotationdefaults": {
           "arrowcolor": "#2a3f5f",
           "arrowhead": 0,
           "arrowwidth": 1
          },
          "autotypenumbers": "strict",
          "coloraxis": {
           "colorbar": {
            "outlinewidth": 0,
            "ticks": ""
           }
          },
          "colorscale": {
           "diverging": [
            [
             0,
             "#8e0152"
            ],
            [
             0.1,
             "#c51b7d"
            ],
            [
             0.2,
             "#de77ae"
            ],
            [
             0.3,
             "#f1b6da"
            ],
            [
             0.4,
             "#fde0ef"
            ],
            [
             0.5,
             "#f7f7f7"
            ],
            [
             0.6,
             "#e6f5d0"
            ],
            [
             0.7,
             "#b8e186"
            ],
            [
             0.8,
             "#7fbc41"
            ],
            [
             0.9,
             "#4d9221"
            ],
            [
             1,
             "#276419"
            ]
           ],
           "sequential": [
            [
             0,
             "#0d0887"
            ],
            [
             0.1111111111111111,
             "#46039f"
            ],
            [
             0.2222222222222222,
             "#7201a8"
            ],
            [
             0.3333333333333333,
             "#9c179e"
            ],
            [
             0.4444444444444444,
             "#bd3786"
            ],
            [
             0.5555555555555556,
             "#d8576b"
            ],
            [
             0.6666666666666666,
             "#ed7953"
            ],
            [
             0.7777777777777778,
             "#fb9f3a"
            ],
            [
             0.8888888888888888,
             "#fdca26"
            ],
            [
             1,
             "#f0f921"
            ]
           ],
           "sequentialminus": [
            [
             0,
             "#0d0887"
            ],
            [
             0.1111111111111111,
             "#46039f"
            ],
            [
             0.2222222222222222,
             "#7201a8"
            ],
            [
             0.3333333333333333,
             "#9c179e"
            ],
            [
             0.4444444444444444,
             "#bd3786"
            ],
            [
             0.5555555555555556,
             "#d8576b"
            ],
            [
             0.6666666666666666,
             "#ed7953"
            ],
            [
             0.7777777777777778,
             "#fb9f3a"
            ],
            [
             0.8888888888888888,
             "#fdca26"
            ],
            [
             1,
             "#f0f921"
            ]
           ]
          },
          "colorway": [
           "#636efa",
           "#EF553B",
           "#00cc96",
           "#ab63fa",
           "#FFA15A",
           "#19d3f3",
           "#FF6692",
           "#B6E880",
           "#FF97FF",
           "#FECB52"
          ],
          "font": {
           "color": "#2a3f5f"
          },
          "geo": {
           "bgcolor": "white",
           "lakecolor": "white",
           "landcolor": "#E5ECF6",
           "showlakes": true,
           "showland": true,
           "subunitcolor": "white"
          },
          "hoverlabel": {
           "align": "left"
          },
          "hovermode": "closest",
          "mapbox": {
           "style": "light"
          },
          "paper_bgcolor": "white",
          "plot_bgcolor": "#E5ECF6",
          "polar": {
           "angularaxis": {
            "gridcolor": "white",
            "linecolor": "white",
            "ticks": ""
           },
           "bgcolor": "#E5ECF6",
           "radialaxis": {
            "gridcolor": "white",
            "linecolor": "white",
            "ticks": ""
           }
          },
          "scene": {
           "xaxis": {
            "backgroundcolor": "#E5ECF6",
            "gridcolor": "white",
            "gridwidth": 2,
            "linecolor": "white",
            "showbackground": true,
            "ticks": "",
            "zerolinecolor": "white"
           },
           "yaxis": {
            "backgroundcolor": "#E5ECF6",
            "gridcolor": "white",
            "gridwidth": 2,
            "linecolor": "white",
            "showbackground": true,
            "ticks": "",
            "zerolinecolor": "white"
           },
           "zaxis": {
            "backgroundcolor": "#E5ECF6",
            "gridcolor": "white",
            "gridwidth": 2,
            "linecolor": "white",
            "showbackground": true,
            "ticks": "",
            "zerolinecolor": "white"
           }
          },
          "shapedefaults": {
           "line": {
            "color": "#2a3f5f"
           }
          },
          "ternary": {
           "aaxis": {
            "gridcolor": "white",
            "linecolor": "white",
            "ticks": ""
           },
           "baxis": {
            "gridcolor": "white",
            "linecolor": "white",
            "ticks": ""
           },
           "bgcolor": "#E5ECF6",
           "caxis": {
            "gridcolor": "white",
            "linecolor": "white",
            "ticks": ""
           }
          },
          "title": {
           "x": 0.05
          },
          "xaxis": {
           "automargin": true,
           "gridcolor": "white",
           "linecolor": "white",
           "ticks": "",
           "title": {
            "standoff": 15
           },
           "zerolinecolor": "white",
           "zerolinewidth": 2
          },
          "yaxis": {
           "automargin": true,
           "gridcolor": "white",
           "linecolor": "white",
           "ticks": "",
           "title": {
            "standoff": 15
           },
           "zerolinecolor": "white",
           "zerolinewidth": 2
          }
         }
        },
        "title": {
         "text": "Clusters of customers"
        },
        "xaxis": {
         "title": {
          "text": "tarifa_media"
         }
        },
        "yaxis": {
         "title": {
          "text": "consumo_total"
         }
        }
       }
      }
     },
     "metadata": {},
     "output_type": "display_data"
    }
   ],
   "source": [
    "# Supongamos que ya tienes 'dt_dos' cargado\n",
    "# Calculamos variables adicionales\n",
    "dt_dos['consumo_total'] = dt_dos[['consumo_8h', 'consumo_16h']].sum(axis=1)\n",
    "dt_dos['gasto_total'] = dt_dos[['consumo_euros_8h', 'consumo_euros_16h']].sum(axis=1)\n",
    "dt_dos['tarifa_media'] = dt_dos[['tc_8h_euros/kwh/hora', 'tc_16h_euros/kwh/hora']].mean(axis=1)\n",
    "\n",
    "X = dt_dos[['consumo_total', 'gasto_total', 'tarifa_media']]\n",
    "\n",
    "# Normalizar las variables\n",
    "scaler = MinMaxScaler()\n",
    "X_scaled = scaler.fit_transform(X)\n",
    "\n",
    "# Método del codo para determinar el número óptimo de clústeres\n",
    "wcss = []\n",
    "for i in range(1, 11):\n",
    "    kmeans = KMeans(n_clusters=i, init='k-means++', random_state=0)\n",
    "    kmeans.fit(X_scaled)\n",
    "    wcss.append(kmeans.inertia_)\n",
    "\n",
    "# Gráfico del método del codo con plotly\n",
    "fig_elbow = go.Figure()\n",
    "fig_elbow.add_trace(go.Scatter(x=list(range(1, 11)), y=wcss, mode='lines+markers'))\n",
    "fig_elbow.update_layout(title='The Elbow Method',\n",
    "                        xaxis_title='Number of clusters',\n",
    "                        yaxis_title='WCSS')\n",
    "fig_elbow.show()\n",
    "\n",
    "# Aplicar KMeans con el número óptimo de clústeres (4)\n",
    "kmeansmodel = KMeans(n_clusters=4, init='k-means++', random_state=0)\n",
    "y_kmeans = kmeansmodel.fit_predict(X_scaled)\n",
    "\n",
    "# Definir colores y etiquetas para los clusters\n",
    "colors = ['red', 'blue', 'green', 'magenta']\n",
    "labels = ['Cluster 1', 'Cluster 2', 'Cluster 3', 'Cluster 4']\n",
    "\n",
    "# Crear trazas para cada cluster\n",
    "fig_clusters = go.Figure()\n",
    "\n",
    "for i in range(4):\n",
    "    fig_clusters.add_trace(go.Scatter(\n",
    "        x=X_scaled[y_kmeans == i, 0],\n",
    "        y=X_scaled[y_kmeans == i, 1],\n",
    "        mode='markers',\n",
    "        marker=dict(size=10, color=colors[i]),\n",
    "        name=labels[i]\n",
    "    ))\n",
    "\n",
    "# Agregar los centroides\n",
    "centroids = kmeansmodel.cluster_centers_\n",
    "fig_clusters.add_trace(go.Scatter(\n",
    "    x=centroids[:, 0],\n",
    "    y=centroids[:, 1],\n",
    "    mode='markers',\n",
    "    marker=dict(size=15, color='yellow', symbol='x'),\n",
    "    name='Centroids'\n",
    "))\n",
    "\n",
    "# Configurar el layout\n",
    "fig_clusters.update_layout(\n",
    "    title='Clusters of customers',\n",
    "    xaxis_title='tarifa_media',\n",
    "    yaxis_title='consumo_total',\n",
    "    legend_title='Clusters'\n",
    ")\n",
    "\n",
    "fig_clusters.show()"
   ]
  },
  {
   "cell_type": "code",
   "execution_count": 448,
   "metadata": {},
   "outputs": [
    {
     "name": "stderr",
     "output_type": "stream",
     "text": [
      "C:\\Users\\USUARIO\\AppData\\Local\\Temp\\ipykernel_7328\\4012483635.py:3: SettingWithCopyWarning:\n",
      "\n",
      "\n",
      "A value is trying to be set on a copy of a slice from a DataFrame.\n",
      "Try using .loc[row_indexer,col_indexer] = value instead\n",
      "\n",
      "See the caveats in the documentation: https://pandas.pydata.org/pandas-docs/stable/user_guide/indexing.html#returning-a-view-versus-a-copy\n",
      "\n",
      "C:\\Users\\USUARIO\\AppData\\Local\\Temp\\ipykernel_7328\\4012483635.py:4: SettingWithCopyWarning:\n",
      "\n",
      "\n",
      "A value is trying to be set on a copy of a slice from a DataFrame.\n",
      "Try using .loc[row_indexer,col_indexer] = value instead\n",
      "\n",
      "See the caveats in the documentation: https://pandas.pydata.org/pandas-docs/stable/user_guide/indexing.html#returning-a-view-versus-a-copy\n",
      "\n",
      "C:\\Users\\USUARIO\\AppData\\Local\\Temp\\ipykernel_7328\\4012483635.py:5: SettingWithCopyWarning:\n",
      "\n",
      "\n",
      "A value is trying to be set on a copy of a slice from a DataFrame.\n",
      "Try using .loc[row_indexer,col_indexer] = value instead\n",
      "\n",
      "See the caveats in the documentation: https://pandas.pydata.org/pandas-docs/stable/user_guide/indexing.html#returning-a-view-versus-a-copy\n",
      "\n"
     ]
    },
    {
     "data": {
      "application/vnd.plotly.v1+json": {
       "config": {
        "plotlyServerURL": "https://plot.ly"
       },
       "data": [
        {
         "marker": {
          "color": "red",
          "size": 10
         },
         "mode": "markers",
         "name": "Cluster 1",
         "type": "scatter",
         "x": [
          0.16885,
          0.16885,
          0.16885,
          0.16885,
          0.16885,
          0.16885,
          0.16885,
          0.16885,
          0.16885,
          0.174,
          0.174,
          0.174,
          0.174,
          0.174,
          0.174,
          0.174,
          0.174,
          0.174,
          0.174,
          0.174,
          0.174,
          0.174,
          0.146,
          0.146,
          0.146,
          0.146,
          0.146,
          0.146,
          0.159,
          0.159,
          0.159,
          0.159,
          0.159,
          0.159,
          0.159,
          0.159,
          0.159,
          0.159,
          0.1605,
          0.1605,
          0.1605,
          0.1605,
          0.1605,
          0.1605,
          0.1605,
          0.1605,
          0.1605,
          0.1605,
          0.1605,
          0.1605,
          0.15239999999999998,
          0.15239999999999998,
          0.15239999999999998,
          0.15239999999999998,
          0.15239999999999998,
          0.15239999999999998,
          0.15239999999999998,
          0.15239999999999998,
          0.15239999999999998,
          0.15239999999999998,
          0.15239999999999998,
          0.15239999999999998
         ],
         "y": [
          187,
          137,
          120,
          157,
          121,
          188,
          148,
          158,
          114,
          150,
          207,
          154,
          163,
          150,
          120,
          117,
          159,
          113,
          108,
          189,
          152,
          183,
          107,
          134,
          149,
          153,
          103,
          153,
          143,
          113,
          147,
          114,
          139,
          181,
          210,
          152,
          123,
          140,
          114,
          144,
          164,
          170,
          108,
          187,
          162,
          180,
          132,
          104,
          140,
          127,
          202,
          126,
          114,
          189,
          141,
          162,
          195,
          151,
          195,
          128,
          135,
          112
         ]
        },
        {
         "marker": {
          "color": "blue",
          "size": 10
         },
         "mode": "markers",
         "name": "Cluster 2",
         "type": "scatter",
         "x": [
          0.1296225,
          0.16885,
          0.16885,
          0.16885,
          0.16885,
          0.16885,
          0.16885,
          0.16885,
          0.16885,
          0.16885,
          0.16885,
          0.16885,
          0.174,
          0.174,
          0.174,
          0.174,
          0.174,
          0.174,
          0.174,
          0.146,
          0.146,
          0.146,
          0.146,
          0.146,
          0.146,
          0.159,
          0.159,
          0.159,
          0.159,
          0.159,
          0.159,
          0.159,
          0.159,
          0.159,
          0.159,
          0.1605,
          0.1605,
          0.1605,
          0.1605,
          0.1605,
          0.1605,
          0.1605,
          0.1605,
          0.15239999999999998,
          0.15239999999999998,
          0.15239999999999998,
          0.15239999999999998,
          0.15239999999999998,
          0.15239999999999998,
          0.15239999999999998,
          0.134112
         ],
         "y": [
          279,
          257,
          229,
          291,
          287,
          260,
          269,
          287,
          289,
          289,
          274,
          289,
          230,
          234,
          172,
          266,
          231,
          188,
          229,
          287,
          298,
          274,
          231,
          233,
          290,
          245,
          261,
          289,
          194,
          299,
          289,
          253,
          287,
          223,
          256,
          188,
          228,
          235,
          238,
          235,
          262,
          262,
          222,
          236,
          278,
          231,
          250,
          242,
          270,
          259,
          286
         ]
        },
        {
         "marker": {
          "color": "green",
          "size": 10
         },
         "mode": "markers",
         "name": "Cluster 3",
         "type": "scatter",
         "x": [
          0.1296225,
          0.1296225,
          0.1296225,
          0.1296225,
          0.1296225,
          0.146,
          0.1149995,
          0.1149995,
          0.1149995,
          0.1149995,
          0.1149995,
          0.1149995,
          0.1149995,
          0.1149995,
          0.1149995,
          0.1149995,
          0.1149995,
          0.134112,
          0.134112,
          0.134112,
          0.134112,
          0.134112,
          0.134112,
          0.134112,
          0.134112,
          0.134112,
          0.134112,
          0.134112
         ],
         "y": [
          114,
          171,
          120,
          152,
          101,
          101,
          171,
          111,
          132,
          147,
          250,
          161,
          136,
          198,
          134,
          100,
          104,
          170,
          185,
          127,
          165,
          144,
          161,
          127,
          127,
          143,
          129,
          174
         ]
        },
        {
         "marker": {
          "color": "magenta",
          "size": 10
         },
         "mode": "markers",
         "name": "Cluster 4",
         "type": "scatter",
         "x": [
          0.1296225,
          0.1296225,
          0.1296225,
          0.1296225,
          0.1296225,
          0.1296225,
          0.1296225,
          0.1296225,
          0.1296225,
          0.1296225,
          0.1296225,
          0.1296225,
          0.1296225,
          0.1296225,
          0.146,
          0.146,
          0.146,
          0.146,
          0.146,
          0.146,
          0.146,
          0.1149995,
          0.1149995,
          0.1149995,
          0.1149995,
          0.1149995,
          0.1149995,
          0.1149995,
          0.1149995,
          0.1149995,
          0.15239999999999998,
          0.134112,
          0.134112,
          0.134112,
          0.134112,
          0.134112,
          0.134112,
          0.134112,
          0.134112
         ],
         "y": [
          202,
          192,
          206,
          288,
          202,
          221,
          174,
          187,
          216,
          199,
          203,
          251,
          230,
          249,
          191,
          210,
          271,
          180,
          263,
          203,
          205,
          234,
          261,
          271,
          203,
          292,
          200,
          274,
          230,
          241,
          223,
          269,
          284,
          233,
          207,
          183,
          289,
          227,
          191
         ]
        },
        {
         "marker": {
          "color": "yellow",
          "size": 15,
          "symbol": "x"
         },
         "mode": "markers",
         "name": "Centroids",
         "type": "scatter",
         "x": [
          0.1613298387096774,
          0.1599193039215686,
          0.12622639285714285,
          0.13069247435897438
         ],
         "y": [
          147.38709677419357,
          254.52941176470588,
          144.82142857142856,
          227.05128205128204
         ]
        }
       ],
       "layout": {
        "legend": {
         "title": {
          "text": "Clusters"
         }
        },
        "template": {
         "data": {
          "bar": [
           {
            "error_x": {
             "color": "#2a3f5f"
            },
            "error_y": {
             "color": "#2a3f5f"
            },
            "marker": {
             "line": {
              "color": "#E5ECF6",
              "width": 0.5
             },
             "pattern": {
              "fillmode": "overlay",
              "size": 10,
              "solidity": 0.2
             }
            },
            "type": "bar"
           }
          ],
          "barpolar": [
           {
            "marker": {
             "line": {
              "color": "#E5ECF6",
              "width": 0.5
             },
             "pattern": {
              "fillmode": "overlay",
              "size": 10,
              "solidity": 0.2
             }
            },
            "type": "barpolar"
           }
          ],
          "carpet": [
           {
            "aaxis": {
             "endlinecolor": "#2a3f5f",
             "gridcolor": "white",
             "linecolor": "white",
             "minorgridcolor": "white",
             "startlinecolor": "#2a3f5f"
            },
            "baxis": {
             "endlinecolor": "#2a3f5f",
             "gridcolor": "white",
             "linecolor": "white",
             "minorgridcolor": "white",
             "startlinecolor": "#2a3f5f"
            },
            "type": "carpet"
           }
          ],
          "choropleth": [
           {
            "colorbar": {
             "outlinewidth": 0,
             "ticks": ""
            },
            "type": "choropleth"
           }
          ],
          "contour": [
           {
            "colorbar": {
             "outlinewidth": 0,
             "ticks": ""
            },
            "colorscale": [
             [
              0,
              "#0d0887"
             ],
             [
              0.1111111111111111,
              "#46039f"
             ],
             [
              0.2222222222222222,
              "#7201a8"
             ],
             [
              0.3333333333333333,
              "#9c179e"
             ],
             [
              0.4444444444444444,
              "#bd3786"
             ],
             [
              0.5555555555555556,
              "#d8576b"
             ],
             [
              0.6666666666666666,
              "#ed7953"
             ],
             [
              0.7777777777777778,
              "#fb9f3a"
             ],
             [
              0.8888888888888888,
              "#fdca26"
             ],
             [
              1,
              "#f0f921"
             ]
            ],
            "type": "contour"
           }
          ],
          "contourcarpet": [
           {
            "colorbar": {
             "outlinewidth": 0,
             "ticks": ""
            },
            "type": "contourcarpet"
           }
          ],
          "heatmap": [
           {
            "colorbar": {
             "outlinewidth": 0,
             "ticks": ""
            },
            "colorscale": [
             [
              0,
              "#0d0887"
             ],
             [
              0.1111111111111111,
              "#46039f"
             ],
             [
              0.2222222222222222,
              "#7201a8"
             ],
             [
              0.3333333333333333,
              "#9c179e"
             ],
             [
              0.4444444444444444,
              "#bd3786"
             ],
             [
              0.5555555555555556,
              "#d8576b"
             ],
             [
              0.6666666666666666,
              "#ed7953"
             ],
             [
              0.7777777777777778,
              "#fb9f3a"
             ],
             [
              0.8888888888888888,
              "#fdca26"
             ],
             [
              1,
              "#f0f921"
             ]
            ],
            "type": "heatmap"
           }
          ],
          "heatmapgl": [
           {
            "colorbar": {
             "outlinewidth": 0,
             "ticks": ""
            },
            "colorscale": [
             [
              0,
              "#0d0887"
             ],
             [
              0.1111111111111111,
              "#46039f"
             ],
             [
              0.2222222222222222,
              "#7201a8"
             ],
             [
              0.3333333333333333,
              "#9c179e"
             ],
             [
              0.4444444444444444,
              "#bd3786"
             ],
             [
              0.5555555555555556,
              "#d8576b"
             ],
             [
              0.6666666666666666,
              "#ed7953"
             ],
             [
              0.7777777777777778,
              "#fb9f3a"
             ],
             [
              0.8888888888888888,
              "#fdca26"
             ],
             [
              1,
              "#f0f921"
             ]
            ],
            "type": "heatmapgl"
           }
          ],
          "histogram": [
           {
            "marker": {
             "pattern": {
              "fillmode": "overlay",
              "size": 10,
              "solidity": 0.2
             }
            },
            "type": "histogram"
           }
          ],
          "histogram2d": [
           {
            "colorbar": {
             "outlinewidth": 0,
             "ticks": ""
            },
            "colorscale": [
             [
              0,
              "#0d0887"
             ],
             [
              0.1111111111111111,
              "#46039f"
             ],
             [
              0.2222222222222222,
              "#7201a8"
             ],
             [
              0.3333333333333333,
              "#9c179e"
             ],
             [
              0.4444444444444444,
              "#bd3786"
             ],
             [
              0.5555555555555556,
              "#d8576b"
             ],
             [
              0.6666666666666666,
              "#ed7953"
             ],
             [
              0.7777777777777778,
              "#fb9f3a"
             ],
             [
              0.8888888888888888,
              "#fdca26"
             ],
             [
              1,
              "#f0f921"
             ]
            ],
            "type": "histogram2d"
           }
          ],
          "histogram2dcontour": [
           {
            "colorbar": {
             "outlinewidth": 0,
             "ticks": ""
            },
            "colorscale": [
             [
              0,
              "#0d0887"
             ],
             [
              0.1111111111111111,
              "#46039f"
             ],
             [
              0.2222222222222222,
              "#7201a8"
             ],
             [
              0.3333333333333333,
              "#9c179e"
             ],
             [
              0.4444444444444444,
              "#bd3786"
             ],
             [
              0.5555555555555556,
              "#d8576b"
             ],
             [
              0.6666666666666666,
              "#ed7953"
             ],
             [
              0.7777777777777778,
              "#fb9f3a"
             ],
             [
              0.8888888888888888,
              "#fdca26"
             ],
             [
              1,
              "#f0f921"
             ]
            ],
            "type": "histogram2dcontour"
           }
          ],
          "mesh3d": [
           {
            "colorbar": {
             "outlinewidth": 0,
             "ticks": ""
            },
            "type": "mesh3d"
           }
          ],
          "parcoords": [
           {
            "line": {
             "colorbar": {
              "outlinewidth": 0,
              "ticks": ""
             }
            },
            "type": "parcoords"
           }
          ],
          "pie": [
           {
            "automargin": true,
            "type": "pie"
           }
          ],
          "scatter": [
           {
            "fillpattern": {
             "fillmode": "overlay",
             "size": 10,
             "solidity": 0.2
            },
            "type": "scatter"
           }
          ],
          "scatter3d": [
           {
            "line": {
             "colorbar": {
              "outlinewidth": 0,
              "ticks": ""
             }
            },
            "marker": {
             "colorbar": {
              "outlinewidth": 0,
              "ticks": ""
             }
            },
            "type": "scatter3d"
           }
          ],
          "scattercarpet": [
           {
            "marker": {
             "colorbar": {
              "outlinewidth": 0,
              "ticks": ""
             }
            },
            "type": "scattercarpet"
           }
          ],
          "scattergeo": [
           {
            "marker": {
             "colorbar": {
              "outlinewidth": 0,
              "ticks": ""
             }
            },
            "type": "scattergeo"
           }
          ],
          "scattergl": [
           {
            "marker": {
             "colorbar": {
              "outlinewidth": 0,
              "ticks": ""
             }
            },
            "type": "scattergl"
           }
          ],
          "scattermapbox": [
           {
            "marker": {
             "colorbar": {
              "outlinewidth": 0,
              "ticks": ""
             }
            },
            "type": "scattermapbox"
           }
          ],
          "scatterpolar": [
           {
            "marker": {
             "colorbar": {
              "outlinewidth": 0,
              "ticks": ""
             }
            },
            "type": "scatterpolar"
           }
          ],
          "scatterpolargl": [
           {
            "marker": {
             "colorbar": {
              "outlinewidth": 0,
              "ticks": ""
             }
            },
            "type": "scatterpolargl"
           }
          ],
          "scatterternary": [
           {
            "marker": {
             "colorbar": {
              "outlinewidth": 0,
              "ticks": ""
             }
            },
            "type": "scatterternary"
           }
          ],
          "surface": [
           {
            "colorbar": {
             "outlinewidth": 0,
             "ticks": ""
            },
            "colorscale": [
             [
              0,
              "#0d0887"
             ],
             [
              0.1111111111111111,
              "#46039f"
             ],
             [
              0.2222222222222222,
              "#7201a8"
             ],
             [
              0.3333333333333333,
              "#9c179e"
             ],
             [
              0.4444444444444444,
              "#bd3786"
             ],
             [
              0.5555555555555556,
              "#d8576b"
             ],
             [
              0.6666666666666666,
              "#ed7953"
             ],
             [
              0.7777777777777778,
              "#fb9f3a"
             ],
             [
              0.8888888888888888,
              "#fdca26"
             ],
             [
              1,
              "#f0f921"
             ]
            ],
            "type": "surface"
           }
          ],
          "table": [
           {
            "cells": {
             "fill": {
              "color": "#EBF0F8"
             },
             "line": {
              "color": "white"
             }
            },
            "header": {
             "fill": {
              "color": "#C8D4E3"
             },
             "line": {
              "color": "white"
             }
            },
            "type": "table"
           }
          ]
         },
         "layout": {
          "annotationdefaults": {
           "arrowcolor": "#2a3f5f",
           "arrowhead": 0,
           "arrowwidth": 1
          },
          "autotypenumbers": "strict",
          "coloraxis": {
           "colorbar": {
            "outlinewidth": 0,
            "ticks": ""
           }
          },
          "colorscale": {
           "diverging": [
            [
             0,
             "#8e0152"
            ],
            [
             0.1,
             "#c51b7d"
            ],
            [
             0.2,
             "#de77ae"
            ],
            [
             0.3,
             "#f1b6da"
            ],
            [
             0.4,
             "#fde0ef"
            ],
            [
             0.5,
             "#f7f7f7"
            ],
            [
             0.6,
             "#e6f5d0"
            ],
            [
             0.7,
             "#b8e186"
            ],
            [
             0.8,
             "#7fbc41"
            ],
            [
             0.9,
             "#4d9221"
            ],
            [
             1,
             "#276419"
            ]
           ],
           "sequential": [
            [
             0,
             "#0d0887"
            ],
            [
             0.1111111111111111,
             "#46039f"
            ],
            [
             0.2222222222222222,
             "#7201a8"
            ],
            [
             0.3333333333333333,
             "#9c179e"
            ],
            [
             0.4444444444444444,
             "#bd3786"
            ],
            [
             0.5555555555555556,
             "#d8576b"
            ],
            [
             0.6666666666666666,
             "#ed7953"
            ],
            [
             0.7777777777777778,
             "#fb9f3a"
            ],
            [
             0.8888888888888888,
             "#fdca26"
            ],
            [
             1,
             "#f0f921"
            ]
           ],
           "sequentialminus": [
            [
             0,
             "#0d0887"
            ],
            [
             0.1111111111111111,
             "#46039f"
            ],
            [
             0.2222222222222222,
             "#7201a8"
            ],
            [
             0.3333333333333333,
             "#9c179e"
            ],
            [
             0.4444444444444444,
             "#bd3786"
            ],
            [
             0.5555555555555556,
             "#d8576b"
            ],
            [
             0.6666666666666666,
             "#ed7953"
            ],
            [
             0.7777777777777778,
             "#fb9f3a"
            ],
            [
             0.8888888888888888,
             "#fdca26"
            ],
            [
             1,
             "#f0f921"
            ]
           ]
          },
          "colorway": [
           "#636efa",
           "#EF553B",
           "#00cc96",
           "#ab63fa",
           "#FFA15A",
           "#19d3f3",
           "#FF6692",
           "#B6E880",
           "#FF97FF",
           "#FECB52"
          ],
          "font": {
           "color": "#2a3f5f"
          },
          "geo": {
           "bgcolor": "white",
           "lakecolor": "white",
           "landcolor": "#E5ECF6",
           "showlakes": true,
           "showland": true,
           "subunitcolor": "white"
          },
          "hoverlabel": {
           "align": "left"
          },
          "hovermode": "closest",
          "mapbox": {
           "style": "light"
          },
          "paper_bgcolor": "white",
          "plot_bgcolor": "#E5ECF6",
          "polar": {
           "angularaxis": {
            "gridcolor": "white",
            "linecolor": "white",
            "ticks": ""
           },
           "bgcolor": "#E5ECF6",
           "radialaxis": {
            "gridcolor": "white",
            "linecolor": "white",
            "ticks": ""
           }
          },
          "scene": {
           "xaxis": {
            "backgroundcolor": "#E5ECF6",
            "gridcolor": "white",
            "gridwidth": 2,
            "linecolor": "white",
            "showbackground": true,
            "ticks": "",
            "zerolinecolor": "white"
           },
           "yaxis": {
            "backgroundcolor": "#E5ECF6",
            "gridcolor": "white",
            "gridwidth": 2,
            "linecolor": "white",
            "showbackground": true,
            "ticks": "",
            "zerolinecolor": "white"
           },
           "zaxis": {
            "backgroundcolor": "#E5ECF6",
            "gridcolor": "white",
            "gridwidth": 2,
            "linecolor": "white",
            "showbackground": true,
            "ticks": "",
            "zerolinecolor": "white"
           }
          },
          "shapedefaults": {
           "line": {
            "color": "#2a3f5f"
           }
          },
          "ternary": {
           "aaxis": {
            "gridcolor": "white",
            "linecolor": "white",
            "ticks": ""
           },
           "baxis": {
            "gridcolor": "white",
            "linecolor": "white",
            "ticks": ""
           },
           "bgcolor": "#E5ECF6",
           "caxis": {
            "gridcolor": "white",
            "linecolor": "white",
            "ticks": ""
           }
          },
          "title": {
           "x": 0.05
          },
          "xaxis": {
           "automargin": true,
           "gridcolor": "white",
           "linecolor": "white",
           "ticks": "",
           "title": {
            "standoff": 15
           },
           "zerolinecolor": "white",
           "zerolinewidth": 2
          },
          "yaxis": {
           "automargin": true,
           "gridcolor": "white",
           "linecolor": "white",
           "ticks": "",
           "title": {
            "standoff": 15
           },
           "zerolinecolor": "white",
           "zerolinewidth": 2
          }
         }
        },
        "title": {
         "text": "Clusters of customers (Descaled)"
        },
        "xaxis": {
         "title": {
          "text": "tarifa_media"
         }
        },
        "yaxis": {
         "title": {
          "text": "consumo_total"
         }
        }
       }
      }
     },
     "metadata": {},
     "output_type": "display_data"
    }
   ],
   "source": [
    "# Supongamos que ya tienes 'dt_dos' cargado\n",
    "# Calculamos variables adicionales\n",
    "dt_dos['consumo_total'] = dt_dos[['consumo_8h', 'consumo_16h']].sum(axis=1)\n",
    "dt_dos['gasto_total'] = dt_dos[['consumo_euros_8h', 'consumo_euros_16h']].sum(axis=1)\n",
    "dt_dos['tarifa_media'] = dt_dos[['tc_8h_euros/kwh/hora', 'tc_16h_euros/kwh/hora']].mean(axis=1)\n",
    "\n",
    "X = dt_dos[['consumo_total', 'gasto_total', 'tarifa_media']]\n",
    "\n",
    "# Normalizar las variables\n",
    "scaler = StandardScaler()\n",
    "X_scaled = scaler.fit_transform(X)\n",
    "\n",
    "# Aplicar KMeans con el número óptimo de clústeres (4)\n",
    "kmeansmodel = KMeans(n_clusters=4, init='k-means++', random_state=0)\n",
    "y_kmeans = kmeansmodel.fit_predict(X_scaled)\n",
    "\n",
    "# Revertir el escalado de los datos\n",
    "X_reverted = scaler.inverse_transform(X_scaled)\n",
    "centroids_reverted = scaler.inverse_transform(kmeansmodel.cluster_centers_)\n",
    "\n",
    "# Definir colores y etiquetas para los clusters\n",
    "colors = ['red', 'blue', 'green', 'magenta']\n",
    "labels = ['Cluster 1', 'Cluster 2', 'Cluster 3', 'Cluster 4']\n",
    "\n",
    "# Crear trazas para cada cluster con los datos desescalados\n",
    "fig_clusters = go.Figure()\n",
    "\n",
    "for i in range(4):\n",
    "    fig_clusters.add_trace(go.Scatter(\n",
    "        x=X_reverted[y_kmeans == i, 2],  # 'tarifa_media'\n",
    "        y=X_reverted[y_kmeans == i, 0],  # 'consumo_total'\n",
    "        mode='markers',\n",
    "        marker=dict(size=10, color=colors[i]),\n",
    "        name=labels[i]\n",
    "    ))\n",
    "\n",
    "# Agregar los centroides desescalados\n",
    "fig_clusters.add_trace(go.Scatter(\n",
    "    x=centroids_reverted[:, 2],  # 'tarifa_media'\n",
    "    y=centroids_reverted[:, 0],  # 'consumo_total'\n",
    "    mode='markers',\n",
    "    marker=dict(size=15, color='yellow', symbol='x'),\n",
    "    name='Centroids'\n",
    "))\n",
    "\n",
    "# Configurar el layout\n",
    "fig_clusters.update_layout(\n",
    "    title='Clusters of customers (Descaled)',\n",
    "    xaxis_title='tarifa_media',\n",
    "    yaxis_title='consumo_total',\n",
    "    legend_title='Clusters'\n",
    ")\n",
    "\n",
    "fig_clusters.show()"
   ]
  }
 ],
 "metadata": {
  "kernelspec": {
   "display_name": "Python 3",
   "language": "python",
   "name": "python3"
  },
  "language_info": {
   "codemirror_mode": {
    "name": "ipython",
    "version": 3
   },
   "file_extension": ".py",
   "mimetype": "text/x-python",
   "name": "python",
   "nbconvert_exporter": "python",
   "pygments_lexer": "ipython3",
   "version": "3.10.10"
  }
 },
 "nbformat": 4,
 "nbformat_minor": 2
}
