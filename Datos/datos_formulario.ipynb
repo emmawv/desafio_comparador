{
 "cells": [
  {
   "cell_type": "code",
   "execution_count": 2,
   "metadata": {},
   "outputs": [
    {
     "data": {
      "text/html": [
       "<div>\n",
       "<style scoped>\n",
       "    .dataframe tbody tr th:only-of-type {\n",
       "        vertical-align: middle;\n",
       "    }\n",
       "\n",
       "    .dataframe tbody tr th {\n",
       "        vertical-align: top;\n",
       "    }\n",
       "\n",
       "    .dataframe thead th {\n",
       "        text-align: right;\n",
       "    }\n",
       "</style>\n",
       "<table border=\"1\" class=\"dataframe\">\n",
       "  <thead>\n",
       "    <tr style=\"text-align: right;\">\n",
       "      <th></th>\n",
       "      <th>Discriminacion horaria</th>\n",
       "      <th>Termino de potencia en valle</th>\n",
       "      <th>Termino de potencia en punta</th>\n",
       "      <th>Consumo en punta (kWh)</th>\n",
       "      <th>Consumo en llano (kWh)</th>\n",
       "      <th>Consumo en valle (kWh)</th>\n",
       "      <th>Consumo total (kWh)</th>\n",
       "    </tr>\n",
       "  </thead>\n",
       "  <tbody>\n",
       "    <tr>\n",
       "      <th>0</th>\n",
       "      <td>No</td>\n",
       "      <td>3,3</td>\n",
       "      <td>3,3</td>\n",
       "      <td>NaN</td>\n",
       "      <td>NaN</td>\n",
       "      <td>NaN</td>\n",
       "      <td>3.3</td>\n",
       "    </tr>\n",
       "    <tr>\n",
       "      <th>1</th>\n",
       "      <td>Sí</td>\n",
       "      <td>4,6</td>\n",
       "      <td>4,6</td>\n",
       "      <td>4.6</td>\n",
       "      <td>4.6</td>\n",
       "      <td>4.6</td>\n",
       "      <td>NaN</td>\n",
       "    </tr>\n",
       "  </tbody>\n",
       "</table>\n",
       "</div>"
      ],
      "text/plain": [
       "  Discriminacion horaria Termino de potencia en valle  \\\n",
       "0                     No                          3,3   \n",
       "1                     Sí                          4,6   \n",
       "\n",
       "  Termino de potencia en punta  Consumo en punta (kWh)  \\\n",
       "0                          3,3                     NaN   \n",
       "1                          4,6                     4.6   \n",
       "\n",
       "   Consumo en llano (kWh)  Consumo en valle (kWh)  Consumo total (kWh)  \n",
       "0                     NaN                     NaN                  3.3  \n",
       "1                     4.6                     4.6                  NaN  "
      ]
     },
     "execution_count": 2,
     "metadata": {},
     "output_type": "execute_result"
    }
   ],
   "source": [
    "import pandas as pd\n",
    "\n",
    "datos_formulario = pd.read_csv('datos_tarifas.csv')\n",
    "datos_formulario"
   ]
  },
  {
   "cell_type": "code",
   "execution_count": null,
   "metadata": {},
   "outputs": [],
   "source": [
    "datos_formulario"
   ]
  },
  {
   "cell_type": "code",
   "execution_count": 7,
   "metadata": {},
   "outputs": [
    {
     "data": {
      "text/plain": [
       "Index(['id', 'compania', 'tarifa', 'tp_punta_euros/kwh/dia',\n",
       "       'tp_valle_euros/kwh/dia', 'peaje_tran_dist_pot_punta',\n",
       "       'peaje_tran_dist_pot_valle', 'peaje_ener_valle_tdc',\n",
       "       'peaje_ener_llano_tdc', 'peaje_ener_punta_tdc',\n",
       "       'termino_consumo_euros/kwh/hora', 'tc_valle_euros/kwh/hora',\n",
       "       'tc_llano_euros/kwh/hora', 'tc_punta_euros/kwh/hora',\n",
       "       'tc_8h_euros/kwh/hora', 'tc_16h_euros/kwh/hora', 'mercado', 'tipo',\n",
       "       'otros', 'alquiler_equipo_euros/dia', 'impuesto_actual',\n",
       "       'bono_social_euro/dia', 'margen_euros/kWh/dia'],\n",
       "      dtype='object')"
      ]
     },
     "execution_count": 7,
     "metadata": {},
     "output_type": "execute_result"
    }
   ],
   "source": [
    "data_tarifas = pd.read_csv('database_desafio.csv', sep =';')\n",
    "data_tarifas.columns\n"
   ]
  }
 ],
 "metadata": {
  "kernelspec": {
   "display_name": "Python 3",
   "language": "python",
   "name": "python3"
  },
  "language_info": {
   "codemirror_mode": {
    "name": "ipython",
    "version": 3
   },
   "file_extension": ".py",
   "mimetype": "text/x-python",
   "name": "python",
   "nbconvert_exporter": "python",
   "pygments_lexer": "ipython3",
   "version": "3.11.6"
  }
 },
 "nbformat": 4,
 "nbformat_minor": 2
}
