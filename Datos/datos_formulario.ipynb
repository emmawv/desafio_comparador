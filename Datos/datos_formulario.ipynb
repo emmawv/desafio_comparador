{
 "cells": [
  {
   "cell_type": "code",
   "execution_count": null,
   "metadata": {},
   "outputs": [],
   "source": [
    "import pandas as pd\n",
    "\n",
    "datos_formulario = pd.read_csv('datos_tarifas.csv')\n",
    "datos_formulario"
   ]
  },
  {
   "cell_type": "code",
   "execution_count": null,
   "metadata": {},
   "outputs": [],
   "source": [
    "datos_formulario"
   ]
  },
  {
   "cell_type": "code",
   "execution_count": null,
   "metadata": {},
   "outputs": [],
   "source": [
    "data_tarifas = pd.read_csv('database_desafio.csv', sep =';')\n",
    "data_tarifas.columns\n"
   ]
  },
  {
   "cell_type": "code",
   "execution_count": null,
   "metadata": {},
   "outputs": [],
   "source": [
    "consumo_usuario = datos_formulario['Total factura'].tail(1)\n",
    "consumo_usuario"
   ]
  },
  {
   "cell_type": "code",
   "execution_count": null,
   "metadata": {},
   "outputs": [],
   "source": [
    "res = pd.read_csv('resultados.csv')\n",
    "res.drop(columns=['Unnamed: 0', 'id'], inplace=True)\n",
    "res['tipo'].value_counts()"
   ]
  },
  {
   "cell_type": "code",
   "execution_count": 97,
   "metadata": {},
   "outputs": [
    {
     "data": {
      "text/plain": [
       "Index(['id', 'compania', 'tarifa', 'tp_punta_euros/kwh/dia',\n",
       "       'tp_valle_euros/kwh/dia', 'peaje_tran_dist_pot_punta',\n",
       "       'peaje_tran_dist_pot_valle', 'peaje_ener_valle_tdc',\n",
       "       'peaje_ener_llano_tdc', 'peaje_ener_punta_tdc',\n",
       "       'termino_consumo_euros/kwh/hora', 'tc_valle_euros/kwh/hora',\n",
       "       'tc_llano_euros/kwh/hora', 'tc_punta_euros/kwh/hora',\n",
       "       'tc_8h_euros/kwh/hora', 'tc_16h_euros/kwh/hora', 'mercado', 'tipo',\n",
       "       'otros', 'alquiler_equipo_euros/dia', 'impuesto_actual',\n",
       "       'bono_social_euro/dia', 'margen_euros/kWh/dia'],\n",
       "      dtype='object')"
      ]
     },
     "execution_count": 97,
     "metadata": {},
     "output_type": "execute_result"
    }
   ],
   "source": [
    "pd.set_option('display.max_columns',800)\n",
    "tarifas = pd.read_csv('tarifas.csv', sep=\";\" )\n",
    "\n",
    "tarifas.columns"
   ]
  },
  {
   "cell_type": "code",
   "execution_count": null,
   "metadata": {},
   "outputs": [],
   "source": [
    "tarifas['mercado'].value_counts()"
   ]
  },
  {
   "cell_type": "code",
   "execution_count": null,
   "metadata": {},
   "outputs": [],
   "source": [
    "potencia = (tarifas['tp_punta_euros/kwh/dia'] + tarifas['tp_valle_euros/kwh/dia'])*365      #calculo de potencia anual, sin peajes ni impuestos\n",
    "potencia"
   ]
  },
  {
   "cell_type": "code",
   "execution_count": null,
   "metadata": {},
   "outputs": [],
   "source": [
    "tarifas.columns"
   ]
  },
  {
   "cell_type": "code",
   "execution_count": null,
   "metadata": {},
   "outputs": [],
   "source": [
    "consumo_2t = tarifas[['tc_8h_euros/kwh/hora', 'tc_16h_euros/kwh/hora']].mean(axis=1)                                    #consumo medio para tarifas 8 y 16\n",
    "consumo_2t = consumo_2t[consumo_2t > 0]\n",
    "\n",
    "consumo_2t.shape"
   ]
  },
  {
   "cell_type": "code",
   "execution_count": null,
   "metadata": {},
   "outputs": [],
   "source": [
    "consumo_3t = tarifas[['tc_valle_euros/kwh/hora','tc_llano_euros/kwh/hora','tc_punta_euros/kwh/hora']].mean(axis=1)           #tienen que salir 48 Consumo medio para tarifa 3 tramos\n",
    "consumo_3t = consumo_3t[consumo_3t > 0]\n",
    "consumo_3t.value_counts()\n",
    "consumo_3t.shape"
   ]
  },
  {
   "cell_type": "code",
   "execution_count": 89,
   "metadata": {},
   "outputs": [],
   "source": [
    "def definir_tramos(row):\n",
    "    # Verificar si hay valores mayores a 0 en las columnas de 8h y 16h (2 Tramos)\n",
    "    if row['tc_8h_euros/kwh/hora'] > 0 and row['tc_16h_euros/kwh/hora'] > 0:\n",
    "        return '2 Tramos'\n",
    "    # Verificar si hay valores mayores a 0 en las columnas de Punta, Valle o Llano (3 Tramos)\n",
    "    elif row['tc_punta_euros/kwh/hora'] > 0 or row['tc_valle_euros/kwh/hora'] > 0 or row['tc_llano_euros/kwh/hora'] > 0:\n",
    "        return '3 Tramos'\n",
    "    elif row['termino_consumo_euros/kwh/hora'] > 0:\n",
    "        return 'Sin tramo'\n",
    "    else:\n",
    "        return None  # Si no cumple ninguna condición\n",
    "\n",
    "# Aplicar la función al DataFrame\n",
    "tarifas['Tramos'] = tarifas.apply(definir_tramos, axis=1)\n"
   ]
  },
  {
   "cell_type": "code",
   "execution_count": null,
   "metadata": {},
   "outputs": [],
   "source": [
    "consumo_tp = tarifas['termino_consumo_euros/kwh/hora']\n",
    "consumo_tp = consumo_tp[consumo_tp > 0]\n",
    "consumo_tp.shape"
   ]
  },
  {
   "cell_type": "code",
   "execution_count": null,
   "metadata": {},
   "outputs": [],
   "source": [
    "tarifas"
   ]
  },
  {
   "cell_type": "code",
   "execution_count": null,
   "metadata": {},
   "outputs": [],
   "source": [
    "tarifas['Tramos'].shape"
   ]
  },
  {
   "cell_type": "code",
   "execution_count": null,
   "metadata": {},
   "outputs": [],
   "source": [
    "consumo = pd.concat([consumo_2t, consumo_3t,consumo_tp], ignore_index=True)\n",
    "consumo.shape"
   ]
  },
  {
   "cell_type": "code",
   "execution_count": 95,
   "metadata": {},
   "outputs": [],
   "source": [
    "tarifas['consumo'] = consumo\n",
    "tarifas['potencia'] = potencia"
   ]
  },
  {
   "cell_type": "code",
   "execution_count": null,
   "metadata": {},
   "outputs": [],
   "source": [
    "tarifas"
   ]
  }
 ],
 "metadata": {
  "kernelspec": {
   "display_name": "Python 3",
   "language": "python",
   "name": "python3"
  },
  "language_info": {
   "codemirror_mode": {
    "name": "ipython",
    "version": 3
   },
   "file_extension": ".py",
   "mimetype": "text/x-python",
   "name": "python",
   "nbconvert_exporter": "python",
   "pygments_lexer": "ipython3",
   "version": "3.11.6"
  }
 },
 "nbformat": 4,
 "nbformat_minor": 2
}
