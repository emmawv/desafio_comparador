{
 "cells": [
  {
   "cell_type": "code",
   "execution_count": null,
   "metadata": {},
   "outputs": [],
   "source": [
    "import PyPDF2\n",
    "import os\n",
    "import re\n",
    "\n",
    "def extraer_datos(pdf_file_path):\n",
    "    with open(pdf_file_path, 'rb') as file:\n",
    "        pdf_reader = PyPDF2.PdfReader(file)\n",
    "\n",
    "        text = ''\n",
    "\n",
    "        for page_num in range(len(pdf_reader.pages)):\n",
    "            page = pdf_reader.pages[page_num]\n",
    "            text += page.extract_text()\n",
    "\n",
    "        print(text)\n",
    "\n",
    "\n",
    "extraer_datos(r\"facturas_subidas\\Mercadona.pdf\")"
   ]
  },
  {
   "cell_type": "code",
   "execution_count": null,
   "metadata": {},
   "outputs": [],
   "source": [
    "import PyPDF2\n",
    "import os\n",
    "import re\n",
    "\n",
    "def extraer_datos(pdf_file_path):\n",
    "    with open(pdf_file_path, 'rb') as file:\n",
    "        pdf_reader = PyPDF2.PdfReader(file)\n",
    "\n",
    "        text = ''\n",
    "\n",
    "        for page_num in range(len(pdf_reader.pages)):\n",
    "            page = pdf_reader.pages[page_num]\n",
    "            text += page.extract_text()\n",
    "\n",
    "        #REGEX\n",
    "        total_pagar = r'(?<!SUB)TOTAL\\s*(\\d+(\\,\\d{1,2})?)'\n",
    "\n",
    "        #Extraer\n",
    "        total_pagar_match = re.search(total_pagar, text)\n",
    "\n",
    "        #Info\n",
    "        total_pagar_ = total_pagar_match.group(1) if total_pagar_match else None\n",
    "\n",
    "        print(f'Total pagar:z{total_pagar_}')\n",
    "extraer_datos(r\"facturas_subidas\\Mercadona.pdf\")"
   ]
  },
  {
   "cell_type": "code",
   "execution_count": null,
   "metadata": {},
   "outputs": [],
   "source": [
    "import PyPDF2\n",
    "import os\n",
    "import re\n",
    "\n",
    "def extraer_datos(pdf_file_path):\n",
    "    with open(pdf_file_path, 'rb') as file:\n",
    "        pdf_reader = PyPDF2.PdfReader(file)\n",
    "\n",
    "        text = ''\n",
    "\n",
    "        for page_num in range(len(pdf_reader.pages)):\n",
    "            page = pdf_reader.pages[page_num]\n",
    "            text += page.extract_text()\n",
    "\n",
    "        print(text)\n",
    "\n",
    "\n",
    "extraer_datos(r\"facturas_subidas\\factura.pdf\")"
   ]
  },
  {
   "cell_type": "code",
   "execution_count": null,
   "metadata": {},
   "outputs": [],
   "source": [
    "import PyPDF2\n",
    "import os\n",
    "import re\n",
    "\n",
    "def extraer_datos(pdf_file_path):\n",
    "    with open(pdf_file_path, 'rb') as file:\n",
    "        pdf_reader = PyPDF2.PdfReader(file)\n",
    "\n",
    "        text = ''\n",
    "\n",
    "        for page_num in range(len(pdf_reader.pages)):\n",
    "            page = pdf_reader.pages[page_num]\n",
    "            text += page.extract_text()\n",
    "\n",
    "        #regex\n",
    "        potencia = r'POR POTENCIA:([\\s\\S]*?)POR ENERGÍA'\n",
    "        energia = r'POR ENERGÍA:\\s*(.*?)(\\d+,\\d{2}|\\d+\\.\\d{2})\\s*€'        #ESTE EJEMPLO NO VALE, COJO DIRECTAMENTE 3,62€. No generaliza.\n",
    "\n",
    "        total_potencia= re.search(potencia, text)\n",
    "        total_energia = re.search(energia, text)\n",
    "\n",
    "\n",
    "        total_potencia_ = total_potencia.group(1) if total_potencia else None\n",
    "        total_energia_ = total_energia.group(1) if total_energia else None\n",
    "\n",
    "        print(total_potencia_)\n",
    "        print(total_energia_)\n",
    "\n",
    "extraer_datos(r\"facturas_subidas\\factura.pdf\")"
   ]
  },
  {
   "cell_type": "code",
   "execution_count": 1,
   "metadata": {},
   "outputs": [
    {
     "ename": "SyntaxError",
     "evalue": "invalid character '€' (U+20AC) (465642246.py, line 3)",
     "output_type": "error",
     "traceback": [
      "\u001b[1;36m  Cell \u001b[1;32mIn[1], line 3\u001b[1;36m\u001b[0m\n\u001b[1;33m    4,6 kW x 33 días x 25,391661 €/kWaño + 4,6 kW x 33 días x 0,968852 €/kWaño 10,93 €\u001b[0m\n\u001b[1;37m                                 ^\u001b[0m\n\u001b[1;31mSyntaxError\u001b[0m\u001b[1;31m:\u001b[0m invalid character '€' (U+20AC)\n"
     ]
    }
   ],
   "source": [
    "REALES\n",
    "\n",
    "4,6 kW x 33 días x 25,391661 €/kWaño + 4,6 kW x 33 días x 0,968852 €/kWaño 10,93 €\n",
    "\n",
    "\n",
    "36 kWh x 0,076974 €/kWh + 25 kWh x 0,027963 €/kWh + 53 kWh x 0,002752 €/kWh 3,62€"
   ]
  }
 ],
 "metadata": {
  "kernelspec": {
   "display_name": "Python 3",
   "language": "python",
   "name": "python3"
  },
  "language_info": {
   "codemirror_mode": {
    "name": "ipython",
    "version": 3
   },
   "file_extension": ".py",
   "mimetype": "text/x-python",
   "name": "python",
   "nbconvert_exporter": "python",
   "pygments_lexer": "ipython3",
   "version": "3.11.6"
  }
 },
 "nbformat": 4,
 "nbformat_minor": 2
}
