{
 "cells": [
  {
   "cell_type": "markdown",
   "metadata": {},
   "source": [
    "https://www.youtube.com/watch?v=70QYpyXyPJg&list=PLwDdvS5F3zVi4vb0C4h-91T-cgQVOJPKV&index=150"
   ]
  },
  {
   "cell_type": "code",
   "execution_count": 3,
   "metadata": {},
   "outputs": [],
   "source": [
    "from argparse import ArgumentParser\n",
    "\n",
    "import pytesseract\n",
    "import cv2\n",
    "from imutils import resize\n",
    "from pytesseract import Output\n",
    "\n",
    "pytesseract.pytesseract.tesseract_cmd = \n",
    "\n",
    "\n",
    "\n",
    "def limpiar(text):\n",
    "\n",
    "\n",
    "    return ''.join([c if ord(c) < 128 else '' for c in text]).strip()\n",
    "\n",
    "\n",
    "argument_parser = ArgumentParser()\n",
    "argument_parser.add_argument('-i', '--image', required = True, help = 'ruta de entrad')\n",
    "\n",
    "argument_parser.add_argument('-c', '--min-confidence', type=int, default=0)\n",
    "\n"
   ]
  }
 ],
 "metadata": {
  "kernelspec": {
   "display_name": "Python 3",
   "language": "python",
   "name": "python3"
  },
  "language_info": {
   "codemirror_mode": {
    "name": "ipython",
    "version": 3
   },
   "file_extension": ".py",
   "mimetype": "text/x-python",
   "name": "python",
   "nbconvert_exporter": "python",
   "pygments_lexer": "ipython3",
   "version": "3.11.6"
  }
 },
 "nbformat": 4,
 "nbformat_minor": 2
}
